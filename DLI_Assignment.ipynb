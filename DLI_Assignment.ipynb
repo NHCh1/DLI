{
  "nbformat": 4,
  "nbformat_minor": 0,
  "metadata": {
    "colab": {
      "provenance": [],
      "toc_visible": true,
      "include_colab_link": true
    },
    "kernelspec": {
      "name": "python3",
      "display_name": "Python 3"
    },
    "language_info": {
      "name": "python"
    }
  },
  "cells": [
    {
      "cell_type": "markdown",
      "metadata": {
        "id": "view-in-github",
        "colab_type": "text"
      },
      "source": [
        "<a href=\"https://colab.research.google.com/github/NHCh1/DLI/blob/main/DLI_Assignment.ipynb\" target=\"_parent\"><img src=\"https://colab.research.google.com/assets/colab-badge.svg\" alt=\"Open In Colab\"/></a>"
      ]
    },
    {
      "cell_type": "markdown",
      "source": [
        "# Setup"
      ],
      "metadata": {
        "id": "mije4PLHmk7O"
      }
    },
    {
      "cell_type": "code",
      "source": [
        "import numpy as np\n",
        "import pandas as pd\n",
        "import copy\n",
        "import warnings\n",
        "warnings.filterwarnings('ignore')\n",
        "\n",
        "from sklearn.model_selection import train_test_split\n",
        "from sklearn.preprocessing import StandardScaler\n",
        "\n",
        "from xgboost import XGBClassifier\n",
        "from sklearn.tree import DecisionTreeClassifier\n",
        "\n",
        "from sklearn.feature_selection import RFECV\n",
        "from mlxtend.feature_selection import ColumnSelector\n",
        "from sklearn.pipeline import make_pipeline\n",
        "from sklearn.model_selection import RandomizedSearchCV\n",
        "\n",
        "from sklearn.metrics import accuracy_score, precision_score, recall_score, f1_score, roc_auc_score\n",
        "from sklearn.metrics import classification_report, confusion_matrix\n",
        "import matplotlib.pyplot as plt\n",
        "import seaborn as sns\n",
        "\n",
        "import joblib"
      ],
      "metadata": {
        "id": "gmx0bdbipHxB"
      },
      "execution_count": 21,
      "outputs": []
    },
    {
      "cell_type": "markdown",
      "source": [
        "# Data Loading"
      ],
      "metadata": {
        "id": "_u7sYYy4QdC1"
      }
    },
    {
      "cell_type": "code",
      "execution_count": 11,
      "metadata": {
        "id": "MO12L-2aEqYR",
        "outputId": "498f0c5e-90e2-43b8-fcc3-bf19536fc71c",
        "colab": {
          "base_uri": "https://localhost:8080/",
          "height": 423
        }
      },
      "outputs": [
        {
          "output_type": "execute_result",
          "data": {
            "text/plain": [
              "      0   1   2    3   4   5   6   7   8   9   ...  39  40  41  42  43  44  \\\n",
              "0      3   1   5   72   0   0   0   0   0   0  ...   0   0   1   1   0   1   \n",
              "1      3   1   3  144   0   0   0   0   2   0  ...   0   0   0   1  -1   1   \n",
              "2      3   1   2   58   0   0   0   0   0   0  ...   0   0   0   1   0  -1   \n",
              "3      3   1   6   79   1   0   0   0   0   0  ...   0   0   0   1  -1   1   \n",
              "4      3   0   4   46   0   0   0   0   0   0  ...   1   0   0   1   1  -1   \n",
              "...   ..  ..  ..  ...  ..  ..  ..  ..  ..  ..  ...  ..  ..  ..  ..  ..  ..   \n",
              "9995   3   1   1   50   0   0   0   0   0   0  ...   0   0   0   1   1  -1   \n",
              "9996   2   1   4   59   1   0   0   0   0   0  ...   1   0   0   1   0   0   \n",
              "9997   2   1   4   57   0   0   0   0   0   0  ...   0   0   0   1   0   1   \n",
              "9998   3   1   1   49   0   0   0   0   0   0  ...   1   0   0   1   1   0   \n",
              "9999   3   1   2   52   3   0   0   0   0   0  ...   0   0   0   1   1   1   \n",
              "\n",
              "      45  46  47  48  \n",
              "0      1  -1   1   1  \n",
              "1      1   1   1   1  \n",
              "2      1  -1   0   1  \n",
              "3      1   1  -1   1  \n",
              "4      0  -1  -1   1  \n",
              "...   ..  ..  ..  ..  \n",
              "9995   1   0   1   0  \n",
              "9996   1   0   1   0  \n",
              "9997   1   0   1   0  \n",
              "9998   1   0   1   0  \n",
              "9999   1   1   1   0  \n",
              "\n",
              "[10000 rows x 49 columns]"
            ],
            "text/html": [
              "\n",
              "  <div id=\"df-19019814-2cc9-4f16-a233-6c7505bccfb9\" class=\"colab-df-container\">\n",
              "    <div>\n",
              "<style scoped>\n",
              "    .dataframe tbody tr th:only-of-type {\n",
              "        vertical-align: middle;\n",
              "    }\n",
              "\n",
              "    .dataframe tbody tr th {\n",
              "        vertical-align: top;\n",
              "    }\n",
              "\n",
              "    .dataframe thead th {\n",
              "        text-align: right;\n",
              "    }\n",
              "</style>\n",
              "<table border=\"1\" class=\"dataframe\">\n",
              "  <thead>\n",
              "    <tr style=\"text-align: right;\">\n",
              "      <th></th>\n",
              "      <th>0</th>\n",
              "      <th>1</th>\n",
              "      <th>2</th>\n",
              "      <th>3</th>\n",
              "      <th>4</th>\n",
              "      <th>5</th>\n",
              "      <th>6</th>\n",
              "      <th>7</th>\n",
              "      <th>8</th>\n",
              "      <th>9</th>\n",
              "      <th>...</th>\n",
              "      <th>39</th>\n",
              "      <th>40</th>\n",
              "      <th>41</th>\n",
              "      <th>42</th>\n",
              "      <th>43</th>\n",
              "      <th>44</th>\n",
              "      <th>45</th>\n",
              "      <th>46</th>\n",
              "      <th>47</th>\n",
              "      <th>48</th>\n",
              "    </tr>\n",
              "  </thead>\n",
              "  <tbody>\n",
              "    <tr>\n",
              "      <th>0</th>\n",
              "      <td>3</td>\n",
              "      <td>1</td>\n",
              "      <td>5</td>\n",
              "      <td>72</td>\n",
              "      <td>0</td>\n",
              "      <td>0</td>\n",
              "      <td>0</td>\n",
              "      <td>0</td>\n",
              "      <td>0</td>\n",
              "      <td>0</td>\n",
              "      <td>...</td>\n",
              "      <td>0</td>\n",
              "      <td>0</td>\n",
              "      <td>1</td>\n",
              "      <td>1</td>\n",
              "      <td>0</td>\n",
              "      <td>1</td>\n",
              "      <td>1</td>\n",
              "      <td>-1</td>\n",
              "      <td>1</td>\n",
              "      <td>1</td>\n",
              "    </tr>\n",
              "    <tr>\n",
              "      <th>1</th>\n",
              "      <td>3</td>\n",
              "      <td>1</td>\n",
              "      <td>3</td>\n",
              "      <td>144</td>\n",
              "      <td>0</td>\n",
              "      <td>0</td>\n",
              "      <td>0</td>\n",
              "      <td>0</td>\n",
              "      <td>2</td>\n",
              "      <td>0</td>\n",
              "      <td>...</td>\n",
              "      <td>0</td>\n",
              "      <td>0</td>\n",
              "      <td>0</td>\n",
              "      <td>1</td>\n",
              "      <td>-1</td>\n",
              "      <td>1</td>\n",
              "      <td>1</td>\n",
              "      <td>1</td>\n",
              "      <td>1</td>\n",
              "      <td>1</td>\n",
              "    </tr>\n",
              "    <tr>\n",
              "      <th>2</th>\n",
              "      <td>3</td>\n",
              "      <td>1</td>\n",
              "      <td>2</td>\n",
              "      <td>58</td>\n",
              "      <td>0</td>\n",
              "      <td>0</td>\n",
              "      <td>0</td>\n",
              "      <td>0</td>\n",
              "      <td>0</td>\n",
              "      <td>0</td>\n",
              "      <td>...</td>\n",
              "      <td>0</td>\n",
              "      <td>0</td>\n",
              "      <td>0</td>\n",
              "      <td>1</td>\n",
              "      <td>0</td>\n",
              "      <td>-1</td>\n",
              "      <td>1</td>\n",
              "      <td>-1</td>\n",
              "      <td>0</td>\n",
              "      <td>1</td>\n",
              "    </tr>\n",
              "    <tr>\n",
              "      <th>3</th>\n",
              "      <td>3</td>\n",
              "      <td>1</td>\n",
              "      <td>6</td>\n",
              "      <td>79</td>\n",
              "      <td>1</td>\n",
              "      <td>0</td>\n",
              "      <td>0</td>\n",
              "      <td>0</td>\n",
              "      <td>0</td>\n",
              "      <td>0</td>\n",
              "      <td>...</td>\n",
              "      <td>0</td>\n",
              "      <td>0</td>\n",
              "      <td>0</td>\n",
              "      <td>1</td>\n",
              "      <td>-1</td>\n",
              "      <td>1</td>\n",
              "      <td>1</td>\n",
              "      <td>1</td>\n",
              "      <td>-1</td>\n",
              "      <td>1</td>\n",
              "    </tr>\n",
              "    <tr>\n",
              "      <th>4</th>\n",
              "      <td>3</td>\n",
              "      <td>0</td>\n",
              "      <td>4</td>\n",
              "      <td>46</td>\n",
              "      <td>0</td>\n",
              "      <td>0</td>\n",
              "      <td>0</td>\n",
              "      <td>0</td>\n",
              "      <td>0</td>\n",
              "      <td>0</td>\n",
              "      <td>...</td>\n",
              "      <td>1</td>\n",
              "      <td>0</td>\n",
              "      <td>0</td>\n",
              "      <td>1</td>\n",
              "      <td>1</td>\n",
              "      <td>-1</td>\n",
              "      <td>0</td>\n",
              "      <td>-1</td>\n",
              "      <td>-1</td>\n",
              "      <td>1</td>\n",
              "    </tr>\n",
              "    <tr>\n",
              "      <th>...</th>\n",
              "      <td>...</td>\n",
              "      <td>...</td>\n",
              "      <td>...</td>\n",
              "      <td>...</td>\n",
              "      <td>...</td>\n",
              "      <td>...</td>\n",
              "      <td>...</td>\n",
              "      <td>...</td>\n",
              "      <td>...</td>\n",
              "      <td>...</td>\n",
              "      <td>...</td>\n",
              "      <td>...</td>\n",
              "      <td>...</td>\n",
              "      <td>...</td>\n",
              "      <td>...</td>\n",
              "      <td>...</td>\n",
              "      <td>...</td>\n",
              "      <td>...</td>\n",
              "      <td>...</td>\n",
              "      <td>...</td>\n",
              "      <td>...</td>\n",
              "    </tr>\n",
              "    <tr>\n",
              "      <th>9995</th>\n",
              "      <td>3</td>\n",
              "      <td>1</td>\n",
              "      <td>1</td>\n",
              "      <td>50</td>\n",
              "      <td>0</td>\n",
              "      <td>0</td>\n",
              "      <td>0</td>\n",
              "      <td>0</td>\n",
              "      <td>0</td>\n",
              "      <td>0</td>\n",
              "      <td>...</td>\n",
              "      <td>0</td>\n",
              "      <td>0</td>\n",
              "      <td>0</td>\n",
              "      <td>1</td>\n",
              "      <td>1</td>\n",
              "      <td>-1</td>\n",
              "      <td>1</td>\n",
              "      <td>0</td>\n",
              "      <td>1</td>\n",
              "      <td>0</td>\n",
              "    </tr>\n",
              "    <tr>\n",
              "      <th>9996</th>\n",
              "      <td>2</td>\n",
              "      <td>1</td>\n",
              "      <td>4</td>\n",
              "      <td>59</td>\n",
              "      <td>1</td>\n",
              "      <td>0</td>\n",
              "      <td>0</td>\n",
              "      <td>0</td>\n",
              "      <td>0</td>\n",
              "      <td>0</td>\n",
              "      <td>...</td>\n",
              "      <td>1</td>\n",
              "      <td>0</td>\n",
              "      <td>0</td>\n",
              "      <td>1</td>\n",
              "      <td>0</td>\n",
              "      <td>0</td>\n",
              "      <td>1</td>\n",
              "      <td>0</td>\n",
              "      <td>1</td>\n",
              "      <td>0</td>\n",
              "    </tr>\n",
              "    <tr>\n",
              "      <th>9997</th>\n",
              "      <td>2</td>\n",
              "      <td>1</td>\n",
              "      <td>4</td>\n",
              "      <td>57</td>\n",
              "      <td>0</td>\n",
              "      <td>0</td>\n",
              "      <td>0</td>\n",
              "      <td>0</td>\n",
              "      <td>0</td>\n",
              "      <td>0</td>\n",
              "      <td>...</td>\n",
              "      <td>0</td>\n",
              "      <td>0</td>\n",
              "      <td>0</td>\n",
              "      <td>1</td>\n",
              "      <td>0</td>\n",
              "      <td>1</td>\n",
              "      <td>1</td>\n",
              "      <td>0</td>\n",
              "      <td>1</td>\n",
              "      <td>0</td>\n",
              "    </tr>\n",
              "    <tr>\n",
              "      <th>9998</th>\n",
              "      <td>3</td>\n",
              "      <td>1</td>\n",
              "      <td>1</td>\n",
              "      <td>49</td>\n",
              "      <td>0</td>\n",
              "      <td>0</td>\n",
              "      <td>0</td>\n",
              "      <td>0</td>\n",
              "      <td>0</td>\n",
              "      <td>0</td>\n",
              "      <td>...</td>\n",
              "      <td>1</td>\n",
              "      <td>0</td>\n",
              "      <td>0</td>\n",
              "      <td>1</td>\n",
              "      <td>1</td>\n",
              "      <td>0</td>\n",
              "      <td>1</td>\n",
              "      <td>0</td>\n",
              "      <td>1</td>\n",
              "      <td>0</td>\n",
              "    </tr>\n",
              "    <tr>\n",
              "      <th>9999</th>\n",
              "      <td>3</td>\n",
              "      <td>1</td>\n",
              "      <td>2</td>\n",
              "      <td>52</td>\n",
              "      <td>3</td>\n",
              "      <td>0</td>\n",
              "      <td>0</td>\n",
              "      <td>0</td>\n",
              "      <td>0</td>\n",
              "      <td>0</td>\n",
              "      <td>...</td>\n",
              "      <td>0</td>\n",
              "      <td>0</td>\n",
              "      <td>0</td>\n",
              "      <td>1</td>\n",
              "      <td>1</td>\n",
              "      <td>1</td>\n",
              "      <td>1</td>\n",
              "      <td>1</td>\n",
              "      <td>1</td>\n",
              "      <td>0</td>\n",
              "    </tr>\n",
              "  </tbody>\n",
              "</table>\n",
              "<p>10000 rows × 49 columns</p>\n",
              "</div>\n",
              "    <div class=\"colab-df-buttons\">\n",
              "\n",
              "  <div class=\"colab-df-container\">\n",
              "    <button class=\"colab-df-convert\" onclick=\"convertToInteractive('df-19019814-2cc9-4f16-a233-6c7505bccfb9')\"\n",
              "            title=\"Convert this dataframe to an interactive table.\"\n",
              "            style=\"display:none;\">\n",
              "\n",
              "  <svg xmlns=\"http://www.w3.org/2000/svg\" height=\"24px\" viewBox=\"0 -960 960 960\">\n",
              "    <path d=\"M120-120v-720h720v720H120Zm60-500h600v-160H180v160Zm220 220h160v-160H400v160Zm0 220h160v-160H400v160ZM180-400h160v-160H180v160Zm440 0h160v-160H620v160ZM180-180h160v-160H180v160Zm440 0h160v-160H620v160Z\"/>\n",
              "  </svg>\n",
              "    </button>\n",
              "\n",
              "  <style>\n",
              "    .colab-df-container {\n",
              "      display:flex;\n",
              "      gap: 12px;\n",
              "    }\n",
              "\n",
              "    .colab-df-convert {\n",
              "      background-color: #E8F0FE;\n",
              "      border: none;\n",
              "      border-radius: 50%;\n",
              "      cursor: pointer;\n",
              "      display: none;\n",
              "      fill: #1967D2;\n",
              "      height: 32px;\n",
              "      padding: 0 0 0 0;\n",
              "      width: 32px;\n",
              "    }\n",
              "\n",
              "    .colab-df-convert:hover {\n",
              "      background-color: #E2EBFA;\n",
              "      box-shadow: 0px 1px 2px rgba(60, 64, 67, 0.3), 0px 1px 3px 1px rgba(60, 64, 67, 0.15);\n",
              "      fill: #174EA6;\n",
              "    }\n",
              "\n",
              "    .colab-df-buttons div {\n",
              "      margin-bottom: 4px;\n",
              "    }\n",
              "\n",
              "    [theme=dark] .colab-df-convert {\n",
              "      background-color: #3B4455;\n",
              "      fill: #D2E3FC;\n",
              "    }\n",
              "\n",
              "    [theme=dark] .colab-df-convert:hover {\n",
              "      background-color: #434B5C;\n",
              "      box-shadow: 0px 1px 3px 1px rgba(0, 0, 0, 0.15);\n",
              "      filter: drop-shadow(0px 1px 2px rgba(0, 0, 0, 0.3));\n",
              "      fill: #FFFFFF;\n",
              "    }\n",
              "  </style>\n",
              "\n",
              "    <script>\n",
              "      const buttonEl =\n",
              "        document.querySelector('#df-19019814-2cc9-4f16-a233-6c7505bccfb9 button.colab-df-convert');\n",
              "      buttonEl.style.display =\n",
              "        google.colab.kernel.accessAllowed ? 'block' : 'none';\n",
              "\n",
              "      async function convertToInteractive(key) {\n",
              "        const element = document.querySelector('#df-19019814-2cc9-4f16-a233-6c7505bccfb9');\n",
              "        const dataTable =\n",
              "          await google.colab.kernel.invokeFunction('convertToInteractive',\n",
              "                                                    [key], {});\n",
              "        if (!dataTable) return;\n",
              "\n",
              "        const docLinkHtml = 'Like what you see? Visit the ' +\n",
              "          '<a target=\"_blank\" href=https://colab.research.google.com/notebooks/data_table.ipynb>data table notebook</a>'\n",
              "          + ' to learn more about interactive tables.';\n",
              "        element.innerHTML = '';\n",
              "        dataTable['output_type'] = 'display_data';\n",
              "        await google.colab.output.renderOutput(dataTable, element);\n",
              "        const docLink = document.createElement('div');\n",
              "        docLink.innerHTML = docLinkHtml;\n",
              "        element.appendChild(docLink);\n",
              "      }\n",
              "    </script>\n",
              "  </div>\n",
              "\n",
              "\n",
              "    <div id=\"df-81607b85-c3a3-4694-83c2-7e83f49ac5f1\">\n",
              "      <button class=\"colab-df-quickchart\" onclick=\"quickchart('df-81607b85-c3a3-4694-83c2-7e83f49ac5f1')\"\n",
              "                title=\"Suggest charts\"\n",
              "                style=\"display:none;\">\n",
              "\n",
              "<svg xmlns=\"http://www.w3.org/2000/svg\" height=\"24px\"viewBox=\"0 0 24 24\"\n",
              "     width=\"24px\">\n",
              "    <g>\n",
              "        <path d=\"M19 3H5c-1.1 0-2 .9-2 2v14c0 1.1.9 2 2 2h14c1.1 0 2-.9 2-2V5c0-1.1-.9-2-2-2zM9 17H7v-7h2v7zm4 0h-2V7h2v10zm4 0h-2v-4h2v4z\"/>\n",
              "    </g>\n",
              "</svg>\n",
              "      </button>\n",
              "\n",
              "<style>\n",
              "  .colab-df-quickchart {\n",
              "      --bg-color: #E8F0FE;\n",
              "      --fill-color: #1967D2;\n",
              "      --hover-bg-color: #E2EBFA;\n",
              "      --hover-fill-color: #174EA6;\n",
              "      --disabled-fill-color: #AAA;\n",
              "      --disabled-bg-color: #DDD;\n",
              "  }\n",
              "\n",
              "  [theme=dark] .colab-df-quickchart {\n",
              "      --bg-color: #3B4455;\n",
              "      --fill-color: #D2E3FC;\n",
              "      --hover-bg-color: #434B5C;\n",
              "      --hover-fill-color: #FFFFFF;\n",
              "      --disabled-bg-color: #3B4455;\n",
              "      --disabled-fill-color: #666;\n",
              "  }\n",
              "\n",
              "  .colab-df-quickchart {\n",
              "    background-color: var(--bg-color);\n",
              "    border: none;\n",
              "    border-radius: 50%;\n",
              "    cursor: pointer;\n",
              "    display: none;\n",
              "    fill: var(--fill-color);\n",
              "    height: 32px;\n",
              "    padding: 0;\n",
              "    width: 32px;\n",
              "  }\n",
              "\n",
              "  .colab-df-quickchart:hover {\n",
              "    background-color: var(--hover-bg-color);\n",
              "    box-shadow: 0 1px 2px rgba(60, 64, 67, 0.3), 0 1px 3px 1px rgba(60, 64, 67, 0.15);\n",
              "    fill: var(--button-hover-fill-color);\n",
              "  }\n",
              "\n",
              "  .colab-df-quickchart-complete:disabled,\n",
              "  .colab-df-quickchart-complete:disabled:hover {\n",
              "    background-color: var(--disabled-bg-color);\n",
              "    fill: var(--disabled-fill-color);\n",
              "    box-shadow: none;\n",
              "  }\n",
              "\n",
              "  .colab-df-spinner {\n",
              "    border: 2px solid var(--fill-color);\n",
              "    border-color: transparent;\n",
              "    border-bottom-color: var(--fill-color);\n",
              "    animation:\n",
              "      spin 1s steps(1) infinite;\n",
              "  }\n",
              "\n",
              "  @keyframes spin {\n",
              "    0% {\n",
              "      border-color: transparent;\n",
              "      border-bottom-color: var(--fill-color);\n",
              "      border-left-color: var(--fill-color);\n",
              "    }\n",
              "    20% {\n",
              "      border-color: transparent;\n",
              "      border-left-color: var(--fill-color);\n",
              "      border-top-color: var(--fill-color);\n",
              "    }\n",
              "    30% {\n",
              "      border-color: transparent;\n",
              "      border-left-color: var(--fill-color);\n",
              "      border-top-color: var(--fill-color);\n",
              "      border-right-color: var(--fill-color);\n",
              "    }\n",
              "    40% {\n",
              "      border-color: transparent;\n",
              "      border-right-color: var(--fill-color);\n",
              "      border-top-color: var(--fill-color);\n",
              "    }\n",
              "    60% {\n",
              "      border-color: transparent;\n",
              "      border-right-color: var(--fill-color);\n",
              "    }\n",
              "    80% {\n",
              "      border-color: transparent;\n",
              "      border-right-color: var(--fill-color);\n",
              "      border-bottom-color: var(--fill-color);\n",
              "    }\n",
              "    90% {\n",
              "      border-color: transparent;\n",
              "      border-bottom-color: var(--fill-color);\n",
              "    }\n",
              "  }\n",
              "</style>\n",
              "\n",
              "      <script>\n",
              "        async function quickchart(key) {\n",
              "          const quickchartButtonEl =\n",
              "            document.querySelector('#' + key + ' button');\n",
              "          quickchartButtonEl.disabled = true;  // To prevent multiple clicks.\n",
              "          quickchartButtonEl.classList.add('colab-df-spinner');\n",
              "          try {\n",
              "            const charts = await google.colab.kernel.invokeFunction(\n",
              "                'suggestCharts', [key], {});\n",
              "          } catch (error) {\n",
              "            console.error('Error during call to suggestCharts:', error);\n",
              "          }\n",
              "          quickchartButtonEl.classList.remove('colab-df-spinner');\n",
              "          quickchartButtonEl.classList.add('colab-df-quickchart-complete');\n",
              "        }\n",
              "        (() => {\n",
              "          let quickchartButtonEl =\n",
              "            document.querySelector('#df-81607b85-c3a3-4694-83c2-7e83f49ac5f1 button');\n",
              "          quickchartButtonEl.style.display =\n",
              "            google.colab.kernel.accessAllowed ? 'block' : 'none';\n",
              "        })();\n",
              "      </script>\n",
              "    </div>\n",
              "\n",
              "  <div id=\"id_7845316a-7cb4-48be-9bc0-d5def2be7a1a\">\n",
              "    <style>\n",
              "      .colab-df-generate {\n",
              "        background-color: #E8F0FE;\n",
              "        border: none;\n",
              "        border-radius: 50%;\n",
              "        cursor: pointer;\n",
              "        display: none;\n",
              "        fill: #1967D2;\n",
              "        height: 32px;\n",
              "        padding: 0 0 0 0;\n",
              "        width: 32px;\n",
              "      }\n",
              "\n",
              "      .colab-df-generate:hover {\n",
              "        background-color: #E2EBFA;\n",
              "        box-shadow: 0px 1px 2px rgba(60, 64, 67, 0.3), 0px 1px 3px 1px rgba(60, 64, 67, 0.15);\n",
              "        fill: #174EA6;\n",
              "      }\n",
              "\n",
              "      [theme=dark] .colab-df-generate {\n",
              "        background-color: #3B4455;\n",
              "        fill: #D2E3FC;\n",
              "      }\n",
              "\n",
              "      [theme=dark] .colab-df-generate:hover {\n",
              "        background-color: #434B5C;\n",
              "        box-shadow: 0px 1px 3px 1px rgba(0, 0, 0, 0.15);\n",
              "        filter: drop-shadow(0px 1px 2px rgba(0, 0, 0, 0.3));\n",
              "        fill: #FFFFFF;\n",
              "      }\n",
              "    </style>\n",
              "    <button class=\"colab-df-generate\" onclick=\"generateWithVariable('data')\"\n",
              "            title=\"Generate code using this dataframe.\"\n",
              "            style=\"display:none;\">\n",
              "\n",
              "  <svg xmlns=\"http://www.w3.org/2000/svg\" height=\"24px\"viewBox=\"0 0 24 24\"\n",
              "       width=\"24px\">\n",
              "    <path d=\"M7,19H8.4L18.45,9,17,7.55,7,17.6ZM5,21V16.75L18.45,3.32a2,2,0,0,1,2.83,0l1.4,1.43a1.91,1.91,0,0,1,.58,1.4,1.91,1.91,0,0,1-.58,1.4L9.25,21ZM18.45,9,17,7.55Zm-12,3A5.31,5.31,0,0,0,4.9,8.1,5.31,5.31,0,0,0,1,6.5,5.31,5.31,0,0,0,4.9,4.9,5.31,5.31,0,0,0,6.5,1,5.31,5.31,0,0,0,8.1,4.9,5.31,5.31,0,0,0,12,6.5,5.46,5.46,0,0,0,6.5,12Z\"/>\n",
              "  </svg>\n",
              "    </button>\n",
              "    <script>\n",
              "      (() => {\n",
              "      const buttonEl =\n",
              "        document.querySelector('#id_7845316a-7cb4-48be-9bc0-d5def2be7a1a button.colab-df-generate');\n",
              "      buttonEl.style.display =\n",
              "        google.colab.kernel.accessAllowed ? 'block' : 'none';\n",
              "\n",
              "      buttonEl.onclick = () => {\n",
              "        google.colab.notebook.generateWithVariable('data');\n",
              "      }\n",
              "      })();\n",
              "    </script>\n",
              "  </div>\n",
              "\n",
              "    </div>\n",
              "  </div>\n"
            ],
            "application/vnd.google.colaboratory.intrinsic+json": {
              "type": "dataframe",
              "variable_name": "data"
            }
          },
          "metadata": {},
          "execution_count": 11
        }
      ],
      "source": [
        "url = 'https://raw.githubusercontent.com/NHCh1/DLI/refs/heads/main/Dli-mendeley_18.csv'\n",
        "data = pd.read_csv(url, header=None)\n",
        "data"
      ]
    },
    {
      "cell_type": "markdown",
      "source": [
        "# Pre-processing"
      ],
      "metadata": {
        "id": "dVPsbE5uRCWw"
      }
    },
    {
      "cell_type": "code",
      "source": [
        "#Array of features\n",
        "x = data.drop([48], axis=1)\n",
        "print(x)\n",
        "\n",
        "#Array of target\n",
        "y = data[48]\n",
        "print(y)"
      ],
      "metadata": {
        "colab": {
          "base_uri": "https://localhost:8080/"
        },
        "id": "eYLCJOJBIcb-",
        "outputId": "3a75045b-a308-4c96-c454-b06a9ee37cb3"
      },
      "execution_count": 12,
      "outputs": [
        {
          "output_type": "stream",
          "name": "stdout",
          "text": [
            "      0   1   2    3   4   5   6   7   8   9   ...  38  39  40  41  42  43  \\\n",
            "0      3   1   5   72   0   0   0   0   0   0  ...   0   0   0   1   1   0   \n",
            "1      3   1   3  144   0   0   0   0   2   0  ...   0   0   0   0   1  -1   \n",
            "2      3   1   2   58   0   0   0   0   0   0  ...   0   0   0   0   1   0   \n",
            "3      3   1   6   79   1   0   0   0   0   0  ...   1   0   0   0   1  -1   \n",
            "4      3   0   4   46   0   0   0   0   0   0  ...   0   1   0   0   1   1   \n",
            "...   ..  ..  ..  ...  ..  ..  ..  ..  ..  ..  ...  ..  ..  ..  ..  ..  ..   \n",
            "9995   3   1   1   50   0   0   0   0   0   0  ...   0   0   0   0   1   1   \n",
            "9996   2   1   4   59   1   0   0   0   0   0  ...   0   1   0   0   1   0   \n",
            "9997   2   1   4   57   0   0   0   0   0   0  ...   0   0   0   0   1   0   \n",
            "9998   3   1   1   49   0   0   0   0   0   0  ...   0   1   0   0   1   1   \n",
            "9999   3   1   2   52   3   0   0   0   0   0  ...   0   0   0   0   1   1   \n",
            "\n",
            "      44  45  46  47  \n",
            "0      1   1  -1   1  \n",
            "1      1   1   1   1  \n",
            "2     -1   1  -1   0  \n",
            "3      1   1   1  -1  \n",
            "4     -1   0  -1  -1  \n",
            "...   ..  ..  ..  ..  \n",
            "9995  -1   1   0   1  \n",
            "9996   0   1   0   1  \n",
            "9997   1   1   0   1  \n",
            "9998   0   1   0   1  \n",
            "9999   1   1   1   1  \n",
            "\n",
            "[10000 rows x 48 columns]\n",
            "0       1\n",
            "1       1\n",
            "2       1\n",
            "3       1\n",
            "4       1\n",
            "       ..\n",
            "9995    0\n",
            "9996    0\n",
            "9997    0\n",
            "9998    0\n",
            "9999    0\n",
            "Name: 48, Length: 10000, dtype: int64\n"
          ]
        }
      ]
    },
    {
      "cell_type": "code",
      "source": [
        "np.random.seed(42)\n",
        "x_train, x_test, y_train, y_test = train_test_split(x, y, test_size = 0.3, random_state = 0)"
      ],
      "metadata": {
        "id": "GyjpCaeX184O"
      },
      "execution_count": 13,
      "outputs": []
    },
    {
      "cell_type": "code",
      "source": [
        "sc = StandardScaler()\n",
        "x_train = sc.fit_transform(x_train)\n",
        "x_test = sc.transform(x_test)\n",
        "\n",
        "print(x_train)\n",
        "print('------------------------------------------------------------------')\n",
        "print(x_test)"
      ],
      "metadata": {
        "id": "mT2J8ve_VULW",
        "outputId": "84f1c524-3114-419a-819f-040b435f056e",
        "colab": {
          "base_uri": "https://localhost:8080/"
        }
      },
      "execution_count": 14,
      "outputs": [
        {
          "output_type": "stream",
          "name": "stdout",
          "text": [
            "[[ 0.4264587  -0.76932106 -0.15488093 ...  0.39933321 -0.23638944\n",
            "   0.76186885]\n",
            " [-1.06951269 -0.76932106 -0.69750681 ...  0.39933321  1.0884513\n",
            "   0.76186885]\n",
            " [ 1.92243009  0.5460789   0.93037084 ...  0.39933321 -0.23638944\n",
            "   0.76186885]\n",
            " ...\n",
            " [-0.32152699  0.5460789  -0.15488093 ...  0.39933321  1.0884513\n",
            "  -1.47048024]\n",
            " [-0.32152699  0.5460789   0.93037084 ...  0.39933321 -0.23638944\n",
            "   0.76186885]\n",
            " [-0.32152699 -0.76932106  0.38774495 ...  0.39933321  1.0884513\n",
            "   0.76186885]]\n",
            "------------------------------------------------------------------\n",
            "[[-0.32152699  0.5460789  -0.15488093 ...  0.39933321  1.0884513\n",
            "   0.76186885]\n",
            " [ 9.40228702  0.5460789   0.38774495 ...  0.39933321 -0.23638944\n",
            "   0.76186885]\n",
            " [-0.32152699 -0.76932106  2.0156226  ...  0.39933321 -0.23638944\n",
            "   0.76186885]\n",
            " ...\n",
            " [ 0.4264587   0.5460789  -1.2401327  ... -1.51922032 -1.56123018\n",
            "  -0.35430569]\n",
            " [-1.06951269 -0.76932106 -1.78275858 ...  0.39933321 -0.23638944\n",
            "  -0.35430569]\n",
            " [-0.32152699  0.5460789  -0.15488093 ...  0.39933321 -0.23638944\n",
            "   0.76186885]]\n"
          ]
        }
      ]
    },
    {
      "cell_type": "markdown",
      "source": [
        "# XGBoost - Liong Chi Teng - TP065355"
      ],
      "metadata": {
        "id": "h93xN1biRofE"
      }
    },
    {
      "cell_type": "markdown",
      "source": [
        "Define XGBoost Model"
      ],
      "metadata": {
        "id": "wvtwVhnPX5Nr"
      }
    },
    {
      "cell_type": "code",
      "source": [
        "xgb_basic = XGBClassifier(eval_metric='error',\n",
        "                          use_label_encoder=False,\n",
        "                          n_jobs=-1,\n",
        "                          random_state=42,\n",
        "                          verbosity=0\n",
        "                          )"
      ],
      "metadata": {
        "id": "3T9-JD3aXa3f"
      },
      "execution_count": null,
      "outputs": []
    },
    {
      "cell_type": "markdown",
      "source": [
        "Performing feature selection"
      ],
      "metadata": {
        "id": "vGrtYi9nYIEb"
      }
    },
    {
      "cell_type": "code",
      "source": [
        "selector = RFECV(xgb_basic, cv=5, n_jobs=-1)\n",
        "selector.fit(x, y)\n",
        "\n",
        "selected_cols = np.where(selector.ranking_ == 1)[0]\n",
        "print(f\"Selected feature indices: {selected_cols}\")\n",
        "\n",
        "xgb_pipe = make_pipeline(ColumnSelector(cols=selected_cols),\n",
        "                         XGBClassifier(eval_metric='error',\n",
        "                                       use_label_encoder=False,\n",
        "                                       n_jobs=-1,\n",
        "                                       random_state=42\n",
        "                                       )\n",
        "                         )\n",
        "\n",
        "xgb_pipe.fit(x_train, y_train)\n",
        "xgb_pipe_train = xgb_pipe.predict_proba(x_train)[:, 1].reshape(-1, 1)\n",
        "xgb_pipe_test = xgb_pipe.predict_proba(x_test)[:, 1].reshape(-1, 1)\n",
        "xgb_pipe_accuracy = xgb_pipe.score(x_test, y_test)\n",
        "print(f\"Accuracy: {xgb_pipe_accuracy:.8f}\")"
      ],
      "metadata": {
        "id": "pr2l7SScYFVE",
        "outputId": "b15fa0d9-021a-41f9-f257-6c5dbc58f7f1",
        "colab": {
          "base_uri": "https://localhost:8080/"
        }
      },
      "execution_count": null,
      "outputs": [
        {
          "output_type": "stream",
          "name": "stdout",
          "text": [
            "Selected feature indices: [ 0  1  2  3  4  5  8  9 10 11 13 14 15 18 20 21 22 24 25 26 27 28 29 30\n",
            " 31 32 33 34 38 39 40 41 45 46 47]\n",
            "Accuracy: 0.98433333\n"
          ]
        }
      ]
    },
    {
      "cell_type": "markdown",
      "source": [
        "Finding best hyperparameters and best threshold"
      ],
      "metadata": {
        "id": "iMDn73WMeV3Q"
      }
    },
    {
      "cell_type": "code",
      "source": [
        "param_dist = {'xgbclassifier__max_depth': [4, 6, 8, 10],\n",
        "              'xgbclassifier__learning_rate': [0.01, 0.05, 0.1],\n",
        "              'xgbclassifier__n_estimators': [1000, 2000, 3000],\n",
        "              'xgbclassifier__subsample': [0.7, 0.8, 0.9],\n",
        "              'xgbclassifier__colsample_bytree': [0.7, 0.8, 0.9],\n",
        "              'xgbclassifier__scale_pos_weight': [(len(y_train) - sum(y_train)) / sum(y_train)]\n",
        "              }\n",
        "\n",
        "xgb_search = RandomizedSearchCV(xgb_pipe,\n",
        "                                param_distributions=param_dist,\n",
        "                                n_iter=20,\n",
        "                                cv=5,\n",
        "                                n_jobs=-1,\n",
        "                                scoring='accuracy',\n",
        "                                verbose=1\n",
        "                                )\n",
        "\n",
        "xgb_search.fit(x_train, y_train)\n",
        "print(\"Best Hyperparameters:\", xgb_search.best_params_)\n",
        "\n",
        "xgb_model = xgb_search.best_estimator_\n",
        "xgb_probs = xgb_model.predict_proba(x_test)[:, 1]\n",
        "xgb_model_train = xgb_model.predict_proba(x_train)[:, 1].reshape(-1, 1)\n",
        "xgb_model_test = xgb_model.predict_proba(x_test)[:, 1].reshape(-1, 1)\n",
        "\n",
        "thresholds = [i / 100 for i in range(1, 100)]\n",
        "best_acc, best_thresh = 0, 0\n",
        "\n",
        "for t in thresholds:\n",
        "    preds = (xgb_probs >= t).astype(int)\n",
        "    acc = accuracy_score(y_test, preds)\n",
        "    if acc > best_acc:\n",
        "        best_acc, best_thresh = acc, t\n",
        "\n",
        "print(f\"Best Threshold: {best_thresh:.4f}, Best Accuracy: {best_acc:.8f}\")\n",
        "xgb_final_pred = (xgb_probs >= best_thresh).astype(int)"
      ],
      "metadata": {
        "id": "WHrPCLW8ec_g",
        "outputId": "919ad8b3-0c25-42bb-e37b-196867480bc0",
        "colab": {
          "base_uri": "https://localhost:8080/"
        }
      },
      "execution_count": null,
      "outputs": [
        {
          "output_type": "stream",
          "name": "stdout",
          "text": [
            "Fitting 5 folds for each of 20 candidates, totalling 100 fits\n",
            "Best Hyperparameters: {'xgbclassifier__subsample': 0.9, 'xgbclassifier__scale_pos_weight': 1.006305531670966, 'xgbclassifier__n_estimators': 2000, 'xgbclassifier__max_depth': 6, 'xgbclassifier__learning_rate': 0.05, 'xgbclassifier__colsample_bytree': 0.9}\n",
            "Best Threshold: 0.5000, Best Accuracy: 0.98533333\n"
          ]
        }
      ]
    },
    {
      "cell_type": "markdown",
      "source": [
        "XGBoost Model Training Result"
      ],
      "metadata": {
        "id": "9wGQK-kYe31f"
      }
    },
    {
      "cell_type": "code",
      "source": [
        "xgb_acc     = accuracy_score(y_test, xgb_final_pred)\n",
        "xgb_prec    = precision_score(y_test, xgb_final_pred)\n",
        "xgb_rec     = recall_score(y_test, xgb_final_pred)\n",
        "xgb_f1      = f1_score(y_test, xgb_final_pred)\n",
        "xgb_roc_auc = roc_auc_score(y_test, xgb_probs)\n",
        "\n",
        "xgb_pipe_prob = xgb_pipe.predict_proba(x_test)[:, 1]\n",
        "xgb_pipe_pred = (xgb_pipe_test >= 0.5).astype(int)\n",
        "\n",
        "print(\"\\nFinal Xgb Model Metrics\")\n",
        "print(f\"Accuracy  : {xgb_acc:.4f}\")\n",
        "print(f\"Precision : {xgb_prec:.4f}\")\n",
        "print(f\"Recall    : {xgb_rec:.4f}\")\n",
        "print(f\"F1-score  : {xgb_f1:.4f}\")\n",
        "print(f\"ROC-AUC   : {xgb_roc_auc:.4f}\")"
      ],
      "metadata": {
        "id": "ERswy-yce9LI",
        "outputId": "41bed1ea-8ffd-4f88-a4fb-303ce9df48f3",
        "colab": {
          "base_uri": "https://localhost:8080/"
        }
      },
      "execution_count": null,
      "outputs": [
        {
          "output_type": "stream",
          "name": "stdout",
          "text": [
            "\n",
            "Final Xgb Model Metrics\n",
            "Accuracy  : 0.9853\n",
            "Precision : 0.9822\n",
            "Recall    : 0.9887\n",
            "F1-score  : 0.9855\n",
            "ROC-AUC   : 0.9982\n"
          ]
        }
      ]
    },
    {
      "cell_type": "markdown",
      "source": [
        "# CNN Complex - Ng Hooi Chi - TP065587"
      ],
      "metadata": {
        "id": "UznodjtCVvBE"
      }
    },
    {
      "cell_type": "code",
      "source": [
        "from tensorflow.keras.models import Sequential\n",
        "from tensorflow.keras.layers import Input, Conv1D, MaxPooling1D, Dropout, Flatten, Dense\n",
        "from tensorflow.keras.optimizers import Adam\n",
        "from sklearn.metrics import roc_auc_score\n",
        "\n",
        "# reshape input from 2D to 3D\n",
        "x_train_cnn = x_train.reshape((x_train.shape[0], x_train.shape[1], 1))\n",
        "x_test_cnn = x_test.reshape((x_test.shape[0], x_test.shape[1], 1))\n",
        "\n",
        "# MODEL - CNN_COMPLEX\n",
        "def cnn_complex_tabular():\n",
        "    model = Sequential()\n",
        "    model.add(Input(shape=(48, 1)))\n",
        "    model.add(Conv1D(128, 3, activation='tanh', padding='same'))\n",
        "    model.add(MaxPooling1D(3, padding='same'))\n",
        "    model.add(Dropout(0.2))\n",
        "\n",
        "    model.add(Conv1D(128, 7, activation='tanh', padding='same'))\n",
        "    model.add(Dropout(0.2))\n",
        "\n",
        "    model.add(Conv1D(128, 5, activation='tanh', padding='same'))\n",
        "    model.add(Dropout(0.2))\n",
        "\n",
        "    model.add(Conv1D(128, 3, activation='tanh', padding='same'))\n",
        "    model.add(MaxPooling1D(3, padding='same'))\n",
        "    model.add(Dropout(0.2))\n",
        "\n",
        "    model.add(Conv1D(128, 5, activation='tanh', padding='same'))\n",
        "    model.add(Dropout(0.2))\n",
        "\n",
        "    model.add(Conv1D(128, 3, activation='tanh', padding='same'))\n",
        "    model.add(MaxPooling1D(3, padding='same'))\n",
        "    model.add(Dropout(0.2))\n",
        "\n",
        "    model.add(Conv1D(128, 3, activation='tanh', padding='same'))\n",
        "    model.add(Dropout(0.2))\n",
        "\n",
        "    model.add(Flatten())\n",
        "    model.add(Dense(1, activation='sigmoid'))\n",
        "\n",
        "    model.compile(loss='binary_crossentropy', optimizer=Adam(), metrics=['accuracy'])\n",
        "    return model\n",
        "\n",
        "# Train CNN\n",
        "cnn_model = cnn_complex_tabular()\n",
        "cnn_model.fit(x_train_cnn, y_train, epochs=25, batch_size=1000, verbose=0)\n",
        "\n",
        "cnn_train_pred = cnn_model.predict(x_train_cnn)\n",
        "cnn_test_pred = cnn_model.predict(x_test_cnn)\n",
        "\n",
        "cnn_accuracy = roc_auc_score(y_test, cnn_test_pred)\n",
        "print(f\"ConvolutionalNN Accuracy: {cnn_accuracy:.4f}\")"
      ],
      "metadata": {
        "id": "BpacT8qCcYxU",
        "outputId": "dbc99e52-df66-41fd-e289-42c71b0ef591",
        "colab": {
          "base_uri": "https://localhost:8080/"
        }
      },
      "execution_count": null,
      "outputs": [
        {
          "output_type": "stream",
          "name": "stdout",
          "text": [
            "\u001b[1m219/219\u001b[0m \u001b[32m━━━━━━━━━━━━━━━━━━━━\u001b[0m\u001b[37m\u001b[0m \u001b[1m2s\u001b[0m 10ms/step\n",
            "\u001b[1m94/94\u001b[0m \u001b[32m━━━━━━━━━━━━━━━━━━━━\u001b[0m\u001b[37m\u001b[0m \u001b[1m1s\u001b[0m 9ms/step\n",
            "ConvolutionalNN Accuracy: 0.9941\n"
          ]
        }
      ]
    },
    {
      "cell_type": "markdown",
      "source": [
        "# Gradient Boosting - Lee Zhi Hui - TP074075"
      ],
      "metadata": {
        "id": "yThllVsLWQZP"
      }
    },
    {
      "cell_type": "code",
      "source": [
        "# MODEL - GRADIENT BOOSTING\n",
        "from sklearn.ensemble import GradientBoostingClassifier\n",
        "gbc_model = GradientBoostingClassifier(max_depth=4, learning_rate=0.7)\n",
        "gbc_model.fit(x_train, y_train)\n",
        "\n",
        "gbc_train_pred = gbc_model.predict_proba(x_train)[:, 1].reshape(-1, 1)\n",
        "gbc_test_pred = gbc_model.predict_proba(x_test)[:, 1].reshape(-1, 1)\n",
        "\n",
        "gbc_accuracy = roc_auc_score(y_test, gbc_test_pred)\n",
        "print(f\"GradientBoosting Accuracy: {gbc_accuracy:.4f}\")"
      ],
      "metadata": {
        "id": "18gXnMhSu9pG",
        "outputId": "19dee0b3-353a-45e8-e7eb-dfb88d3dd7dc",
        "colab": {
          "base_uri": "https://localhost:8080/"
        }
      },
      "execution_count": null,
      "outputs": [
        {
          "output_type": "stream",
          "name": "stdout",
          "text": [
            "GradientBoosting Accuracy: 0.9971\n"
          ]
        }
      ]
    },
    {
      "cell_type": "markdown",
      "source": [
        "# Decision Tree - Ong Wing Xuan - TP065481"
      ],
      "metadata": {
        "id": "E_Uc9mdnWUCP"
      }
    },
    {
      "cell_type": "markdown",
      "source": [
        "Define Decision Tree Model"
      ],
      "metadata": {
        "id": "9BnkhJ4yl0r0"
      }
    },
    {
      "cell_type": "code",
      "source": [
        "dtc_model = DecisionTreeClassifier(max_depth=12)"
      ],
      "metadata": {
        "id": "SFbmlcqIl3H9"
      },
      "execution_count": 15,
      "outputs": []
    },
    {
      "cell_type": "markdown",
      "source": [
        "Training Decision Tree Model"
      ],
      "metadata": {
        "id": "vXbQSMGNmCls"
      }
    },
    {
      "cell_type": "code",
      "source": [
        "dtc_model.fit(x_train, y_train)\n",
        "dtc_model_full = copy.deepcopy(dtc_model)\n",
        "\n",
        "dtc_model_train = dtc_model.predict_proba(x_train)[:, 1].reshape(-1, 1)\n",
        "dtc_model_test = dtc_model.predict_proba(x_test)[:, 1].reshape(-1, 1)\n",
        "\n",
        "dtc_model_accuracy = dtc_model.score(x_test, y_test)\n",
        "print(f\"Dtc Plain Accuracy: {dtc_model_accuracy:.8f}\")"
      ],
      "metadata": {
        "id": "KhDVgCb1kabn",
        "outputId": "aceae7b0-bc65-443a-9c1b-5dba99fad48f",
        "colab": {
          "base_uri": "https://localhost:8080/"
        }
      },
      "execution_count": 16,
      "outputs": [
        {
          "output_type": "stream",
          "name": "stdout",
          "text": [
            "Dtc Plain Accuracy: 0.96766667\n"
          ]
        }
      ]
    },
    {
      "cell_type": "markdown",
      "source": [
        "Performing Feature Selection"
      ],
      "metadata": {
        "id": "MQWTBdtpmYzd"
      }
    },
    {
      "cell_type": "code",
      "source": [
        "selector = RFECV(dtc_model, cv=5, n_jobs=-1)\n",
        "selector = selector.fit(x, y)\n",
        "dtc_col = np.where(selector.ranking_==1)[0]\n",
        "print(dtc_col)\n",
        "\n",
        "dtc_pipe = make_pipeline(ColumnSelector(cols=dtc_col), dtc_model)\n",
        "\n",
        "dtc_pipe.fit(x_train, y_train)\n",
        "dtc_pipe_train = dtc_pipe.predict_proba(x_train)[:, 1].reshape(-1, 1)\n",
        "dtc_pipe_test = dtc_pipe.predict_proba(x_test)[:, 1].reshape(-1, 1)\n",
        "dtc_pipe_accuracy = dtc_pipe.score(x_test, y_test)\n",
        "print(f\"Dtc Pipe Accuracy: {dtc_pipe_accuracy:.8f}\")"
      ],
      "metadata": {
        "id": "IHkZXvMtmdJN",
        "outputId": "a43390bb-cb18-4aac-c438-e137be64fe00",
        "colab": {
          "base_uri": "https://localhost:8080/"
        }
      },
      "execution_count": 17,
      "outputs": [
        {
          "output_type": "stream",
          "name": "stdout",
          "text": [
            "[ 0  2  3  4  8  9 11 13 14 20 21 22 24 26 27 28 29 31 33 34 38 39 45 47]\n",
            "Dtc Pipe Accuracy: 0.96666667\n"
          ]
        }
      ]
    },
    {
      "cell_type": "markdown",
      "source": [
        "Decision Tree Training Result"
      ],
      "metadata": {
        "id": "ivrHL1xHrQBJ"
      }
    },
    {
      "cell_type": "code",
      "source": [
        "dtc_pipe_prob = dtc_pipe.predict_proba(x_test)[:, 1]\n",
        "dtc_pipe_pred = (dtc_pipe_test >= 0.5).astype(int)\n",
        "\n",
        "dtc_accuracy = accuracy_score(y_test, dtc_pipe_pred)\n",
        "dtc_precision = precision_score(y_test, dtc_pipe_pred)\n",
        "dtc_recall = recall_score(y_test, dtc_pipe_pred)\n",
        "dtc_f1 = f1_score(y_test, dtc_pipe_pred)\n",
        "dtc_roc_auc = roc_auc_score(y_test, dtc_pipe_prob)\n",
        "\n",
        "print(f\"Dtc Final Model Metrics:\")\n",
        "print(f\"Accuracy:  {dtc_accuracy:.4f}\")\n",
        "print(f\"Precision: {dtc_precision:.4f}\")\n",
        "print(f\"Recall:    {dtc_recall:.4f}\")\n",
        "print(f\"F1-score:  {dtc_f1:.4f}\")\n",
        "print(f\"ROC-AUC:   {dtc_roc_auc:.4f}\")"
      ],
      "metadata": {
        "id": "4iIHqMQgrUUK",
        "outputId": "72961af0-48e3-4228-9d2d-422071a4d75a",
        "colab": {
          "base_uri": "https://localhost:8080/"
        }
      },
      "execution_count": 23,
      "outputs": [
        {
          "output_type": "stream",
          "name": "stdout",
          "text": [
            "Dtc Final Model Metrics:\n",
            "Accuracy:  0.9677\n",
            "Precision: 0.9609\n",
            "Recall:    0.9755\n",
            "F1-score:  0.9681\n",
            "ROC-AUC:   0.9604\n"
          ]
        }
      ]
    },
    {
      "cell_type": "markdown",
      "source": [
        "# Stacked Model - Group Work"
      ],
      "metadata": {
        "id": "pX6oLWk2WsJV"
      }
    },
    {
      "cell_type": "code",
      "source": [
        "# MODEL - STACKING\n",
        "stacked_train = np.hstack([xgb_train_pred, cnn_train_pred, gbc_train_pred, dtc_train_pred])\n",
        "stacked_test = np.hstack([xgb_test_pred, cnn_test_pred, gbc_test_pred, dtc_test_pred])\n",
        "\n",
        "from sklearn.linear_model import LogisticRegression\n",
        "meta_model = LogisticRegression()\n",
        "meta_model.fit(stacked_train, y_train)\n",
        "\n",
        "from sklearn.metrics import accuracy_score\n",
        "y_pred = meta_model.predict(stacked_test)\n",
        "acc = accuracy_score(y_test, y_pred)\n",
        "print(f\"Stacked Model Accuracy: {acc:.4f}\")"
      ],
      "metadata": {
        "id": "WEypXyEpIhYd",
        "outputId": "fa04c39f-7571-45ea-b2c3-38e00307ccbd",
        "colab": {
          "base_uri": "https://localhost:8080/"
        }
      },
      "execution_count": null,
      "outputs": [
        {
          "output_type": "stream",
          "name": "stdout",
          "text": [
            "Stacked Model Accuracy: 0.9837\n"
          ]
        }
      ]
    },
    {
      "cell_type": "code",
      "source": [
        "# FEATURE SELECTION - XGBOOST\n",
        "\n",
        "from sklearn.feature_selection import RFECV\n",
        "selector = RFECV(xgb_model, cv=5, n_jobs=-1)\n",
        "selector = selector.fit(x, y)\n",
        "xgb_col = np.where(selector.ranking_==1)\n",
        "print(xgb_col)\n",
        "\n",
        "from mlxtend.feature_selection import ColumnSelector\n",
        "from sklearn.pipeline import make_pipeline\n",
        "\n",
        "pipe_xgb = make_pipeline(ColumnSelector(cols=(0,  1,  2,  3,  4,  5,  8,  9, 10, 11, 13, 14, 15, 18, 20, 21, 22,\n",
        "       24, 25, 26, 27, 28, 29, 30, 31, 32, 33, 34, 38, 39, 40, 41, 45, 46,\n",
        "       47)),xgb_model)\n",
        "\n",
        "pipe_xgb.fit(x_train, y_train)\n",
        "pipe_xgb_train = pipe_xgb.predict_proba(x_train)[:, 1].reshape(-1, 1)\n",
        "pipe_xgb_test = pipe_xgb.predict_proba(x_test)[:, 1].reshape(-1, 1)\n",
        "pipe_xgb_accuracy = roc_auc_score(y_test, pipe_xgb_test)\n",
        "print(f\"Pipe Xgb Accuracy: {pipe_xgb_accuracy:.4f}\")"
      ],
      "metadata": {
        "id": "aK1-p1-dIvDO",
        "outputId": "fd340df5-77d6-41db-b096-5ee1b2db64f0",
        "colab": {
          "base_uri": "https://localhost:8080/"
        }
      },
      "execution_count": null,
      "outputs": [
        {
          "output_type": "stream",
          "name": "stdout",
          "text": [
            "(array([ 0,  1,  2,  3,  4,  5,  8,  9, 10, 11, 13, 14, 15, 18, 20, 21, 22,\n",
            "       24, 25, 26, 27, 28, 29, 30, 31, 32, 33, 34, 38, 39, 40, 41, 45, 46,\n",
            "       47]),)\n",
            "Pipe Xgb Accuracy: 0.9981\n"
          ]
        }
      ]
    },
    {
      "cell_type": "code",
      "source": [
        "# FEATURE SELECTION - CNN_COMPLEX\n",
        "\n",
        "from sklearn.feature_selection import SelectKBest, mutual_info_classif\n",
        "\n",
        "selector = SelectKBest(score_func=mutual_info_classif, k=30)\n",
        "x_selected = selector.fit_transform(x, y)\n",
        "cnn_cols = selector.get_support(indices=True)\n",
        "print(cnn_cols)\n",
        "\n",
        "cnn_x_train = x_train[:, cnn_cols].reshape(-1, len(cnn_cols), 1)\n",
        "cnn_x_test = x_test[:, cnn_cols].reshape(-1, len(cnn_cols), 1)\n",
        "\n",
        "pipe_cnn = cnn_complex_tabular()\n",
        "pipe_cnn.fit(cnn_x_train, y_train, epochs=25, batch_size=1000, verbose=0)\n",
        "pipe_cnn_train = pipe_cnn.predict(cnn_x_train)\n",
        "pipe_cnn_test = pipe_cnn.predict(cnn_x_test)\n",
        "pipe_cnn_accuracy = roc_auc_score(y_test, pipe_cnn_test)\n",
        "print(f\"Pipe Cnn Accuracy: {pipe_cnn_accuracy:.4f}\")"
      ],
      "metadata": {
        "id": "hE38arMEmsDb",
        "outputId": "d14cc549-1fcf-4a33-d807-34c52e1f82b9",
        "colab": {
          "base_uri": "https://localhost:8080/"
        }
      },
      "execution_count": null,
      "outputs": [
        {
          "output_type": "stream",
          "name": "stdout",
          "text": [
            "[ 0  2  3  4  8 10 11 13 16 18 20 21 22 24 25 26 27 29 30 31 32 33 34 38\n",
            " 39 43 44 45 46 47]\n",
            "\u001b[1m219/219\u001b[0m \u001b[32m━━━━━━━━━━━━━━━━━━━━\u001b[0m\u001b[37m\u001b[0m \u001b[1m2s\u001b[0m 7ms/step\n",
            "\u001b[1m94/94\u001b[0m \u001b[32m━━━━━━━━━━━━━━━━━━━━\u001b[0m\u001b[37m\u001b[0m \u001b[1m1s\u001b[0m 7ms/step\n",
            "Pipe Cnn Accuracy: 0.9928\n"
          ]
        }
      ]
    },
    {
      "cell_type": "code",
      "source": [
        "# FEATURE SELECTION - GRADIENT BOOSTING\n",
        "\n",
        "selector = RFECV(gbc_model, cv=5, n_jobs=-1)\n",
        "selector = selector.fit(x, y)\n",
        "gbc_col = np.where(selector.ranking_==1)\n",
        "print(gbc_col)\n",
        "\n",
        "pipe_gbc = make_pipeline(ColumnSelector(cols=(0,  1,  2,  3,  4,  5,  8,  9, 10, 11, 13, 14, 16, 20, 21, 22, 24,\n",
        "       26, 27, 28, 29, 31, 33, 34, 38, 39, 40, 46, 47)),gbc_model)\n",
        "\n",
        "pipe_gbc.fit(x_train, y_train)\n",
        "pipe_gbc_train = pipe_gbc.predict_proba(x_train)[:, 1].reshape(-1, 1)\n",
        "pipe_gbc_test = pipe_gbc.predict_proba(x_test)[:, 1].reshape(-1, 1)\n",
        "pipe_gbc_accuracy = roc_auc_score(y_test, pipe_gbc_test)\n",
        "print(f\"Pipe Gbc Accuracy: {pipe_gbc_accuracy:.4f}\")"
      ],
      "metadata": {
        "id": "al80Pj_MOCjg",
        "outputId": "588852bc-e987-4243-fae8-d5eec1728429",
        "colab": {
          "base_uri": "https://localhost:8080/"
        }
      },
      "execution_count": null,
      "outputs": [
        {
          "output_type": "stream",
          "name": "stdout",
          "text": [
            "(array([ 0,  1,  2,  3,  4,  5,  8,  9, 10, 11, 13, 14, 16, 20, 21, 22, 24,\n",
            "       26, 27, 28, 29, 31, 33, 34, 38, 39, 40, 46, 47]),)\n",
            "Pipe Gbc Accuracy: 0.9973\n"
          ]
        }
      ]
    },
    {
      "cell_type": "code",
      "source": [
        "# FEATURE SELECTION - DECISION TREE\n",
        "\n",
        "selector = RFECV(dtc_model, cv=5, n_jobs=-1)\n",
        "selector = selector.fit(x, y)\n",
        "dtc_col = np.where(selector.ranking_==1)\n",
        "print(dtc_col)\n",
        "\n",
        "pipe_dtc = make_pipeline(ColumnSelector(cols=(0,  2,  3,  4,  8,  9, 13, 14, 20, 21, 22, 24, 26, 27, 29, 33, 34, 38, 39, 45, 47)),dtc_model)\n",
        "\n",
        "pipe_dtc.fit(x_train, y_train)\n",
        "pipe_dtc_train = pipe_dtc.predict_proba(x_train)[:, 1].reshape(-1, 1)\n",
        "pipe_dtc_test = pipe_dtc.predict_proba(x_test)[:, 1].reshape(-1, 1)\n",
        "pipe_dtc_accuracy = roc_auc_score(y_test, pipe_dtc_test)\n",
        "print(f\"Pipe Dtc Accuracy: {pipe_dtc_accuracy:.4f}\")"
      ],
      "metadata": {
        "id": "lD4TIl9JVnsc",
        "outputId": "7922edc6-80ec-439f-b1ac-33f7febcb01b",
        "colab": {
          "base_uri": "https://localhost:8080/"
        }
      },
      "execution_count": null,
      "outputs": [
        {
          "output_type": "stream",
          "name": "stdout",
          "text": [
            "(array([ 0,  2,  3,  4,  8,  9, 13, 14, 20, 21, 22, 24, 26, 27, 28, 29, 33,\n",
            "       34, 38, 39, 45, 47]),)\n",
            "Pipe Dtc Accuracy: 0.9619\n"
          ]
        }
      ]
    },
    {
      "cell_type": "code",
      "source": [
        "# FEATURE SELECTION - STACKING\n",
        "\n",
        "pipe_st_train = np.hstack([pipe_xgb_train, pipe_cnn_train, pipe_gbc_train, pipe_dtc_train])\n",
        "pipe_st_test = np.hstack([pipe_xgb_test, pipe_cnn_test, pipe_gbc_test, pipe_dtc_test])\n",
        "\n",
        "pipe_model = LogisticRegression()\n",
        "pipe_model.fit(pipe_st_train, y_train)\n",
        "\n",
        "y_pred_pipe = pipe_model.predict(pipe_st_test)\n",
        "acc = accuracy_score(y_test, y_pred_pipe)\n",
        "print(f\"Stacked Model with Features Accuracy: {acc:.4f}\")"
      ],
      "metadata": {
        "id": "IZ4R8BI3b8Pn",
        "outputId": "72ff97cd-7e3d-4039-bf50-da64c57ce564",
        "colab": {
          "base_uri": "https://localhost:8080/"
        }
      },
      "execution_count": null,
      "outputs": [
        {
          "output_type": "stream",
          "name": "stdout",
          "text": [
            "Stacked Model with Features Accuracy: 0.9847\n"
          ]
        }
      ]
    },
    {
      "cell_type": "code",
      "source": [
        "# Create a dictionary from the actual test result and predicted result\n",
        "comparison = pd.DataFrame({'y_pred': y_pred, 'y_test': y_test})\n",
        "\n",
        "true_positive = ((comparison['y_pred'] == 0) & (comparison['y_test'] == 0)).sum()\n",
        "print(f\"True Positive: {true_positive}\")\n",
        "\n",
        "true_negative = ((comparison['y_pred'] == 1) & (comparison['y_test'] == 1)).sum()\n",
        "print(f\"True Negative: {true_negative}\")\n",
        "\n",
        "false_positive = ((comparison['y_pred'] == 0) & (comparison['y_test'] == 1)).sum()\n",
        "print(f\"False Positive: {false_positive}\")\n",
        "\n",
        "false_negative = ((comparison['y_pred'] == 1) & (comparison['y_test'] == 0)).sum()\n",
        "print(f\"False Negative: {false_negative}\")\n",
        "\n",
        "accuracy = (true_positive + true_negative)/(true_positive + true_negative + false_positive + false_negative)\n",
        "print(f\"Accuracy: {accuracy:.8f}\")"
      ],
      "metadata": {
        "id": "pNx5XBeEx2Ap",
        "outputId": "12d09661-b4ea-453b-c920-6884c23e042b",
        "colab": {
          "base_uri": "https://localhost:8080/"
        }
      },
      "execution_count": null,
      "outputs": [
        {
          "output_type": "stream",
          "name": "stdout",
          "text": [
            "True Positive: 1461\n",
            "True Negative: 1492\n",
            "False Positive: 19\n",
            "False Negative: 28\n",
            "Accuracy: 0.98433333\n"
          ]
        }
      ]
    },
    {
      "cell_type": "markdown",
      "source": [
        "# Evaluation"
      ],
      "metadata": {
        "id": "YrpDXESdW40G"
      }
    },
    {
      "cell_type": "markdown",
      "source": [
        "## XGBoost"
      ],
      "metadata": {
        "id": "pJZT3xsPiBK2"
      }
    },
    {
      "cell_type": "markdown",
      "source": [
        "Classification report"
      ],
      "metadata": {
        "id": "ssm0U7FiiQRG"
      }
    },
    {
      "cell_type": "code",
      "source": [
        "print(classification_report(y_test, xgb_final_pred, digits=4))"
      ],
      "metadata": {
        "id": "Hd4SVq3c05fA",
        "outputId": "1ea434d1-6999-4eaf-8498-cf6e9b6bcaca",
        "colab": {
          "base_uri": "https://localhost:8080/"
        }
      },
      "execution_count": null,
      "outputs": [
        {
          "output_type": "stream",
          "name": "stdout",
          "text": [
            "              precision    recall  f1-score   support\n",
            "\n",
            "           0     0.9885    0.9819    0.9852      1489\n",
            "           1     0.9822    0.9887    0.9855      1511\n",
            "\n",
            "    accuracy                         0.9853      3000\n",
            "   macro avg     0.9854    0.9853    0.9853      3000\n",
            "weighted avg     0.9854    0.9853    0.9853      3000\n",
            "\n"
          ]
        }
      ]
    },
    {
      "cell_type": "markdown",
      "source": [
        "Dictionary of TP, TN, FP, FN"
      ],
      "metadata": {
        "id": "fc8zzE9miUTV"
      }
    },
    {
      "cell_type": "code",
      "source": [
        "xgb_y_pred = xgb_model.predict(x_test)\n",
        "xgb_comparison = pd.DataFrame({'xgb_y_pred': xgb_y_pred, 'y_test': y_test})\n",
        "xgb_true_positive = ((xgb_comparison['xgb_y_pred'] == 0) & (xgb_comparison['y_test'] == 0)).sum()\n",
        "print(f\"True Positive: {xgb_true_positive}\")\n",
        "xgb_true_negative = ((xgb_comparison['xgb_y_pred'] == 1) & (xgb_comparison['y_test'] == 1)).sum()\n",
        "print(f\"True Negative: {xgb_true_negative}\")\n",
        "xgb_false_positive = ((xgb_comparison['xgb_y_pred'] == 0) & (xgb_comparison['y_test'] == 1)).sum()\n",
        "print(f\"False Positive: {xgb_false_positive}\")\n",
        "xgb_false_negative = ((xgb_comparison['xgb_y_pred'] == 1) & (xgb_comparison['y_test'] == 0)).sum()\n",
        "print(f\"False Negative: {xgb_false_negative}\")"
      ],
      "metadata": {
        "id": "UKmNcpwAiTTO",
        "outputId": "8f12b68d-53c2-49e6-c452-f4353b293b59",
        "colab": {
          "base_uri": "https://localhost:8080/"
        }
      },
      "execution_count": null,
      "outputs": [
        {
          "output_type": "stream",
          "name": "stdout",
          "text": [
            "True Positive: 1462\n",
            "True Negative: 1494\n",
            "False Positive: 17\n",
            "False Negative: 27\n"
          ]
        }
      ]
    },
    {
      "cell_type": "markdown",
      "source": [
        "Confusion Matrix"
      ],
      "metadata": {
        "id": "RXYZxSbzieKv"
      }
    },
    {
      "cell_type": "code",
      "source": [
        "cm = confusion_matrix(y_test, xgb_final_pred)\n",
        "sns.heatmap(cm,\n",
        "            annot=True,\n",
        "            fmt='g',\n",
        "            xticklabels=['Legimate', 'Phishing'],\n",
        "            yticklabels=['Legimate', 'Phishing'])\n",
        "plt.ylabel('Actual', fontsize=13)\n",
        "plt.title('Xgb Model Confusion Matrix', fontsize=17, pad=20)\n",
        "plt.gca().xaxis.set_label_position('top')\n",
        "plt.xlabel('Prediction', fontsize=13)\n",
        "plt.gca().xaxis.tick_top()\n",
        "plt.gca().figure.subplots_adjust(bottom=0.2)\n",
        "plt.show()"
      ],
      "metadata": {
        "id": "d09e26dkighX",
        "outputId": "1822586f-596c-4c54-954c-1089be88eabb",
        "colab": {
          "base_uri": "https://localhost:8080/",
          "height": 453
        }
      },
      "execution_count": null,
      "outputs": [
        {
          "output_type": "display_data",
          "data": {
            "text/plain": [
              "<Figure size 640x480 with 2 Axes>"
            ],
            "image/png": "[encoded data removed]"
          },
          "metadata": {}
        }
      ]
    },
    {
      "cell_type": "markdown",
      "source": [
        "## Decision Tree"
      ],
      "metadata": {
        "id": "I-uetbParo5b"
      }
    },
    {
      "cell_type": "markdown",
      "source": [
        "Classification report"
      ],
      "metadata": {
        "id": "smH5oObRr03Q"
      }
    },
    {
      "cell_type": "code",
      "source": [
        "dtc_y_pred = dtc_pipe.predict(x_test)\n",
        "print(classification_report(y_test, dtc_y_pred, digits=4))"
      ],
      "metadata": {
        "id": "qw0rKx53r2cg",
        "outputId": "036a8abb-ec9c-4cc4-caa8-78de5a472514",
        "colab": {
          "base_uri": "https://localhost:8080/"
        }
      },
      "execution_count": 26,
      "outputs": [
        {
          "output_type": "stream",
          "name": "stdout",
          "text": [
            "              precision    recall  f1-score   support\n",
            "\n",
            "           0     0.9721    0.9604    0.9662      1489\n",
            "           1     0.9614    0.9729    0.9671      1511\n",
            "\n",
            "    accuracy                         0.9667      3000\n",
            "   macro avg     0.9668    0.9666    0.9667      3000\n",
            "weighted avg     0.9667    0.9667    0.9667      3000\n",
            "\n"
          ]
        }
      ]
    },
    {
      "cell_type": "markdown",
      "source": [
        "Dictionary of TP, TN, FP, FN"
      ],
      "metadata": {
        "id": "geUntcJirt57"
      }
    },
    {
      "cell_type": "code",
      "source": [
        "dtc_comparison = pd.DataFrame({'dtc_y_pred': dtc_y_pred, 'y_test': y_test})\n",
        "\n",
        "dtc_true_positive = ((dtc_comparison['dtc_y_pred'] == 0) & (dtc_comparison['y_test'] == 0)).sum()\n",
        "print(f\"True Positive: {dtc_true_positive}\")\n",
        "dtc_true_negative = ((dtc_comparison['dtc_y_pred'] == 1) & (dtc_comparison['y_test'] == 1)).sum()\n",
        "print(f\"True Negative: {dtc_true_negative}\")\n",
        "dtc_false_positive = ((dtc_comparison['dtc_y_pred'] == 0) & (dtc_comparison['y_test'] == 1)).sum()\n",
        "print(f\"False Positive: {dtc_false_positive}\")\n",
        "dtc_false_negative = ((dtc_comparison['dtc_y_pred'] == 1) & (dtc_comparison['y_test'] == 0)).sum()\n",
        "print(f\"False Negative: {dtc_false_negative}\")"
      ],
      "metadata": {
        "id": "nBSkPtjcrrQK",
        "outputId": "9c89de5b-6ce2-4e1e-b8c4-6c8facd12e54",
        "colab": {
          "base_uri": "https://localhost:8080/"
        }
      },
      "execution_count": 27,
      "outputs": [
        {
          "output_type": "stream",
          "name": "stdout",
          "text": [
            "True Positive: 1430\n",
            "True Negative: 1470\n",
            "False Positive: 41\n",
            "False Negative: 59\n"
          ]
        }
      ]
    },
    {
      "cell_type": "markdown",
      "source": [
        "Confusion Matrix"
      ],
      "metadata": {
        "id": "puHVPypKsDa5"
      }
    },
    {
      "cell_type": "code",
      "source": [
        "cm = confusion_matrix(y_test, dtc_y_pred)\n",
        "sns.heatmap(cm,\n",
        "            annot=True,\n",
        "            fmt='g',\n",
        "            xticklabels=['Legimate', 'Phishing'],\n",
        "            yticklabels=['Legimate', 'Phishing'])\n",
        "plt.ylabel('Actual', fontsize=13)\n",
        "plt.title('Confusion Matrix', fontsize=17, pad=20)\n",
        "plt.gca().xaxis.set_label_position('top')\n",
        "plt.xlabel('Prediction', fontsize=13)\n",
        "plt.gca().xaxis.tick_top()\n",
        "plt.gca().figure.subplots_adjust(bottom=0.2)\n",
        "plt.show()"
      ],
      "metadata": {
        "id": "onvs6seAr65Q",
        "outputId": "4f1f1d20-caad-4ed7-88d6-a1b837eb5602",
        "colab": {
          "base_uri": "https://localhost:8080/",
          "height": 453
        }
      },
      "execution_count": 28,
      "outputs": [
        {
          "output_type": "display_data",
          "data": {
            "text/plain": [
              "<Figure size 640x480 with 2 Axes>"
            ],
            "image/png": "[encoded data removed]"
          },
          "metadata": {}
        }
      ]
    },
    {
      "cell_type": "markdown",
      "source": [
        "## Other"
      ],
      "metadata": {
        "id": "X39pY78ArmxA"
      }
    },
    {
      "cell_type": "code",
      "source": [
        "# Receiver Operating Characteristic Curve\n",
        "from sklearn.metrics import roc_curve, auc\n",
        "\n",
        "y_prob_meta = meta_model.predict_proba(stacked_test)[:, 1]\n",
        "y_prob_pipe = pipe_model.predict_proba(pipe_st_test)[:, 1]\n",
        "fpr_meta, tpr_meta, thresholds_meta = roc_curve(y_test, y_prob_meta)\n",
        "fpr_pipe, tpr_pipe, thresholds_pipe = roc_curve(y_test, y_prob_pipe)\n",
        "roc_auc_meta = auc(fpr_meta, tpr_meta)\n",
        "roc_auc_pipe = auc(fpr_pipe, tpr_pipe)\n",
        "\n",
        "plt.figure(figsize=(5, 5))\n",
        "plt.plot(fpr_meta, tpr_meta, label='Stacked Meta Model (AUC = %0.4f)' % roc_auc_meta, color='darkorange')\n",
        "plt.plot(fpr_pipe, tpr_pipe, label='Stacked Pipe Model (AUC = %0.4f)' % roc_auc_pipe, color='blue')\n",
        "plt.plot([0, 1], [0, 1], 'k--', label='No Skill')\n",
        "plt.xlim([0.0, 1.0])\n",
        "plt.ylim([0.0, 1.05])\n",
        "plt.xlabel('False Positive Rate', fontsize=12)\n",
        "plt.ylabel('True Positive Rate', fontsize=12)\n",
        "plt.title('ROC Curve for Phishing URL Detection', fontsize=14)\n",
        "plt.legend(loc='lower right')\n",
        "plt.grid(True)\n",
        "plt.show()"
      ],
      "metadata": {
        "id": "uK7r6eHrKjCP",
        "outputId": "8f96709b-9185-41d8-b237-400a3a26db7d",
        "colab": {
          "base_uri": "https://localhost:8080/",
          "height": 492
        }
      },
      "execution_count": null,
      "outputs": [
        {
          "output_type": "display_data",
          "data": {
            "text/plain": [
              "<Figure size 500x500 with 1 Axes>"
            ],
            "image/png": "[encoded data removed]"
          },
          "metadata": {}
        }
      ]
    },
    {
      "cell_type": "code",
      "source": [
        "# Precision-Recall Curve\n",
        "from sklearn.metrics import precision_recall_curve, auc\n",
        "precision_meta, recall_meta, thresholds_meta = precision_recall_curve(y_test, y_pred)\n",
        "precision_pipe, recall_pipe, thresholds_pipe = precision_recall_curve(y_test, y_pred_pipe)\n",
        "auc_score_meta = auc(recall_meta, precision_meta)\n",
        "auc_score_pipe = auc(recall_pipe, precision_pipe)\n",
        "\n",
        "plt.figure(figsize=(5, 5))\n",
        "plt.plot(recall_meta, precision_meta, label=f'Meta Model PR Curve (AUC = {auc_score_meta:.4f})', color='darkorange')\n",
        "plt.plot(recall_pipe, precision_pipe, label=f'Pipe Model PR Curve (AUC = {auc_score_pipe:.4f})', color='blue')\n",
        "plt.xlabel('Recall')\n",
        "plt.ylabel('Precision')\n",
        "plt.title('Precision-Recall Curve')\n",
        "plt.legend()\n",
        "plt.show()"
      ],
      "metadata": {
        "id": "ctMw7ut5Y8ck",
        "outputId": "c566467e-caae-4863-dbbf-8e1918ce2649",
        "colab": {
          "base_uri": "https://localhost:8080/",
          "height": 487
        }
      },
      "execution_count": null,
      "outputs": [
        {
          "output_type": "display_data",
          "data": {
            "text/plain": [
              "<Figure size 500x500 with 1 Axes>"
            ],
            "image/png": "[encoded data removed]"
          },
          "metadata": {}
        }
      ]
    },
    {
      "cell_type": "code",
      "source": [
        "# Logistic Regression Coefficients\n",
        "importance_scores = meta_model.coef_[0]\n",
        "stacked_features = ['XGBoost', 'CNN', 'GradientBoosting', 'DecisionTree']\n",
        "for name, coef in zip(stacked_features, importance_scores):\n",
        "    print(f\"{name} contribution weight: {coef:.4f}\")\n",
        "\n",
        "plt.bar(stacked_features, importance_scores)\n",
        "plt.title('Meta Model Feature Importances (Logistic Regression Coefficients)')\n",
        "plt.ylabel('Coefficient Value')\n",
        "plt.show()"
      ],
      "metadata": {
        "id": "89KxxLargcg6"
      },
      "execution_count": null,
      "outputs": []
    },
    {
      "cell_type": "markdown",
      "source": [
        "# Save Model"
      ],
      "metadata": {
        "id": "Sg_TODzQXAve"
      }
    },
    {
      "cell_type": "markdown",
      "source": [
        "Saving Final XGB Model"
      ],
      "metadata": {
        "id": "72iNRP2AitaP"
      }
    },
    {
      "cell_type": "code",
      "source": [
        "joblib.dump(xgb_model, 'xgb_model.pkl')"
      ],
      "metadata": {
        "id": "IujGYoIkism9",
        "outputId": "30fd6f64-513f-4a37-d3ff-2e4e00105627",
        "colab": {
          "base_uri": "https://localhost:8080/"
        }
      },
      "execution_count": null,
      "outputs": [
        {
          "output_type": "execute_result",
          "data": {
            "text/plain": [
              "['xgb_model.pkl']"
            ]
          },
          "metadata": {},
          "execution_count": 12
        }
      ]
    },
    {
      "cell_type": "markdown",
      "source": [
        "Saving Final Decision Tree Model"
      ],
      "metadata": {
        "id": "aw5Wni5SsbT3"
      }
    },
    {
      "cell_type": "code",
      "source": [
        "joblib.dump(dtc_pipe, 'dtc_model.pkl')"
      ],
      "metadata": {
        "id": "GjHMT7UYsZ8I",
        "outputId": "cda47f89-a8be-4286-c53a-0a8ebde4ebe6",
        "colab": {
          "base_uri": "https://localhost:8080/"
        }
      },
      "execution_count": 29,
      "outputs": [
        {
          "output_type": "execute_result",
          "data": {
            "text/plain": [
              "['dtc_model.pkl']"
            ]
          },
          "metadata": {},
          "execution_count": 29
        }
      ]
    }
  ]
}