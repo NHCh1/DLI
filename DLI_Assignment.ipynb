{
  "nbformat": 4,
  "nbformat_minor": 0,
  "metadata": {
    "colab": {
      "provenance": [],
      "include_colab_link": true
    },
    "kernelspec": {
      "name": "python3",
      "display_name": "Python 3"
    },
    "language_info": {
      "name": "python"
    }
  },
  "cells": [
    {
      "cell_type": "markdown",
      "metadata": {
        "id": "view-in-github",
        "colab_type": "text"
      },
      "source": [
        "<a href=\"https://colab.research.google.com/github/NHCh1/DLI/blob/main/DLI_Assignment.ipynb\" target=\"_parent\"><img src=\"https://colab.research.google.com/assets/colab-badge.svg\" alt=\"Open In Colab\"/></a>"
      ]
    },
    {
      "cell_type": "markdown",
      "source": [
        "# Setup"
      ],
      "metadata": {
        "id": "mije4PLHmk7O"
      }
    },
    {
      "cell_type": "code",
      "source": [
        "import numpy as np\n",
        "import pandas as pd\n",
        "import copy\n",
        "import warnings\n",
        "warnings.filterwarnings('ignore')\n",
        "\n",
        "from sklearn.model_selection import train_test_split\n",
        "from sklearn.preprocessing import StandardScaler\n",
        "\n",
        "from xgboost import XGBClassifier\n",
        "from sklearn.ensemble import GradientBoostingClassifier\n",
        "from sklearn.tree import DecisionTreeClassifier\n",
        "from tensorflow.keras.models import Sequential\n",
        "from tensorflow.keras.layers import Input, Conv1D, MaxPooling1D, Dropout, Flatten, Dense\n",
        "from tensorflow.keras.optimizers import Adam\n",
        "from sklearn.linear_model import LogisticRegression\n",
        "\n",
        "from sklearn.feature_selection import RFECV, mutual_info_classif\n",
        "from mlxtend.feature_selection import ColumnSelector\n",
        "from sklearn.pipeline import make_pipeline\n",
        "from sklearn.model_selection import RandomizedSearchCV\n",
        "\n",
        "from sklearn.metrics import accuracy_score, precision_score, recall_score, f1_score, roc_auc_score, precision_recall_curve\n",
        "from sklearn.metrics import classification_report, confusion_matrix, roc_curve, auc\n",
        "import matplotlib.pyplot as plt\n",
        "import seaborn as sns\n",
        "\n",
        "import joblib\n",
        "import time\n",
        "import os"
      ],
      "metadata": {
        "id": "gmx0bdbipHxB"
      },
      "execution_count": 66,
      "outputs": []
    },
    {
      "cell_type": "markdown",
      "source": [
        "# Data Loading"
      ],
      "metadata": {
        "id": "_u7sYYy4QdC1"
      }
    },
    {
      "cell_type": "code",
      "execution_count": 2,
      "metadata": {
        "id": "MO12L-2aEqYR",
        "outputId": "c0ef555c-e3ca-46bd-cfe6-774897401101",
        "colab": {
          "base_uri": "https://localhost:8080/",
          "height": 423
        }
      },
      "outputs": [
        {
          "output_type": "execute_result",
          "data": {
            "text/plain": [
              "      0   1   2    3   4   5   6   7   8   9   ...  39  40  41  42  43  44  \\\n",
              "0      3   1   5   72   0   0   0   0   0   0  ...   0   0   1   1   0   1   \n",
              "1      3   1   3  144   0   0   0   0   2   0  ...   0   0   0   1  -1   1   \n",
              "2      3   1   2   58   0   0   0   0   0   0  ...   0   0   0   1   0  -1   \n",
              "3      3   1   6   79   1   0   0   0   0   0  ...   0   0   0   1  -1   1   \n",
              "4      3   0   4   46   0   0   0   0   0   0  ...   1   0   0   1   1  -1   \n",
              "...   ..  ..  ..  ...  ..  ..  ..  ..  ..  ..  ...  ..  ..  ..  ..  ..  ..   \n",
              "9995   3   1   1   50   0   0   0   0   0   0  ...   0   0   0   1   1  -1   \n",
              "9996   2   1   4   59   1   0   0   0   0   0  ...   1   0   0   1   0   0   \n",
              "9997   2   1   4   57   0   0   0   0   0   0  ...   0   0   0   1   0   1   \n",
              "9998   3   1   1   49   0   0   0   0   0   0  ...   1   0   0   1   1   0   \n",
              "9999   3   1   2   52   3   0   0   0   0   0  ...   0   0   0   1   1   1   \n",
              "\n",
              "      45  46  47  48  \n",
              "0      1  -1   1   1  \n",
              "1      1   1   1   1  \n",
              "2      1  -1   0   1  \n",
              "3      1   1  -1   1  \n",
              "4      0  -1  -1   1  \n",
              "...   ..  ..  ..  ..  \n",
              "9995   1   0   1   0  \n",
              "9996   1   0   1   0  \n",
              "9997   1   0   1   0  \n",
              "9998   1   0   1   0  \n",
              "9999   1   1   1   0  \n",
              "\n",
              "[10000 rows x 49 columns]"
            ],
            "text/html": [
              "\n",
              "  <div id=\"df-32a79ccc-6ab5-4507-a712-63653de29851\" class=\"colab-df-container\">\n",
              "    <div>\n",
              "<style scoped>\n",
              "    .dataframe tbody tr th:only-of-type {\n",
              "        vertical-align: middle;\n",
              "    }\n",
              "\n",
              "    .dataframe tbody tr th {\n",
              "        vertical-align: top;\n",
              "    }\n",
              "\n",
              "    .dataframe thead th {\n",
              "        text-align: right;\n",
              "    }\n",
              "</style>\n",
              "<table border=\"1\" class=\"dataframe\">\n",
              "  <thead>\n",
              "    <tr style=\"text-align: right;\">\n",
              "      <th></th>\n",
              "      <th>0</th>\n",
              "      <th>1</th>\n",
              "      <th>2</th>\n",
              "      <th>3</th>\n",
              "      <th>4</th>\n",
              "      <th>5</th>\n",
              "      <th>6</th>\n",
              "      <th>7</th>\n",
              "      <th>8</th>\n",
              "      <th>9</th>\n",
              "      <th>...</th>\n",
              "      <th>39</th>\n",
              "      <th>40</th>\n",
              "      <th>41</th>\n",
              "      <th>42</th>\n",
              "      <th>43</th>\n",
              "      <th>44</th>\n",
              "      <th>45</th>\n",
              "      <th>46</th>\n",
              "      <th>47</th>\n",
              "      <th>48</th>\n",
              "    </tr>\n",
              "  </thead>\n",
              "  <tbody>\n",
              "    <tr>\n",
              "      <th>0</th>\n",
              "      <td>3</td>\n",
              "      <td>1</td>\n",
              "      <td>5</td>\n",
              "      <td>72</td>\n",
              "      <td>0</td>\n",
              "      <td>0</td>\n",
              "      <td>0</td>\n",
              "      <td>0</td>\n",
              "      <td>0</td>\n",
              "      <td>0</td>\n",
              "      <td>...</td>\n",
              "      <td>0</td>\n",
              "      <td>0</td>\n",
              "      <td>1</td>\n",
              "      <td>1</td>\n",
              "      <td>0</td>\n",
              "      <td>1</td>\n",
              "      <td>1</td>\n",
              "      <td>-1</td>\n",
              "      <td>1</td>\n",
              "      <td>1</td>\n",
              "    </tr>\n",
              "    <tr>\n",
              "      <th>1</th>\n",
              "      <td>3</td>\n",
              "      <td>1</td>\n",
              "      <td>3</td>\n",
              "      <td>144</td>\n",
              "      <td>0</td>\n",
              "      <td>0</td>\n",
              "      <td>0</td>\n",
              "      <td>0</td>\n",
              "      <td>2</td>\n",
              "      <td>0</td>\n",
              "      <td>...</td>\n",
              "      <td>0</td>\n",
              "      <td>0</td>\n",
              "      <td>0</td>\n",
              "      <td>1</td>\n",
              "      <td>-1</td>\n",
              "      <td>1</td>\n",
              "      <td>1</td>\n",
              "      <td>1</td>\n",
              "      <td>1</td>\n",
              "      <td>1</td>\n",
              "    </tr>\n",
              "    <tr>\n",
              "      <th>2</th>\n",
              "      <td>3</td>\n",
              "      <td>1</td>\n",
              "      <td>2</td>\n",
              "      <td>58</td>\n",
              "      <td>0</td>\n",
              "      <td>0</td>\n",
              "      <td>0</td>\n",
              "      <td>0</td>\n",
              "      <td>0</td>\n",
              "      <td>0</td>\n",
              "      <td>...</td>\n",
              "      <td>0</td>\n",
              "      <td>0</td>\n",
              "      <td>0</td>\n",
              "      <td>1</td>\n",
              "      <td>0</td>\n",
              "      <td>-1</td>\n",
              "      <td>1</td>\n",
              "      <td>-1</td>\n",
              "      <td>0</td>\n",
              "      <td>1</td>\n",
              "    </tr>\n",
              "    <tr>\n",
              "      <th>3</th>\n",
              "      <td>3</td>\n",
              "      <td>1</td>\n",
              "      <td>6</td>\n",
              "      <td>79</td>\n",
              "      <td>1</td>\n",
              "      <td>0</td>\n",
              "      <td>0</td>\n",
              "      <td>0</td>\n",
              "      <td>0</td>\n",
              "      <td>0</td>\n",
              "      <td>...</td>\n",
              "      <td>0</td>\n",
              "      <td>0</td>\n",
              "      <td>0</td>\n",
              "      <td>1</td>\n",
              "      <td>-1</td>\n",
              "      <td>1</td>\n",
              "      <td>1</td>\n",
              "      <td>1</td>\n",
              "      <td>-1</td>\n",
              "      <td>1</td>\n",
              "    </tr>\n",
              "    <tr>\n",
              "      <th>4</th>\n",
              "      <td>3</td>\n",
              "      <td>0</td>\n",
              "      <td>4</td>\n",
              "      <td>46</td>\n",
              "      <td>0</td>\n",
              "      <td>0</td>\n",
              "      <td>0</td>\n",
              "      <td>0</td>\n",
              "      <td>0</td>\n",
              "      <td>0</td>\n",
              "      <td>...</td>\n",
              "      <td>1</td>\n",
              "      <td>0</td>\n",
              "      <td>0</td>\n",
              "      <td>1</td>\n",
              "      <td>1</td>\n",
              "      <td>-1</td>\n",
              "      <td>0</td>\n",
              "      <td>-1</td>\n",
              "      <td>-1</td>\n",
              "      <td>1</td>\n",
              "    </tr>\n",
              "    <tr>\n",
              "      <th>...</th>\n",
              "      <td>...</td>\n",
              "      <td>...</td>\n",
              "      <td>...</td>\n",
              "      <td>...</td>\n",
              "      <td>...</td>\n",
              "      <td>...</td>\n",
              "      <td>...</td>\n",
              "      <td>...</td>\n",
              "      <td>...</td>\n",
              "      <td>...</td>\n",
              "      <td>...</td>\n",
              "      <td>...</td>\n",
              "      <td>...</td>\n",
              "      <td>...</td>\n",
              "      <td>...</td>\n",
              "      <td>...</td>\n",
              "      <td>...</td>\n",
              "      <td>...</td>\n",
              "      <td>...</td>\n",
              "      <td>...</td>\n",
              "      <td>...</td>\n",
              "    </tr>\n",
              "    <tr>\n",
              "      <th>9995</th>\n",
              "      <td>3</td>\n",
              "      <td>1</td>\n",
              "      <td>1</td>\n",
              "      <td>50</td>\n",
              "      <td>0</td>\n",
              "      <td>0</td>\n",
              "      <td>0</td>\n",
              "      <td>0</td>\n",
              "      <td>0</td>\n",
              "      <td>0</td>\n",
              "      <td>...</td>\n",
              "      <td>0</td>\n",
              "      <td>0</td>\n",
              "      <td>0</td>\n",
              "      <td>1</td>\n",
              "      <td>1</td>\n",
              "      <td>-1</td>\n",
              "      <td>1</td>\n",
              "      <td>0</td>\n",
              "      <td>1</td>\n",
              "      <td>0</td>\n",
              "    </tr>\n",
              "    <tr>\n",
              "      <th>9996</th>\n",
              "      <td>2</td>\n",
              "      <td>1</td>\n",
              "      <td>4</td>\n",
              "      <td>59</td>\n",
              "      <td>1</td>\n",
              "      <td>0</td>\n",
              "      <td>0</td>\n",
              "      <td>0</td>\n",
              "      <td>0</td>\n",
              "      <td>0</td>\n",
              "      <td>...</td>\n",
              "      <td>1</td>\n",
              "      <td>0</td>\n",
              "      <td>0</td>\n",
              "      <td>1</td>\n",
              "      <td>0</td>\n",
              "      <td>0</td>\n",
              "      <td>1</td>\n",
              "      <td>0</td>\n",
              "      <td>1</td>\n",
              "      <td>0</td>\n",
              "    </tr>\n",
              "    <tr>\n",
              "      <th>9997</th>\n",
              "      <td>2</td>\n",
              "      <td>1</td>\n",
              "      <td>4</td>\n",
              "      <td>57</td>\n",
              "      <td>0</td>\n",
              "      <td>0</td>\n",
              "      <td>0</td>\n",
              "      <td>0</td>\n",
              "      <td>0</td>\n",
              "      <td>0</td>\n",
              "      <td>...</td>\n",
              "      <td>0</td>\n",
              "      <td>0</td>\n",
              "      <td>0</td>\n",
              "      <td>1</td>\n",
              "      <td>0</td>\n",
              "      <td>1</td>\n",
              "      <td>1</td>\n",
              "      <td>0</td>\n",
              "      <td>1</td>\n",
              "      <td>0</td>\n",
              "    </tr>\n",
              "    <tr>\n",
              "      <th>9998</th>\n",
              "      <td>3</td>\n",
              "      <td>1</td>\n",
              "      <td>1</td>\n",
              "      <td>49</td>\n",
              "      <td>0</td>\n",
              "      <td>0</td>\n",
              "      <td>0</td>\n",
              "      <td>0</td>\n",
              "      <td>0</td>\n",
              "      <td>0</td>\n",
              "      <td>...</td>\n",
              "      <td>1</td>\n",
              "      <td>0</td>\n",
              "      <td>0</td>\n",
              "      <td>1</td>\n",
              "      <td>1</td>\n",
              "      <td>0</td>\n",
              "      <td>1</td>\n",
              "      <td>0</td>\n",
              "      <td>1</td>\n",
              "      <td>0</td>\n",
              "    </tr>\n",
              "    <tr>\n",
              "      <th>9999</th>\n",
              "      <td>3</td>\n",
              "      <td>1</td>\n",
              "      <td>2</td>\n",
              "      <td>52</td>\n",
              "      <td>3</td>\n",
              "      <td>0</td>\n",
              "      <td>0</td>\n",
              "      <td>0</td>\n",
              "      <td>0</td>\n",
              "      <td>0</td>\n",
              "      <td>...</td>\n",
              "      <td>0</td>\n",
              "      <td>0</td>\n",
              "      <td>0</td>\n",
              "      <td>1</td>\n",
              "      <td>1</td>\n",
              "      <td>1</td>\n",
              "      <td>1</td>\n",
              "      <td>1</td>\n",
              "      <td>1</td>\n",
              "      <td>0</td>\n",
              "    </tr>\n",
              "  </tbody>\n",
              "</table>\n",
              "<p>10000 rows × 49 columns</p>\n",
              "</div>\n",
              "    <div class=\"colab-df-buttons\">\n",
              "\n",
              "  <div class=\"colab-df-container\">\n",
              "    <button class=\"colab-df-convert\" onclick=\"convertToInteractive('df-32a79ccc-6ab5-4507-a712-63653de29851')\"\n",
              "            title=\"Convert this dataframe to an interactive table.\"\n",
              "            style=\"display:none;\">\n",
              "\n",
              "  <svg xmlns=\"http://www.w3.org/2000/svg\" height=\"24px\" viewBox=\"0 -960 960 960\">\n",
              "    <path d=\"M120-120v-720h720v720H120Zm60-500h600v-160H180v160Zm220 220h160v-160H400v160Zm0 220h160v-160H400v160ZM180-400h160v-160H180v160Zm440 0h160v-160H620v160ZM180-180h160v-160H180v160Zm440 0h160v-160H620v160Z\"/>\n",
              "  </svg>\n",
              "    </button>\n",
              "\n",
              "  <style>\n",
              "    .colab-df-container {\n",
              "      display:flex;\n",
              "      gap: 12px;\n",
              "    }\n",
              "\n",
              "    .colab-df-convert {\n",
              "      background-color: #E8F0FE;\n",
              "      border: none;\n",
              "      border-radius: 50%;\n",
              "      cursor: pointer;\n",
              "      display: none;\n",
              "      fill: #1967D2;\n",
              "      height: 32px;\n",
              "      padding: 0 0 0 0;\n",
              "      width: 32px;\n",
              "    }\n",
              "\n",
              "    .colab-df-convert:hover {\n",
              "      background-color: #E2EBFA;\n",
              "      box-shadow: 0px 1px 2px rgba(60, 64, 67, 0.3), 0px 1px 3px 1px rgba(60, 64, 67, 0.15);\n",
              "      fill: #174EA6;\n",
              "    }\n",
              "\n",
              "    .colab-df-buttons div {\n",
              "      margin-bottom: 4px;\n",
              "    }\n",
              "\n",
              "    [theme=dark] .colab-df-convert {\n",
              "      background-color: #3B4455;\n",
              "      fill: #D2E3FC;\n",
              "    }\n",
              "\n",
              "    [theme=dark] .colab-df-convert:hover {\n",
              "      background-color: #434B5C;\n",
              "      box-shadow: 0px 1px 3px 1px rgba(0, 0, 0, 0.15);\n",
              "      filter: drop-shadow(0px 1px 2px rgba(0, 0, 0, 0.3));\n",
              "      fill: #FFFFFF;\n",
              "    }\n",
              "  </style>\n",
              "\n",
              "    <script>\n",
              "      const buttonEl =\n",
              "        document.querySelector('#df-32a79ccc-6ab5-4507-a712-63653de29851 button.colab-df-convert');\n",
              "      buttonEl.style.display =\n",
              "        google.colab.kernel.accessAllowed ? 'block' : 'none';\n",
              "\n",
              "      async function convertToInteractive(key) {\n",
              "        const element = document.querySelector('#df-32a79ccc-6ab5-4507-a712-63653de29851');\n",
              "        const dataTable =\n",
              "          await google.colab.kernel.invokeFunction('convertToInteractive',\n",
              "                                                    [key], {});\n",
              "        if (!dataTable) return;\n",
              "\n",
              "        const docLinkHtml = 'Like what you see? Visit the ' +\n",
              "          '<a target=\"_blank\" href=https://colab.research.google.com/notebooks/data_table.ipynb>data table notebook</a>'\n",
              "          + ' to learn more about interactive tables.';\n",
              "        element.innerHTML = '';\n",
              "        dataTable['output_type'] = 'display_data';\n",
              "        await google.colab.output.renderOutput(dataTable, element);\n",
              "        const docLink = document.createElement('div');\n",
              "        docLink.innerHTML = docLinkHtml;\n",
              "        element.appendChild(docLink);\n",
              "      }\n",
              "    </script>\n",
              "  </div>\n",
              "\n",
              "\n",
              "    <div id=\"df-a6a43dbf-b6b8-4471-a9ee-2768fbd4d0cd\">\n",
              "      <button class=\"colab-df-quickchart\" onclick=\"quickchart('df-a6a43dbf-b6b8-4471-a9ee-2768fbd4d0cd')\"\n",
              "                title=\"Suggest charts\"\n",
              "                style=\"display:none;\">\n",
              "\n",
              "<svg xmlns=\"http://www.w3.org/2000/svg\" height=\"24px\"viewBox=\"0 0 24 24\"\n",
              "     width=\"24px\">\n",
              "    <g>\n",
              "        <path d=\"M19 3H5c-1.1 0-2 .9-2 2v14c0 1.1.9 2 2 2h14c1.1 0 2-.9 2-2V5c0-1.1-.9-2-2-2zM9 17H7v-7h2v7zm4 0h-2V7h2v10zm4 0h-2v-4h2v4z\"/>\n",
              "    </g>\n",
              "</svg>\n",
              "      </button>\n",
              "\n",
              "<style>\n",
              "  .colab-df-quickchart {\n",
              "      --bg-color: #E8F0FE;\n",
              "      --fill-color: #1967D2;\n",
              "      --hover-bg-color: #E2EBFA;\n",
              "      --hover-fill-color: #174EA6;\n",
              "      --disabled-fill-color: #AAA;\n",
              "      --disabled-bg-color: #DDD;\n",
              "  }\n",
              "\n",
              "  [theme=dark] .colab-df-quickchart {\n",
              "      --bg-color: #3B4455;\n",
              "      --fill-color: #D2E3FC;\n",
              "      --hover-bg-color: #434B5C;\n",
              "      --hover-fill-color: #FFFFFF;\n",
              "      --disabled-bg-color: #3B4455;\n",
              "      --disabled-fill-color: #666;\n",
              "  }\n",
              "\n",
              "  .colab-df-quickchart {\n",
              "    background-color: var(--bg-color);\n",
              "    border: none;\n",
              "    border-radius: 50%;\n",
              "    cursor: pointer;\n",
              "    display: none;\n",
              "    fill: var(--fill-color);\n",
              "    height: 32px;\n",
              "    padding: 0;\n",
              "    width: 32px;\n",
              "  }\n",
              "\n",
              "  .colab-df-quickchart:hover {\n",
              "    background-color: var(--hover-bg-color);\n",
              "    box-shadow: 0 1px 2px rgba(60, 64, 67, 0.3), 0 1px 3px 1px rgba(60, 64, 67, 0.15);\n",
              "    fill: var(--button-hover-fill-color);\n",
              "  }\n",
              "\n",
              "  .colab-df-quickchart-complete:disabled,\n",
              "  .colab-df-quickchart-complete:disabled:hover {\n",
              "    background-color: var(--disabled-bg-color);\n",
              "    fill: var(--disabled-fill-color);\n",
              "    box-shadow: none;\n",
              "  }\n",
              "\n",
              "  .colab-df-spinner {\n",
              "    border: 2px solid var(--fill-color);\n",
              "    border-color: transparent;\n",
              "    border-bottom-color: var(--fill-color);\n",
              "    animation:\n",
              "      spin 1s steps(1) infinite;\n",
              "  }\n",
              "\n",
              "  @keyframes spin {\n",
              "    0% {\n",
              "      border-color: transparent;\n",
              "      border-bottom-color: var(--fill-color);\n",
              "      border-left-color: var(--fill-color);\n",
              "    }\n",
              "    20% {\n",
              "      border-color: transparent;\n",
              "      border-left-color: var(--fill-color);\n",
              "      border-top-color: var(--fill-color);\n",
              "    }\n",
              "    30% {\n",
              "      border-color: transparent;\n",
              "      border-left-color: var(--fill-color);\n",
              "      border-top-color: var(--fill-color);\n",
              "      border-right-color: var(--fill-color);\n",
              "    }\n",
              "    40% {\n",
              "      border-color: transparent;\n",
              "      border-right-color: var(--fill-color);\n",
              "      border-top-color: var(--fill-color);\n",
              "    }\n",
              "    60% {\n",
              "      border-color: transparent;\n",
              "      border-right-color: var(--fill-color);\n",
              "    }\n",
              "    80% {\n",
              "      border-color: transparent;\n",
              "      border-right-color: var(--fill-color);\n",
              "      border-bottom-color: var(--fill-color);\n",
              "    }\n",
              "    90% {\n",
              "      border-color: transparent;\n",
              "      border-bottom-color: var(--fill-color);\n",
              "    }\n",
              "  }\n",
              "</style>\n",
              "\n",
              "      <script>\n",
              "        async function quickchart(key) {\n",
              "          const quickchartButtonEl =\n",
              "            document.querySelector('#' + key + ' button');\n",
              "          quickchartButtonEl.disabled = true;  // To prevent multiple clicks.\n",
              "          quickchartButtonEl.classList.add('colab-df-spinner');\n",
              "          try {\n",
              "            const charts = await google.colab.kernel.invokeFunction(\n",
              "                'suggestCharts', [key], {});\n",
              "          } catch (error) {\n",
              "            console.error('Error during call to suggestCharts:', error);\n",
              "          }\n",
              "          quickchartButtonEl.classList.remove('colab-df-spinner');\n",
              "          quickchartButtonEl.classList.add('colab-df-quickchart-complete');\n",
              "        }\n",
              "        (() => {\n",
              "          let quickchartButtonEl =\n",
              "            document.querySelector('#df-a6a43dbf-b6b8-4471-a9ee-2768fbd4d0cd button');\n",
              "          quickchartButtonEl.style.display =\n",
              "            google.colab.kernel.accessAllowed ? 'block' : 'none';\n",
              "        })();\n",
              "      </script>\n",
              "    </div>\n",
              "\n",
              "  <div id=\"id_8357134b-dcb1-4a8e-a987-6ce8dad888f7\">\n",
              "    <style>\n",
              "      .colab-df-generate {\n",
              "        background-color: #E8F0FE;\n",
              "        border: none;\n",
              "        border-radius: 50%;\n",
              "        cursor: pointer;\n",
              "        display: none;\n",
              "        fill: #1967D2;\n",
              "        height: 32px;\n",
              "        padding: 0 0 0 0;\n",
              "        width: 32px;\n",
              "      }\n",
              "\n",
              "      .colab-df-generate:hover {\n",
              "        background-color: #E2EBFA;\n",
              "        box-shadow: 0px 1px 2px rgba(60, 64, 67, 0.3), 0px 1px 3px 1px rgba(60, 64, 67, 0.15);\n",
              "        fill: #174EA6;\n",
              "      }\n",
              "\n",
              "      [theme=dark] .colab-df-generate {\n",
              "        background-color: #3B4455;\n",
              "        fill: #D2E3FC;\n",
              "      }\n",
              "\n",
              "      [theme=dark] .colab-df-generate:hover {\n",
              "        background-color: #434B5C;\n",
              "        box-shadow: 0px 1px 3px 1px rgba(0, 0, 0, 0.15);\n",
              "        filter: drop-shadow(0px 1px 2px rgba(0, 0, 0, 0.3));\n",
              "        fill: #FFFFFF;\n",
              "      }\n",
              "    </style>\n",
              "    <button class=\"colab-df-generate\" onclick=\"generateWithVariable('data')\"\n",
              "            title=\"Generate code using this dataframe.\"\n",
              "            style=\"display:none;\">\n",
              "\n",
              "  <svg xmlns=\"http://www.w3.org/2000/svg\" height=\"24px\"viewBox=\"0 0 24 24\"\n",
              "       width=\"24px\">\n",
              "    <path d=\"M7,19H8.4L18.45,9,17,7.55,7,17.6ZM5,21V16.75L18.45,3.32a2,2,0,0,1,2.83,0l1.4,1.43a1.91,1.91,0,0,1,.58,1.4,1.91,1.91,0,0,1-.58,1.4L9.25,21ZM18.45,9,17,7.55Zm-12,3A5.31,5.31,0,0,0,4.9,8.1,5.31,5.31,0,0,0,1,6.5,5.31,5.31,0,0,0,4.9,4.9,5.31,5.31,0,0,0,6.5,1,5.31,5.31,0,0,0,8.1,4.9,5.31,5.31,0,0,0,12,6.5,5.46,5.46,0,0,0,6.5,12Z\"/>\n",
              "  </svg>\n",
              "    </button>\n",
              "    <script>\n",
              "      (() => {\n",
              "      const buttonEl =\n",
              "        document.querySelector('#id_8357134b-dcb1-4a8e-a987-6ce8dad888f7 button.colab-df-generate');\n",
              "      buttonEl.style.display =\n",
              "        google.colab.kernel.accessAllowed ? 'block' : 'none';\n",
              "\n",
              "      buttonEl.onclick = () => {\n",
              "        google.colab.notebook.generateWithVariable('data');\n",
              "      }\n",
              "      })();\n",
              "    </script>\n",
              "  </div>\n",
              "\n",
              "    </div>\n",
              "  </div>\n"
            ],
            "application/vnd.google.colaboratory.intrinsic+json": {
              "type": "dataframe",
              "variable_name": "data"
            }
          },
          "metadata": {},
          "execution_count": 2
        }
      ],
      "source": [
        "url = 'https://raw.githubusercontent.com/NHCh1/DLI/refs/heads/main/Dli-mendeley_18.csv'\n",
        "data = pd.read_csv(url, header=None)\n",
        "data"
      ]
    },
    {
      "cell_type": "markdown",
      "source": [
        "# Pre-processing"
      ],
      "metadata": {
        "id": "dVPsbE5uRCWw"
      }
    },
    {
      "cell_type": "code",
      "source": [
        "#Array of features\n",
        "x = data.drop([48], axis=1)\n",
        "print(x)\n",
        "\n",
        "#Array of target\n",
        "y = data[48]\n",
        "print(y)"
      ],
      "metadata": {
        "colab": {
          "base_uri": "https://localhost:8080/"
        },
        "id": "eYLCJOJBIcb-",
        "outputId": "ad2c85a9-0cec-4c8a-fc09-1777e3d28ac6"
      },
      "execution_count": 3,
      "outputs": [
        {
          "output_type": "stream",
          "name": "stdout",
          "text": [
            "      0   1   2    3   4   5   6   7   8   9   ...  38  39  40  41  42  43  \\\n",
            "0      3   1   5   72   0   0   0   0   0   0  ...   0   0   0   1   1   0   \n",
            "1      3   1   3  144   0   0   0   0   2   0  ...   0   0   0   0   1  -1   \n",
            "2      3   1   2   58   0   0   0   0   0   0  ...   0   0   0   0   1   0   \n",
            "3      3   1   6   79   1   0   0   0   0   0  ...   1   0   0   0   1  -1   \n",
            "4      3   0   4   46   0   0   0   0   0   0  ...   0   1   0   0   1   1   \n",
            "...   ..  ..  ..  ...  ..  ..  ..  ..  ..  ..  ...  ..  ..  ..  ..  ..  ..   \n",
            "9995   3   1   1   50   0   0   0   0   0   0  ...   0   0   0   0   1   1   \n",
            "9996   2   1   4   59   1   0   0   0   0   0  ...   0   1   0   0   1   0   \n",
            "9997   2   1   4   57   0   0   0   0   0   0  ...   0   0   0   0   1   0   \n",
            "9998   3   1   1   49   0   0   0   0   0   0  ...   0   1   0   0   1   1   \n",
            "9999   3   1   2   52   3   0   0   0   0   0  ...   0   0   0   0   1   1   \n",
            "\n",
            "      44  45  46  47  \n",
            "0      1   1  -1   1  \n",
            "1      1   1   1   1  \n",
            "2     -1   1  -1   0  \n",
            "3      1   1   1  -1  \n",
            "4     -1   0  -1  -1  \n",
            "...   ..  ..  ..  ..  \n",
            "9995  -1   1   0   1  \n",
            "9996   0   1   0   1  \n",
            "9997   1   1   0   1  \n",
            "9998   0   1   0   1  \n",
            "9999   1   1   1   1  \n",
            "\n",
            "[10000 rows x 48 columns]\n",
            "0       1\n",
            "1       1\n",
            "2       1\n",
            "3       1\n",
            "4       1\n",
            "       ..\n",
            "9995    0\n",
            "9996    0\n",
            "9997    0\n",
            "9998    0\n",
            "9999    0\n",
            "Name: 48, Length: 10000, dtype: int64\n"
          ]
        }
      ]
    },
    {
      "cell_type": "code",
      "source": [
        "np.random.seed(42)\n",
        "x_train, x_test, y_train, y_test = train_test_split(x, y, test_size = 0.3, random_state = 0)"
      ],
      "metadata": {
        "id": "GyjpCaeX184O"
      },
      "execution_count": 4,
      "outputs": []
    },
    {
      "cell_type": "code",
      "source": [
        "sc = StandardScaler()\n",
        "x_train = sc.fit_transform(x_train)\n",
        "x_test = sc.transform(x_test)\n",
        "\n",
        "print(x_train)\n",
        "print('------------------------------------------------------------------')\n",
        "print(x_test)"
      ],
      "metadata": {
        "id": "mT2J8ve_VULW",
        "outputId": "d74b0ecb-c076-41ce-e23b-95cd4401eaa0",
        "colab": {
          "base_uri": "https://localhost:8080/"
        }
      },
      "execution_count": 5,
      "outputs": [
        {
          "output_type": "stream",
          "name": "stdout",
          "text": [
            "[[ 0.4264587  -0.76932106 -0.15488093 ...  0.39933321 -0.23638944\n",
            "   0.76186885]\n",
            " [-1.06951269 -0.76932106 -0.69750681 ...  0.39933321  1.0884513\n",
            "   0.76186885]\n",
            " [ 1.92243009  0.5460789   0.93037084 ...  0.39933321 -0.23638944\n",
            "   0.76186885]\n",
            " ...\n",
            " [-0.32152699  0.5460789  -0.15488093 ...  0.39933321  1.0884513\n",
            "  -1.47048024]\n",
            " [-0.32152699  0.5460789   0.93037084 ...  0.39933321 -0.23638944\n",
            "   0.76186885]\n",
            " [-0.32152699 -0.76932106  0.38774495 ...  0.39933321  1.0884513\n",
            "   0.76186885]]\n",
            "------------------------------------------------------------------\n",
            "[[-0.32152699  0.5460789  -0.15488093 ...  0.39933321  1.0884513\n",
            "   0.76186885]\n",
            " [ 9.40228702  0.5460789   0.38774495 ...  0.39933321 -0.23638944\n",
            "   0.76186885]\n",
            " [-0.32152699 -0.76932106  2.0156226  ...  0.39933321 -0.23638944\n",
            "   0.76186885]\n",
            " ...\n",
            " [ 0.4264587   0.5460789  -1.2401327  ... -1.51922032 -1.56123018\n",
            "  -0.35430569]\n",
            " [-1.06951269 -0.76932106 -1.78275858 ...  0.39933321 -0.23638944\n",
            "  -0.35430569]\n",
            " [-0.32152699  0.5460789  -0.15488093 ...  0.39933321 -0.23638944\n",
            "   0.76186885]]\n"
          ]
        }
      ]
    },
    {
      "cell_type": "markdown",
      "source": [
        "# Model Training"
      ],
      "metadata": {
        "id": "9lM3treQHIM5"
      }
    },
    {
      "cell_type": "markdown",
      "source": [
        "## XGBoost"
      ],
      "metadata": {
        "id": "h93xN1biRofE"
      }
    },
    {
      "cell_type": "markdown",
      "source": [
        "Defining XGBoost Model"
      ],
      "metadata": {
        "id": "wvtwVhnPX5Nr"
      }
    },
    {
      "cell_type": "code",
      "source": [
        "xgb_basic = XGBClassifier(eval_metric='error',\n",
        "                          use_label_encoder=False,\n",
        "                          n_jobs=-1,\n",
        "                          random_state=42,\n",
        "                          verbosity=0\n",
        "                          )"
      ],
      "metadata": {
        "id": "3T9-JD3aXa3f"
      },
      "execution_count": 6,
      "outputs": []
    },
    {
      "cell_type": "markdown",
      "source": [
        "Performing feature selection in XGBoost"
      ],
      "metadata": {
        "id": "vGrtYi9nYIEb"
      }
    },
    {
      "cell_type": "code",
      "source": [
        "selector = RFECV(xgb_basic, cv=5, n_jobs=-1)\n",
        "selector.fit(x, y)\n",
        "\n",
        "selected_cols = np.where(selector.ranking_ == 1)[0]\n",
        "print(f\"Selected feature indices: {selected_cols}\")\n",
        "\n",
        "xgb_pipe = make_pipeline(ColumnSelector(cols=selected_cols),\n",
        "                         XGBClassifier(eval_metric='error',\n",
        "                                       use_label_encoder=False,\n",
        "                                       n_jobs=-1,\n",
        "                                       random_state=42\n",
        "                                       )\n",
        "                         )\n",
        "\n",
        "xgb_pipe.fit(x_train, y_train)\n",
        "xgb_pipe_train = xgb_pipe.predict_proba(x_train)[:, 1].reshape(-1, 1)\n",
        "xgb_pipe_test = xgb_pipe.predict_proba(x_test)[:, 1].reshape(-1, 1)\n",
        "xgb_pipe_accuracy = xgb_pipe.score(x_test, y_test)\n",
        "print(f\"Accuracy: {xgb_pipe_accuracy:.8f}\")"
      ],
      "metadata": {
        "id": "pr2l7SScYFVE",
        "outputId": "171639c4-e13b-4a38-ed3f-6dab1d651410",
        "colab": {
          "base_uri": "https://localhost:8080/"
        }
      },
      "execution_count": 7,
      "outputs": [
        {
          "output_type": "stream",
          "name": "stdout",
          "text": [
            "Selected feature indices: [ 0  1  2  3  4  5  8  9 10 11 13 14 15 18 20 21 22 24 25 26 27 28 29 30\n",
            " 31 32 33 34 38 39 40 41 45 46 47]\n",
            "Accuracy: 0.98433333\n"
          ]
        }
      ]
    },
    {
      "cell_type": "markdown",
      "source": [
        "Finding best hyperparameters and best threshold in XGBoost"
      ],
      "metadata": {
        "id": "iMDn73WMeV3Q"
      }
    },
    {
      "cell_type": "code",
      "source": [
        "param_dist = {'xgbclassifier__max_depth': [4, 6, 8, 10],\n",
        "              'xgbclassifier__learning_rate': [0.01, 0.05, 0.1],\n",
        "              'xgbclassifier__n_estimators': [1000, 2000, 3000],\n",
        "              'xgbclassifier__subsample': [0.7, 0.8, 0.9],\n",
        "              'xgbclassifier__colsample_bytree': [0.7, 0.8, 0.9],\n",
        "              'xgbclassifier__scale_pos_weight': [(len(y_train) - sum(y_train)) / sum(y_train)]\n",
        "              }\n",
        "\n",
        "xgb_search = RandomizedSearchCV(xgb_pipe,\n",
        "                                param_distributions=param_dist,\n",
        "                                n_iter=20,\n",
        "                                cv=5,\n",
        "                                n_jobs=-1,\n",
        "                                scoring='accuracy',\n",
        "                                verbose=1\n",
        "                                )\n",
        "\n",
        "xgb_search.fit(x_train, y_train)\n",
        "print(\"Best Hyperparameters:\", xgb_search.best_params_)\n",
        "\n",
        "xgb_model = xgb_search.best_estimator_\n",
        "xgb_probs = xgb_model.predict_proba(x_test)[:, 1]\n",
        "xgb_model_train = xgb_model.predict_proba(x_train)[:, 1].reshape(-1, 1)\n",
        "xgb_model_test = xgb_model.predict_proba(x_test)[:, 1].reshape(-1, 1)\n",
        "\n",
        "thresholds = [i / 100 for i in range(1, 100)]\n",
        "best_acc, best_thresh = 0, 0\n",
        "\n",
        "for t in thresholds:\n",
        "    preds = (xgb_probs >= t).astype(int)\n",
        "    acc = accuracy_score(y_test, preds)\n",
        "    if acc > best_acc:\n",
        "        best_acc, best_thresh = acc, t\n",
        "\n",
        "print(f\"Best Threshold: {best_thresh:.4f}, Best Accuracy: {best_acc:.8f}\")\n",
        "xgb_final_pred = (xgb_probs >= best_thresh).astype(int)"
      ],
      "metadata": {
        "id": "WHrPCLW8ec_g",
        "outputId": "0dfbe541-c57d-402b-e4f5-5f778c0ae02f",
        "colab": {
          "base_uri": "https://localhost:8080/"
        }
      },
      "execution_count": 8,
      "outputs": [
        {
          "output_type": "stream",
          "name": "stdout",
          "text": [
            "Fitting 5 folds for each of 20 candidates, totalling 100 fits\n",
            "Best Hyperparameters: {'xgbclassifier__subsample': 0.9, 'xgbclassifier__scale_pos_weight': 1.006305531670966, 'xgbclassifier__n_estimators': 2000, 'xgbclassifier__max_depth': 6, 'xgbclassifier__learning_rate': 0.05, 'xgbclassifier__colsample_bytree': 0.9}\n",
            "Best Threshold: 0.5000, Best Accuracy: 0.98533333\n"
          ]
        }
      ]
    },
    {
      "cell_type": "markdown",
      "source": [
        "XGBoost Model Training Result"
      ],
      "metadata": {
        "id": "9wGQK-kYe31f"
      }
    },
    {
      "cell_type": "code",
      "source": [
        "xgb_acc     = accuracy_score(y_test, xgb_final_pred)\n",
        "xgb_prec    = precision_score(y_test, xgb_final_pred)\n",
        "xgb_rec     = recall_score(y_test, xgb_final_pred)\n",
        "xgb_f1      = f1_score(y_test, xgb_final_pred)\n",
        "xgb_roc_auc = roc_auc_score(y_test, xgb_probs)\n",
        "\n",
        "xgb_pipe_prob = xgb_pipe.predict_proba(x_test)[:, 1]\n",
        "xgb_pipe_pred = (xgb_pipe_test >= 0.5).astype(int)\n",
        "\n",
        "print(\"Final Xgb Model Metrics\")\n",
        "print(f\"Accuracy  : {xgb_acc:.4f}\")\n",
        "print(f\"Precision : {xgb_prec:.4f}\")\n",
        "print(f\"Recall    : {xgb_rec:.4f}\")\n",
        "print(f\"F1-score  : {xgb_f1:.4f}\")\n",
        "print(f\"ROC-AUC   : {xgb_roc_auc:.4f}\")\n",
        "\n",
        "start_time = time.time()\n",
        "_ = xgb_model.predict_proba(x_test)\n",
        "end_time = time.time()\n",
        "xgb_inference_time = end_time - start_time\n",
        "xgb_avg_time = xgb_inference_time / len(x_test)\n",
        "print(f\"Total Inference time: {xgb_inference_time:.8f}s\")\n",
        "print(f\"Average per sample     : {xgb_avg_time:.8f}s\")"
      ],
      "metadata": {
        "id": "ERswy-yce9LI",
        "outputId": "2eaf8d44-1bff-41c8-8061-8668b29865d4",
        "colab": {
          "base_uri": "https://localhost:8080/"
        }
      },
      "execution_count": 9,
      "outputs": [
        {
          "output_type": "stream",
          "name": "stdout",
          "text": [
            "Final Xgb Model Metrics\n",
            "Accuracy  : 0.9853\n",
            "Precision : 0.9822\n",
            "Recall    : 0.9887\n",
            "F1-score  : 0.9855\n",
            "ROC-AUC   : 0.9982\n",
            "Total Inference time: 0.12942076s\n",
            "Average per sample     : 0.00004314s\n"
          ]
        }
      ]
    },
    {
      "cell_type": "markdown",
      "source": [
        "## CNN Complex"
      ],
      "metadata": {
        "id": "UznodjtCVvBE"
      }
    },
    {
      "cell_type": "markdown",
      "source": [
        "Reshape data from 2D to 3D"
      ],
      "metadata": {
        "id": "wFBiftc43i77"
      }
    },
    {
      "cell_type": "code",
      "source": [
        "x_train_cnn = x_train.reshape((x_train.shape[0], x_train.shape[1], 1))\n",
        "x_test_cnn = x_test.reshape((x_test.shape[0], x_test.shape[1], 1))"
      ],
      "metadata": {
        "id": "BpacT8qCcYxU"
      },
      "execution_count": 10,
      "outputs": []
    },
    {
      "cell_type": "markdown",
      "source": [
        "Defining CNN Complex Model"
      ],
      "metadata": {
        "id": "DUOyC38W3woq"
      }
    },
    {
      "cell_type": "code",
      "source": [
        "def cnn_complex_tabular():\n",
        "    model = Sequential()\n",
        "    model.add(Input(shape=(48, 1)))\n",
        "    model.add(Conv1D(128, 3, activation='tanh', padding='same'))\n",
        "    model.add(MaxPooling1D(3, padding='same'))\n",
        "    model.add(Dropout(0.2))\n",
        "\n",
        "    model.add(Conv1D(128, 7, activation='tanh', padding='same'))\n",
        "    model.add(Dropout(0.2))\n",
        "\n",
        "    model.add(Conv1D(128, 5, activation='tanh', padding='same'))\n",
        "    model.add(Dropout(0.2))\n",
        "\n",
        "    model.add(Conv1D(128, 3, activation='tanh', padding='same'))\n",
        "    model.add(MaxPooling1D(3, padding='same'))\n",
        "    model.add(Dropout(0.2))\n",
        "\n",
        "    model.add(Conv1D(128, 5, activation='tanh', padding='same'))\n",
        "    model.add(Dropout(0.2))\n",
        "\n",
        "    model.add(Conv1D(128, 3, activation='tanh', padding='same'))\n",
        "    model.add(MaxPooling1D(3, padding='same'))\n",
        "    model.add(Dropout(0.2))\n",
        "\n",
        "    model.add(Conv1D(128, 3, activation='tanh', padding='same'))\n",
        "    model.add(Dropout(0.2))\n",
        "\n",
        "    model.add(Flatten())\n",
        "    model.add(Dense(1, activation='sigmoid'))\n",
        "\n",
        "    model.compile(loss='binary_crossentropy', optimizer=Adam(), metrics=['accuracy'])\n",
        "    return model\n",
        "\n",
        "cnn_model = cnn_complex_tabular()"
      ],
      "metadata": {
        "id": "UdDJ8zp13zcZ"
      },
      "execution_count": 11,
      "outputs": []
    },
    {
      "cell_type": "markdown",
      "source": [
        "Training CNN Complex Model"
      ],
      "metadata": {
        "id": "p7V3BgF135Qa"
      }
    },
    {
      "cell_type": "code",
      "source": [
        "cnn_model.fit(x_train_cnn, y_train, epochs=25, batch_size=256, verbose=0)\n",
        "cnn_model_train = cnn_model.predict(x_train_cnn)\n",
        "cnn_model_test = cnn_model.predict(x_test_cnn)"
      ],
      "metadata": {
        "id": "d3T_Hdl234MK",
        "outputId": "e2401ce2-bdea-434f-e5b3-a5b38173b0f1",
        "colab": {
          "base_uri": "https://localhost:8080/"
        }
      },
      "execution_count": 12,
      "outputs": [
        {
          "output_type": "stream",
          "name": "stdout",
          "text": [
            "\u001b[1m219/219\u001b[0m \u001b[32m━━━━━━━━━━━━━━━━━━━━\u001b[0m\u001b[37m\u001b[0m \u001b[1m4s\u001b[0m 16ms/step\n",
            "\u001b[1m94/94\u001b[0m \u001b[32m━━━━━━━━━━━━━━━━━━━━\u001b[0m\u001b[37m\u001b[0m \u001b[1m1s\u001b[0m 8ms/step\n"
          ]
        }
      ]
    },
    {
      "cell_type": "markdown",
      "source": [
        "CNN Complex Training Result"
      ],
      "metadata": {
        "id": "ze_mrWar4MGb"
      }
    },
    {
      "cell_type": "code",
      "source": [
        "cnn_probs = cnn_model.predict(x_test_cnn, verbose=0).ravel()\n",
        "cnn_y_pred = (cnn_probs >= 0.5).astype(int)\n",
        "\n",
        "cnn_accuracy = accuracy_score(y_test, cnn_y_pred)\n",
        "cnn_precision = precision_score(y_test, cnn_y_pred)\n",
        "cnn_recall = recall_score(y_test, cnn_y_pred)\n",
        "cnn_f1 = f1_score(y_test, cnn_y_pred)\n",
        "cnn_roc_auc = roc_auc_score(y_test, cnn_probs)\n",
        "\n",
        "print(f\"CNN Complex Model Metrics:\")\n",
        "print(f\"Accuracy:  {cnn_accuracy:.4f}\")\n",
        "print(f\"Precision: {cnn_precision:.4f}\")\n",
        "print(f\"Recall:    {cnn_recall:.4f}\")\n",
        "print(f\"F1-score:  {cnn_f1:.4f}\")\n",
        "print(f\"ROC-AUC:   {cnn_roc_auc:.4f}\")"
      ],
      "metadata": {
        "id": "YQ65_dAv4O9R",
        "outputId": "ba276d75-1efe-4525-89d8-4661870c7843",
        "colab": {
          "base_uri": "https://localhost:8080/"
        }
      },
      "execution_count": 13,
      "outputs": [
        {
          "output_type": "stream",
          "name": "stdout",
          "text": [
            "CNN Complex Model Metrics:\n",
            "Accuracy:  0.9690\n",
            "Precision: 0.9634\n",
            "Recall:    0.9755\n",
            "F1-score:  0.9694\n",
            "ROC-AUC:   0.9947\n"
          ]
        }
      ]
    },
    {
      "cell_type": "markdown",
      "source": [
        "## Gradient Boosting"
      ],
      "metadata": {
        "id": "yThllVsLWQZP"
      }
    },
    {
      "cell_type": "markdown",
      "source": [
        "Defining Gradient Boosting Model"
      ],
      "metadata": {
        "id": "WnAKQt5tvqxG"
      }
    },
    {
      "cell_type": "code",
      "source": [
        "gbc_model = GradientBoostingClassifier(max_depth=4, learning_rate=0.7)"
      ],
      "metadata": {
        "id": "wyyKc3WKvuXO"
      },
      "execution_count": 14,
      "outputs": []
    },
    {
      "cell_type": "markdown",
      "source": [
        "Training Gradient Boosting Model"
      ],
      "metadata": {
        "id": "y2KP3UyHv6aN"
      }
    },
    {
      "cell_type": "code",
      "source": [
        "gbc_model.fit(x_train, y_train)\n",
        "gbc_model_full = copy.deepcopy(gbc_model)\n",
        "\n",
        "gbc_model_train = gbc_model.predict_proba(x_train)[:, 1].reshape(-1, 1)\n",
        "gbc_model_test = gbc_model.predict_proba(x_test)[:, 1].reshape(-1, 1)\n",
        "\n",
        "gbc_model_accuracy = gbc_model.score(x_test, y_test)\n",
        "print(f\"Gbc Plain Accuracy: {gbc_model_accuracy:.8f}\")"
      ],
      "metadata": {
        "id": "PLY23O0Av_eI",
        "outputId": "cf556c2e-e88e-40e6-ffbe-4fabcdd80b61",
        "colab": {
          "base_uri": "https://localhost:8080/"
        }
      },
      "execution_count": 15,
      "outputs": [
        {
          "output_type": "stream",
          "name": "stdout",
          "text": [
            "Gbc Plain Accuracy: 0.98300000\n"
          ]
        }
      ]
    },
    {
      "cell_type": "markdown",
      "source": [
        "Performing feature selection in Gradient Boosting"
      ],
      "metadata": {
        "id": "AT_uUT1EwFwm"
      }
    },
    {
      "cell_type": "code",
      "source": [
        "selector = RFECV(gbc_model, cv=5, n_jobs=-1)\n",
        "selector = selector.fit(x, y)\n",
        "gbc_col = np.where(selector.ranking_==1)[0]\n",
        "print(gbc_col)\n",
        "\n",
        "gbc_pipe = make_pipeline(ColumnSelector(cols=gbc_col), gbc_model)\n",
        "\n",
        "gbc_pipe.fit(x_train, y_train)\n",
        "gbc_pipe_train = gbc_pipe.predict_proba(x_train)[:, 1].reshape(-1, 1)\n",
        "gbc_pipe_test = gbc_pipe.predict_proba(x_test)[:, 1].reshape(-1, 1)\n",
        "gbc_pipe_accuracy = gbc_pipe.score(x_test, y_test)\n",
        "print(f\"Gbc Pipe Accuracy: {gbc_pipe_accuracy:.8f}\")"
      ],
      "metadata": {
        "id": "18gXnMhSu9pG",
        "outputId": "b635b1c6-621b-40ad-c685-d3d3c426bc87",
        "colab": {
          "base_uri": "https://localhost:8080/"
        }
      },
      "execution_count": 16,
      "outputs": [
        {
          "output_type": "stream",
          "name": "stdout",
          "text": [
            "[ 0  1  2  3  4  5  6  7  8  9 10 11 13 14 16 17 20 21 22 23 24 25 26 27\n",
            " 28 29 30 31 33 34 37 38 39 40 41 45 46 47]\n",
            "Gbc Pipe Accuracy: 0.98266667\n"
          ]
        }
      ]
    },
    {
      "cell_type": "markdown",
      "source": [
        "Gradient Boosting Training Result"
      ],
      "metadata": {
        "id": "g-JbLeF6xJyP"
      }
    },
    {
      "cell_type": "code",
      "source": [
        "gbc_pipe_prob = gbc_pipe.predict_proba(x_test)[:, 1]\n",
        "gbc_pipe_pred = (gbc_pipe_test >= 0.5).astype(int)\n",
        "\n",
        "gbc_accuracy = accuracy_score(y_test, gbc_pipe_pred)\n",
        "gbc_precision = precision_score(y_test, gbc_pipe_pred)\n",
        "gbc_recall = recall_score(y_test, gbc_pipe_pred)\n",
        "gbc_f1 = f1_score(y_test, gbc_pipe_pred)\n",
        "gbc_roc_auc = roc_auc_score(y_test, gbc_pipe_prob)\n",
        "\n",
        "print(f\"\\nGbc Final Model Metrics:\")\n",
        "print(f\"Accuracy:  {gbc_accuracy:.4f}\")\n",
        "print(f\"Precision: {gbc_precision:.4f}\")\n",
        "print(f\"Recall:    {gbc_recall:.4f}\")\n",
        "print(f\"F1-score:  {gbc_f1:.4f}\")\n",
        "print(f\"ROC-AUC:   {gbc_roc_auc:.4f}\")"
      ],
      "metadata": {
        "id": "WU5mbzi2y8Hl",
        "outputId": "ef71d84f-80d6-437f-b12d-373cd4c1fd6c",
        "colab": {
          "base_uri": "https://localhost:8080/"
        }
      },
      "execution_count": 17,
      "outputs": [
        {
          "output_type": "stream",
          "name": "stdout",
          "text": [
            "\n",
            "Gbc Final Model Metrics:\n",
            "Accuracy:  0.9827\n",
            "Precision: 0.9815\n",
            "Recall:    0.9841\n",
            "F1-score:  0.9828\n",
            "ROC-AUC:   0.9971\n"
          ]
        }
      ]
    },
    {
      "cell_type": "markdown",
      "source": [
        "## Decision Tree"
      ],
      "metadata": {
        "id": "E_Uc9mdnWUCP"
      }
    },
    {
      "cell_type": "markdown",
      "source": [
        "Defining Decision Tree Model"
      ],
      "metadata": {
        "id": "9BnkhJ4yl0r0"
      }
    },
    {
      "cell_type": "code",
      "source": [
        "dtc_model = DecisionTreeClassifier(max_depth=12)"
      ],
      "metadata": {
        "id": "SFbmlcqIl3H9"
      },
      "execution_count": 18,
      "outputs": []
    },
    {
      "cell_type": "markdown",
      "source": [
        "Training Decision Tree Model"
      ],
      "metadata": {
        "id": "vXbQSMGNmCls"
      }
    },
    {
      "cell_type": "code",
      "source": [
        "dtc_model.fit(x_train, y_train)\n",
        "dtc_model_full = copy.deepcopy(dtc_model)\n",
        "\n",
        "dtc_model_train = dtc_model.predict_proba(x_train)[:, 1].reshape(-1, 1)\n",
        "dtc_model_test = dtc_model.predict_proba(x_test)[:, 1].reshape(-1, 1)\n",
        "\n",
        "dtc_model_accuracy = dtc_model.score(x_test, y_test)\n",
        "print(f\"Dtc Plain Accuracy: {dtc_model_accuracy:.8f}\")"
      ],
      "metadata": {
        "id": "KhDVgCb1kabn",
        "outputId": "173e4781-8c92-4e91-a3fe-72b7e376035c",
        "colab": {
          "base_uri": "https://localhost:8080/"
        }
      },
      "execution_count": 19,
      "outputs": [
        {
          "output_type": "stream",
          "name": "stdout",
          "text": [
            "Dtc Plain Accuracy: 0.96733333\n"
          ]
        }
      ]
    },
    {
      "cell_type": "markdown",
      "source": [
        "Performing Feature Selection in Decision Tree Classifier"
      ],
      "metadata": {
        "id": "MQWTBdtpmYzd"
      }
    },
    {
      "cell_type": "code",
      "source": [
        "selector = RFECV(dtc_model, cv=5, n_jobs=-1)\n",
        "selector = selector.fit(x, y)\n",
        "dtc_col = np.where(selector.ranking_==1)[0]\n",
        "print(dtc_col)\n",
        "\n",
        "dtc_pipe = make_pipeline(ColumnSelector(cols=dtc_col), dtc_model)\n",
        "\n",
        "dtc_pipe.fit(x_train, y_train)\n",
        "dtc_pipe_train = dtc_pipe.predict_proba(x_train)[:, 1].reshape(-1, 1)\n",
        "dtc_pipe_test = dtc_pipe.predict_proba(x_test)[:, 1].reshape(-1, 1)\n",
        "dtc_pipe_accuracy = dtc_pipe.score(x_test, y_test)\n",
        "print(f\"Dtc Pipe Accuracy: {dtc_pipe_accuracy:.8f}\")"
      ],
      "metadata": {
        "id": "IHkZXvMtmdJN",
        "outputId": "a7fbcdb4-9c59-46f0-d641-c0ad95c41ecc",
        "colab": {
          "base_uri": "https://localhost:8080/"
        }
      },
      "execution_count": 20,
      "outputs": [
        {
          "output_type": "stream",
          "name": "stdout",
          "text": [
            "[ 0  2  3  4  8  9 11 13 14 20 21 22 24 26 27 29 33 34 38 39 45 47]\n",
            "Dtc Pipe Accuracy: 0.96633333\n"
          ]
        }
      ]
    },
    {
      "cell_type": "markdown",
      "source": [
        "Decision Tree Training Result"
      ],
      "metadata": {
        "id": "ivrHL1xHrQBJ"
      }
    },
    {
      "cell_type": "code",
      "source": [
        "dtc_pipe_prob = dtc_pipe.predict_proba(x_test)[:, 1]\n",
        "dtc_pipe_pred = (dtc_pipe_test >= 0.5).astype(int)\n",
        "\n",
        "dtc_accuracy = accuracy_score(y_test, dtc_pipe_pred)\n",
        "dtc_precision = precision_score(y_test, dtc_pipe_pred)\n",
        "dtc_recall = recall_score(y_test, dtc_pipe_pred)\n",
        "dtc_f1 = f1_score(y_test, dtc_pipe_pred)\n",
        "dtc_roc_auc = roc_auc_score(y_test, dtc_pipe_prob)\n",
        "\n",
        "print(f\"Dtc Final Model Metrics:\")\n",
        "print(f\"Accuracy:  {dtc_accuracy:.4f}\")\n",
        "print(f\"Precision: {dtc_precision:.4f}\")\n",
        "print(f\"Recall:    {dtc_recall:.4f}\")\n",
        "print(f\"F1-score:  {dtc_f1:.4f}\")\n",
        "print(f\"ROC-AUC:   {dtc_roc_auc:.4f}\")"
      ],
      "metadata": {
        "id": "4iIHqMQgrUUK",
        "outputId": "3dd04ddd-83d4-418a-efa4-5cdd8be39552",
        "colab": {
          "base_uri": "https://localhost:8080/"
        }
      },
      "execution_count": 21,
      "outputs": [
        {
          "output_type": "stream",
          "name": "stdout",
          "text": [
            "Dtc Final Model Metrics:\n",
            "Accuracy:  0.9677\n",
            "Precision: 0.9597\n",
            "Recall:    0.9768\n",
            "F1-score:  0.9682\n",
            "ROC-AUC:   0.9632\n"
          ]
        }
      ]
    },
    {
      "cell_type": "markdown",
      "source": [
        "## Stacked Model"
      ],
      "metadata": {
        "id": "pX6oLWk2WsJV"
      }
    },
    {
      "cell_type": "code",
      "source": [
        "stacked_train = np.hstack([xgb_pipe_train, cnn_model_train, gbc_pipe_train, dtc_pipe_train])\n",
        "stacked_test = np.hstack([xgb_pipe_test, cnn_model_test, gbc_pipe_test, dtc_pipe_test])\n",
        "\n",
        "\n",
        "stack_model = LogisticRegression(class_weight='balanced', random_state=42)\n",
        "stack_model.fit(stacked_train, y_train)\n",
        "\n",
        "y_pred = stack_model.predict(stacked_test)\n",
        "stack_accuracy = accuracy_score(y_test, y_pred)\n",
        "print(f\"Stacked Model Accuracy: {stack_accuracy:.8f}\")"
      ],
      "metadata": {
        "id": "WEypXyEpIhYd",
        "outputId": "f5260864-caab-48a5-a8b8-fe5e5a4ead6c",
        "colab": {
          "base_uri": "https://localhost:8080/"
        }
      },
      "execution_count": 22,
      "outputs": [
        {
          "output_type": "stream",
          "name": "stdout",
          "text": [
            "Stacked Model Accuracy: 0.98400000\n"
          ]
        }
      ]
    },
    {
      "cell_type": "markdown",
      "source": [
        "Stacked Model Training Result"
      ],
      "metadata": {
        "id": "VQnK2OvGQuYg"
      }
    },
    {
      "cell_type": "code",
      "source": [
        "stack_pred = stack_model.predict(stacked_test)\n",
        "stack_prob = stack_model.predict_proba(stacked_test)[:, 1]\n",
        "\n",
        "stack_accuracy = accuracy_score(y_test, stack_pred)\n",
        "stack_precision = precision_score(y_test, stack_pred)\n",
        "stack_recall = recall_score(y_test, stack_pred)\n",
        "stack_f1 = f1_score(y_test, stack_pred)\n",
        "stack_roc_auc = roc_auc_score(y_test, stack_prob)\n",
        "\n",
        "print(f\"Stack Final Model Metrics:\")\n",
        "print(f\"Accuracy:  {stack_accuracy:.4f}\")\n",
        "print(f\"Precision: {stack_precision:.4f}\")\n",
        "print(f\"Recall:    {stack_recall:.4f}\")\n",
        "print(f\"F1-score:  {stack_f1:.4f}\")\n",
        "print(f\"ROC-AUC:   {stack_roc_auc:.4f}\")"
      ],
      "metadata": {
        "colab": {
          "base_uri": "https://localhost:8080/"
        },
        "id": "yvfanB23Qpkz",
        "outputId": "500864f8-228b-419d-cd36-f95ce2b49f4a"
      },
      "execution_count": 23,
      "outputs": [
        {
          "output_type": "stream",
          "name": "stdout",
          "text": [
            "Stack Final Model Metrics:\n",
            "Accuracy:  0.9840\n",
            "Precision: 0.9822\n",
            "Recall:    0.9861\n",
            "F1-score:  0.9841\n",
            "ROC-AUC:   0.9982\n"
          ]
        }
      ]
    },
    {
      "cell_type": "markdown",
      "source": [
        "# Evaluation"
      ],
      "metadata": {
        "id": "YrpDXESdW40G"
      }
    },
    {
      "cell_type": "markdown",
      "source": [
        "## XGBoost"
      ],
      "metadata": {
        "id": "pJZT3xsPiBK2"
      }
    },
    {
      "cell_type": "markdown",
      "source": [
        "Classification report"
      ],
      "metadata": {
        "id": "ssm0U7FiiQRG"
      }
    },
    {
      "cell_type": "code",
      "source": [
        "print(classification_report(y_test, xgb_final_pred, digits=4))"
      ],
      "metadata": {
        "id": "Hd4SVq3c05fA",
        "outputId": "db238d3f-e503-4c5b-9709-5c4296571fb8",
        "colab": {
          "base_uri": "https://localhost:8080/"
        }
      },
      "execution_count": 24,
      "outputs": [
        {
          "output_type": "stream",
          "name": "stdout",
          "text": [
            "              precision    recall  f1-score   support\n",
            "\n",
            "           0     0.9885    0.9819    0.9852      1489\n",
            "           1     0.9822    0.9887    0.9855      1511\n",
            "\n",
            "    accuracy                         0.9853      3000\n",
            "   macro avg     0.9854    0.9853    0.9853      3000\n",
            "weighted avg     0.9854    0.9853    0.9853      3000\n",
            "\n"
          ]
        }
      ]
    },
    {
      "cell_type": "markdown",
      "source": [
        "Dictionary of TP, TN, FP, FN"
      ],
      "metadata": {
        "id": "fc8zzE9miUTV"
      }
    },
    {
      "cell_type": "code",
      "source": [
        "xgb_y_pred = xgb_model.predict(x_test)\n",
        "xgb_comparison = pd.DataFrame({'xgb_y_pred': xgb_y_pred, 'y_test': y_test})\n",
        "xgb_true_positive = ((xgb_comparison['xgb_y_pred'] == 0) & (xgb_comparison['y_test'] == 0)).sum()\n",
        "print(f\"True Positive: {xgb_true_positive}\")\n",
        "xgb_true_negative = ((xgb_comparison['xgb_y_pred'] == 1) & (xgb_comparison['y_test'] == 1)).sum()\n",
        "print(f\"True Negative: {xgb_true_negative}\")\n",
        "xgb_false_positive = ((xgb_comparison['xgb_y_pred'] == 0) & (xgb_comparison['y_test'] == 1)).sum()\n",
        "print(f\"False Positive: {xgb_false_positive}\")\n",
        "xgb_false_negative = ((xgb_comparison['xgb_y_pred'] == 1) & (xgb_comparison['y_test'] == 0)).sum()\n",
        "print(f\"False Negative: {xgb_false_negative}\")"
      ],
      "metadata": {
        "id": "UKmNcpwAiTTO",
        "outputId": "cdb14d6e-8d1c-4332-fe81-8b652b17efb7",
        "colab": {
          "base_uri": "https://localhost:8080/"
        }
      },
      "execution_count": 25,
      "outputs": [
        {
          "output_type": "stream",
          "name": "stdout",
          "text": [
            "True Positive: 1462\n",
            "True Negative: 1494\n",
            "False Positive: 17\n",
            "False Negative: 27\n"
          ]
        }
      ]
    },
    {
      "cell_type": "markdown",
      "source": [
        "Confusion Matrix"
      ],
      "metadata": {
        "id": "RXYZxSbzieKv"
      }
    },
    {
      "cell_type": "code",
      "source": [
        "cm = confusion_matrix(y_test, xgb_final_pred)\n",
        "sns.heatmap(cm,\n",
        "            annot=True,\n",
        "            fmt='g',\n",
        "            xticklabels=['Legimate', 'Phishing'],\n",
        "            yticklabels=['Legimate', 'Phishing'])\n",
        "plt.ylabel('Actual', fontsize=13)\n",
        "plt.title('Xgb Model Confusion Matrix', fontsize=17, pad=20)\n",
        "plt.gca().xaxis.set_label_position('top')\n",
        "plt.xlabel('Prediction', fontsize=13)\n",
        "plt.gca().xaxis.tick_top()\n",
        "plt.gca().figure.subplots_adjust(bottom=0.2)\n",
        "plt.show()"
      ],
      "metadata": {
        "id": "d09e26dkighX",
        "outputId": "e5d50052-f5cd-4716-f1a9-7c6c6d1286ab",
        "colab": {
          "base_uri": "https://localhost:8080/",
          "height": 453
        }
      },
      "execution_count": 26,
      "outputs": [
        {
          "output_type": "display_data",
          "data": {
            "text/plain": [
              "<Figure size 640x480 with 2 Axes>"
            ],
            "image/png": "[encoded data removed]"
          },
          "metadata": {}
        }
      ]
    },
    {
      "cell_type": "markdown",
      "source": [
        "## CNN Complex"
      ],
      "metadata": {
        "id": "anQMRtf55cWM"
      }
    },
    {
      "cell_type": "markdown",
      "source": [
        "Classification Report"
      ],
      "metadata": {
        "id": "LcNtkjGr54pB"
      }
    },
    {
      "cell_type": "code",
      "source": [
        "print(classification_report(y_test, cnn_y_pred, digits=4))"
      ],
      "metadata": {
        "id": "uuxiQMaE58OB",
        "outputId": "45dcc49f-2bba-430d-b214-4747c3507142",
        "colab": {
          "base_uri": "https://localhost:8080/"
        }
      },
      "execution_count": 27,
      "outputs": [
        {
          "output_type": "stream",
          "name": "stdout",
          "text": [
            "              precision    recall  f1-score   support\n",
            "\n",
            "           0     0.9748    0.9624    0.9686      1489\n",
            "           1     0.9634    0.9755    0.9694      1511\n",
            "\n",
            "    accuracy                         0.9690      3000\n",
            "   macro avg     0.9691    0.9690    0.9690      3000\n",
            "weighted avg     0.9691    0.9690    0.9690      3000\n",
            "\n"
          ]
        }
      ]
    },
    {
      "cell_type": "markdown",
      "source": [
        "Dictionary for TP, TP, FP, FN"
      ],
      "metadata": {
        "id": "yj4dAkK35pis"
      }
    },
    {
      "cell_type": "code",
      "source": [
        "y_true = np.asarray(y_test).astype(int)\n",
        "cnn_comparison = pd.DataFrame({'cnn_y_pred': cnn_y_pred, 'y_test': y_true})\n",
        "\n",
        "cnn_true_positive = ((cnn_comparison['cnn_y_pred'] == 0) & (cnn_comparison['y_test'] == 0)).sum()\n",
        "print(f\"True Positive: {cnn_true_positive}\")\n",
        "cnn_true_negative = ((cnn_comparison['cnn_y_pred'] == 1) & (cnn_comparison['y_test'] == 1)).sum()\n",
        "print(f\"True Negative: {cnn_true_negative}\")\n",
        "cnn_false_positive = ((cnn_comparison['cnn_y_pred'] == 0) & (cnn_comparison['y_test'] == 1)).sum()\n",
        "print(f\"False Positive: {cnn_false_positive}\")\n",
        "cnn_false_negative = ((cnn_comparison['cnn_y_pred'] == 1) & (cnn_comparison['y_test'] == 0)).sum()\n",
        "print(f\"False Negative: {cnn_false_negative}\")"
      ],
      "metadata": {
        "id": "yGBhtJ_k5g7K",
        "outputId": "b17043e0-0031-48e1-a607-58ce12a2fa63",
        "colab": {
          "base_uri": "https://localhost:8080/"
        }
      },
      "execution_count": 28,
      "outputs": [
        {
          "output_type": "stream",
          "name": "stdout",
          "text": [
            "True Positive: 1433\n",
            "True Negative: 1474\n",
            "False Positive: 37\n",
            "False Negative: 56\n"
          ]
        }
      ]
    },
    {
      "cell_type": "markdown",
      "source": [
        "Confusion Matrix"
      ],
      "metadata": {
        "id": "GD7WUqkQ6d0z"
      }
    },
    {
      "cell_type": "code",
      "source": [
        "cm = confusion_matrix(y_test, cnn_y_pred)\n",
        "sns.heatmap(cm,\n",
        "            annot=True,\n",
        "            fmt='g',\n",
        "            xticklabels=['Legimate', 'Phishing'],\n",
        "            yticklabels=['Legimate', 'Phishing'])\n",
        "plt.ylabel('Actual', fontsize=13)\n",
        "plt.title('Confusion Matrix', fontsize=17, pad=20)\n",
        "plt.gca().xaxis.set_label_position('top')\n",
        "plt.xlabel('Prediction', fontsize=13)\n",
        "plt.gca().xaxis.tick_top()\n",
        "plt.gca().figure.subplots_adjust(bottom=0.2)\n",
        "plt.show()"
      ],
      "metadata": {
        "id": "t1UJ-kef6c3T",
        "outputId": "7b24547e-a19c-4910-98a1-a4341ac02c9f",
        "colab": {
          "base_uri": "https://localhost:8080/",
          "height": 453
        }
      },
      "execution_count": 29,
      "outputs": [
        {
          "output_type": "display_data",
          "data": {
            "text/plain": [
              "<Figure size 640x480 with 2 Axes>"
            ],
            "image/png": "[encoded data removed]"
          },
          "metadata": {}
        }
      ]
    },
    {
      "cell_type": "markdown",
      "source": [
        "## Gradient Boosting"
      ],
      "metadata": {
        "id": "KL_fh7sFzFCt"
      }
    },
    {
      "cell_type": "markdown",
      "source": [
        "Classification Report"
      ],
      "metadata": {
        "id": "a2WXO0LKzRrs"
      }
    },
    {
      "cell_type": "code",
      "source": [
        "print(classification_report(y_test, gbc_pipe_pred, digits=4))"
      ],
      "metadata": {
        "id": "8BE17CA8zYY2",
        "outputId": "3f0dceb7-e056-476f-e5a7-10cac4338094",
        "colab": {
          "base_uri": "https://localhost:8080/"
        }
      },
      "execution_count": 30,
      "outputs": [
        {
          "output_type": "stream",
          "name": "stdout",
          "text": [
            "              precision    recall  f1-score   support\n",
            "\n",
            "           0     0.9838    0.9812    0.9825      1489\n",
            "           1     0.9815    0.9841    0.9828      1511\n",
            "\n",
            "    accuracy                         0.9827      3000\n",
            "   macro avg     0.9827    0.9827    0.9827      3000\n",
            "weighted avg     0.9827    0.9827    0.9827      3000\n",
            "\n"
          ]
        }
      ]
    },
    {
      "cell_type": "markdown",
      "source": [
        "Dictionary of TP, TN, FP, FN"
      ],
      "metadata": {
        "id": "BGbfxQm-zMts"
      }
    },
    {
      "cell_type": "code",
      "source": [
        "gbc_y_pred = gbc_pipe.predict(x_test)\n",
        "gbc_comparison = pd.DataFrame({'gbc_y_pred': gbc_y_pred, 'y_test': y_test})\n",
        "gbc_true_positive = ((gbc_comparison['gbc_y_pred'] == 0) & (gbc_comparison['y_test'] == 0)).sum()\n",
        "print(f\"True Positive: {gbc_true_positive}\")\n",
        "gbc_true_negative = ((gbc_comparison['gbc_y_pred'] == 1) & (gbc_comparison['y_test'] == 1)).sum()\n",
        "print(f\"True Negative: {gbc_true_negative}\")\n",
        "gbc_false_positive = ((gbc_comparison['gbc_y_pred'] == 0) & (gbc_comparison['y_test'] == 1)).sum()\n",
        "print(f\"False Positive: {gbc_false_positive}\")\n",
        "gbc_false_negative = ((gbc_comparison['gbc_y_pred'] == 1) & (gbc_comparison['y_test'] == 0)).sum()\n",
        "print(f\"False Negative: {gbc_false_negative}\")"
      ],
      "metadata": {
        "id": "U2pFGkO1zJC0",
        "outputId": "81f20aa8-23e9-49c6-c7cf-6f05e02c1c9c",
        "colab": {
          "base_uri": "https://localhost:8080/"
        }
      },
      "execution_count": 31,
      "outputs": [
        {
          "output_type": "stream",
          "name": "stdout",
          "text": [
            "True Positive: 1461\n",
            "True Negative: 1487\n",
            "False Positive: 24\n",
            "False Negative: 28\n"
          ]
        }
      ]
    },
    {
      "cell_type": "markdown",
      "source": [
        "Confusion Matrix"
      ],
      "metadata": {
        "id": "iYT0Yc2yzdF9"
      }
    },
    {
      "cell_type": "code",
      "source": [
        "cm = confusion_matrix(y_test, gbc_pipe_pred)\n",
        "sns.heatmap(cm,\n",
        "            annot=True,\n",
        "            fmt='g',\n",
        "            xticklabels=['Legimate', 'Phishing'],\n",
        "            yticklabels=['Legimate', 'Phishing'])\n",
        "plt.ylabel('Actual', fontsize=13)\n",
        "plt.title('Confusion Matrix', fontsize=17, pad=20)\n",
        "plt.gca().xaxis.set_label_position('top')\n",
        "plt.xlabel('Prediction', fontsize=13)\n",
        "plt.gca().xaxis.tick_top()\n",
        "plt.gca().figure.subplots_adjust(bottom=0.2)\n",
        "plt.show()"
      ],
      "metadata": {
        "id": "6kU6DjoUzetU",
        "outputId": "cd19666f-36a1-4536-8cf2-a8e8093186eb",
        "colab": {
          "base_uri": "https://localhost:8080/",
          "height": 453
        }
      },
      "execution_count": 32,
      "outputs": [
        {
          "output_type": "display_data",
          "data": {
            "text/plain": [
              "<Figure size 640x480 with 2 Axes>"
            ],
            "image/png": "[encoded data removed]"
          },
          "metadata": {}
        }
      ]
    },
    {
      "cell_type": "markdown",
      "source": [
        "## Decision Tree"
      ],
      "metadata": {
        "id": "I-uetbParo5b"
      }
    },
    {
      "cell_type": "markdown",
      "source": [
        "Classification report"
      ],
      "metadata": {
        "id": "smH5oObRr03Q"
      }
    },
    {
      "cell_type": "code",
      "source": [
        "dtc_y_pred = dtc_pipe.predict(x_test)\n",
        "print(classification_report(y_test, dtc_y_pred, digits=4))"
      ],
      "metadata": {
        "id": "qw0rKx53r2cg",
        "outputId": "3e7d881a-fe2a-4132-dea2-4503e8045d98",
        "colab": {
          "base_uri": "https://localhost:8080/"
        }
      },
      "execution_count": 33,
      "outputs": [
        {
          "output_type": "stream",
          "name": "stdout",
          "text": [
            "              precision    recall  f1-score   support\n",
            "\n",
            "           0     0.9728    0.9590    0.9658      1489\n",
            "           1     0.9602    0.9735    0.9668      1511\n",
            "\n",
            "    accuracy                         0.9663      3000\n",
            "   macro avg     0.9665    0.9663    0.9663      3000\n",
            "weighted avg     0.9664    0.9663    0.9663      3000\n",
            "\n"
          ]
        }
      ]
    },
    {
      "cell_type": "markdown",
      "source": [
        "Dictionary of TP, TN, FP, FN"
      ],
      "metadata": {
        "id": "geUntcJirt57"
      }
    },
    {
      "cell_type": "code",
      "source": [
        "dtc_comparison = pd.DataFrame({'dtc_y_pred': dtc_y_pred, 'y_test': y_test})\n",
        "\n",
        "dtc_true_positive = ((dtc_comparison['dtc_y_pred'] == 0) & (dtc_comparison['y_test'] == 0)).sum()\n",
        "print(f\"True Positive: {dtc_true_positive}\")\n",
        "dtc_true_negative = ((dtc_comparison['dtc_y_pred'] == 1) & (dtc_comparison['y_test'] == 1)).sum()\n",
        "print(f\"True Negative: {dtc_true_negative}\")\n",
        "dtc_false_positive = ((dtc_comparison['dtc_y_pred'] == 0) & (dtc_comparison['y_test'] == 1)).sum()\n",
        "print(f\"False Positive: {dtc_false_positive}\")\n",
        "dtc_false_negative = ((dtc_comparison['dtc_y_pred'] == 1) & (dtc_comparison['y_test'] == 0)).sum()\n",
        "print(f\"False Negative: {dtc_false_negative}\")"
      ],
      "metadata": {
        "id": "nBSkPtjcrrQK",
        "outputId": "ad24c463-3c86-47b3-9fc6-808544ca5645",
        "colab": {
          "base_uri": "https://localhost:8080/"
        }
      },
      "execution_count": 34,
      "outputs": [
        {
          "output_type": "stream",
          "name": "stdout",
          "text": [
            "True Positive: 1428\n",
            "True Negative: 1471\n",
            "False Positive: 40\n",
            "False Negative: 61\n"
          ]
        }
      ]
    },
    {
      "cell_type": "markdown",
      "source": [
        "Confusion Matrix"
      ],
      "metadata": {
        "id": "puHVPypKsDa5"
      }
    },
    {
      "cell_type": "code",
      "source": [
        "cm = confusion_matrix(y_test, dtc_y_pred)\n",
        "sns.heatmap(cm,\n",
        "            annot=True,\n",
        "            fmt='g',\n",
        "            xticklabels=['Legimate', 'Phishing'],\n",
        "            yticklabels=['Legimate', 'Phishing'])\n",
        "plt.ylabel('Actual', fontsize=13)\n",
        "plt.title('Confusion Matrix', fontsize=17, pad=20)\n",
        "plt.gca().xaxis.set_label_position('top')\n",
        "plt.xlabel('Prediction', fontsize=13)\n",
        "plt.gca().xaxis.tick_top()\n",
        "plt.gca().figure.subplots_adjust(bottom=0.2)\n",
        "plt.show()"
      ],
      "metadata": {
        "id": "onvs6seAr65Q",
        "outputId": "457901d0-680c-4e31-bd27-644ddf45d983",
        "colab": {
          "base_uri": "https://localhost:8080/",
          "height": 453
        }
      },
      "execution_count": 35,
      "outputs": [
        {
          "output_type": "display_data",
          "data": {
            "text/plain": [
              "<Figure size 640x480 with 2 Axes>"
            ],
            "image/png": "[encoded data removed]"
          },
          "metadata": {}
        }
      ]
    },
    {
      "cell_type": "markdown",
      "source": [
        "## Stack Model"
      ],
      "metadata": {
        "id": "1UStFoEYQ7mM"
      }
    },
    {
      "cell_type": "markdown",
      "source": [
        "Classification Report"
      ],
      "metadata": {
        "id": "Ag1G2j3ORopR"
      }
    },
    {
      "cell_type": "code",
      "source": [
        "stack_pred = stack_model.predict(stacked_test)\n",
        "print(classification_report(y_test, stack_pred, digits=4))"
      ],
      "metadata": {
        "colab": {
          "base_uri": "https://localhost:8080/"
        },
        "id": "Zc3DP8AlRRI4",
        "outputId": "7a0d4f05-94e8-4f87-8ab4-071f29588dc6"
      },
      "execution_count": 36,
      "outputs": [
        {
          "output_type": "stream",
          "name": "stdout",
          "text": [
            "              precision    recall  f1-score   support\n",
            "\n",
            "           0     0.9858    0.9819    0.9838      1489\n",
            "           1     0.9822    0.9861    0.9841      1511\n",
            "\n",
            "    accuracy                         0.9840      3000\n",
            "   macro avg     0.9840    0.9840    0.9840      3000\n",
            "weighted avg     0.9840    0.9840    0.9840      3000\n",
            "\n"
          ]
        }
      ]
    },
    {
      "cell_type": "markdown",
      "source": [
        "Dictionary of TP, TN, FP, FN"
      ],
      "metadata": {
        "id": "N5jIHlF5RRuX"
      }
    },
    {
      "cell_type": "code",
      "source": [
        "stack_comparison = pd.DataFrame({'stack_pred': stack_pred, 'y_test': y_test})\n",
        "\n",
        "stack_true_positive = ((stack_comparison['stack_pred'] == 0) & (stack_comparison['y_test'] == 0)).sum()\n",
        "print(f\"True Positive: {stack_true_positive}\")\n",
        "stack_true_negative = ((stack_comparison['stack_pred'] == 1) & (stack_comparison['y_test'] == 1)).sum()\n",
        "print(f\"True Negative: {stack_true_negative}\")\n",
        "stack_false_positive = ((stack_comparison['stack_pred'] == 0) & (stack_comparison['y_test'] == 1)).sum()\n",
        "print(f\"False Positive: {stack_false_positive}\")\n",
        "stack_false_negative = ((stack_comparison['stack_pred'] == 1) & (stack_comparison['y_test'] == 0)).sum()\n",
        "print(f\"False Negative: {stack_false_negative}\")"
      ],
      "metadata": {
        "colab": {
          "base_uri": "https://localhost:8080/"
        },
        "id": "gkXAlZUcQ96G",
        "outputId": "dd4d92e6-0be0-417a-8e9f-654c2d66ab00"
      },
      "execution_count": 37,
      "outputs": [
        {
          "output_type": "stream",
          "name": "stdout",
          "text": [
            "True Positive: 1462\n",
            "True Negative: 1490\n",
            "False Positive: 21\n",
            "False Negative: 27\n"
          ]
        }
      ]
    },
    {
      "cell_type": "markdown",
      "source": [
        "Confusion Matrix"
      ],
      "metadata": {
        "id": "LJpRuY05R2OK"
      }
    },
    {
      "cell_type": "code",
      "source": [
        "cm = confusion_matrix(y_test, stack_pred)\n",
        "sns.heatmap(cm,\n",
        "            annot=True,\n",
        "            fmt='g',\n",
        "            xticklabels=['Legimate', 'Phishing'],\n",
        "            yticklabels=['Legimate', 'Phishing'])\n",
        "plt.ylabel('Actual', fontsize=13)\n",
        "plt.title('Confusion Matrix', fontsize=17, pad=20)\n",
        "plt.gca().xaxis.set_label_position('top')\n",
        "plt.xlabel('Prediction', fontsize=13)\n",
        "plt.gca().xaxis.tick_top()\n",
        "plt.gca().figure.subplots_adjust(bottom=0.2)\n",
        "plt.show()"
      ],
      "metadata": {
        "colab": {
          "base_uri": "https://localhost:8080/",
          "height": 453
        },
        "id": "tta5K0fgR4gn",
        "outputId": "8607011c-ca9c-43be-ffc9-4b5f23e251ec"
      },
      "execution_count": 38,
      "outputs": [
        {
          "output_type": "display_data",
          "data": {
            "text/plain": [
              "<Figure size 640x480 with 2 Axes>"
            ],
            "image/png": "[encoded data removed]"
          },
          "metadata": {}
        }
      ]
    },
    {
      "cell_type": "markdown",
      "source": [
        "## ROC Curve & PR Curve"
      ],
      "metadata": {
        "id": "X39pY78ArmxA"
      }
    },
    {
      "cell_type": "code",
      "source": [
        "y_prob_stack = stack_model.predict_proba(stacked_test)[:, 1]\n",
        "fpr_stack, tpr_stack, thresholds_stack = roc_curve(y_test, y_prob_stack)\n",
        "roc_auc_stack = auc(fpr_stack, tpr_stack)\n",
        "y_prob_xgb = xgb_model.predict_proba(x_test)[:, 1]\n",
        "fpr_xgb, tpr_xgb, thresholds_xgb = roc_curve(y_test, y_prob_xgb)\n",
        "roc_auc_xgb = auc(fpr_xgb, tpr_xgb)\n",
        "y_prob_cnn = cnn_model.predict(x_test_cnn)\n",
        "y_prob_cnn = y_prob_cnn.ravel()\n",
        "fpr_cnn, tpr_cnn, thresholds_cnn = roc_curve(y_test, y_prob_cnn)\n",
        "roc_auc_cnn = auc(fpr_cnn, tpr_cnn)\n",
        "y_prob_gbc = gbc_pipe.predict_proba(x_test)[:, 1]\n",
        "fpr_gbc, tpr_gbc, thresholds_gbc = roc_curve(y_test, y_prob_gbc)\n",
        "roc_auc_gbc = auc(fpr_gbc, tpr_gbc)\n",
        "y_prob_dtc = dtc_pipe.predict_proba(x_test)[:, 1]\n",
        "fpr_dtc, tpr_dtc, thresholds_dtc = roc_curve(y_test, y_prob_dtc)\n",
        "roc_auc_dtc = auc(fpr_dtc, tpr_dtc)\n",
        "\n",
        "plt.figure(figsize=(5, 5))\n",
        "plt.plot(fpr_stack, tpr_stack, label='Stacked Model (AUC = %0.4f)' % roc_auc_stack, color='darkorange')\n",
        "plt.plot(fpr_xgb, tpr_xgb, label='Xgb Model (AUC = %0.4f)' % roc_auc_xgb, color='yellow')\n",
        "plt.plot(fpr_cnn, tpr_cnn, label='Cnn Model (AUC = %0.4f)' % roc_auc_cnn, color='green')\n",
        "plt.plot(fpr_gbc, tpr_gbc, label='Gbc Model (AUC = %0.4f)' % roc_auc_gbc, color='cyan')\n",
        "plt.plot(fpr_dtc, tpr_dtc, label='Dtc Model (AUC = %0.4f)' % roc_auc_dtc, color='blue')\n",
        "plt.plot([0, 1], [0, 1], 'k--', label='No Skill')\n",
        "plt.xlim([0.0, 1.0])\n",
        "plt.ylim([0.0, 1.05])\n",
        "plt.xlabel('False Positive Rate', fontsize=12)\n",
        "plt.ylabel('True Positive Rate', fontsize=12)\n",
        "plt.title('ROC Curve for Phishing URL Detection', fontsize=14)\n",
        "plt.legend(loc='lower right')\n",
        "plt.grid(True)\n",
        "plt.show()"
      ],
      "metadata": {
        "id": "uK7r6eHrKjCP",
        "outputId": "956e7350-0c09-4849-adaf-d760981a9bd5",
        "colab": {
          "base_uri": "https://localhost:8080/",
          "height": 509
        }
      },
      "execution_count": 39,
      "outputs": [
        {
          "output_type": "stream",
          "name": "stdout",
          "text": [
            "\u001b[1m94/94\u001b[0m \u001b[32m━━━━━━━━━━━━━━━━━━━━\u001b[0m\u001b[37m\u001b[0m \u001b[1m1s\u001b[0m 12ms/step\n"
          ]
        },
        {
          "output_type": "display_data",
          "data": {
            "text/plain": [
              "<Figure size 500x500 with 1 Axes>"
            ],
            "image/png": "[encoded data removed]"
          },
          "metadata": {}
        }
      ]
    },
    {
      "cell_type": "code",
      "source": [
        "# Precision-Recall Curve\n",
        "precision_stack, recall_stack, thresholds_stack = precision_recall_curve(y_test, y_pred)\n",
        "auc_score_stack = auc(recall_stack, precision_stack)\n",
        "precision_xgb, recall_xgb, thresholds_xgb = precision_recall_curve(y_test, xgb_probs)\n",
        "auc_score_xgb = auc(recall_xgb, precision_xgb)\n",
        "y_prob_cnn = cnn_model_test.ravel()\n",
        "precision_cnn, recall_cnn, thresholds_cnn = precision_recall_curve(y_test, y_prob_cnn)\n",
        "auc_score_cnn = auc(recall_cnn, precision_cnn)\n",
        "precision_gbc, recall_gbc, thresholds_gbc = precision_recall_curve(y_test, gbc_pipe_prob)\n",
        "auc_score_gbc = auc(recall_gbc, precision_gbc)\n",
        "precision_dtc, recall_dtc, thresholds_dtc = precision_recall_curve(y_test, dtc_pipe_prob)\n",
        "auc_score_dtc = auc(recall_dtc, precision_dtc)\n",
        "\n",
        "plt.figure(figsize=(5, 5))\n",
        "plt.plot(recall_stack, precision_stack, label=f'Stack Model PR Curve (AUC = {auc_score_stack:.4f})', color='darkorange')\n",
        "plt.plot(recall_xgb, precision_xgb, label=f'Xgb Model PR Curve (AUC = {auc_score_xgb:.4f})', color='yellow')\n",
        "plt.plot(recall_cnn, precision_cnn, label=f'Cnn Model PR Curve (AUC = {auc_score_cnn:.4f})', color='green')\n",
        "plt.plot(recall_gbc, precision_gbc, label=f'Gbc Model PR Curve (AUC = {auc_score_gbc:.4f})', color='cyan')\n",
        "plt.plot(recall_dtc, precision_dtc, label=f'Dtc Model PR Curve (AUC = {auc_score_dtc:.4f})', color='blue')\n",
        "plt.xlabel('Recall')\n",
        "plt.ylabel('Precision')\n",
        "plt.title('Precision-Recall Curve')\n",
        "plt.legend()\n",
        "plt.grid(alpha=0.3)\n",
        "plt.show()"
      ],
      "metadata": {
        "id": "ctMw7ut5Y8ck",
        "outputId": "220d36fe-71fe-4a50-a731-106ada9cbbcb",
        "colab": {
          "base_uri": "https://localhost:8080/",
          "height": 487
        }
      },
      "execution_count": 40,
      "outputs": [
        {
          "output_type": "display_data",
          "data": {
            "text/plain": [
              "<Figure size 500x500 with 1 Axes>"
            ],
            "image/png": "[encoded data removed]"
          },
          "metadata": {}
        }
      ]
    },
    {
      "cell_type": "code",
      "source": [
        "# Logistic Regression Coefficients\n",
        "importance_scores = stack_model.coef_[0]\n",
        "stacked_features = ['XGBoost', 'CNN', 'GradientBoosting', 'DecisionTree']\n",
        "for name, coef in zip(stacked_features, importance_scores):\n",
        "    print(f\"{name} contribution weight: {coef:.4f}\")\n",
        "\n",
        "plt.bar(stacked_features, importance_scores)\n",
        "plt.title('Stacked Model Feature Importances (Logistic Regression Coefficients)')\n",
        "plt.ylabel('Coefficient Value')\n",
        "plt.show()"
      ],
      "metadata": {
        "id": "89KxxLargcg6",
        "colab": {
          "base_uri": "https://localhost:8080/",
          "height": 521
        },
        "outputId": "a2fd7361-0736-4614-b540-b7b5bd165659"
      },
      "execution_count": 41,
      "outputs": [
        {
          "output_type": "stream",
          "name": "stdout",
          "text": [
            "XGBoost contribution weight: 3.9664\n",
            "CNN contribution weight: 2.9798\n",
            "GradientBoosting contribution weight: 4.1418\n",
            "DecisionTree contribution weight: 2.7852\n"
          ]
        },
        {
          "output_type": "display_data",
          "data": {
            "text/plain": [
              "<Figure size 640x480 with 1 Axes>"
            ],
            "image/png": "[encoded data removed]"
          },
          "metadata": {}
        }
      ]
    },
    {
      "cell_type": "markdown",
      "source": [
        "# Save Model"
      ],
      "metadata": {
        "id": "Sg_TODzQXAve"
      }
    },
    {
      "cell_type": "markdown",
      "source": [
        "Saving Final XGB Model"
      ],
      "metadata": {
        "id": "72iNRP2AitaP"
      }
    },
    {
      "cell_type": "code",
      "source": [
        "joblib.dump(xgb_model, 'xgb_model.pkl')\n",
        "joblib.dump(sc, \"std_scaler.pkl\")\n",
        "\n",
        "new_xgb_size_in_bytes = os.path.getsize('xgb_model.pkl')\n",
        "new_xgb_size_in_kb = new_xgb_size_in_bytes / 1024\n",
        "print(f\"New Model size: {new_xgb_size_in_kb:.2f} KB\")"
      ],
      "metadata": {
        "id": "IujGYoIkism9",
        "outputId": "df863321-d99b-491c-f7f6-8f38e9dcf947",
        "colab": {
          "base_uri": "https://localhost:8080/"
        }
      },
      "execution_count": 67,
      "outputs": [
        {
          "output_type": "stream",
          "name": "stdout",
          "text": [
            "New Model size: 2740.81 KB\n"
          ]
        }
      ]
    },
    {
      "cell_type": "markdown",
      "source": [
        "Saving Final CNN Complex Model"
      ],
      "metadata": {
        "id": "kg74kjrR6q8Z"
      }
    },
    {
      "cell_type": "code",
      "source": [
        "cnn_model.save('cnn_complex.h5')"
      ],
      "metadata": {
        "id": "3_MBgYar6v5x",
        "outputId": "c648aaab-4480-4071-f03e-ecdaa31218e9",
        "colab": {
          "base_uri": "https://localhost:8080/"
        }
      },
      "execution_count": 43,
      "outputs": [
        {
          "output_type": "stream",
          "name": "stderr",
          "text": [
            "WARNING:absl:You are saving your model as an HDF5 file via `model.save()` or `keras.saving.save_model(model)`. This file format is considered legacy. We recommend using instead the native Keras format, e.g. `model.save('my_model.keras')` or `keras.saving.save_model(model, 'my_model.keras')`. \n"
          ]
        }
      ]
    },
    {
      "cell_type": "markdown",
      "source": [
        "Saving Final Gradient Boosting Model"
      ],
      "metadata": {
        "id": "tsMWr6xZzktX"
      }
    },
    {
      "cell_type": "code",
      "source": [
        "joblib.dump(gbc_pipe, 'gbc_model.pkl')"
      ],
      "metadata": {
        "id": "PGSG5cOGzpg7",
        "outputId": "4aabc2a5-8a4f-4550-9bfe-18fa4649cd52",
        "colab": {
          "base_uri": "https://localhost:8080/"
        }
      },
      "execution_count": 44,
      "outputs": [
        {
          "output_type": "execute_result",
          "data": {
            "text/plain": [
              "['gbc_model.pkl']"
            ]
          },
          "metadata": {},
          "execution_count": 44
        }
      ]
    },
    {
      "cell_type": "markdown",
      "source": [
        "Saving Final Decision Tree Model"
      ],
      "metadata": {
        "id": "aw5Wni5SsbT3"
      }
    },
    {
      "cell_type": "code",
      "source": [
        "joblib.dump(dtc_pipe, 'dtc_model.pkl')"
      ],
      "metadata": {
        "id": "GjHMT7UYsZ8I",
        "outputId": "071cac83-1e81-4f6c-cc34-d9251cb16a16",
        "colab": {
          "base_uri": "https://localhost:8080/"
        }
      },
      "execution_count": 45,
      "outputs": [
        {
          "output_type": "execute_result",
          "data": {
            "text/plain": [
              "['dtc_model.pkl']"
            ]
          },
          "metadata": {},
          "execution_count": 45
        }
      ]
    },
    {
      "cell_type": "markdown",
      "source": [
        "# Prediction"
      ],
      "metadata": {
        "id": "YCz8oXevITsI"
      }
    },
    {
      "cell_type": "code",
      "source": [
        "# ================== feature_extractor_48_aligned =================\n",
        "!pip -q install gradio tldextract\n",
        "import re, ipaddress, requests, joblib, numpy as np, pandas as pd, gradio as gr\n",
        "from urllib.parse import urlparse, urljoin, parse_qsl, unquote\n",
        "from bs4 import BeautifulSoup\n",
        "from pathlib import Path\n",
        "import xgboost as xgb\n",
        "try:\n",
        "    import tldextract\n",
        "except ImportError:\n",
        "    import tldextract\n",
        "\n",
        "THRESHOLD = 0.50\n",
        "\n",
        "UA = {\"User-Agent\": \"Mozilla/5.0 (Windows NT 10.0; Win64; x64) AppleWebKit/537.36 (KHTML, like Gecko) Chrome/124 Safari/537.36\"}\n",
        "REQ_TIMEOUT = 8\n",
        "\n",
        "FEATURE_ORDER_FROM_ARFF = [\n",
        "    \"NumDots\",\"SubdomainLevel\",\"PathLevel\",\"UrlLength\",\"NumDash\",\"NumDashInHostname\",\n",
        "    \"AtSymbol\",\"TildeSymbol\",\"NumUnderscore\",\"NumPercent\",\"NumQueryComponents\",\n",
        "    \"NumAmpersand\",\"NumHash\",\"NumNumericChars\",\"NoHttps\",\"RandomString\",\"IpAddress\",\n",
        "    \"DomainInSubdomains\",\"DomainInPaths\",\"HttpsInHostname\",\"HostnameLength\",\"PathLength\",\n",
        "    \"QueryLength\",\"DoubleSlashInPath\",\"NumSensitiveWords\",\"EmbeddedBrandName\",\n",
        "    \"PctExtHyperlinks\",\"PctExtResourceUrls\",\"ExtFavicon\",\"InsecureForms\",\"RelativeFormAction\",\n",
        "    \"ExtFormAction\",\"AbnormalFormAction\",\"PctNullSelfRedirectHyperlinks\",\"FrequentDomainNameMismatch\",\n",
        "    \"FakeLinkInStatusBar\",\"RightClickDisabled\",\"PopUpWindow\",\"SubmitInfoToEmail\",\"IframeOrFrame\",\n",
        "    \"MissingTitle\",\"ImagesOnlyInForm\",\"SubdomainLevelRT\",\"UrlLengthRT\",\"PctExtResourceUrlsRT\",\n",
        "    \"AbnormalExtFormActionR\",\"ExtMetaScriptLinkRT\",\"PctExtNullSelfRedirectHyperlinksRT\"\n",
        "]\n",
        "FEATURE_COLUMNS = FEATURE_ORDER_FROM_ARFF[:]\n",
        "\n",
        "# Thresholds tuned to be less trigger-happy on legit sites but stricter on camouflages\n",
        "URL_LEN_T1, URL_LEN_T2 = 54, 75\n",
        "RES_RT_T1, RES_RT_T2   = 0.50, 0.58\n",
        "MSL_RT_T1, MSL_RT_T2   = 0.11, 0.87\n",
        "NULL_RT_T1, NULL_RT_T2 = 0.183, 0.325\n",
        "MIN_ANCHORS_FOR_RATIO  = 12\n",
        "MIN_RES_FOR_RATIO      = 10\n",
        "MIN_NODES_FOR_TITLE    = 12\n",
        "\n",
        "SHORTENER_ETLDS = {\n",
        "    \"bit.ly\",\"goo.gl\",\"t.co\",\"x.co\",\"is.gd\",\"ow.ly\",\"tinyurl.com\",\"tiny.cc\",\"bit.do\",\"t.ly\",\n",
        "    \"rebrand.ly\",\"lnkd.in\",\"fb.me\",\"youtu.be\",\"buff.ly\",\"vk.cc\",\"adf.ly\",\"cutt.us\",\"tr.im\"\n",
        "}\n",
        "REDIRECTORS = {\n",
        "    \"google.com\":[\"q\",\"url\",\"u\"], \"google.com.hk\":[\"q\",\"url\",\"u\"], \"bing.com\":[\"u\",\"url\"],\n",
        "    \"duckduckgo.com\":[\"uddg\"], \"facebook.com\":[\"u\",\"url\"], \"m.facebook.com\":[\"u\",\"url\"],\n",
        "    \"lm.facebook.com\":[\"u\",\"url\"], \"l.messenger.com\":[\"u\",\"url\"], \"naver.com\":[\"url\",\"u\"],\n",
        "    \"baidu.com\":[\"url\",\"u\",\"wd\"], \"outlook.com\":[\"url\",\"u\",\"dest\",\"destination\"],\n",
        "    \"live.com\":[\"url\",\"u\",\"dest\",\"destination\"], \"yahoo.com\":[\"u\",\"url\"],\n",
        "    \"reddit.com\":[\"url\",\"u\",\"out\"], \"slack-redir.net\":[\"url\"]\n",
        "}\n",
        "REDIRECT_PATH_HINTS = {\"/url\",\"/l.php\",\"/redir.aspx\",\"/redirect\",\"/out\",\"/r\",\"/link\"}\n",
        "\n",
        "# Neutral infra/CDNs/embeds that shouldn't count as \"external\" for ratios\n",
        "NEUTRAL_CDNS = {\n",
        "    \"cloudflare.com\",\"cdnjs.cloudflare.com\",\"cdn.cloudflare.com\",\"cloudfront.net\",\"akamaihd.net\",\"akamaized.net\",\n",
        "    \"edgesuite.net\",\"edgekey.net\",\"azureedge.net\",\n",
        "    \"jsdelivr.net\",\"cdn.jsdelivr.net\",\"bootstrapcdn.com\",\"stackpath.bootstrapcdn.com\",\"code.jquery.com\",\"unpkg.com\",\n",
        "    \"fontawesome.com\",\"kit.fontawesome.com\",\"use.fontawesome.com\",\"typekit.net\",\"adobe.com\",\"adobedtm.com\",\n",
        "    \"gstatic.com\",\"googleapis.com\",\"googletagmanager.com\",\"google-analytics.com\",\"googlesyndication.com\",\"doubleclick.net\",\"googletagservices.com\",\n",
        "    \"googleadservices.com\",\"googleoptimize.com\",\"youtube.com\",\"ytimg.com\",\"g.doubleclick.net\",\n",
        "    \"wp.com\",\"wordpress.com\",\"s.w.org\",\"gravatar.com\",\"disqus.com\",\"wpengine.com\",\n",
        "    \"segment.io\",\"newrelic.com\",\"nr-data.net\",\"matomo.cloud\",\"hotjar.com\",\"clarity.ms\",\"polyfill.io\",\"d3js.org\",\"siteimproveanalytics.com\",\n",
        "    \"cookielaw.org\",\"cookiebot.com\",\"consentmanager.net\",\"cdn.privacy-mgmt.com\",\"privacy-mgmt.com\",\"onetrust.com\",\"osano.com\",\"tiqcdn.com\",\n",
        "    \"brightcove.com\",\"brightcovecdn.com\",\"players.brightcove.net\",\"vimeo.com\",\"player.vimeo.com\",\n",
        "    \"facebook.net\",\"connect.facebook.net\",\"staticxx.facebook.com\",\"twitter.com\",\"platform.twitter.com\",\"syndication.twitter.com\",\n",
        "    \"instagram.com\",\"cdninstagram.com\",\"linkedin.com\",\"licdn.com\",\"snap.licdn.com\",\"yimg.com\",\n",
        "    \"cdn.shopify.com\",\"cloudflareinsights.com\",\"static.oracle.com\",\"oracleimg.com\",\n",
        "    \"hsforms.net\",\"hubspot.com\",\"hs-scripts.com\",\"sharethis.com\",\"addthis.com\",\"static.parastorage.com\",\"wixstatic.com\"\n",
        "}\n",
        "NEUTRAL_SOCIALS = {\n",
        "    \"facebook.com\",\"m.facebook.com\",\"lm.facebook.com\",\"l.messenger.com\",\n",
        "    \"twitter.com\",\"x.com\",\"instagram.com\",\"linkedin.com\",\"youtube.com\",\"tiktok.com\",\n",
        "    \"wa.me\",\"web.whatsapp.com\",\"telegram.me\",\"t.me\"\n",
        "}\n",
        "\n",
        "BRAND_AFFINITY = {\n",
        "    \"google.com\":{\"gstatic.com\",\"googleusercontent.com\",\"googleapis.com\",\"googletagmanager.com\",\"googlesyndication.com\",\"doubleclick.net\",\"youtube.com\",\"g.doubleclick.net\",\"ggpht.com\"},\n",
        "    \"github.com\":{\"githubassets.com\",\"github.githubassets.com\",\"githubusercontent.com\",\"raw.githubusercontent.com\"},\n",
        "    \"facebook.com\":{\"fbcdn.net\",\"facebook.net\"},\n",
        "    \"twitter.com\":{\"twimg.com\"},\n",
        "    \"microsoft.com\":{\"msn.com\",\"live.com\",\"office.com\",\"windows.com\"},\n",
        "    \"youtube.com\":{\"ytimg.com\",\"googlevideo.com\",\"google.com\",\"gstatic.com\"},\n",
        "    \"jcp.org\":{\"oracle.com\",\"oracleimg.com\",\"static.oracle.com\",\"java.net\",\"sun.com\"},\n",
        "}\n",
        "\n",
        "BRAND_TOKENS = {\n",
        "    \"paypal\",\"facebook\",\"google\",\"gmail\",\"amazon\",\"ebay\",\"apple\",\"icloud\",\"microsoft\",\"live\",\"outlook\",\n",
        "    \"chase\",\"citibank\",\"citi\",\"wellsfargo\",\"halifax\",\"santander\",\"hsbc\",\"bankofamerica\",\"boa\",\"ally\",\"regions\",\n",
        "    \"skype\",\"netflix\",\"spotify\",\"adp\",\"aol\",\"battle\",\"blizzard\",\"steam\",\"usaa\",\"square-enix\",\"natwest\",\"bbt\"\n",
        "}\n",
        "SENSITIVE_WORDS = {\n",
        "    \"secure\",\"account\",\"webscr\",\"login\",\"logon\",\"signin\",\"sign-in\",\"bank\",\"banking\",\"confirm\",\n",
        "    \"verify\",\"verification\",\"update\",\"password\",\"billing\",\"invoice\",\"pay\",\"payment\",\n",
        "    \"compte\",\"moncompte\",\"dossier\",\"espaceclient\",\"clientid\",\"idclient\",\"monespace\",\"freemobile\",\"session\",\"profile.php\"\n",
        "}\n",
        "OSS_TOKENS = {\n",
        "    \"ubuntu\",\"debian\",\"fedora\",\"centos\",\"arch\",\"redhat\",\"alpine\",\"canonical\",\"launchpad\",\n",
        "    \"gcc\",\"glibc\",\"lib\",\"lib32\",\"lib64\",\"x86\",\"x64\",\"amd64\",\"arm\",\"arm64\",\"aarch64\",\"ppc64le\",\"s390x\",\n",
        "    \"cross\",\"build\",\"source\",\"files\",\"download\",\"release\",\"stable\",\"dev\",\"pkg\",\"rpm\",\"deb\",\"tar\",\"gz\",\"xz\"\n",
        "}\n",
        "\n",
        "PUBLIC_SECTOR_SUFFIXES = {\n",
        "    \"gov\",\"gov.cn\",\"gov.uk\",\"gov.au\",\"gov.br\",\"gov.in\",\"gov.za\",\"gov.tw\",\"gov.sg\",\"gov.my\",\n",
        "    \"go.jp\",\"go.id\",\"go.kr\",\"gob.mx\",\"gouv.fr\",\n",
        "    \"edu\",\"edu.cn\",\"edu.au\",\"edu.br\",\"edu.tw\",\"edu.sg\",\n",
        "    \"ac.uk\",\"ac.jp\",\"ac.kr\"\n",
        "}\n",
        "\n",
        "ENV_PREFIXES = (\"e\",\"i\",\"m\",\"dev\",\"stg\",\"stage\",\"test\",\"app\",\"cms\",\"cdn\",\"static\")\n",
        "\n",
        "def _etld(u: str):\n",
        "    ext = tldextract.extract(u)\n",
        "    return f\"{ext.domain}.{ext.suffix}\" if ext.suffix else ext.domain\n",
        "\n",
        "def _suffix_from_etld(etld: str) -> str:\n",
        "    parts = etld.split(\".\")\n",
        "    return \".\".join(parts[1:]) if len(parts) >= 2 else parts[0]\n",
        "\n",
        "def _same_party(base_etld: str, other_etld: str) -> bool:\n",
        "    if not base_etld or not other_etld: return False\n",
        "    if base_etld == other_etld: return True\n",
        "    if other_etld in BRAND_AFFINITY.get(base_etld, set()): return True\n",
        "    b_suf = _suffix_from_etld(base_etld).lower()\n",
        "    o_suf = _suffix_from_etld(other_etld).lower()\n",
        "    if b_suf == o_suf and (b_suf in PUBLIC_SECTOR_SUFFIXES):\n",
        "        return True\n",
        "    def _root(x):\n",
        "        x = (x or \"\").split(\".\")[0]\n",
        "        return re.sub(rf\"^({'|'.join(ENV_PREFIXES)})[-_]?\", \"\", x)\n",
        "    b, o = _root(base_etld), _root(other_etld)\n",
        "    return (b and b in other_etld) or (o and o in base_etld)\n",
        "\n",
        "def _is_neutral_cdn(d: str) -> bool:\n",
        "    return d in NEUTRAL_CDNS or any(d.endswith(\".\"+n) for n in NEUTRAL_CDNS)\n",
        "\n",
        "def _is_neutral_social(d: str) -> bool:\n",
        "    return d in NEUTRAL_SOCIALS or any(d.endswith(\".\"+n) for n in NEUTRAL_SOCIALS)\n",
        "\n",
        "def _safe_get(u):\n",
        "    try: return requests.get(u, headers=UA, timeout=REQ_TIMEOUT, verify=True, allow_redirects=True)\n",
        "    except: return None\n",
        "\n",
        "def _safe_head(u):\n",
        "    try: return requests.head(u, headers=UA, timeout=REQ_TIMEOUT, verify=True, allow_redirects=True)\n",
        "    except: return None\n",
        "\n",
        "def _frac(v: int, t: int) -> float: return 0.0 if t <= 0 else v/t\n",
        "\n",
        "def _robust_title(resp) -> str:\n",
        "    if not resp: return \"\"\n",
        "    encs, ct = [], (resp.headers.get(\"content-type\") or \"\")\n",
        "    m = re.search(r\"charset=([\\w\\-]+)\", ct, re.I)\n",
        "    if m: encs.append(m.group(1).strip())\n",
        "    if getattr(resp, \"apparent_encoding\", None): encs.append(resp.apparent_encoding)\n",
        "    encs += [\"utf-8\",\"latin-1\",\"gb18030\"]\n",
        "    body_txt = None\n",
        "    for enc in encs:\n",
        "        try:\n",
        "            body_txt = resp.content.decode(enc, errors=\"ignore\")\n",
        "            if \"<title\" in (body_txt or \"\").lower(): break\n",
        "        except: pass\n",
        "    if body_txt is None:\n",
        "        try: body_txt = resp.text\n",
        "        except: body_txt = \"\"\n",
        "    try:\n",
        "        soup = BeautifulSoup(body_txt or \"\", \"html.parser\")\n",
        "        if soup.title and soup.title.string:\n",
        "            t = soup.title.string.strip()\n",
        "            if t: return t\n",
        "    except: pass\n",
        "    m = re.search(r\"<title[^>]*>(.*?)</title>\", body_txt or \"\", re.I|re.S)\n",
        "    if m:\n",
        "        t = re.sub(r\"\\s+\", \" \", m.group(1)).strip()\n",
        "        if t: return t\n",
        "    low = (resp.content or b\"\").lower()\n",
        "    a = low.find(b\"<title\"); b = low.find(b\"</title>\", a+1) if a != -1 else -1\n",
        "    if a != -1 and b != -1:\n",
        "        p = (resp.content[a:b]).find(b\">\")\n",
        "        if p != -1:\n",
        "            raw = resp.content[a+p+1:b]\n",
        "            for enc in encs:\n",
        "                try:\n",
        "                    t = raw.decode(enc, errors=\"ignore\").strip()\n",
        "                    if t: return t\n",
        "                except: pass\n",
        "    return \"\"\n",
        "\n",
        "def _looks_like_url(s: str) -> bool:\n",
        "    return bool(re.match(r'^(?:https?://|//|[a-z0-9\\-]+\\.[a-z]{2,})(?:[/:?#].*)?$', s, re.I))\n",
        "\n",
        "def _resolve_redirectors(url: str) -> str:\n",
        "    if \"://\" not in url: url = \"http://\" + url\n",
        "    try:\n",
        "        parsed = urlparse(url)\n",
        "        et = _etld(url)\n",
        "        if et in SHORTENER_ETLDS:\n",
        "            r = _safe_head(url)\n",
        "            if not r or r.url == url: r = _safe_get(url)\n",
        "            if r and r.url: return r.url\n",
        "        if et in REDIRECTORS or any(parsed.path.startswith(p) for p in REDIRECT_PATH_HINTS):\n",
        "            params = dict(parse_qsl(parsed.query, keep_blank_values=True))\n",
        "            for key in REDIRECTORS.get(et, []) + [\"q\",\"url\",\"u\",\"dest\",\"destination\",\"target\",\"to\",\"forward\",\"redirect\"]:\n",
        "                v = params.get(key)\n",
        "                if not v: continue\n",
        "                v = unquote(v)\n",
        "                if _looks_like_url(v):\n",
        "                    if v.startswith(\"//\"): v = \"http:\" + v\n",
        "                    if not v.startswith((\"http://\",\"https://\")): v = \"http://\" + v\n",
        "                    return v\n",
        "    except: pass\n",
        "    return url\n",
        "\n",
        "def extract_48_features(url: str, fetch_html: bool = True) -> pd.DataFrame:\n",
        "    raw_url = url if \"://\" in url else \"http://\" + url\n",
        "    orig_et = _etld(raw_url)\n",
        "    eff_url = _resolve_redirectors(raw_url)\n",
        "    res_et  = _etld(eff_url)\n",
        "    short_unresolved = (orig_et in SHORTENER_ETLDS and res_et == orig_et)\n",
        "\n",
        "    parsed = urlparse(eff_url)\n",
        "    hostname = parsed.hostname or \"\"\n",
        "    etld     = _etld(eff_url)\n",
        "    ext      = tldextract.extract(eff_url)\n",
        "    subdomain= ext.subdomain or \"\"\n",
        "    path     = parsed.path or \"\"\n",
        "    query    = parsed.query or \"\"\n",
        "\n",
        "    num_dots             = eff_url.count(\".\")\n",
        "    subdomain_level      = subdomain.count(\".\") + (1 if subdomain else 0)\n",
        "    path_level           = len([p for p in path.split(\"/\") if p])\n",
        "    url_length           = len(eff_url)\n",
        "    num_dash             = eff_url.count(\"-\")\n",
        "    num_dash_host        = hostname.count(\"-\")\n",
        "    at_symbol            = 1 if \"@\" in eff_url else 0\n",
        "    tilde_symbol         = 1 if \"~\" in eff_url else 0\n",
        "    num_underscore       = eff_url.count(\"_\")\n",
        "    num_percent          = eff_url.count(\"%\")\n",
        "    num_query_components = len([q for q in query.split(\"&\") if q])\n",
        "    num_amp              = eff_url.count(\"&\")\n",
        "    num_hash             = eff_url.count(\"#\")\n",
        "    num_numeric_chars    = sum(c.isdigit() for c in eff_url)\n",
        "    no_https             = 1 if parsed.scheme.lower() != \"https\" else 0\n",
        "\n",
        "    # ---- RandomString & suspicious-URL heuristics\n",
        "    tokens  = re.split(r\"[\\-._/=?&%:#]+\", (subdomain + \".\" + path).lower())\n",
        "    tokens += [v for _, v in parse_qsl(query, keep_blank_values=True)]\n",
        "\n",
        "    def _tok_ent(s: str) -> float:\n",
        "        from math import log2\n",
        "        if not s: return 0.0\n",
        "        f={}; n=len(s)\n",
        "        for ch in s: f[ch]=f.get(ch,0)+1\n",
        "        return -sum((c/n)*log2(c/n) for c in f.values())\n",
        "\n",
        "    def _is_rand(t):\n",
        "        if not t: return False\n",
        "        s = str(t).lower()\n",
        "        if s in OSS_TOKENS: return False\n",
        "        if s.isdigit(): return len(s) >= 7\n",
        "        if len(s) < 14: return False\n",
        "        if any(s == k or k in s for k in OSS_TOKENS): return False\n",
        "        if re.fullmatch(r\"\\d+(?:[._-]\\d+){1,4}\", s): return False\n",
        "        if re.fullmatch(r\"(19|20)\\d{6}\", s): return False  # YYYYMMDD\n",
        "        if re.fullmatch(r\"[a-z]+(?:\\d+[a-z]*)+\", s) and any(k in s for k in (\"ubuntu\",\"lib\",\"gcc\")): return False\n",
        "        ent = _tok_ent(s)\n",
        "        has_a = any(c.isalpha() for c in s); has_d = any(c.isdigit() for c in s)\n",
        "        return has_a and has_d and (ent >= 3.8)\n",
        "\n",
        "    suspect = sum(_is_rand(t) for t in tokens)\n",
        "\n",
        "    # numeric-only short path (allow dotted segments like \".1\")\n",
        "    segs = [seg for seg in path.split(\"/\") if seg]\n",
        "    def _is_numseg(seg): return bool(re.fullmatch(r\"\\.?\\d{1,6}\", seg))\n",
        "    if no_https and len(segs) >= 2 and all(_is_numseg(seg) for seg in segs) and len(re.sub(r\"\\D\",\"\", \"\".join(segs))) <= 6:\n",
        "        suspect += 2\n",
        "\n",
        "    # long hex directory slugs → strong signal (common in kits)\n",
        "    for seg in segs:\n",
        "        if re.fullmatch(r\"[0-9a-fA-F]{24,}\", seg):\n",
        "            suspect += 2\n",
        "            break\n",
        "\n",
        "    # unresolved shortener → suspicious\n",
        "    if short_unresolved:\n",
        "        suspect += 2\n",
        "\n",
        "    random_string = 1 if suspect >= 2 else 0\n",
        "\n",
        "    def _is_ip(h):\n",
        "        try: ipaddress.ip_address((h or \"\").split(\":\")[0]); return 1\n",
        "        except: return 0\n",
        "    ip_address = _is_ip(hostname)\n",
        "\n",
        "    reg_label = (ext.domain or \"\").lower()\n",
        "    root_lbl  = re.sub(rf\"^({'|'.join(ENV_PREFIXES)})[-_]?\", \"\", reg_label)\n",
        "    sub_tokens  = [t for t in re.split(r\"[^a-z0-9]+\", subdomain.lower()) if t]\n",
        "    path_tokens = [t for t in re.split(r\"[^a-z0-9]+\", path.lower()) if t]\n",
        "    domain_in_subdomains = 1 if ((reg_label and reg_label in sub_tokens) or (root_lbl and root_lbl in sub_tokens)) else 0\n",
        "\n",
        "    base_suffix = ext.suffix.lower()\n",
        "    domain_in_paths = 1 if ((reg_label and reg_label in path_tokens) or (root_lbl and root_lbl in path_tokens)) else 0\n",
        "    if domain_in_paths and (base_suffix.startswith(\"org\") or base_suffix.startswith(\"edu\") or base_suffix.startswith(\"gov\")):\n",
        "        domain_in_paths = 0\n",
        "\n",
        "    https_in_hostname    = 1 if \"https\" in (hostname or \"\").lower() else 0\n",
        "    hostname_length      = len(hostname)\n",
        "    path_length          = len(path)\n",
        "    query_length         = len(query)\n",
        "    double_slash_in_path = 1 if \"//\" in path else 0\n",
        "    num_sensitive_words  = sum(1 for w in SENSITIVE_WORDS if w in eff_url.lower())\n",
        "\n",
        "    # ---------- HTML defaults ----------\n",
        "    embedded_brand_name = 0\n",
        "    pct_ext_hyperlinks  = 0.0\n",
        "    pct_ext_resources   = 0.0\n",
        "    ext_favicon         = 0\n",
        "    insecure_forms      = 0\n",
        "    relative_form_action= 0\n",
        "    ext_form_action     = 0\n",
        "    abnormal_form_action= 0\n",
        "    pct_null_self_redir = 0.0\n",
        "    freq_domain_mismatch= 0\n",
        "    fake_link_statusbar = 0\n",
        "    right_click_disabled= 0\n",
        "    popup_window        = 0\n",
        "    submit_info_to_email= 0\n",
        "    iframe_or_frame     = 0\n",
        "    missing_title       = 0\n",
        "    images_only_in_form = 0\n",
        "    ext_msl_frac        = 0.0\n",
        "\n",
        "    # --- brand/domain camo in subdomain/path/query ---\n",
        "    def _word_hit(needle, hay):\n",
        "        # boundary match OR short-substring match in subdomain tokens\n",
        "        if re.search(rf'(?<![a-z0-9]){re.escape(needle)}(?![a-z0-9])', hay): return True\n",
        "        # allow e.g. \"steamtourny\" (brand at token edge or small augmentation)\n",
        "        for tok in re.split(r\"[^a-z0-9]+\", hay):\n",
        "            if not tok: continue\n",
        "            if tok.startswith(needle) or tok.endswith(needle):\n",
        "                if len(tok) <= len(needle) + 4:  # small decoration around the brand\n",
        "                    return True\n",
        "        return False\n",
        "\n",
        "    sub_lc   = (subdomain or \"\").lower()\n",
        "    pathq_lc = (path + (\"?\" + query if query else \"\")).lower()\n",
        "    reg_label_lc = (ext.domain or \"\").lower()\n",
        "    for bt in BRAND_TOKENS:\n",
        "        if _word_hit(bt, reg_label_lc) or reg_label_lc.endswith(bt) or reg_label_lc.startswith(bt):\n",
        "            continue\n",
        "        if _word_hit(bt, sub_lc) or _word_hit(bt, pathq_lc):\n",
        "            embedded_brand_name = 1\n",
        "            break\n",
        "\n",
        "    # foreign domain strings embedded in subdomain/path/query (not anchors)\n",
        "    def _mark_foreign_domains(text: str):\n",
        "        nonlocal freq_domain_mismatch, embedded_brand_name\n",
        "        for m in re.findall(r'([a-z0-9\\-]+(?:\\.[a-z0-9\\-]+)+)', text, flags=re.I):\n",
        "            try:\n",
        "                dd = _etld(\"http://\" + m)\n",
        "            except:\n",
        "                continue\n",
        "            if dd and not (_same_party(etld, dd) or _is_neutral_cdn(dd) or _is_neutral_social(dd)):\n",
        "                freq_domain_mismatch = 1\n",
        "                root = (dd.split(\".\")[0] or \"\")\n",
        "                if len(root) >= 4:\n",
        "                    embedded_brand_name = 1\n",
        "    _mark_foreign_domains(sub_lc)\n",
        "    _mark_foreign_domains(pathq_lc)\n",
        "\n",
        "    # query URLs pointing elsewhere -> mismatch + possible brand\n",
        "    for k, v in parse_qsl(query, keep_blank_values=True):\n",
        "        v_dec = unquote(v)\n",
        "        if re.match(r'^(?:https?://|//|[a-z0-9\\-]+\\.[a-z]{2,})', v_dec, re.I):\n",
        "            if v_dec.startswith(\"//\"): v_dec = \"http:\" + v_dec\n",
        "            if not v_dec.startswith((\"http://\",\"https://\")): v_dec = \"http://\" + v_dec\n",
        "            try:\n",
        "                ad = _etld(v_dec)\n",
        "                if not (_same_party(etld, ad) or _is_neutral_cdn(ad) or _is_neutral_social(ad)):\n",
        "                    freq_domain_mismatch = 1\n",
        "                    for bt in BRAND_TOKENS:\n",
        "                        if _word_hit(bt, v_dec.lower()):\n",
        "                            embedded_brand_name = 1\n",
        "                            break\n",
        "            except: pass\n",
        "\n",
        "    # fetch & verify HTML\n",
        "    soup = None\n",
        "    is_html = False\n",
        "    resp = None\n",
        "    if fetch_html:\n",
        "        resp = _safe_get(eff_url)\n",
        "        if resp:\n",
        "            ctype = (resp.headers.get(\"content-type\") or \"\").lower()\n",
        "            head  = (resp.text or \"\")[:2048].lower()\n",
        "            is_html = (\"text/html\" in ctype) or (\"<html\" in head) or (\"<head\" in head)\n",
        "            if is_html and resp.text:\n",
        "                soup = BeautifulSoup(resp.text, \"html.parser\")\n",
        "\n",
        "    if is_html:\n",
        "        anchors = soup.find_all(\"a\", href=True) if soup else []\n",
        "        imgs    = soup.find_all(\"img\", src=True) if soup else []\n",
        "        scripts = soup.find_all(\"script\", src=True) if soup else []\n",
        "        links   = [lnk for lnk in (soup.find_all(\"link\", href=True) if soup else [])\n",
        "                   if any(k in \" \".join((lnk.get(\"rel\") or [])).lower() for k in (\"stylesheet\",\"icon\"))]\n",
        "        iframes = soup.find_all(\"iframe\", src=True) if soup else []\n",
        "        frames  = soup.find_all(\"frame\", src=True) if soup else []\n",
        "        node_count = len(anchors)+len(imgs)+len(scripts)+len(links)+len(iframes)+len(frames)\n",
        "\n",
        "        title_text = _robust_title(resp)\n",
        "        missing_title = 0 if node_count < MIN_NODES_FOR_TITLE else (1 if not title_text else 0)\n",
        "\n",
        "        total_anchors = len(anchors)\n",
        "        http_count = ext_count = null_count = 0\n",
        "        anchor_domains = []\n",
        "        for a in anchors:\n",
        "            href = (a.get(\"href\") or \"\").strip().lower()\n",
        "            if not href or href == \"#\" or urljoin(eff_url, href).split(\"#\")[0] == eff_url.split(\"#\")[0]:\n",
        "                null_count += 1; continue\n",
        "            if href.startswith((\"mailto:\", \"tel:\", \"javascript:\")): continue\n",
        "            absu = urljoin(eff_url, href)\n",
        "            if absu.startswith((\"http://\",\"https://\")):\n",
        "                http_count += 1\n",
        "                ad = _etld(absu)\n",
        "                if _is_neutral_cdn(ad) or _is_neutral_social(ad) or _same_party(etld, ad):\n",
        "                    pass\n",
        "                else:\n",
        "                    ext_count += 1; anchor_domains.append(ad)\n",
        "\n",
        "        if total_anchors < MIN_ANCHORS_FOR_RATIO:\n",
        "            pct_ext_hyperlinks  = 0.0\n",
        "            pct_null_self_redir = 0.0\n",
        "        else:\n",
        "            pct_ext_hyperlinks  = _frac(ext_count, total_anchors)\n",
        "            pct_null_self_redir = _frac(null_count, total_anchors)\n",
        "\n",
        "        res_total = res_ext = 0\n",
        "        def _count_ext(nodes, attr):\n",
        "            nonlocal res_total, res_ext\n",
        "            for n in nodes:\n",
        "                u = n.get(attr)\n",
        "                if not u: continue\n",
        "                absu = urljoin(eff_url, u)\n",
        "                if not absu.startswith((\"http://\",\"https://\",\"/\")) and not u.startswith(\"//\"):\n",
        "                    continue\n",
        "                res_total += 1\n",
        "                ad = _etld(absu)\n",
        "                if not (_same_party(etld, ad) or _is_neutral_cdn(ad) or _is_neutral_social(ad)):\n",
        "                    res_ext += 1\n",
        "        _count_ext(imgs,\"src\"); _count_ext(scripts,\"src\"); _count_ext(links,\"href\")\n",
        "        _count_ext(iframes,\"src\"); _count_ext(frames,\"src\")\n",
        "\n",
        "        if res_total < MIN_RES_FOR_RATIO:\n",
        "            pct_ext_resources = 0.0; ext_msl_frac = 0.0\n",
        "        else:\n",
        "            pct_ext_resources = _frac(res_ext, res_total)\n",
        "            msl_total = len(links) + len(scripts); msl_ext = 0\n",
        "            for n in links:\n",
        "                u = n.get(\"href\");      ad = _etld(urljoin(eff_url, u)) if u else \"\"\n",
        "                if u and not (_same_party(etld, ad) or _is_neutral_cdn(ad) or _is_neutral_social(ad)): msl_ext += 1\n",
        "            for n in scripts:\n",
        "                u = n.get(\"src\");       ad = _etld(urljoin(eff_url, u)) if u else \"\"\n",
        "                if u and not (_same_party(etld, ad) or _is_neutral_cdn(ad) or _is_neutral_social(ad)): msl_ext += 1\n",
        "            ext_msl_frac = _frac(msl_ext, msl_total)\n",
        "\n",
        "        fav_url = None\n",
        "        for el in links:\n",
        "            rel = \" \".join(el.get(\"rel\") or []).lower()\n",
        "            if \"icon\" in rel: fav_url = el.get(\"href\"); break\n",
        "        if fav_url:\n",
        "            favd = _etld(urljoin(eff_url, fav_url))\n",
        "            ext_favicon = 0 if (_same_party(etld, favd) or _is_neutral_cdn(favd) or _is_neutral_social(favd)) else 1\n",
        "\n",
        "        forms = soup.find_all(\"form\") if soup else []\n",
        "        if forms:\n",
        "            for f in forms:\n",
        "                action = (f.get(\"action\") or \"\").strip()\n",
        "                low = action.lower()\n",
        "                if low in (\"\", \"#\", \"about:blank\") or low.startswith(\"javascript:\"):\n",
        "                    abnormal_form_action = 1\n",
        "                if action and not action.startswith((\"http://\", \"https://\")):\n",
        "                    relative_form_action = 1\n",
        "                if action.startswith((\"http://\",\"https://\")):\n",
        "                    ad = _etld(action)\n",
        "                    if not (_same_party(etld, ad) or _is_neutral_cdn(ad) or _is_neutral_social(ad)):\n",
        "                        ext_form_action = 1\n",
        "                if action.startswith(\"http://\"): insecure_forms = 1\n",
        "                if \"mailto:\" in low: submit_info_to_email = 1\n",
        "                text_bits = \"\".join(t for t in f.strings if t.strip())\n",
        "                if (not bool(text_bits)) and (f.find(\"img\") or f.find(\"input\", {\"type\":\"image\"})):\n",
        "                    images_only_in_form = 1\n",
        "\n",
        "        # FrequentDomainNameMismatch (stricter)\n",
        "        if total_anchors >= MIN_ANCHORS_FOR_RATIO and anchor_domains:\n",
        "            from collections import Counter\n",
        "            filtered = [d for d in anchor_domains if not (_is_neutral_cdn(d) or _is_neutral_social(d))]\n",
        "            if filtered and total_anchors >= 12:\n",
        "                mf, cnt = Counter(filtered).most_common(1)[0]\n",
        "                if not _same_party(etld, mf):\n",
        "                    share = cnt / max(1, total_anchors)\n",
        "                    if share >= 0.60:\n",
        "                        freq_domain_mismatch = 1\n",
        "                        mf_main = mf.split(\".\")[0]\n",
        "                        COMMON = {\"facebook\",\"twitter\",\"instagram\",\"youtube\",\"linkedin\",\"tiktok\",\n",
        "                                  \"google\",\"gstatic\",\"doubleclick\",\"cloudflare\",\"wp\",\"wordpress\",\n",
        "                                  \"gravatar\",\"disqus\",\"typekit\"}\n",
        "                        if mf_main and len(mf_main) >= 4 and mf_main not in COMMON:\n",
        "                            if (mf_main in subdomain.lower()) or (mf_main in path.lower()):\n",
        "                                embedded_brand_name = 1\n",
        "\n",
        "        page_text = (soup.get_text(\" \", strip=False) if soup else \"\").lower()\n",
        "        if \"onmouseover\" in page_text and \"window.status\" in page_text: fake_link_statusbar = 1\n",
        "        if re.search(r\"event\\.button\\s*==\\s*2\", page_text):             right_click_disabled = 1\n",
        "        if re.search(r\"(window\\.open\\s*\\(|alert\\s*\\()\", page_text):      popup_window = 1\n",
        "\n",
        "        iframe_or_frame = 1 if (len(iframes)+len(frames)) else 0\n",
        "\n",
        "    # ---- Ratings (RT) exactly mapped to {-1,0,1}\n",
        "    subdomain_level_rt = 1 if subdomain_level <= 1 else (0 if subdomain_level == 2 else -1)\n",
        "    url_length_rt      = 1 if url_length < URL_LEN_T1 else (0 if url_length <= URL_LEN_T2 else -1)\n",
        "    pct_ext_res_rt     = 1 if pct_ext_resources <= RES_RT_T1 else (0 if pct_ext_resources <= RES_RT_T2 else -1)\n",
        "    if abnormal_form_action and relative_form_action: abn_ext_form_r = -1\n",
        "    elif ext_form_action:                               abn_ext_form_r = 0\n",
        "    else:                                               abn_ext_form_r = 1\n",
        "    ext_msl_rt        = 1 if ext_msl_frac <= MSL_RT_T1 else (0 if ext_msl_frac <= MSL_RT_T2 else -1)\n",
        "    pct_null_self_rt  = 1 if pct_null_self_redir <= NULL_RT_T1 else (0 if pct_null_self_redir <= NULL_RT_T2 else -1)\n",
        "\n",
        "    row = [\n",
        "        int(num_dots), int(subdomain_level), int(path_level), int(url_length), int(num_dash), int(num_dash_host),\n",
        "        int(at_symbol), int(tilde_symbol), int(num_underscore), int(num_percent), int(num_query_components),\n",
        "        int(num_amp), int(num_hash), int(num_numeric_chars), int(no_https), int(random_string), int(ip_address),\n",
        "        int(domain_in_subdomains), int(domain_in_paths), int(https_in_hostname), int(hostname_length), int(path_length),\n",
        "        int(query_length), int(double_slash_in_path), int(num_sensitive_words), int(embedded_brand_name),\n",
        "        float(pct_ext_hyperlinks), float(pct_ext_resources), int(ext_favicon), int(insecure_forms), int(relative_form_action),\n",
        "        int(ext_form_action), int(abnormal_form_action), float(pct_null_self_redir), int(freq_domain_mismatch),\n",
        "        int(fake_link_statusbar), int(right_click_disabled), int(popup_window), int(submit_info_to_email), int(iframe_or_frame),\n",
        "        int(missing_title), int(images_only_in_form), int(subdomain_level_rt), int(url_length_rt), int(pct_ext_res_rt),\n",
        "        int(abn_ext_form_r), int(ext_msl_rt), int(pct_null_self_rt)\n",
        "    ]\n",
        "    return pd.DataFrame([row], columns=FEATURE_COLUMNS)\n",
        "\n",
        "\n",
        "def predict_url_phish(url, xgb_model, threshold: float = THRESHOLD):\n",
        "    feats = extract_48_features(url, fetch_html=True)\n",
        "    X = feats.values.astype(float)\n",
        "    Xs = sc.transform(X)  # using the fitted StandardScaler you loaded\n",
        "\n",
        "    proba = xgb_model.predict_proba(Xs)  # works for Pipeline or bare estimator\n",
        "\n",
        "    # Get the final classifier object to read `classes_` safely\n",
        "    clf = xgb_model.named_steps[\"xgbclassifier\"] if hasattr(xgb_model, \"named_steps\") else xgb_model\n",
        "    classes = clf.classes_\n",
        "\n",
        "    phish_col = (list(classes).index(1) if 1 in set(classes)\n",
        "                 else list(classes).index(\"phishing\") if \"phishing\" in set(classes)\n",
        "                 else proba.shape[1] - 1)\n",
        "\n",
        "    prob_phish = float(proba[0, phish_col])\n",
        "    label_id   = int(prob_phish >= threshold)\n",
        "    label      = \"Phishing\" if label_id else \"Legit\"\n",
        "\n",
        "    return {\"features\": feats, \"prob_phish\": prob_phish, \"label_id\": label_id, \"label\": label}\n",
        "\n",
        "#====================================== END =================================================\n",
        "\n",
        "MODEL_PATH = Path(\"/content/xgb_model.pkl\")\n",
        "SCALER_PATH = Path(\"/content/std_scaler.pkl\")\n",
        "if not MODEL_PATH.exists():\n",
        "    raise FileNotFoundError(\"xgb_model.pkl not found. Upload it to the Colab file pane.\")\n",
        "if not SCALER_PATH.exists():\n",
        "    raise FileNotFoundError(\"std_scaler.pkl not found. Save and upload your fitted scaler.\")\n",
        "\n",
        "xgb_model = joblib.load(MODEL_PATH)\n",
        "sc        = joblib.load(SCALER_PATH)\n",
        "\n",
        "def predict_url(url: str, threshold: float = THRESHOLD):\n",
        "    url = (url or \"\").strip()\n",
        "    if not url:\n",
        "        return \"Please enter a URL.\", \"\"\n",
        "\n",
        "    # Basic URL format validation\n",
        "    url_pattern = re.compile(\n",
        "        r'^(https?:\\/\\/)?'                 # http:// or https:// (optional)\n",
        "        r'([a-zA-Z0-9-]+\\.)+[a-zA-Z]{2,}'  # domain like example.com\n",
        "        r'(:\\d+)?'                         # optional port\n",
        "        r'(\\/.*)?$'                        # optional path\n",
        "    )\n",
        "    if not url_pattern.match(url):\n",
        "        return \"❌ Invalid URL format. Please try again.\", \"\"\n",
        "\n",
        "    res = predict_url_phish(url, xgb_model=xgb_model, threshold=threshold)\n",
        "\n",
        "    label_txt  = \"🟥 Phishing\" if res[\"label_id\"] == 1 else \"🟩 Legit\"\n",
        "    return label_txt, f\"{res['prob_phish']:.3f}\"\n",
        "\n",
        "BG_URL = \"https://raw.githubusercontent.com/NHCH1/DLI/refs/heads/main/internet-security-protection-from-hacker-attacking-cyber-attack-and-network-security-concept-free-photo.jpg\"\n",
        "\n",
        "# 3) Build CSS with the BG_URL inserted\n",
        "css = \"\"\"\n",
        "/* =============== Page background =============== */\n",
        ".gradio-container{\n",
        "  background-image: url('{BG_URL}');\n",
        "  background-size: cover;\n",
        "  background-position: center;\n",
        "  background-attachment: fixed;\n",
        "}\n",
        "html, body{ background: transparent !important; }\n",
        "\n",
        "/* =============== Glow panel =============== */\n",
        "#glow-panel{\n",
        "  position: relative;\n",
        "  margin: 24px auto;\n",
        "  max-width: 1200px;\n",
        "  padding: 22px;\n",
        "  border-radius: 24px;\n",
        "  background: transparent;\n",
        "}\n",
        "#glow-panel::before{\n",
        "  content:\"\";\n",
        "  position:absolute;\n",
        "  inset:-200px;\n",
        "  border-radius: 48px;\n",
        "  pointer-events:none;\n",
        "  z-index:0;\n",
        "  background: radial-gradient(farthest-side at 50% 35%,\n",
        "    rgba(255,255,255,.92) 0%,\n",
        "    rgba(255,255,255,.70) 25%,\n",
        "    rgba(255,255,255,.40) 55%,\n",
        "    rgba(255,255,255,.18) 78%,\n",
        "    rgba(255,255,255,.08) 90%,\n",
        "    rgba(255,255,255,0) 100%);\n",
        "  filter: blur(36px);\n",
        "}\n",
        "#glow-panel > *{ position:relative; z-index:1; }\n",
        "\n",
        "/* strip default boxes inside the panel */\n",
        "#glow-panel *:where(:not(input):not(textarea):not(button)){\n",
        "  background: transparent !important;\n",
        "  box-shadow: none !important;\n",
        "  border-color: transparent !important;\n",
        "}\n",
        "\n",
        "/* =============== Inputs =============== */\n",
        "#url-box :is(input,textarea),\n",
        "#result-box :is(input,textarea),\n",
        "#prob-box :is(input,textarea){\n",
        "  background: rgba(15,23,42,.80) !important; /* dark glass */\n",
        "  color: #F8FAFC !important;\n",
        "  border: 1px solid rgba(255,255,255,.25) !important;\n",
        "  border-radius: 12px !important;\n",
        "  backdrop-filter: blur(3px);\n",
        "  font-weight: 400 !important;               /* keep input text normal */\n",
        "}\n",
        "#url-box :is(input,textarea)::placeholder,\n",
        "#result-box :is(input,textarea)::placeholder,\n",
        "#prob-box :is(input,textarea)::placeholder{\n",
        "  color: rgba(248,250,252,.60) !important;\n",
        "  font-weight: 400 !important;               /* keep placeholder normal */\n",
        "}\n",
        "\n",
        "/* “cards” around result & probability */\n",
        "#result-box, #prob-box{\n",
        "  background: rgba(255,255,255,.14) !important;\n",
        "  border: 1px solid rgba(0,0,0,.06) !important;\n",
        "  border-radius: 14px !important;\n",
        "  padding: 0 !important;\n",
        "  box-shadow: 0 1px 0 rgba(255,255,255,.22) inset;\n",
        "}\n",
        "\n",
        "\n",
        "/* =============== Buttons =============== */\n",
        "#btn-detect,\n",
        "#btn-clear{\n",
        "  color:#fff !important;\n",
        "  border:none !important;\n",
        "  border-radius:14px !important;\n",
        "  padding:10px 16px !important;\n",
        "  font-weight:700 !important;\n",
        "  transition: background .18s ease, transform .18s ease;\n",
        "}\n",
        "#btn-detect{ background:#e11d29 !important; }      /* base red   */\n",
        "#btn-clear { background:#15803d !important; }      /* base green */\n",
        "\n",
        "/* distinct hover colors (kept) */\n",
        "#btn-detect:hover{ background:#f43f5e !important; transform: translateY(-1px); }\n",
        "#btn-clear:hover { background:#10b981 !important; transform: translateY(-1px); }\n",
        "\n",
        "/* =============== Layout / spacing =============== */\n",
        "#btn-row,\n",
        "#btn-row > div{ display:flex !important; gap:24px !important; }\n",
        "#btn-row > *{ flex:1 1 0 !important; }\n",
        "#btn-row .gr-button{ width:100% !important; }\n",
        "#btn-row{ padding-inline:12px !important; }\n",
        "\n",
        "#result-container{ margin-top:28px; padding-inline:12px !important; }\n",
        "#results-row{ display:flex !important; gap:24px !important; align-items:stretch !important; }\n",
        "#results-row > *{ flex:1 1 0 !important; }\n",
        "\n",
        "\n",
        "/* === Make the three section titles black, bold, and a bit larger === */\n",
        "\n",
        "#url-box :is([data-testid=\"block-label\"], .label, label),\n",
        "#url-box :is([data-testid=\"block-label\"], .label, label) *,\n",
        "\n",
        "#result-box :is([data-testid=\"block-label\"], .label, label),\n",
        "#result-box :is([data-testid=\"block-label\"], .label, label) *,\n",
        "\n",
        "#prob-box :is([data-testid=\"block-label\"], .label, label),\n",
        "#prob-box :is([data-testid=\"block-label\"], .label, label) * {\n",
        "  color: #000 !important;\n",
        "  font-weight: 800 !important;                 /* bold */\n",
        "  font-size: clamp(1.12rem, 1rem + 0.5vw, 1.3rem) !important; /* a bit larger */\n",
        "  line-height: 1.35 !important;\n",
        "  letter-spacing: .2px !important;\n",
        "  opacity: 1 !important;\n",
        "  text-shadow: none !important;\n",
        "}\n",
        "\n",
        "/* Force typed input text to white (also cursor) */\n",
        "#url-box input[type=\"text\"],\n",
        "#url-box textarea,\n",
        "#result-box input[type=\"text\"],\n",
        "#result-box textarea,\n",
        "#prob-box input[type=\"text\"],\n",
        "#prob-box textarea {\n",
        "  color: #ffffff !important;              /* normal CSS text color */\n",
        "  -webkit-text-fill-color: #ffffff !important; /* Safari/Chrome fix */\n",
        "  caret-color: #ffffff !important;        /* make cursor white */\n",
        "  font-weight: 200 !important;\n",
        "}\n",
        "\n",
        "\"\"\"\n",
        "css = css.replace(\"{BG_URL}\", BG_URL)\n",
        "\n",
        "\n",
        "with gr.Blocks(css=css, title=\"URL Phishing Detector\") as demo:\n",
        "    gr.Markdown(\"<h1 style='text-align:center;color:#DC3C22'>🔍 URL Phishing Detector</h1>\")\n",
        "    with gr.Group(elem_id=\"glow-panel\"):\n",
        "        with gr.Row(elem_id=\"url-container\"):\n",
        "            url_in = gr.Textbox(\n",
        "                label=\"Please enter URL\",\n",
        "                placeholder=\"http://example.com/login\",\n",
        "                elem_id=\"url-box\"\n",
        "            )\n",
        "\n",
        "        with gr.Row(elem_id=\"btn-row\"):\n",
        "            btn_detect = gr.Button(\"Start Detect\", elem_id=\"btn-detect\")\n",
        "            btn_clear  = gr.Button(\"Clear\",        elem_id=\"btn-clear\")\n",
        "\n",
        "        with gr.Group(elem_id=\"result-container\"):\n",
        "            with gr.Row(elem_id=\"results-row\"):\n",
        "                with gr.Column(scale=1):\n",
        "                    with gr.Group(elem_id=\"result-box\"):\n",
        "                        label_out = gr.Textbox(label=\"Result\", interactive=False)\n",
        "                with gr.Column(scale=1):\n",
        "                    with gr.Group(elem_id=\"prob-box\"):\n",
        "                        prob_out  = gr.Textbox(label=\"Phishing probability\", interactive=False)\n",
        "\n",
        "    btn_detect.click(predict_url, [url_in], [label_out, prob_out])\n",
        "    btn_clear.click(lambda: (\"\",\"\"), None, [label_out, prob_out])\n",
        "    btn_clear.click(lambda: \"\", None, url_in)\n",
        "\n",
        "demo.launch(share=True, inline=True, debug=True)"
      ],
      "metadata": {
        "id": "Fr4UlCZEZEgW",
        "colab": {
          "base_uri": "https://localhost:8080/",
          "height": 611
        },
        "outputId": "bf9807f5-bea2-46e6-df28-ae944edcc537"
      },
      "execution_count": null,
      "outputs": [
        {
          "output_type": "stream",
          "name": "stdout",
          "text": [
            "Colab notebook detected. This cell will run indefinitely so that you can see errors and logs. To turn off, set debug=False in launch().\n",
            "* Running on public URL: https://f5d3e5af41ded0f1fb.gradio.live\n",
            "\n",
            "This share link expires in 1 week. For free permanent hosting and GPU upgrades, run `gradio deploy` from the terminal in the working directory to deploy to Hugging Face Spaces (https://huggingface.co/spaces)\n"
          ]
        },
        {
          "output_type": "display_data",
          "data": {
            "text/plain": [
              "<IPython.core.display.HTML object>"
            ],
            "text/html": [
              "<div><iframe src=\"https://f5d3e5af41ded0f1fb.gradio.live\" width=\"100%\" height=\"500\" allow=\"autoplay; camera; microphone; clipboard-read; clipboard-write;\" frameborder=\"0\" allowfullscreen></iframe></div>"
            ]
          },
          "metadata": {}
        }
      ]
    },
    {
      "cell_type": "markdown",
      "source": [
        "# XGBoost - Liong Chi Teng - TP065355"
      ],
      "metadata": {
        "id": "gQHYt3vZHVFY"
      }
    },
    {
      "cell_type": "markdown",
      "source": [
        "Data processing"
      ],
      "metadata": {
        "id": "3hPUMbXuOHWE"
      }
    },
    {
      "cell_type": "code",
      "source": [
        "xgb_feature = data.drop([48],axis=1)\n",
        "print(xgb_feature)\n",
        "xgb_target = data[48]\n",
        "print(xgb_target)"
      ],
      "metadata": {
        "id": "7SXLPPONNxib",
        "outputId": "cbe8d6d1-d7c5-45f8-8dc4-ab95d65ae782",
        "colab": {
          "base_uri": "https://localhost:8080/"
        }
      },
      "execution_count": 49,
      "outputs": [
        {
          "output_type": "stream",
          "name": "stdout",
          "text": [
            "      0   1   2    3   4   5   6   7   8   9   ...  38  39  40  41  42  43  \\\n",
            "0      3   1   5   72   0   0   0   0   0   0  ...   0   0   0   1   1   0   \n",
            "1      3   1   3  144   0   0   0   0   2   0  ...   0   0   0   0   1  -1   \n",
            "2      3   1   2   58   0   0   0   0   0   0  ...   0   0   0   0   1   0   \n",
            "3      3   1   6   79   1   0   0   0   0   0  ...   1   0   0   0   1  -1   \n",
            "4      3   0   4   46   0   0   0   0   0   0  ...   0   1   0   0   1   1   \n",
            "...   ..  ..  ..  ...  ..  ..  ..  ..  ..  ..  ...  ..  ..  ..  ..  ..  ..   \n",
            "9995   3   1   1   50   0   0   0   0   0   0  ...   0   0   0   0   1   1   \n",
            "9996   2   1   4   59   1   0   0   0   0   0  ...   0   1   0   0   1   0   \n",
            "9997   2   1   4   57   0   0   0   0   0   0  ...   0   0   0   0   1   0   \n",
            "9998   3   1   1   49   0   0   0   0   0   0  ...   0   1   0   0   1   1   \n",
            "9999   3   1   2   52   3   0   0   0   0   0  ...   0   0   0   0   1   1   \n",
            "\n",
            "      44  45  46  47  \n",
            "0      1   1  -1   1  \n",
            "1      1   1   1   1  \n",
            "2     -1   1  -1   0  \n",
            "3      1   1   1  -1  \n",
            "4     -1   0  -1  -1  \n",
            "...   ..  ..  ..  ..  \n",
            "9995  -1   1   0   1  \n",
            "9996   0   1   0   1  \n",
            "9997   1   1   0   1  \n",
            "9998   0   1   0   1  \n",
            "9999   1   1   1   1  \n",
            "\n",
            "[10000 rows x 48 columns]\n",
            "0       1\n",
            "1       1\n",
            "2       1\n",
            "3       1\n",
            "4       1\n",
            "       ..\n",
            "9995    0\n",
            "9996    0\n",
            "9997    0\n",
            "9998    0\n",
            "9999    0\n",
            "Name: 48, Length: 10000, dtype: int64\n"
          ]
        }
      ]
    },
    {
      "cell_type": "markdown",
      "source": [
        "Retest original paper code"
      ],
      "metadata": {
        "id": "KmXC7J3gOfrD"
      }
    },
    {
      "cell_type": "code",
      "source": [
        "ind_xg = XGBClassifier(use_label_encoder =False, eval_metric='logloss')\n",
        "from sklearn.metrics import make_scorer\n",
        "from imblearn.metrics import geometric_mean_score\n",
        "xgb_scores={'accuracy': make_scorer(accuracy_score),\n",
        "            'recall' : make_scorer(recall_score),\n",
        "            'precision':make_scorer(precision_score),\n",
        "            'gmean': make_scorer(geometric_mean_score),\n",
        "            'f1':make_scorer(f1_score),\n",
        "            'roc': make_scorer(roc_auc_score)\n",
        "            }\n",
        "from sklearn.model_selection import cross_validate\n",
        "ind_xg_result = cross_validate(ind_xg, xgb_feature, xgb_target, cv = 10, scoring=xgb_scores)\n",
        "df = pd.DataFrame(ind_xg_result)\n",
        "\n",
        "ori_xgb_scores = df.mean(axis=0)\n",
        "ori_xgb_acc  = ori_xgb_scores['test_accuracy']\n",
        "ori_xgb_prec = ori_xgb_scores['test_precision']\n",
        "ori_xgb_rec  = ori_xgb_scores['test_recall']\n",
        "ori_xgb_f1   = ori_xgb_scores['test_f1']\n",
        "ori_xgb_roc  = ori_xgb_scores['test_roc']\n",
        "\n",
        "df.mean(axis=0)"
      ],
      "metadata": {
        "id": "qiLcXME6OUOz",
        "outputId": "b153c03c-3aa9-496c-a427-54e4a1ec9677",
        "colab": {
          "base_uri": "https://localhost:8080/",
          "height": 335
        }
      },
      "execution_count": 50,
      "outputs": [
        {
          "output_type": "execute_result",
          "data": {
            "text/plain": [
              "fit_time          4.118053\n",
              "score_time        0.075075\n",
              "test_accuracy     0.982600\n",
              "test_recall       0.980000\n",
              "test_precision    0.985211\n",
              "test_gmean        0.982576\n",
              "test_f1           0.982559\n",
              "test_roc          0.982600\n",
              "dtype: float64"
            ],
            "text/html": [
              "<div>\n",
              "<style scoped>\n",
              "    .dataframe tbody tr th:only-of-type {\n",
              "        vertical-align: middle;\n",
              "    }\n",
              "\n",
              "    .dataframe tbody tr th {\n",
              "        vertical-align: top;\n",
              "    }\n",
              "\n",
              "    .dataframe thead th {\n",
              "        text-align: right;\n",
              "    }\n",
              "</style>\n",
              "<table border=\"1\" class=\"dataframe\">\n",
              "  <thead>\n",
              "    <tr style=\"text-align: right;\">\n",
              "      <th></th>\n",
              "      <th>0</th>\n",
              "    </tr>\n",
              "  </thead>\n",
              "  <tbody>\n",
              "    <tr>\n",
              "      <th>fit_time</th>\n",
              "      <td>4.118053</td>\n",
              "    </tr>\n",
              "    <tr>\n",
              "      <th>score_time</th>\n",
              "      <td>0.075075</td>\n",
              "    </tr>\n",
              "    <tr>\n",
              "      <th>test_accuracy</th>\n",
              "      <td>0.982600</td>\n",
              "    </tr>\n",
              "    <tr>\n",
              "      <th>test_recall</th>\n",
              "      <td>0.980000</td>\n",
              "    </tr>\n",
              "    <tr>\n",
              "      <th>test_precision</th>\n",
              "      <td>0.985211</td>\n",
              "    </tr>\n",
              "    <tr>\n",
              "      <th>test_gmean</th>\n",
              "      <td>0.982576</td>\n",
              "    </tr>\n",
              "    <tr>\n",
              "      <th>test_f1</th>\n",
              "      <td>0.982559</td>\n",
              "    </tr>\n",
              "    <tr>\n",
              "      <th>test_roc</th>\n",
              "      <td>0.982600</td>\n",
              "    </tr>\n",
              "  </tbody>\n",
              "</table>\n",
              "</div><br><label><b>dtype:</b> float64</label>"
            ]
          },
          "metadata": {},
          "execution_count": 50
        }
      ]
    },
    {
      "cell_type": "markdown",
      "source": [
        "Evaluating inference time and model size"
      ],
      "metadata": {
        "id": "9-98N3ydQYRD"
      }
    },
    {
      "cell_type": "code",
      "source": [
        "ind_xg.fit(xgb_feature, xgb_target)\n",
        "\n",
        "start_time = time.time()\n",
        "_ = ind_xg.predict_proba(xgb_feature)\n",
        "end_time = time.time()\n",
        "ori_xgb_total_inference_time = end_time - start_time\n",
        "ori_xgb_avg_inference_time = ori_xgb_total_inference_time / len(xgb_feature)\n",
        "print(f\"Total Inference time: {ori_xgb_total_inference_time:.8f} seconds\")\n",
        "print(f\"Average per sample:     {ori_xgb_avg_inference_time:.8f} seconds\")\n",
        "\n",
        "ind_xg.save_model('ori_xgb.json')\n",
        "ori_xgb_size_in_bytes = os.path.getsize('ori_xgb.json')\n",
        "ori_xgb_size_in_kb = ori_xgb_size_in_bytes / 1024\n",
        "print(f\"Model size: {ori_xgb_size_in_kb:.2f} KB\")"
      ],
      "metadata": {
        "id": "RFjvjsluQc8M",
        "outputId": "2668fc40-74a4-4d8c-8730-3670cdb64098",
        "colab": {
          "base_uri": "https://localhost:8080/"
        }
      },
      "execution_count": 51,
      "outputs": [
        {
          "output_type": "stream",
          "name": "stdout",
          "text": [
            "Total Inference time: 0.03228498 seconds\n",
            "Average per sample:     0.00000323 seconds\n",
            "Model size: 292.28 KB\n"
          ]
        }
      ]
    },
    {
      "cell_type": "markdown",
      "source": [
        "Side by side comparison"
      ],
      "metadata": {
        "id": "vtr6pE8nXNpl"
      }
    },
    {
      "cell_type": "code",
      "source": [
        "xgb_comparison_data = {\n",
        "    \"Metric\": [\"Accuracy\", \"Precision\", \"Recall\", \"F1-score\", \"ROC-AUC\", \"Total Inference Time (s)\", \"Avg Inference Time (s)\", \"Model Size (KB)\"],\n",
        "\n",
        "    \"Old (ind_xg)\": [\n",
        "        f\"{ori_xgb_acc:.4f}\",\n",
        "        f\"{ori_xgb_prec:.4f}\",\n",
        "        f\"{ori_xgb_rec:.4f}\",\n",
        "        f\"{ori_xgb_f1:.4f}\",\n",
        "        f\"{ori_xgb_roc:.4f}\",\n",
        "        f\"{ori_xgb_total_inference_time:.8f}\",\n",
        "        f\"{ori_xgb_avg_inference_time:.8f}\",\n",
        "        f\"{ori_xgb_size_in_kb:.2f}\"\n",
        "    ],\n",
        "\n",
        "    \"New (xgb_model)\": [\n",
        "        f\"{xgb_acc:.4f}\",\n",
        "        f\"{xgb_prec:.4f}\",\n",
        "        f\"{xgb_rec:.4f}\",\n",
        "        f\"{xgb_f1:.4f}\",\n",
        "        f\"{xgb_roc_auc:.4f}\",\n",
        "        f\"{xgb_inference_time:.8f}\",\n",
        "        f\"{xgb_avg_time:.8f}\",\n",
        "        f\"{new_xgb_size_in_kb:.2f}\"\n",
        "    ]\n",
        "}\n",
        "\n",
        "pd.DataFrame(xgb_comparison_data)"
      ],
      "metadata": {
        "id": "24d1E6U3XP7j",
        "outputId": "e66ed420-5e51-4fd7-9c0b-bcf04dae84a8",
        "colab": {
          "base_uri": "https://localhost:8080/",
          "height": 300
        }
      },
      "execution_count": 52,
      "outputs": [
        {
          "output_type": "execute_result",
          "data": {
            "text/plain": [
              "                     Metric Old (ind_xg) New (xgb_model)\n",
              "0                  Accuracy       0.9826          0.9853\n",
              "1                 Precision       0.9852          0.9822\n",
              "2                    Recall       0.9800          0.9887\n",
              "3                  F1-score       0.9826          0.9855\n",
              "4                   ROC-AUC       0.9826          0.9982\n",
              "5  Total Inference Time (s)   0.03228498      0.12942076\n",
              "6    Avg Inference Time (s)   0.00000323      0.00004314\n",
              "7           Model Size (KB)       292.28         2740.81"
            ],
            "text/html": [
              "\n",
              "  <div id=\"df-73e9d939-bf38-442f-9777-e9d56d40d7a9\" class=\"colab-df-container\">\n",
              "    <div>\n",
              "<style scoped>\n",
              "    .dataframe tbody tr th:only-of-type {\n",
              "        vertical-align: middle;\n",
              "    }\n",
              "\n",
              "    .dataframe tbody tr th {\n",
              "        vertical-align: top;\n",
              "    }\n",
              "\n",
              "    .dataframe thead th {\n",
              "        text-align: right;\n",
              "    }\n",
              "</style>\n",
              "<table border=\"1\" class=\"dataframe\">\n",
              "  <thead>\n",
              "    <tr style=\"text-align: right;\">\n",
              "      <th></th>\n",
              "      <th>Metric</th>\n",
              "      <th>Old (ind_xg)</th>\n",
              "      <th>New (xgb_model)</th>\n",
              "    </tr>\n",
              "  </thead>\n",
              "  <tbody>\n",
              "    <tr>\n",
              "      <th>0</th>\n",
              "      <td>Accuracy</td>\n",
              "      <td>0.9826</td>\n",
              "      <td>0.9853</td>\n",
              "    </tr>\n",
              "    <tr>\n",
              "      <th>1</th>\n",
              "      <td>Precision</td>\n",
              "      <td>0.9852</td>\n",
              "      <td>0.9822</td>\n",
              "    </tr>\n",
              "    <tr>\n",
              "      <th>2</th>\n",
              "      <td>Recall</td>\n",
              "      <td>0.9800</td>\n",
              "      <td>0.9887</td>\n",
              "    </tr>\n",
              "    <tr>\n",
              "      <th>3</th>\n",
              "      <td>F1-score</td>\n",
              "      <td>0.9826</td>\n",
              "      <td>0.9855</td>\n",
              "    </tr>\n",
              "    <tr>\n",
              "      <th>4</th>\n",
              "      <td>ROC-AUC</td>\n",
              "      <td>0.9826</td>\n",
              "      <td>0.9982</td>\n",
              "    </tr>\n",
              "    <tr>\n",
              "      <th>5</th>\n",
              "      <td>Total Inference Time (s)</td>\n",
              "      <td>0.03228498</td>\n",
              "      <td>0.12942076</td>\n",
              "    </tr>\n",
              "    <tr>\n",
              "      <th>6</th>\n",
              "      <td>Avg Inference Time (s)</td>\n",
              "      <td>0.00000323</td>\n",
              "      <td>0.00004314</td>\n",
              "    </tr>\n",
              "    <tr>\n",
              "      <th>7</th>\n",
              "      <td>Model Size (KB)</td>\n",
              "      <td>292.28</td>\n",
              "      <td>2740.81</td>\n",
              "    </tr>\n",
              "  </tbody>\n",
              "</table>\n",
              "</div>\n",
              "    <div class=\"colab-df-buttons\">\n",
              "\n",
              "  <div class=\"colab-df-container\">\n",
              "    <button class=\"colab-df-convert\" onclick=\"convertToInteractive('df-73e9d939-bf38-442f-9777-e9d56d40d7a9')\"\n",
              "            title=\"Convert this dataframe to an interactive table.\"\n",
              "            style=\"display:none;\">\n",
              "\n",
              "  <svg xmlns=\"http://www.w3.org/2000/svg\" height=\"24px\" viewBox=\"0 -960 960 960\">\n",
              "    <path d=\"M120-120v-720h720v720H120Zm60-500h600v-160H180v160Zm220 220h160v-160H400v160Zm0 220h160v-160H400v160ZM180-400h160v-160H180v160Zm440 0h160v-160H620v160ZM180-180h160v-160H180v160Zm440 0h160v-160H620v160Z\"/>\n",
              "  </svg>\n",
              "    </button>\n",
              "\n",
              "  <style>\n",
              "    .colab-df-container {\n",
              "      display:flex;\n",
              "      gap: 12px;\n",
              "    }\n",
              "\n",
              "    .colab-df-convert {\n",
              "      background-color: #E8F0FE;\n",
              "      border: none;\n",
              "      border-radius: 50%;\n",
              "      cursor: pointer;\n",
              "      display: none;\n",
              "      fill: #1967D2;\n",
              "      height: 32px;\n",
              "      padding: 0 0 0 0;\n",
              "      width: 32px;\n",
              "    }\n",
              "\n",
              "    .colab-df-convert:hover {\n",
              "      background-color: #E2EBFA;\n",
              "      box-shadow: 0px 1px 2px rgba(60, 64, 67, 0.3), 0px 1px 3px 1px rgba(60, 64, 67, 0.15);\n",
              "      fill: #174EA6;\n",
              "    }\n",
              "\n",
              "    .colab-df-buttons div {\n",
              "      margin-bottom: 4px;\n",
              "    }\n",
              "\n",
              "    [theme=dark] .colab-df-convert {\n",
              "      background-color: #3B4455;\n",
              "      fill: #D2E3FC;\n",
              "    }\n",
              "\n",
              "    [theme=dark] .colab-df-convert:hover {\n",
              "      background-color: #434B5C;\n",
              "      box-shadow: 0px 1px 3px 1px rgba(0, 0, 0, 0.15);\n",
              "      filter: drop-shadow(0px 1px 2px rgba(0, 0, 0, 0.3));\n",
              "      fill: #FFFFFF;\n",
              "    }\n",
              "  </style>\n",
              "\n",
              "    <script>\n",
              "      const buttonEl =\n",
              "        document.querySelector('#df-73e9d939-bf38-442f-9777-e9d56d40d7a9 button.colab-df-convert');\n",
              "      buttonEl.style.display =\n",
              "        google.colab.kernel.accessAllowed ? 'block' : 'none';\n",
              "\n",
              "      async function convertToInteractive(key) {\n",
              "        const element = document.querySelector('#df-73e9d939-bf38-442f-9777-e9d56d40d7a9');\n",
              "        const dataTable =\n",
              "          await google.colab.kernel.invokeFunction('convertToInteractive',\n",
              "                                                    [key], {});\n",
              "        if (!dataTable) return;\n",
              "\n",
              "        const docLinkHtml = 'Like what you see? Visit the ' +\n",
              "          '<a target=\"_blank\" href=https://colab.research.google.com/notebooks/data_table.ipynb>data table notebook</a>'\n",
              "          + ' to learn more about interactive tables.';\n",
              "        element.innerHTML = '';\n",
              "        dataTable['output_type'] = 'display_data';\n",
              "        await google.colab.output.renderOutput(dataTable, element);\n",
              "        const docLink = document.createElement('div');\n",
              "        docLink.innerHTML = docLinkHtml;\n",
              "        element.appendChild(docLink);\n",
              "      }\n",
              "    </script>\n",
              "  </div>\n",
              "\n",
              "\n",
              "    <div id=\"df-990897e2-cd91-412a-a1c8-c48d02c88777\">\n",
              "      <button class=\"colab-df-quickchart\" onclick=\"quickchart('df-990897e2-cd91-412a-a1c8-c48d02c88777')\"\n",
              "                title=\"Suggest charts\"\n",
              "                style=\"display:none;\">\n",
              "\n",
              "<svg xmlns=\"http://www.w3.org/2000/svg\" height=\"24px\"viewBox=\"0 0 24 24\"\n",
              "     width=\"24px\">\n",
              "    <g>\n",
              "        <path d=\"M19 3H5c-1.1 0-2 .9-2 2v14c0 1.1.9 2 2 2h14c1.1 0 2-.9 2-2V5c0-1.1-.9-2-2-2zM9 17H7v-7h2v7zm4 0h-2V7h2v10zm4 0h-2v-4h2v4z\"/>\n",
              "    </g>\n",
              "</svg>\n",
              "      </button>\n",
              "\n",
              "<style>\n",
              "  .colab-df-quickchart {\n",
              "      --bg-color: #E8F0FE;\n",
              "      --fill-color: #1967D2;\n",
              "      --hover-bg-color: #E2EBFA;\n",
              "      --hover-fill-color: #174EA6;\n",
              "      --disabled-fill-color: #AAA;\n",
              "      --disabled-bg-color: #DDD;\n",
              "  }\n",
              "\n",
              "  [theme=dark] .colab-df-quickchart {\n",
              "      --bg-color: #3B4455;\n",
              "      --fill-color: #D2E3FC;\n",
              "      --hover-bg-color: #434B5C;\n",
              "      --hover-fill-color: #FFFFFF;\n",
              "      --disabled-bg-color: #3B4455;\n",
              "      --disabled-fill-color: #666;\n",
              "  }\n",
              "\n",
              "  .colab-df-quickchart {\n",
              "    background-color: var(--bg-color);\n",
              "    border: none;\n",
              "    border-radius: 50%;\n",
              "    cursor: pointer;\n",
              "    display: none;\n",
              "    fill: var(--fill-color);\n",
              "    height: 32px;\n",
              "    padding: 0;\n",
              "    width: 32px;\n",
              "  }\n",
              "\n",
              "  .colab-df-quickchart:hover {\n",
              "    background-color: var(--hover-bg-color);\n",
              "    box-shadow: 0 1px 2px rgba(60, 64, 67, 0.3), 0 1px 3px 1px rgba(60, 64, 67, 0.15);\n",
              "    fill: var(--button-hover-fill-color);\n",
              "  }\n",
              "\n",
              "  .colab-df-quickchart-complete:disabled,\n",
              "  .colab-df-quickchart-complete:disabled:hover {\n",
              "    background-color: var(--disabled-bg-color);\n",
              "    fill: var(--disabled-fill-color);\n",
              "    box-shadow: none;\n",
              "  }\n",
              "\n",
              "  .colab-df-spinner {\n",
              "    border: 2px solid var(--fill-color);\n",
              "    border-color: transparent;\n",
              "    border-bottom-color: var(--fill-color);\n",
              "    animation:\n",
              "      spin 1s steps(1) infinite;\n",
              "  }\n",
              "\n",
              "  @keyframes spin {\n",
              "    0% {\n",
              "      border-color: transparent;\n",
              "      border-bottom-color: var(--fill-color);\n",
              "      border-left-color: var(--fill-color);\n",
              "    }\n",
              "    20% {\n",
              "      border-color: transparent;\n",
              "      border-left-color: var(--fill-color);\n",
              "      border-top-color: var(--fill-color);\n",
              "    }\n",
              "    30% {\n",
              "      border-color: transparent;\n",
              "      border-left-color: var(--fill-color);\n",
              "      border-top-color: var(--fill-color);\n",
              "      border-right-color: var(--fill-color);\n",
              "    }\n",
              "    40% {\n",
              "      border-color: transparent;\n",
              "      border-right-color: var(--fill-color);\n",
              "      border-top-color: var(--fill-color);\n",
              "    }\n",
              "    60% {\n",
              "      border-color: transparent;\n",
              "      border-right-color: var(--fill-color);\n",
              "    }\n",
              "    80% {\n",
              "      border-color: transparent;\n",
              "      border-right-color: var(--fill-color);\n",
              "      border-bottom-color: var(--fill-color);\n",
              "    }\n",
              "    90% {\n",
              "      border-color: transparent;\n",
              "      border-bottom-color: var(--fill-color);\n",
              "    }\n",
              "  }\n",
              "</style>\n",
              "\n",
              "      <script>\n",
              "        async function quickchart(key) {\n",
              "          const quickchartButtonEl =\n",
              "            document.querySelector('#' + key + ' button');\n",
              "          quickchartButtonEl.disabled = true;  // To prevent multiple clicks.\n",
              "          quickchartButtonEl.classList.add('colab-df-spinner');\n",
              "          try {\n",
              "            const charts = await google.colab.kernel.invokeFunction(\n",
              "                'suggestCharts', [key], {});\n",
              "          } catch (error) {\n",
              "            console.error('Error during call to suggestCharts:', error);\n",
              "          }\n",
              "          quickchartButtonEl.classList.remove('colab-df-spinner');\n",
              "          quickchartButtonEl.classList.add('colab-df-quickchart-complete');\n",
              "        }\n",
              "        (() => {\n",
              "          let quickchartButtonEl =\n",
              "            document.querySelector('#df-990897e2-cd91-412a-a1c8-c48d02c88777 button');\n",
              "          quickchartButtonEl.style.display =\n",
              "            google.colab.kernel.accessAllowed ? 'block' : 'none';\n",
              "        })();\n",
              "      </script>\n",
              "    </div>\n",
              "\n",
              "    </div>\n",
              "  </div>\n"
            ],
            "application/vnd.google.colaboratory.intrinsic+json": {
              "type": "dataframe",
              "summary": "{\n  \"name\": \"pd\",\n  \"rows\": 8,\n  \"fields\": [\n    {\n      \"column\": \"Metric\",\n      \"properties\": {\n        \"dtype\": \"string\",\n        \"num_unique_values\": 8,\n        \"samples\": [\n          \"Precision\",\n          \"Total Inference Time (s)\",\n          \"Accuracy\"\n        ],\n        \"semantic_type\": \"\",\n        \"description\": \"\"\n      }\n    },\n    {\n      \"column\": \"Old (ind_xg)\",\n      \"properties\": {\n        \"dtype\": \"string\",\n        \"num_unique_values\": 6,\n        \"samples\": [\n          \"0.9826\",\n          \"0.9852\",\n          \"292.28\"\n        ],\n        \"semantic_type\": \"\",\n        \"description\": \"\"\n      }\n    },\n    {\n      \"column\": \"New (xgb_model)\",\n      \"properties\": {\n        \"dtype\": \"string\",\n        \"num_unique_values\": 8,\n        \"samples\": [\n          \"0.9822\",\n          \"0.12942076\",\n          \"0.9853\"\n        ],\n        \"semantic_type\": \"\",\n        \"description\": \"\"\n      }\n    }\n  ]\n}"
            }
          },
          "metadata": {},
          "execution_count": 52
        }
      ]
    },
    {
      "cell_type": "markdown",
      "source": [
        "# CNN Complex - Ng Hooi Chi - TP065587"
      ],
      "metadata": {
        "id": "aF2Jh_wgHe5u"
      }
    },
    {
      "cell_type": "markdown",
      "source": [
        "Setup"
      ],
      "metadata": {
        "id": "LOoBobHj7TS7"
      }
    },
    {
      "cell_type": "code",
      "source": [
        "import requests\n",
        "import math, tensorflow as tf\n",
        "from IPython.display import display\n",
        "\n",
        "from tensorflow.keras.models import Sequential\n",
        "from tensorflow.keras.layers import Dense, Dropout, Flatten, Conv1D, MaxPooling1D, Embedding\n",
        "\n",
        "from sklearn.preprocessing import LabelEncoder\n",
        "from tensorflow.keras.preprocessing.text import Tokenizer\n",
        "from tensorflow.keras.preprocessing.sequence import pad_sequences\n",
        "from tensorflow.keras.utils import to_categorical\n",
        "from sklearn.metrics import classification_report, accuracy_score, precision_score, recall_score, f1_score, roc_auc_score\n",
        "\n",
        "cnn_url = \"https://raw.githubusercontent.com/NHCh1/DLI/main/cnn_small_dataset\"\n",
        "\n",
        "cnn_params = {\n",
        "    'loss_function': 'binary_crossentropy',\n",
        "    'optimizer': 'adam',\n",
        "    'sequence_length': 200,\n",
        "    'batch_size': 256,\n",
        "    'categories': ['phishing', 'legitimate'],\n",
        "    'epoch': 25,\n",
        "    'embedding_dimension': 100,\n",
        "    'dataset_dir': f\"{cnn_url}\".rstrip(\"/\")\n",
        "}\n",
        "\n",
        "# Custom callback to track epoch times\n",
        "class CustomCallback:\n",
        "    def __init__(self):\n",
        "        self.epoch_times = []\n",
        "    def on_epoch_begin(self):\n",
        "        self.epoch_time_start = time.time()\n",
        "    def on_epoch_end(self):\n",
        "        self.epoch_times.append(time.time() - self.epoch_time_start)"
      ],
      "metadata": {
        "id": "srtRdLxB7Ur4"
      },
      "execution_count": 63,
      "outputs": []
    },
    {
      "cell_type": "markdown",
      "source": [
        "Data Processing"
      ],
      "metadata": {
        "id": "jlkvf4bl8GG8"
      }
    },
    {
      "cell_type": "code",
      "source": [
        "def load_data(dataset_dir):\n",
        "    def read_lines(name: str):\n",
        "        if dataset_dir.startswith(\"http\"):\n",
        "            url = f\"{dataset_dir.rstrip('/')}/{name}\"\n",
        "            r = requests.get(url, timeout=30)\n",
        "            r.raise_for_status()\n",
        "            r.encoding = \"utf-8\"\n",
        "            lines = [ln.strip() for ln in r.text.splitlines() if ln.strip()]\n",
        "            if not lines:\n",
        "                raise ValueError(f\"{url} is empty or unreadable.\")\n",
        "            return lines\n",
        "        else:\n",
        "            with open(os.path.join(dataset_dir, name), encoding=\"utf-8\") as f:\n",
        "                return [ln.strip() for ln in f if ln.strip()]\n",
        "\n",
        "    train = read_lines('train.txt')\n",
        "    val   = read_lines('val.txt')\n",
        "    test  = read_lines('test.txt')\n",
        "\n",
        "    raw_x_train = [line.split(\"\\t\", 1)[1] for line in train]\n",
        "    raw_y_train = [line.split(\"\\t\", 1)[0] for line in train]\n",
        "    raw_x_val   = [line.split(\"\\t\", 1)[1] for line in val]\n",
        "    raw_y_val   = [line.split(\"\\t\", 1)[0] for line in val]\n",
        "    raw_x_test  = [line.split(\"\\t\", 1)[1] for line in test]\n",
        "    raw_y_test  = [line.split(\"\\t\", 1)[0] for line in test]\n",
        "\n",
        "    tokenizer = Tokenizer(lower=True, char_level=True, oov_token='-n-')\n",
        "    tokenizer.fit_on_texts(raw_x_train + raw_x_val + raw_x_test)\n",
        "    cnn_params['char_index'] = tokenizer.word_index\n",
        "\n",
        "    cnn_feature_train = pad_sequences(tokenizer.texts_to_sequences(raw_x_train), maxlen=cnn_params['sequence_length'])\n",
        "    cnn_feature_val   = pad_sequences(tokenizer.texts_to_sequences(raw_x_val),   maxlen=cnn_params['sequence_length'])\n",
        "    cnn_feature_test  = pad_sequences(tokenizer.texts_to_sequences(raw_x_test),  maxlen=cnn_params['sequence_length'])\n",
        "\n",
        "    encoder = LabelEncoder()\n",
        "    encoder.fit(cnn_params['categories'])\n",
        "    assert encoder.transform(['legitimate','phishing']).tolist() == [0,1], encoder.classes_\n",
        "\n",
        "    y_train_oh = to_categorical(encoder.transform(raw_y_train), num_classes=2)\n",
        "    y_val_oh   = to_categorical(encoder.transform(raw_y_val),   num_classes=2)\n",
        "    y_test_oh  = to_categorical(encoder.transform(raw_y_test),  num_classes=2)\n",
        "\n",
        "    return (cnn_feature_train, y_train_oh), (cnn_feature_val, y_val_oh), (cnn_feature_test, y_test_oh), tokenizer.word_index\n",
        "\n",
        "# Load data\n",
        "(cnn_feature_train, y_train_oh), (cnn_feature_val, y_val_oh), (cnn_feature_test, y_test_oh), char_index = load_data(cnn_params['dataset_dir'])\n",
        "\n",
        "# Peek raw data\n",
        "def peek_dataset(dataset_dir, n=5):\n",
        "    def read_lines(name: str):\n",
        "        if dataset_dir.startswith(\"http\"):\n",
        "            url = f\"{dataset_dir.rstrip('/')}/{name}\"\n",
        "            r = requests.get(url, timeout=30)\n",
        "            r.raise_for_status()\n",
        "            r.encoding = \"utf-8\"\n",
        "            return [ln.strip() for ln in r.text.splitlines() if ln.strip()]\n",
        "        else:\n",
        "            with open(os.path.join(dataset_dir, name), encoding=\"utf-8\") as f:\n",
        "                return [ln.strip() for ln in f if ln.strip()]\n",
        "\n",
        "    def to_df(lines):\n",
        "        parts = [ln.split(\"\\t\", 1) for ln in lines]\n",
        "        return pd.DataFrame(parts, columns=[\"label\", \"text\"])\n",
        "\n",
        "    train_df = to_df(read_lines(\"train.txt\"))\n",
        "    val_df   = to_df(read_lines(\"val.txt\"))\n",
        "    test_df  = to_df(read_lines(\"test.txt\"))\n",
        "\n",
        "    for name, df in [(\"TRAIN\", train_df), (\"VAL\", val_df), (\"TEST\", test_df)]:\n",
        "        print(f\"\\n[{name}] rows={df.shape[0]}, cols={df.shape[1]}\")\n",
        "        print(\"label counts:\", df[\"label\"].value_counts().to_dict())\n",
        "        display(df.head(n))\n",
        "\n",
        "peek_dataset(cnn_params[\"dataset_dir\"])\n",
        "\n",
        "print(\"\\nEncoded shapes (after tokenization & padding):\")\n",
        "print(\"cnn_feature_train:\", cnn_feature_train.shape, \"  y_train_oh:\", y_train_oh.shape)\n",
        "print(\"cnn_feature_val:  \", cnn_feature_val.shape,   \"  y_val_oh:  \", y_val_oh.shape)\n",
        "print(\"cnn_feature_test: \", cnn_feature_test.shape,  \"  y_test_oh: \", y_test_oh.shape)"
      ],
      "metadata": {
        "id": "flYj2HZG8Dsu",
        "outputId": "8a30d3c1-d783-46ff-b8a6-04ac14e0a58d",
        "colab": {
          "base_uri": "https://localhost:8080/",
          "height": 827
        }
      },
      "execution_count": 64,
      "outputs": [
        {
          "output_type": "stream",
          "name": "stdout",
          "text": [
            "\n",
            "[TRAIN] rows=364199, cols=2\n",
            "label counts: {'legitimate': 201736, 'phishing': 162463}\n"
          ]
        },
        {
          "output_type": "display_data",
          "data": {
            "text/plain": [
              "        label                                               text\n",
              "0  legitimate  https://oregonstateparks.org/index.cfm?do=geti...\n",
              "1    phishing  http://business.hsbc.com.camaract.mobi/system_...\n",
              "2    phishing  http://facebook.com-source-page.com/help/conta...\n",
              "3  legitimate  http://michaelnielsen.org/blog/lecture-course-...\n",
              "4    phishing  http://messagerie-17fr.com/fr/91da56ae94f5f4ff..."
            ],
            "text/html": [
              "\n",
              "  <div id=\"df-d0a36223-b818-498d-bfb7-7ed987f472f6\" class=\"colab-df-container\">\n",
              "    <div>\n",
              "<style scoped>\n",
              "    .dataframe tbody tr th:only-of-type {\n",
              "        vertical-align: middle;\n",
              "    }\n",
              "\n",
              "    .dataframe tbody tr th {\n",
              "        vertical-align: top;\n",
              "    }\n",
              "\n",
              "    .dataframe thead th {\n",
              "        text-align: right;\n",
              "    }\n",
              "</style>\n",
              "<table border=\"1\" class=\"dataframe\">\n",
              "  <thead>\n",
              "    <tr style=\"text-align: right;\">\n",
              "      <th></th>\n",
              "      <th>label</th>\n",
              "      <th>text</th>\n",
              "    </tr>\n",
              "  </thead>\n",
              "  <tbody>\n",
              "    <tr>\n",
              "      <th>0</th>\n",
              "      <td>legitimate</td>\n",
              "      <td>https://oregonstateparks.org/index.cfm?do=geti...</td>\n",
              "    </tr>\n",
              "    <tr>\n",
              "      <th>1</th>\n",
              "      <td>phishing</td>\n",
              "      <td>http://business.hsbc.com.camaract.mobi/system_...</td>\n",
              "    </tr>\n",
              "    <tr>\n",
              "      <th>2</th>\n",
              "      <td>phishing</td>\n",
              "      <td>http://facebook.com-source-page.com/help/conta...</td>\n",
              "    </tr>\n",
              "    <tr>\n",
              "      <th>3</th>\n",
              "      <td>legitimate</td>\n",
              "      <td>http://michaelnielsen.org/blog/lecture-course-...</td>\n",
              "    </tr>\n",
              "    <tr>\n",
              "      <th>4</th>\n",
              "      <td>phishing</td>\n",
              "      <td>http://messagerie-17fr.com/fr/91da56ae94f5f4ff...</td>\n",
              "    </tr>\n",
              "  </tbody>\n",
              "</table>\n",
              "</div>\n",
              "    <div class=\"colab-df-buttons\">\n",
              "\n",
              "  <div class=\"colab-df-container\">\n",
              "    <button class=\"colab-df-convert\" onclick=\"convertToInteractive('df-d0a36223-b818-498d-bfb7-7ed987f472f6')\"\n",
              "            title=\"Convert this dataframe to an interactive table.\"\n",
              "            style=\"display:none;\">\n",
              "\n",
              "  <svg xmlns=\"http://www.w3.org/2000/svg\" height=\"24px\" viewBox=\"0 -960 960 960\">\n",
              "    <path d=\"M120-120v-720h720v720H120Zm60-500h600v-160H180v160Zm220 220h160v-160H400v160Zm0 220h160v-160H400v160ZM180-400h160v-160H180v160Zm440 0h160v-160H620v160ZM180-180h160v-160H180v160Zm440 0h160v-160H620v160Z\"/>\n",
              "  </svg>\n",
              "    </button>\n",
              "\n",
              "  <style>\n",
              "    .colab-df-container {\n",
              "      display:flex;\n",
              "      gap: 12px;\n",
              "    }\n",
              "\n",
              "    .colab-df-convert {\n",
              "      background-color: #E8F0FE;\n",
              "      border: none;\n",
              "      border-radius: 50%;\n",
              "      cursor: pointer;\n",
              "      display: none;\n",
              "      fill: #1967D2;\n",
              "      height: 32px;\n",
              "      padding: 0 0 0 0;\n",
              "      width: 32px;\n",
              "    }\n",
              "\n",
              "    .colab-df-convert:hover {\n",
              "      background-color: #E2EBFA;\n",
              "      box-shadow: 0px 1px 2px rgba(60, 64, 67, 0.3), 0px 1px 3px 1px rgba(60, 64, 67, 0.15);\n",
              "      fill: #174EA6;\n",
              "    }\n",
              "\n",
              "    .colab-df-buttons div {\n",
              "      margin-bottom: 4px;\n",
              "    }\n",
              "\n",
              "    [theme=dark] .colab-df-convert {\n",
              "      background-color: #3B4455;\n",
              "      fill: #D2E3FC;\n",
              "    }\n",
              "\n",
              "    [theme=dark] .colab-df-convert:hover {\n",
              "      background-color: #434B5C;\n",
              "      box-shadow: 0px 1px 3px 1px rgba(0, 0, 0, 0.15);\n",
              "      filter: drop-shadow(0px 1px 2px rgba(0, 0, 0, 0.3));\n",
              "      fill: #FFFFFF;\n",
              "    }\n",
              "  </style>\n",
              "\n",
              "    <script>\n",
              "      const buttonEl =\n",
              "        document.querySelector('#df-d0a36223-b818-498d-bfb7-7ed987f472f6 button.colab-df-convert');\n",
              "      buttonEl.style.display =\n",
              "        google.colab.kernel.accessAllowed ? 'block' : 'none';\n",
              "\n",
              "      async function convertToInteractive(key) {\n",
              "        const element = document.querySelector('#df-d0a36223-b818-498d-bfb7-7ed987f472f6');\n",
              "        const dataTable =\n",
              "          await google.colab.kernel.invokeFunction('convertToInteractive',\n",
              "                                                    [key], {});\n",
              "        if (!dataTable) return;\n",
              "\n",
              "        const docLinkHtml = 'Like what you see? Visit the ' +\n",
              "          '<a target=\"_blank\" href=https://colab.research.google.com/notebooks/data_table.ipynb>data table notebook</a>'\n",
              "          + ' to learn more about interactive tables.';\n",
              "        element.innerHTML = '';\n",
              "        dataTable['output_type'] = 'display_data';\n",
              "        await google.colab.output.renderOutput(dataTable, element);\n",
              "        const docLink = document.createElement('div');\n",
              "        docLink.innerHTML = docLinkHtml;\n",
              "        element.appendChild(docLink);\n",
              "      }\n",
              "    </script>\n",
              "  </div>\n",
              "\n",
              "\n",
              "    <div id=\"df-ff4123a8-549d-4978-bcaf-618e0654b49e\">\n",
              "      <button class=\"colab-df-quickchart\" onclick=\"quickchart('df-ff4123a8-549d-4978-bcaf-618e0654b49e')\"\n",
              "                title=\"Suggest charts\"\n",
              "                style=\"display:none;\">\n",
              "\n",
              "<svg xmlns=\"http://www.w3.org/2000/svg\" height=\"24px\"viewBox=\"0 0 24 24\"\n",
              "     width=\"24px\">\n",
              "    <g>\n",
              "        <path d=\"M19 3H5c-1.1 0-2 .9-2 2v14c0 1.1.9 2 2 2h14c1.1 0 2-.9 2-2V5c0-1.1-.9-2-2-2zM9 17H7v-7h2v7zm4 0h-2V7h2v10zm4 0h-2v-4h2v4z\"/>\n",
              "    </g>\n",
              "</svg>\n",
              "      </button>\n",
              "\n",
              "<style>\n",
              "  .colab-df-quickchart {\n",
              "      --bg-color: #E8F0FE;\n",
              "      --fill-color: #1967D2;\n",
              "      --hover-bg-color: #E2EBFA;\n",
              "      --hover-fill-color: #174EA6;\n",
              "      --disabled-fill-color: #AAA;\n",
              "      --disabled-bg-color: #DDD;\n",
              "  }\n",
              "\n",
              "  [theme=dark] .colab-df-quickchart {\n",
              "      --bg-color: #3B4455;\n",
              "      --fill-color: #D2E3FC;\n",
              "      --hover-bg-color: #434B5C;\n",
              "      --hover-fill-color: #FFFFFF;\n",
              "      --disabled-bg-color: #3B4455;\n",
              "      --disabled-fill-color: #666;\n",
              "  }\n",
              "\n",
              "  .colab-df-quickchart {\n",
              "    background-color: var(--bg-color);\n",
              "    border: none;\n",
              "    border-radius: 50%;\n",
              "    cursor: pointer;\n",
              "    display: none;\n",
              "    fill: var(--fill-color);\n",
              "    height: 32px;\n",
              "    padding: 0;\n",
              "    width: 32px;\n",
              "  }\n",
              "\n",
              "  .colab-df-quickchart:hover {\n",
              "    background-color: var(--hover-bg-color);\n",
              "    box-shadow: 0 1px 2px rgba(60, 64, 67, 0.3), 0 1px 3px 1px rgba(60, 64, 67, 0.15);\n",
              "    fill: var(--button-hover-fill-color);\n",
              "  }\n",
              "\n",
              "  .colab-df-quickchart-complete:disabled,\n",
              "  .colab-df-quickchart-complete:disabled:hover {\n",
              "    background-color: var(--disabled-bg-color);\n",
              "    fill: var(--disabled-fill-color);\n",
              "    box-shadow: none;\n",
              "  }\n",
              "\n",
              "  .colab-df-spinner {\n",
              "    border: 2px solid var(--fill-color);\n",
              "    border-color: transparent;\n",
              "    border-bottom-color: var(--fill-color);\n",
              "    animation:\n",
              "      spin 1s steps(1) infinite;\n",
              "  }\n",
              "\n",
              "  @keyframes spin {\n",
              "    0% {\n",
              "      border-color: transparent;\n",
              "      border-bottom-color: var(--fill-color);\n",
              "      border-left-color: var(--fill-color);\n",
              "    }\n",
              "    20% {\n",
              "      border-color: transparent;\n",
              "      border-left-color: var(--fill-color);\n",
              "      border-top-color: var(--fill-color);\n",
              "    }\n",
              "    30% {\n",
              "      border-color: transparent;\n",
              "      border-left-color: var(--fill-color);\n",
              "      border-top-color: var(--fill-color);\n",
              "      border-right-color: var(--fill-color);\n",
              "    }\n",
              "    40% {\n",
              "      border-color: transparent;\n",
              "      border-right-color: var(--fill-color);\n",
              "      border-top-color: var(--fill-color);\n",
              "    }\n",
              "    60% {\n",
              "      border-color: transparent;\n",
              "      border-right-color: var(--fill-color);\n",
              "    }\n",
              "    80% {\n",
              "      border-color: transparent;\n",
              "      border-right-color: var(--fill-color);\n",
              "      border-bottom-color: var(--fill-color);\n",
              "    }\n",
              "    90% {\n",
              "      border-color: transparent;\n",
              "      border-bottom-color: var(--fill-color);\n",
              "    }\n",
              "  }\n",
              "</style>\n",
              "\n",
              "      <script>\n",
              "        async function quickchart(key) {\n",
              "          const quickchartButtonEl =\n",
              "            document.querySelector('#' + key + ' button');\n",
              "          quickchartButtonEl.disabled = true;  // To prevent multiple clicks.\n",
              "          quickchartButtonEl.classList.add('colab-df-spinner');\n",
              "          try {\n",
              "            const charts = await google.colab.kernel.invokeFunction(\n",
              "                'suggestCharts', [key], {});\n",
              "          } catch (error) {\n",
              "            console.error('Error during call to suggestCharts:', error);\n",
              "          }\n",
              "          quickchartButtonEl.classList.remove('colab-df-spinner');\n",
              "          quickchartButtonEl.classList.add('colab-df-quickchart-complete');\n",
              "        }\n",
              "        (() => {\n",
              "          let quickchartButtonEl =\n",
              "            document.querySelector('#df-ff4123a8-549d-4978-bcaf-618e0654b49e button');\n",
              "          quickchartButtonEl.style.display =\n",
              "            google.colab.kernel.accessAllowed ? 'block' : 'none';\n",
              "        })();\n",
              "      </script>\n",
              "    </div>\n",
              "\n",
              "    </div>\n",
              "  </div>\n"
            ],
            "application/vnd.google.colaboratory.intrinsic+json": {
              "type": "dataframe",
              "summary": "{\n  \"name\": \"print(\\\"cnn_feature_test: \\\", cnn_feature_test\",\n  \"rows\": 5,\n  \"fields\": [\n    {\n      \"column\": \"label\",\n      \"properties\": {\n        \"dtype\": \"category\",\n        \"num_unique_values\": 2,\n        \"samples\": [\n          \"phishing\",\n          \"legitimate\"\n        ],\n        \"semantic_type\": \"\",\n        \"description\": \"\"\n      }\n    },\n    {\n      \"column\": \"text\",\n      \"properties\": {\n        \"dtype\": \"string\",\n        \"num_unique_values\": 5,\n        \"samples\": [\n          \"http://business.hsbc.com.camaract.mobi/system_directory/isa/file.aspx?session=61810342760774852870650739159893454615115912022877845677244\",\n          \"http://messagerie-17fr.com/fr/91da56ae94f5f4ff2b9dedcbcba90e2b/spg.php?amp=&intid=8e63a4d8384a843ee3b10f5b5c48dfef&rnv=026\"\n        ],\n        \"semantic_type\": \"\",\n        \"description\": \"\"\n      }\n    }\n  ]\n}"
            }
          },
          "metadata": {}
        },
        {
          "output_type": "stream",
          "name": "stdout",
          "text": [
            "\n",
            "[VAL] rows=104576, cols=2\n",
            "label counts: {'legitimate': 57927, 'phishing': 46649}\n"
          ]
        },
        {
          "output_type": "display_data",
          "data": {
            "text/plain": [
              "        label                                               text\n",
              "0  legitimate  https://www.hotelcareer.de/jobs/parkhotel-adle...\n",
              "1  legitimate  https://www.ramtrucks.com/2018/ram-promaster-c...\n",
              "2    phishing  http://www.paypal-com.org/secure/4eec645d077d6...\n",
              "3  legitimate                         https://www.smore.com/ghq0\n",
              "4    phishing                 http://telcelrecargas.idohost.com/"
            ],
            "text/html": [
              "\n",
              "  <div id=\"df-e7854a84-3e8e-444d-b31f-c8f80bc88d14\" class=\"colab-df-container\">\n",
              "    <div>\n",
              "<style scoped>\n",
              "    .dataframe tbody tr th:only-of-type {\n",
              "        vertical-align: middle;\n",
              "    }\n",
              "\n",
              "    .dataframe tbody tr th {\n",
              "        vertical-align: top;\n",
              "    }\n",
              "\n",
              "    .dataframe thead th {\n",
              "        text-align: right;\n",
              "    }\n",
              "</style>\n",
              "<table border=\"1\" class=\"dataframe\">\n",
              "  <thead>\n",
              "    <tr style=\"text-align: right;\">\n",
              "      <th></th>\n",
              "      <th>label</th>\n",
              "      <th>text</th>\n",
              "    </tr>\n",
              "  </thead>\n",
              "  <tbody>\n",
              "    <tr>\n",
              "      <th>0</th>\n",
              "      <td>legitimate</td>\n",
              "      <td>https://www.hotelcareer.de/jobs/parkhotel-adle...</td>\n",
              "    </tr>\n",
              "    <tr>\n",
              "      <th>1</th>\n",
              "      <td>legitimate</td>\n",
              "      <td>https://www.ramtrucks.com/2018/ram-promaster-c...</td>\n",
              "    </tr>\n",
              "    <tr>\n",
              "      <th>2</th>\n",
              "      <td>phishing</td>\n",
              "      <td>http://www.paypal-com.org/secure/4eec645d077d6...</td>\n",
              "    </tr>\n",
              "    <tr>\n",
              "      <th>3</th>\n",
              "      <td>legitimate</td>\n",
              "      <td>https://www.smore.com/ghq0</td>\n",
              "    </tr>\n",
              "    <tr>\n",
              "      <th>4</th>\n",
              "      <td>phishing</td>\n",
              "      <td>http://telcelrecargas.idohost.com/</td>\n",
              "    </tr>\n",
              "  </tbody>\n",
              "</table>\n",
              "</div>\n",
              "    <div class=\"colab-df-buttons\">\n",
              "\n",
              "  <div class=\"colab-df-container\">\n",
              "    <button class=\"colab-df-convert\" onclick=\"convertToInteractive('df-e7854a84-3e8e-444d-b31f-c8f80bc88d14')\"\n",
              "            title=\"Convert this dataframe to an interactive table.\"\n",
              "            style=\"display:none;\">\n",
              "\n",
              "  <svg xmlns=\"http://www.w3.org/2000/svg\" height=\"24px\" viewBox=\"0 -960 960 960\">\n",
              "    <path d=\"M120-120v-720h720v720H120Zm60-500h600v-160H180v160Zm220 220h160v-160H400v160Zm0 220h160v-160H400v160ZM180-400h160v-160H180v160Zm440 0h160v-160H620v160ZM180-180h160v-160H180v160Zm440 0h160v-160H620v160Z\"/>\n",
              "  </svg>\n",
              "    </button>\n",
              "\n",
              "  <style>\n",
              "    .colab-df-container {\n",
              "      display:flex;\n",
              "      gap: 12px;\n",
              "    }\n",
              "\n",
              "    .colab-df-convert {\n",
              "      background-color: #E8F0FE;\n",
              "      border: none;\n",
              "      border-radius: 50%;\n",
              "      cursor: pointer;\n",
              "      display: none;\n",
              "      fill: #1967D2;\n",
              "      height: 32px;\n",
              "      padding: 0 0 0 0;\n",
              "      width: 32px;\n",
              "    }\n",
              "\n",
              "    .colab-df-convert:hover {\n",
              "      background-color: #E2EBFA;\n",
              "      box-shadow: 0px 1px 2px rgba(60, 64, 67, 0.3), 0px 1px 3px 1px rgba(60, 64, 67, 0.15);\n",
              "      fill: #174EA6;\n",
              "    }\n",
              "\n",
              "    .colab-df-buttons div {\n",
              "      margin-bottom: 4px;\n",
              "    }\n",
              "\n",
              "    [theme=dark] .colab-df-convert {\n",
              "      background-color: #3B4455;\n",
              "      fill: #D2E3FC;\n",
              "    }\n",
              "\n",
              "    [theme=dark] .colab-df-convert:hover {\n",
              "      background-color: #434B5C;\n",
              "      box-shadow: 0px 1px 3px 1px rgba(0, 0, 0, 0.15);\n",
              "      filter: drop-shadow(0px 1px 2px rgba(0, 0, 0, 0.3));\n",
              "      fill: #FFFFFF;\n",
              "    }\n",
              "  </style>\n",
              "\n",
              "    <script>\n",
              "      const buttonEl =\n",
              "        document.querySelector('#df-e7854a84-3e8e-444d-b31f-c8f80bc88d14 button.colab-df-convert');\n",
              "      buttonEl.style.display =\n",
              "        google.colab.kernel.accessAllowed ? 'block' : 'none';\n",
              "\n",
              "      async function convertToInteractive(key) {\n",
              "        const element = document.querySelector('#df-e7854a84-3e8e-444d-b31f-c8f80bc88d14');\n",
              "        const dataTable =\n",
              "          await google.colab.kernel.invokeFunction('convertToInteractive',\n",
              "                                                    [key], {});\n",
              "        if (!dataTable) return;\n",
              "\n",
              "        const docLinkHtml = 'Like what you see? Visit the ' +\n",
              "          '<a target=\"_blank\" href=https://colab.research.google.com/notebooks/data_table.ipynb>data table notebook</a>'\n",
              "          + ' to learn more about interactive tables.';\n",
              "        element.innerHTML = '';\n",
              "        dataTable['output_type'] = 'display_data';\n",
              "        await google.colab.output.renderOutput(dataTable, element);\n",
              "        const docLink = document.createElement('div');\n",
              "        docLink.innerHTML = docLinkHtml;\n",
              "        element.appendChild(docLink);\n",
              "      }\n",
              "    </script>\n",
              "  </div>\n",
              "\n",
              "\n",
              "    <div id=\"df-2808fd70-b7dc-4df7-bcf5-6508f9f8d947\">\n",
              "      <button class=\"colab-df-quickchart\" onclick=\"quickchart('df-2808fd70-b7dc-4df7-bcf5-6508f9f8d947')\"\n",
              "                title=\"Suggest charts\"\n",
              "                style=\"display:none;\">\n",
              "\n",
              "<svg xmlns=\"http://www.w3.org/2000/svg\" height=\"24px\"viewBox=\"0 0 24 24\"\n",
              "     width=\"24px\">\n",
              "    <g>\n",
              "        <path d=\"M19 3H5c-1.1 0-2 .9-2 2v14c0 1.1.9 2 2 2h14c1.1 0 2-.9 2-2V5c0-1.1-.9-2-2-2zM9 17H7v-7h2v7zm4 0h-2V7h2v10zm4 0h-2v-4h2v4z\"/>\n",
              "    </g>\n",
              "</svg>\n",
              "      </button>\n",
              "\n",
              "<style>\n",
              "  .colab-df-quickchart {\n",
              "      --bg-color: #E8F0FE;\n",
              "      --fill-color: #1967D2;\n",
              "      --hover-bg-color: #E2EBFA;\n",
              "      --hover-fill-color: #174EA6;\n",
              "      --disabled-fill-color: #AAA;\n",
              "      --disabled-bg-color: #DDD;\n",
              "  }\n",
              "\n",
              "  [theme=dark] .colab-df-quickchart {\n",
              "      --bg-color: #3B4455;\n",
              "      --fill-color: #D2E3FC;\n",
              "      --hover-bg-color: #434B5C;\n",
              "      --hover-fill-color: #FFFFFF;\n",
              "      --disabled-bg-color: #3B4455;\n",
              "      --disabled-fill-color: #666;\n",
              "  }\n",
              "\n",
              "  .colab-df-quickchart {\n",
              "    background-color: var(--bg-color);\n",
              "    border: none;\n",
              "    border-radius: 50%;\n",
              "    cursor: pointer;\n",
              "    display: none;\n",
              "    fill: var(--fill-color);\n",
              "    height: 32px;\n",
              "    padding: 0;\n",
              "    width: 32px;\n",
              "  }\n",
              "\n",
              "  .colab-df-quickchart:hover {\n",
              "    background-color: var(--hover-bg-color);\n",
              "    box-shadow: 0 1px 2px rgba(60, 64, 67, 0.3), 0 1px 3px 1px rgba(60, 64, 67, 0.15);\n",
              "    fill: var(--button-hover-fill-color);\n",
              "  }\n",
              "\n",
              "  .colab-df-quickchart-complete:disabled,\n",
              "  .colab-df-quickchart-complete:disabled:hover {\n",
              "    background-color: var(--disabled-bg-color);\n",
              "    fill: var(--disabled-fill-color);\n",
              "    box-shadow: none;\n",
              "  }\n",
              "\n",
              "  .colab-df-spinner {\n",
              "    border: 2px solid var(--fill-color);\n",
              "    border-color: transparent;\n",
              "    border-bottom-color: var(--fill-color);\n",
              "    animation:\n",
              "      spin 1s steps(1) infinite;\n",
              "  }\n",
              "\n",
              "  @keyframes spin {\n",
              "    0% {\n",
              "      border-color: transparent;\n",
              "      border-bottom-color: var(--fill-color);\n",
              "      border-left-color: var(--fill-color);\n",
              "    }\n",
              "    20% {\n",
              "      border-color: transparent;\n",
              "      border-left-color: var(--fill-color);\n",
              "      border-top-color: var(--fill-color);\n",
              "    }\n",
              "    30% {\n",
              "      border-color: transparent;\n",
              "      border-left-color: var(--fill-color);\n",
              "      border-top-color: var(--fill-color);\n",
              "      border-right-color: var(--fill-color);\n",
              "    }\n",
              "    40% {\n",
              "      border-color: transparent;\n",
              "      border-right-color: var(--fill-color);\n",
              "      border-top-color: var(--fill-color);\n",
              "    }\n",
              "    60% {\n",
              "      border-color: transparent;\n",
              "      border-right-color: var(--fill-color);\n",
              "    }\n",
              "    80% {\n",
              "      border-color: transparent;\n",
              "      border-right-color: var(--fill-color);\n",
              "      border-bottom-color: var(--fill-color);\n",
              "    }\n",
              "    90% {\n",
              "      border-color: transparent;\n",
              "      border-bottom-color: var(--fill-color);\n",
              "    }\n",
              "  }\n",
              "</style>\n",
              "\n",
              "      <script>\n",
              "        async function quickchart(key) {\n",
              "          const quickchartButtonEl =\n",
              "            document.querySelector('#' + key + ' button');\n",
              "          quickchartButtonEl.disabled = true;  // To prevent multiple clicks.\n",
              "          quickchartButtonEl.classList.add('colab-df-spinner');\n",
              "          try {\n",
              "            const charts = await google.colab.kernel.invokeFunction(\n",
              "                'suggestCharts', [key], {});\n",
              "          } catch (error) {\n",
              "            console.error('Error during call to suggestCharts:', error);\n",
              "          }\n",
              "          quickchartButtonEl.classList.remove('colab-df-spinner');\n",
              "          quickchartButtonEl.classList.add('colab-df-quickchart-complete');\n",
              "        }\n",
              "        (() => {\n",
              "          let quickchartButtonEl =\n",
              "            document.querySelector('#df-2808fd70-b7dc-4df7-bcf5-6508f9f8d947 button');\n",
              "          quickchartButtonEl.style.display =\n",
              "            google.colab.kernel.accessAllowed ? 'block' : 'none';\n",
              "        })();\n",
              "      </script>\n",
              "    </div>\n",
              "\n",
              "    </div>\n",
              "  </div>\n"
            ],
            "application/vnd.google.colaboratory.intrinsic+json": {
              "type": "dataframe",
              "summary": "{\n  \"name\": \"print(\\\"cnn_feature_test: \\\", cnn_feature_test\",\n  \"rows\": 5,\n  \"fields\": [\n    {\n      \"column\": \"label\",\n      \"properties\": {\n        \"dtype\": \"category\",\n        \"num_unique_values\": 2,\n        \"samples\": [\n          \"phishing\",\n          \"legitimate\"\n        ],\n        \"semantic_type\": \"\",\n        \"description\": \"\"\n      }\n    },\n    {\n      \"column\": \"text\",\n      \"properties\": {\n        \"dtype\": \"string\",\n        \"num_unique_values\": 5,\n        \"samples\": [\n          \"https://www.ramtrucks.com/2018/ram-promaster-city/gallery.html\",\n          \"http://telcelrecargas.idohost.com/\"\n        ],\n        \"semantic_type\": \"\",\n        \"description\": \"\"\n      }\n    }\n  ]\n}"
            }
          },
          "metadata": {}
        },
        {
          "output_type": "stream",
          "name": "stdout",
          "text": [
            "\n",
            "[TEST] rows=51510, cols=2\n",
            "label counts: {'legitimate': 28532, 'phishing': 22978}\n"
          ]
        },
        {
          "output_type": "display_data",
          "data": {
            "text/plain": [
              "        label                                               text\n",
              "0    phishing    http://www.bartekbitner.pl/libraries/fof/-/din7\n",
              "1    phishing  http://www.isalechina.com/_db_backups/SecureDo...\n",
              "2  legitimate  https://eheadspace.org.au/headspace-centres/mu...\n",
              "3    phishing  http://www.idolhairsalon.com/google/free/free2...\n",
              "4  legitimate  https://hedgebrook.org/six-questions-for-hanna..."
            ],
            "text/html": [
              "\n",
              "  <div id=\"df-a295aeab-585f-41d2-bb29-278f16b166a2\" class=\"colab-df-container\">\n",
              "    <div>\n",
              "<style scoped>\n",
              "    .dataframe tbody tr th:only-of-type {\n",
              "        vertical-align: middle;\n",
              "    }\n",
              "\n",
              "    .dataframe tbody tr th {\n",
              "        vertical-align: top;\n",
              "    }\n",
              "\n",
              "    .dataframe thead th {\n",
              "        text-align: right;\n",
              "    }\n",
              "</style>\n",
              "<table border=\"1\" class=\"dataframe\">\n",
              "  <thead>\n",
              "    <tr style=\"text-align: right;\">\n",
              "      <th></th>\n",
              "      <th>label</th>\n",
              "      <th>text</th>\n",
              "    </tr>\n",
              "  </thead>\n",
              "  <tbody>\n",
              "    <tr>\n",
              "      <th>0</th>\n",
              "      <td>phishing</td>\n",
              "      <td>http://www.bartekbitner.pl/libraries/fof/-/din7</td>\n",
              "    </tr>\n",
              "    <tr>\n",
              "      <th>1</th>\n",
              "      <td>phishing</td>\n",
              "      <td>http://www.isalechina.com/_db_backups/SecureDo...</td>\n",
              "    </tr>\n",
              "    <tr>\n",
              "      <th>2</th>\n",
              "      <td>legitimate</td>\n",
              "      <td>https://eheadspace.org.au/headspace-centres/mu...</td>\n",
              "    </tr>\n",
              "    <tr>\n",
              "      <th>3</th>\n",
              "      <td>phishing</td>\n",
              "      <td>http://www.idolhairsalon.com/google/free/free2...</td>\n",
              "    </tr>\n",
              "    <tr>\n",
              "      <th>4</th>\n",
              "      <td>legitimate</td>\n",
              "      <td>https://hedgebrook.org/six-questions-for-hanna...</td>\n",
              "    </tr>\n",
              "  </tbody>\n",
              "</table>\n",
              "</div>\n",
              "    <div class=\"colab-df-buttons\">\n",
              "\n",
              "  <div class=\"colab-df-container\">\n",
              "    <button class=\"colab-df-convert\" onclick=\"convertToInteractive('df-a295aeab-585f-41d2-bb29-278f16b166a2')\"\n",
              "            title=\"Convert this dataframe to an interactive table.\"\n",
              "            style=\"display:none;\">\n",
              "\n",
              "  <svg xmlns=\"http://www.w3.org/2000/svg\" height=\"24px\" viewBox=\"0 -960 960 960\">\n",
              "    <path d=\"M120-120v-720h720v720H120Zm60-500h600v-160H180v160Zm220 220h160v-160H400v160Zm0 220h160v-160H400v160ZM180-400h160v-160H180v160Zm440 0h160v-160H620v160ZM180-180h160v-160H180v160Zm440 0h160v-160H620v160Z\"/>\n",
              "  </svg>\n",
              "    </button>\n",
              "\n",
              "  <style>\n",
              "    .colab-df-container {\n",
              "      display:flex;\n",
              "      gap: 12px;\n",
              "    }\n",
              "\n",
              "    .colab-df-convert {\n",
              "      background-color: #E8F0FE;\n",
              "      border: none;\n",
              "      border-radius: 50%;\n",
              "      cursor: pointer;\n",
              "      display: none;\n",
              "      fill: #1967D2;\n",
              "      height: 32px;\n",
              "      padding: 0 0 0 0;\n",
              "      width: 32px;\n",
              "    }\n",
              "\n",
              "    .colab-df-convert:hover {\n",
              "      background-color: #E2EBFA;\n",
              "      box-shadow: 0px 1px 2px rgba(60, 64, 67, 0.3), 0px 1px 3px 1px rgba(60, 64, 67, 0.15);\n",
              "      fill: #174EA6;\n",
              "    }\n",
              "\n",
              "    .colab-df-buttons div {\n",
              "      margin-bottom: 4px;\n",
              "    }\n",
              "\n",
              "    [theme=dark] .colab-df-convert {\n",
              "      background-color: #3B4455;\n",
              "      fill: #D2E3FC;\n",
              "    }\n",
              "\n",
              "    [theme=dark] .colab-df-convert:hover {\n",
              "      background-color: #434B5C;\n",
              "      box-shadow: 0px 1px 3px 1px rgba(0, 0, 0, 0.15);\n",
              "      filter: drop-shadow(0px 1px 2px rgba(0, 0, 0, 0.3));\n",
              "      fill: #FFFFFF;\n",
              "    }\n",
              "  </style>\n",
              "\n",
              "    <script>\n",
              "      const buttonEl =\n",
              "        document.querySelector('#df-a295aeab-585f-41d2-bb29-278f16b166a2 button.colab-df-convert');\n",
              "      buttonEl.style.display =\n",
              "        google.colab.kernel.accessAllowed ? 'block' : 'none';\n",
              "\n",
              "      async function convertToInteractive(key) {\n",
              "        const element = document.querySelector('#df-a295aeab-585f-41d2-bb29-278f16b166a2');\n",
              "        const dataTable =\n",
              "          await google.colab.kernel.invokeFunction('convertToInteractive',\n",
              "                                                    [key], {});\n",
              "        if (!dataTable) return;\n",
              "\n",
              "        const docLinkHtml = 'Like what you see? Visit the ' +\n",
              "          '<a target=\"_blank\" href=https://colab.research.google.com/notebooks/data_table.ipynb>data table notebook</a>'\n",
              "          + ' to learn more about interactive tables.';\n",
              "        element.innerHTML = '';\n",
              "        dataTable['output_type'] = 'display_data';\n",
              "        await google.colab.output.renderOutput(dataTable, element);\n",
              "        const docLink = document.createElement('div');\n",
              "        docLink.innerHTML = docLinkHtml;\n",
              "        element.appendChild(docLink);\n",
              "      }\n",
              "    </script>\n",
              "  </div>\n",
              "\n",
              "\n",
              "    <div id=\"df-10a3b422-4624-4466-a331-503ef6346f0f\">\n",
              "      <button class=\"colab-df-quickchart\" onclick=\"quickchart('df-10a3b422-4624-4466-a331-503ef6346f0f')\"\n",
              "                title=\"Suggest charts\"\n",
              "                style=\"display:none;\">\n",
              "\n",
              "<svg xmlns=\"http://www.w3.org/2000/svg\" height=\"24px\"viewBox=\"0 0 24 24\"\n",
              "     width=\"24px\">\n",
              "    <g>\n",
              "        <path d=\"M19 3H5c-1.1 0-2 .9-2 2v14c0 1.1.9 2 2 2h14c1.1 0 2-.9 2-2V5c0-1.1-.9-2-2-2zM9 17H7v-7h2v7zm4 0h-2V7h2v10zm4 0h-2v-4h2v4z\"/>\n",
              "    </g>\n",
              "</svg>\n",
              "      </button>\n",
              "\n",
              "<style>\n",
              "  .colab-df-quickchart {\n",
              "      --bg-color: #E8F0FE;\n",
              "      --fill-color: #1967D2;\n",
              "      --hover-bg-color: #E2EBFA;\n",
              "      --hover-fill-color: #174EA6;\n",
              "      --disabled-fill-color: #AAA;\n",
              "      --disabled-bg-color: #DDD;\n",
              "  }\n",
              "\n",
              "  [theme=dark] .colab-df-quickchart {\n",
              "      --bg-color: #3B4455;\n",
              "      --fill-color: #D2E3FC;\n",
              "      --hover-bg-color: #434B5C;\n",
              "      --hover-fill-color: #FFFFFF;\n",
              "      --disabled-bg-color: #3B4455;\n",
              "      --disabled-fill-color: #666;\n",
              "  }\n",
              "\n",
              "  .colab-df-quickchart {\n",
              "    background-color: var(--bg-color);\n",
              "    border: none;\n",
              "    border-radius: 50%;\n",
              "    cursor: pointer;\n",
              "    display: none;\n",
              "    fill: var(--fill-color);\n",
              "    height: 32px;\n",
              "    padding: 0;\n",
              "    width: 32px;\n",
              "  }\n",
              "\n",
              "  .colab-df-quickchart:hover {\n",
              "    background-color: var(--hover-bg-color);\n",
              "    box-shadow: 0 1px 2px rgba(60, 64, 67, 0.3), 0 1px 3px 1px rgba(60, 64, 67, 0.15);\n",
              "    fill: var(--button-hover-fill-color);\n",
              "  }\n",
              "\n",
              "  .colab-df-quickchart-complete:disabled,\n",
              "  .colab-df-quickchart-complete:disabled:hover {\n",
              "    background-color: var(--disabled-bg-color);\n",
              "    fill: var(--disabled-fill-color);\n",
              "    box-shadow: none;\n",
              "  }\n",
              "\n",
              "  .colab-df-spinner {\n",
              "    border: 2px solid var(--fill-color);\n",
              "    border-color: transparent;\n",
              "    border-bottom-color: var(--fill-color);\n",
              "    animation:\n",
              "      spin 1s steps(1) infinite;\n",
              "  }\n",
              "\n",
              "  @keyframes spin {\n",
              "    0% {\n",
              "      border-color: transparent;\n",
              "      border-bottom-color: var(--fill-color);\n",
              "      border-left-color: var(--fill-color);\n",
              "    }\n",
              "    20% {\n",
              "      border-color: transparent;\n",
              "      border-left-color: var(--fill-color);\n",
              "      border-top-color: var(--fill-color);\n",
              "    }\n",
              "    30% {\n",
              "      border-color: transparent;\n",
              "      border-left-color: var(--fill-color);\n",
              "      border-top-color: var(--fill-color);\n",
              "      border-right-color: var(--fill-color);\n",
              "    }\n",
              "    40% {\n",
              "      border-color: transparent;\n",
              "      border-right-color: var(--fill-color);\n",
              "      border-top-color: var(--fill-color);\n",
              "    }\n",
              "    60% {\n",
              "      border-color: transparent;\n",
              "      border-right-color: var(--fill-color);\n",
              "    }\n",
              "    80% {\n",
              "      border-color: transparent;\n",
              "      border-right-color: var(--fill-color);\n",
              "      border-bottom-color: var(--fill-color);\n",
              "    }\n",
              "    90% {\n",
              "      border-color: transparent;\n",
              "      border-bottom-color: var(--fill-color);\n",
              "    }\n",
              "  }\n",
              "</style>\n",
              "\n",
              "      <script>\n",
              "        async function quickchart(key) {\n",
              "          const quickchartButtonEl =\n",
              "            document.querySelector('#' + key + ' button');\n",
              "          quickchartButtonEl.disabled = true;  // To prevent multiple clicks.\n",
              "          quickchartButtonEl.classList.add('colab-df-spinner');\n",
              "          try {\n",
              "            const charts = await google.colab.kernel.invokeFunction(\n",
              "                'suggestCharts', [key], {});\n",
              "          } catch (error) {\n",
              "            console.error('Error during call to suggestCharts:', error);\n",
              "          }\n",
              "          quickchartButtonEl.classList.remove('colab-df-spinner');\n",
              "          quickchartButtonEl.classList.add('colab-df-quickchart-complete');\n",
              "        }\n",
              "        (() => {\n",
              "          let quickchartButtonEl =\n",
              "            document.querySelector('#df-10a3b422-4624-4466-a331-503ef6346f0f button');\n",
              "          quickchartButtonEl.style.display =\n",
              "            google.colab.kernel.accessAllowed ? 'block' : 'none';\n",
              "        })();\n",
              "      </script>\n",
              "    </div>\n",
              "\n",
              "    </div>\n",
              "  </div>\n"
            ],
            "application/vnd.google.colaboratory.intrinsic+json": {
              "type": "dataframe",
              "summary": "{\n  \"name\": \"print(\\\"cnn_feature_test: \\\", cnn_feature_test\",\n  \"rows\": 5,\n  \"fields\": [\n    {\n      \"column\": \"label\",\n      \"properties\": {\n        \"dtype\": \"category\",\n        \"num_unique_values\": 2,\n        \"samples\": [\n          \"legitimate\",\n          \"phishing\"\n        ],\n        \"semantic_type\": \"\",\n        \"description\": \"\"\n      }\n    },\n    {\n      \"column\": \"text\",\n      \"properties\": {\n        \"dtype\": \"string\",\n        \"num_unique_values\": 5,\n        \"samples\": [\n          \"http://www.isalechina.com/_db_backups/SecureDoc/Ed/Ed/\",\n          \"https://hedgebrook.org/six-questions-for-hannah-lee-jones/\"\n        ],\n        \"semantic_type\": \"\",\n        \"description\": \"\"\n      }\n    }\n  ]\n}"
            }
          },
          "metadata": {}
        },
        {
          "output_type": "stream",
          "name": "stdout",
          "text": [
            "\n",
            "Encoded shapes (after tokenization & padding):\n",
            "cnn_feature_train: (364199, 200)   y_train_oh: (364199, 2)\n",
            "cnn_feature_val:   (104576, 200)   y_val_oh:   (104576, 2)\n",
            "cnn_feature_test:  (51510, 200)   y_test_oh:  (51510, 2)\n"
          ]
        }
      ]
    },
    {
      "cell_type": "markdown",
      "source": [
        "Import Original Paper Code"
      ],
      "metadata": {
        "id": "EGdmnW8M8O0d"
      }
    },
    {
      "cell_type": "code",
      "source": [
        "class DlModels:\n",
        "    def __init__(self, categories, embed_dim, sequence_length):\n",
        "        self.categories = categories\n",
        "        self.embed_dim = embed_dim\n",
        "        self.sequence_length = sequence_length\n",
        "\n",
        "    def cnn_complex(self, char_index):\n",
        "        model = Sequential()\n",
        "        voc_size = len(char_index.keys())\n",
        "\n",
        "        model.add(Embedding(voc_size + 1, self.embed_dim, input_length=self.sequence_length))\n",
        "        model.add(Conv1D(128, 3, activation='tanh'))\n",
        "        model.add(MaxPooling1D(3))\n",
        "        model.add(Dropout(0.2))\n",
        "\n",
        "        model.add(Conv1D(128, 7, activation='tanh', padding='same'))\n",
        "        model.add(Dropout(0.2))\n",
        "\n",
        "        model.add(Conv1D(128, 5, activation='tanh', padding='same'))\n",
        "        model.add(Dropout(0.2))\n",
        "\n",
        "        model.add(Conv1D(128, 3, activation='tanh', padding='same'))\n",
        "        model.add(MaxPooling1D(3))\n",
        "        model.add(Dropout(0.2))\n",
        "\n",
        "        model.add(Conv1D(128, 5, activation='tanh', padding='same'))\n",
        "        model.add(Dropout(0.2))\n",
        "\n",
        "        model.add(Conv1D(128, 3, activation='tanh', padding='same'))\n",
        "        model.add(MaxPooling1D(3))\n",
        "        model.add(Dropout(0.2))\n",
        "\n",
        "        model.add(Conv1D(128, 3, activation='tanh', padding='same'))\n",
        "        model.add(MaxPooling1D(3))\n",
        "        model.add(Dropout(0.2))\n",
        "\n",
        "        model.add(Flatten())\n",
        "        model.add(Dense(len(self.categories), activation='sigmoid'))\n",
        "        return model\n",
        "\n",
        "from tensorflow.keras.callbacks import Callback, EarlyStopping, ReduceLROnPlateau\n",
        "\n",
        "class TimerCallback(Callback):\n",
        "    def on_epoch_begin(self, epoch, logs=None):\n",
        "        self.start_time = time.time()\n",
        "    def on_epoch_end(self, epoch, logs=None):\n",
        "        print(f\" | Epoch {epoch + 1} took {time.time() - self.start_time:.2f} seconds\")\n",
        "\n",
        "# Build, compile, train\n",
        "dl_model = DlModels(cnn_params['categories'], cnn_params['embedding_dimension'], cnn_params['sequence_length'])\n",
        "ori_cnn = dl_model.cnn_complex(char_index)\n",
        "ori_cnn.compile(loss=cnn_params['loss_function'], optimizer=cnn_params['optimizer'], metrics=['accuracy'])\n",
        "\n",
        "callbacks = [\n",
        "    TimerCallback(),\n",
        "    EarlyStopping(monitor='val_accuracy', patience=3, restore_best_weights=True, verbose=1),\n",
        "    ReduceLROnPlateau(monitor='val_loss', factor=0.5, patience=2, min_lr=1e-5, verbose=1),\n",
        "]\n",
        "\n",
        "history = ori_cnn.fit(\n",
        "    cnn_feature_train, y_train_oh,\n",
        "    batch_size=cnn_params['batch_size'],\n",
        "    epochs=cnn_params['epoch'],\n",
        "    validation_data=(cnn_feature_val, y_val_oh),\n",
        "    callbacks=callbacks,\n",
        "    shuffle=True\n",
        ")"
      ],
      "metadata": {
        "id": "AAiMbH4R8Ig_",
        "outputId": "274cf9aa-4d93-473d-e908-3c7265aba95b",
        "colab": {
          "base_uri": "https://localhost:8080/"
        }
      },
      "execution_count": 65,
      "outputs": [
        {
          "output_type": "stream",
          "name": "stdout",
          "text": [
            "Epoch 1/25\n",
            "\u001b[1m1423/1423\u001b[0m \u001b[32m━━━━━━━━━━━━━━━━━━━━\u001b[0m\u001b[37m\u001b[0m \u001b[1m0s\u001b[0m 1s/step - accuracy: 0.8854 - loss: 0.2487 | Epoch 1 took 1668.45 seconds\n",
            "\u001b[1m1423/1423\u001b[0m \u001b[32m━━━━━━━━━━━━━━━━━━━━\u001b[0m\u001b[37m\u001b[0m \u001b[1m1668s\u001b[0m 1s/step - accuracy: 0.8854 - loss: 0.2487 - val_accuracy: 0.9611 - val_loss: 0.1007 - learning_rate: 0.0010\n",
            "Epoch 2/25\n",
            "\u001b[1m1423/1423\u001b[0m \u001b[32m━━━━━━━━━━━━━━━━━━━━\u001b[0m\u001b[37m\u001b[0m \u001b[1m0s\u001b[0m 1s/step - accuracy: 0.9551 - loss: 0.1143 | Epoch 2 took 1607.89 seconds\n",
            "\u001b[1m1423/1423\u001b[0m \u001b[32m━━━━━━━━━━━━━━━━━━━━\u001b[0m\u001b[37m\u001b[0m \u001b[1m1608s\u001b[0m 1s/step - accuracy: 0.9551 - loss: 0.1143 - val_accuracy: 0.9649 - val_loss: 0.0901 - learning_rate: 0.0010\n",
            "Epoch 3/25\n",
            "\u001b[1m1423/1423\u001b[0m \u001b[32m━━━━━━━━━━━━━━━━━━━━\u001b[0m\u001b[37m\u001b[0m \u001b[1m0s\u001b[0m 1s/step - accuracy: 0.9608 - loss: 0.1004 | Epoch 3 took 1603.12 seconds\n",
            "\u001b[1m1423/1423\u001b[0m \u001b[32m━━━━━━━━━━━━━━━━━━━━\u001b[0m\u001b[37m\u001b[0m \u001b[1m1603s\u001b[0m 1s/step - accuracy: 0.9608 - loss: 0.1004 - val_accuracy: 0.9635 - val_loss: 0.0931 - learning_rate: 0.0010\n",
            "Epoch 4/25\n",
            "\u001b[1m1423/1423\u001b[0m \u001b[32m━━━━━━━━━━━━━━━━━━━━\u001b[0m\u001b[37m\u001b[0m \u001b[1m0s\u001b[0m 1s/step - accuracy: 0.9645 - loss: 0.0917 | Epoch 4 took 1677.14 seconds\n",
            "\u001b[1m1423/1423\u001b[0m \u001b[32m━━━━━━━━━━━━━━━━━━━━\u001b[0m\u001b[37m\u001b[0m \u001b[1m1677s\u001b[0m 1s/step - accuracy: 0.9645 - loss: 0.0917 - val_accuracy: 0.9678 - val_loss: 0.0837 - learning_rate: 0.0010\n",
            "Epoch 5/25\n",
            "\u001b[1m1423/1423\u001b[0m \u001b[32m━━━━━━━━━━━━━━━━━━━━\u001b[0m\u001b[37m\u001b[0m \u001b[1m0s\u001b[0m 1s/step - accuracy: 0.9660 - loss: 0.0861 | Epoch 5 took 1703.20 seconds\n",
            "\u001b[1m1423/1423\u001b[0m \u001b[32m━━━━━━━━━━━━━━━━━━━━\u001b[0m\u001b[37m\u001b[0m \u001b[1m1703s\u001b[0m 1s/step - accuracy: 0.9660 - loss: 0.0861 - val_accuracy: 0.9702 - val_loss: 0.0771 - learning_rate: 0.0010\n",
            "Epoch 6/25\n",
            "\u001b[1m1423/1423\u001b[0m \u001b[32m━━━━━━━━━━━━━━━━━━━━\u001b[0m\u001b[37m\u001b[0m \u001b[1m0s\u001b[0m 1s/step - accuracy: 0.9675 - loss: 0.0823 | Epoch 6 took 1701.21 seconds\n",
            "\u001b[1m1423/1423\u001b[0m \u001b[32m━━━━━━━━━━━━━━━━━━━━\u001b[0m\u001b[37m\u001b[0m \u001b[1m1701s\u001b[0m 1s/step - accuracy: 0.9675 - loss: 0.0823 - val_accuracy: 0.9707 - val_loss: 0.0760 - learning_rate: 0.0010\n",
            "Epoch 7/25\n",
            "\u001b[1m1423/1423\u001b[0m \u001b[32m━━━━━━━━━━━━━━━━━━━━\u001b[0m\u001b[37m\u001b[0m \u001b[1m0s\u001b[0m 1s/step - accuracy: 0.9690 - loss: 0.0788 | Epoch 7 took 1698.33 seconds\n",
            "\u001b[1m1423/1423\u001b[0m \u001b[32m━━━━━━━━━━━━━━━━━━━━\u001b[0m\u001b[37m\u001b[0m \u001b[1m1698s\u001b[0m 1s/step - accuracy: 0.9690 - loss: 0.0788 - val_accuracy: 0.9701 - val_loss: 0.0766 - learning_rate: 0.0010\n",
            "Epoch 8/25\n",
            "\u001b[1m1423/1423\u001b[0m \u001b[32m━━━━━━━━━━━━━━━━━━━━\u001b[0m\u001b[37m\u001b[0m \u001b[1m0s\u001b[0m 1s/step - accuracy: 0.9698 - loss: 0.0768 | Epoch 8 took 1633.50 seconds\n",
            "\u001b[1m1423/1423\u001b[0m \u001b[32m━━━━━━━━━━━━━━━━━━━━\u001b[0m\u001b[37m\u001b[0m \u001b[1m1634s\u001b[0m 1s/step - accuracy: 0.9698 - loss: 0.0768 - val_accuracy: 0.9731 - val_loss: 0.0697 - learning_rate: 0.0010\n",
            "Epoch 9/25\n",
            "\u001b[1m1423/1423\u001b[0m \u001b[32m━━━━━━━━━━━━━━━━━━━━\u001b[0m\u001b[37m\u001b[0m \u001b[1m0s\u001b[0m 1s/step - accuracy: 0.9715 - loss: 0.0733 | Epoch 9 took 1595.73 seconds\n",
            "\u001b[1m1423/1423\u001b[0m \u001b[32m━━━━━━━━━━━━━━━━━━━━\u001b[0m\u001b[37m\u001b[0m \u001b[1m1596s\u001b[0m 1s/step - accuracy: 0.9715 - loss: 0.0733 - val_accuracy: 0.9727 - val_loss: 0.0702 - learning_rate: 0.0010\n",
            "Epoch 10/25\n",
            "\u001b[1m1423/1423\u001b[0m \u001b[32m━━━━━━━━━━━━━━━━━━━━\u001b[0m\u001b[37m\u001b[0m \u001b[1m0s\u001b[0m 1s/step - accuracy: 0.9724 - loss: 0.0716 | Epoch 10 took 1664.56 seconds\n",
            "\n",
            "Epoch 10: ReduceLROnPlateau reducing learning rate to 0.0005000000237487257.\n",
            "\u001b[1m1423/1423\u001b[0m \u001b[32m━━━━━━━━━━━━━━━━━━━━\u001b[0m\u001b[37m\u001b[0m \u001b[1m1665s\u001b[0m 1s/step - accuracy: 0.9724 - loss: 0.0716 - val_accuracy: 0.9731 - val_loss: 0.0698 - learning_rate: 0.0010\n",
            "Epoch 11/25\n",
            "\u001b[1m1423/1423\u001b[0m \u001b[32m━━━━━━━━━━━━━━━━━━━━\u001b[0m\u001b[37m\u001b[0m \u001b[1m0s\u001b[0m 1s/step - accuracy: 0.9746 - loss: 0.0647 | Epoch 11 took 1569.25 seconds\n",
            "\u001b[1m1423/1423\u001b[0m \u001b[32m━━━━━━━━━━━━━━━━━━━━\u001b[0m\u001b[37m\u001b[0m \u001b[1m1569s\u001b[0m 1s/step - accuracy: 0.9746 - loss: 0.0647 - val_accuracy: 0.9753 - val_loss: 0.0641 - learning_rate: 5.0000e-04\n",
            "Epoch 12/25\n",
            "\u001b[1m1423/1423\u001b[0m \u001b[32m━━━━━━━━━━━━━━━━━━━━\u001b[0m\u001b[37m\u001b[0m \u001b[1m0s\u001b[0m 1s/step - accuracy: 0.9767 - loss: 0.0599 | Epoch 12 took 1580.19 seconds\n",
            "\u001b[1m1423/1423\u001b[0m \u001b[32m━━━━━━━━━━━━━━━━━━━━\u001b[0m\u001b[37m\u001b[0m \u001b[1m1580s\u001b[0m 1s/step - accuracy: 0.9767 - loss: 0.0599 - val_accuracy: 0.9749 - val_loss: 0.0669 - learning_rate: 5.0000e-04\n",
            "Epoch 13/25\n",
            "\u001b[1m1423/1423\u001b[0m \u001b[32m━━━━━━━━━━━━━━━━━━━━\u001b[0m\u001b[37m\u001b[0m \u001b[1m0s\u001b[0m 1s/step - accuracy: 0.9771 - loss: 0.0592 | Epoch 13 took 1582.52 seconds\n",
            "\u001b[1m1423/1423\u001b[0m \u001b[32m━━━━━━━━━━━━━━━━━━━━\u001b[0m\u001b[37m\u001b[0m \u001b[1m1583s\u001b[0m 1s/step - accuracy: 0.9771 - loss: 0.0592 - val_accuracy: 0.9763 - val_loss: 0.0619 - learning_rate: 5.0000e-04\n",
            "Epoch 14/25\n",
            "\u001b[1m1423/1423\u001b[0m \u001b[32m━━━━━━━━━━━━━━━━━━━━\u001b[0m\u001b[37m\u001b[0m \u001b[1m0s\u001b[0m 993ms/step - accuracy: 0.9775 - loss: 0.0582 | Epoch 14 took 1568.35 seconds\n",
            "\u001b[1m1423/1423\u001b[0m \u001b[32m━━━━━━━━━━━━━━━━━━━━\u001b[0m\u001b[37m\u001b[0m \u001b[1m1568s\u001b[0m 1s/step - accuracy: 0.9775 - loss: 0.0582 - val_accuracy: 0.9746 - val_loss: 0.0667 - learning_rate: 5.0000e-04\n",
            "Epoch 15/25\n",
            "\u001b[1m1423/1423\u001b[0m \u001b[32m━━━━━━━━━━━━━━━━━━━━\u001b[0m\u001b[37m\u001b[0m \u001b[1m0s\u001b[0m 991ms/step - accuracy: 0.9778 - loss: 0.0578 | Epoch 15 took 1508.10 seconds\n",
            "\n",
            "Epoch 15: ReduceLROnPlateau reducing learning rate to 0.0002500000118743628.\n",
            "\u001b[1m1423/1423\u001b[0m \u001b[32m━━━━━━━━━━━━━━━━━━━━\u001b[0m\u001b[37m\u001b[0m \u001b[1m1508s\u001b[0m 1s/step - accuracy: 0.9778 - loss: 0.0578 - val_accuracy: 0.9764 - val_loss: 0.0624 - learning_rate: 5.0000e-04\n",
            "Epoch 16/25\n",
            "\u001b[1m1423/1423\u001b[0m \u001b[32m━━━━━━━━━━━━━━━━━━━━\u001b[0m\u001b[37m\u001b[0m \u001b[1m0s\u001b[0m 994ms/step - accuracy: 0.9794 - loss: 0.0539 | Epoch 16 took 1555.71 seconds\n",
            "\u001b[1m1423/1423\u001b[0m \u001b[32m━━━━━━━━━━━━━━━━━━━━\u001b[0m\u001b[37m\u001b[0m \u001b[1m1556s\u001b[0m 1s/step - accuracy: 0.9794 - loss: 0.0539 - val_accuracy: 0.9772 - val_loss: 0.0609 - learning_rate: 2.5000e-04\n",
            "Epoch 17/25\n",
            "\u001b[1m1423/1423\u001b[0m \u001b[32m━━━━━━━━━━━━━━━━━━━━\u001b[0m\u001b[37m\u001b[0m \u001b[1m0s\u001b[0m 993ms/step - accuracy: 0.9800 - loss: 0.0522 | Epoch 17 took 1554.82 seconds\n",
            "\u001b[1m1423/1423\u001b[0m \u001b[32m━━━━━━━━━━━━━━━━━━━━\u001b[0m\u001b[37m\u001b[0m \u001b[1m1555s\u001b[0m 1s/step - accuracy: 0.9800 - loss: 0.0522 - val_accuracy: 0.9773 - val_loss: 0.0598 - learning_rate: 2.5000e-04\n",
            "Epoch 18/25\n",
            "\u001b[1m1423/1423\u001b[0m \u001b[32m━━━━━━━━━━━━━━━━━━━━\u001b[0m\u001b[37m\u001b[0m \u001b[1m0s\u001b[0m 994ms/step - accuracy: 0.9803 - loss: 0.0511 | Epoch 18 took 1583.17 seconds\n",
            "\u001b[1m1423/1423\u001b[0m \u001b[32m━━━━━━━━━━━━━━━━━━━━\u001b[0m\u001b[37m\u001b[0m \u001b[1m1583s\u001b[0m 1s/step - accuracy: 0.9803 - loss: 0.0511 - val_accuracy: 0.9774 - val_loss: 0.0604 - learning_rate: 2.5000e-04\n",
            "Epoch 19/25\n",
            "\u001b[1m1423/1423\u001b[0m \u001b[32m━━━━━━━━━━━━━━━━━━━━\u001b[0m\u001b[37m\u001b[0m \u001b[1m0s\u001b[0m 990ms/step - accuracy: 0.9803 - loss: 0.0507 | Epoch 19 took 1550.54 seconds\n",
            "\n",
            "Epoch 19: ReduceLROnPlateau reducing learning rate to 0.0001250000059371814.\n",
            "\u001b[1m1423/1423\u001b[0m \u001b[32m━━━━━━━━━━━━━━━━━━━━\u001b[0m\u001b[37m\u001b[0m \u001b[1m1551s\u001b[0m 1s/step - accuracy: 0.9803 - loss: 0.0507 - val_accuracy: 0.9773 - val_loss: 0.0600 - learning_rate: 2.5000e-04\n",
            "Epoch 20/25\n",
            "\u001b[1m1423/1423\u001b[0m \u001b[32m━━━━━━━━━━━━━━━━━━━━\u001b[0m\u001b[37m\u001b[0m \u001b[1m0s\u001b[0m 993ms/step - accuracy: 0.9816 - loss: 0.0480 | Epoch 20 took 1543.40 seconds\n",
            "\u001b[1m1423/1423\u001b[0m \u001b[32m━━━━━━━━━━━━━━━━━━━━\u001b[0m\u001b[37m\u001b[0m \u001b[1m1543s\u001b[0m 1s/step - accuracy: 0.9816 - loss: 0.0480 - val_accuracy: 0.9775 - val_loss: 0.0602 - learning_rate: 1.2500e-04\n",
            "Epoch 21/25\n",
            "\u001b[1m1423/1423\u001b[0m \u001b[32m━━━━━━━━━━━━━━━━━━━━\u001b[0m\u001b[37m\u001b[0m \u001b[1m0s\u001b[0m 993ms/step - accuracy: 0.9819 - loss: 0.0470 | Epoch 21 took 1511.85 seconds\n",
            "\u001b[1m1423/1423\u001b[0m \u001b[32m━━━━━━━━━━━━━━━━━━━━\u001b[0m\u001b[37m\u001b[0m \u001b[1m1512s\u001b[0m 1s/step - accuracy: 0.9819 - loss: 0.0470 - val_accuracy: 0.9778 - val_loss: 0.0592 - learning_rate: 1.2500e-04\n",
            "Epoch 22/25\n",
            "\u001b[1m1423/1423\u001b[0m \u001b[32m━━━━━━━━━━━━━━━━━━━━\u001b[0m\u001b[37m\u001b[0m \u001b[1m0s\u001b[0m 994ms/step - accuracy: 0.9816 - loss: 0.0474 | Epoch 22 took 1566.47 seconds\n",
            "\u001b[1m1423/1423\u001b[0m \u001b[32m━━━━━━━━━━━━━━━━━━━━\u001b[0m\u001b[37m\u001b[0m \u001b[1m1566s\u001b[0m 1s/step - accuracy: 0.9816 - loss: 0.0474 - val_accuracy: 0.9782 - val_loss: 0.0586 - learning_rate: 1.2500e-04\n",
            "Epoch 23/25\n",
            "\u001b[1m1423/1423\u001b[0m \u001b[32m━━━━━━━━━━━━━━━━━━━━\u001b[0m\u001b[37m\u001b[0m \u001b[1m0s\u001b[0m 996ms/step - accuracy: 0.9818 - loss: 0.0471 | Epoch 23 took 1559.55 seconds\n",
            "\u001b[1m1423/1423\u001b[0m \u001b[32m━━━━━━━━━━━━━━━━━━━━\u001b[0m\u001b[37m\u001b[0m \u001b[1m1560s\u001b[0m 1s/step - accuracy: 0.9818 - loss: 0.0471 - val_accuracy: 0.9781 - val_loss: 0.0592 - learning_rate: 1.2500e-04\n",
            "Epoch 24/25\n",
            "\u001b[1m1423/1423\u001b[0m \u001b[32m━━━━━━━━━━━━━━━━━━━━\u001b[0m\u001b[37m\u001b[0m \u001b[1m0s\u001b[0m 999ms/step - accuracy: 0.9824 - loss: 0.0462 | Epoch 24 took 1563.00 seconds\n",
            "\u001b[1m1423/1423\u001b[0m \u001b[32m━━━━━━━━━━━━━━━━━━━━\u001b[0m\u001b[37m\u001b[0m \u001b[1m1563s\u001b[0m 1s/step - accuracy: 0.9824 - loss: 0.0462 - val_accuracy: 0.9783 - val_loss: 0.0584 - learning_rate: 1.2500e-04\n",
            "Epoch 25/25\n",
            "\u001b[1m1423/1423\u001b[0m \u001b[32m━━━━━━━━━━━━━━━━━━━━\u001b[0m\u001b[37m\u001b[0m \u001b[1m0s\u001b[0m 1s/step - accuracy: 0.9825 - loss: 0.0454 | Epoch 25 took 1619.09 seconds\n",
            "\u001b[1m1423/1423\u001b[0m \u001b[32m━━━━━━━━━━━━━━━━━━━━\u001b[0m\u001b[37m\u001b[0m \u001b[1m1619s\u001b[0m 1s/step - accuracy: 0.9825 - loss: 0.0454 - val_accuracy: 0.9781 - val_loss: 0.0594 - learning_rate: 1.2500e-04\n",
            "Restoring model weights from the end of the best epoch: 24.\n"
          ]
        }
      ]
    },
    {
      "cell_type": "markdown",
      "source": [
        "CNN model metrics, evaluating inference time and model size"
      ],
      "metadata": {
        "id": "MR5AQAMS8WTY"
      }
    },
    {
      "cell_type": "code",
      "source": [
        "# Evaluate & predict\n",
        "test_loss, test_acc = ori_cnn.evaluate(cnn_feature_test, y_test_oh, batch_size=cnn_params['batch_size'], verbose=0)\n",
        "\n",
        "_ = ori_cnn.predict(cnn_feature_test[:1], verbose=0)  # warm-up\n",
        "t0 = time.time()\n",
        "ori_cnn_test_probs_2d = ori_cnn.predict(cnn_feature_test, batch_size=cnn_params['batch_size'], verbose=0)  # [N,2]\n",
        "ori_cnn_total_inference_time = time.time() - t0\n",
        "ori_cnn_avg_inference_time = ori_cnn_total_inference_time / len(cnn_feature_test)\n",
        "throughput = len(cnn_feature_test) / ori_cnn_total_inference_time\n",
        "\n",
        "y_true_inline = np.argmax(y_test_oh, axis=1)\n",
        "ori_cnn_test_probs = ori_cnn_test_probs_2d[:, 1]\n",
        "ori_cnn_test_pred  = np.argmax(ori_cnn_test_probs_2d, axis=1)\n",
        "\n",
        "# Scalar metrics\n",
        "ori_cnn_acc = test_acc\n",
        "ori_cnn_prec = precision_score(y_true_inline, ori_cnn_test_pred)\n",
        "ori_cnn_rec  = recall_score(y_true_inline, ori_cnn_test_pred)\n",
        "ori_cnn_f1   = f1_score(y_true_inline, ori_cnn_test_pred)\n",
        "ori_cnn_roc  = roc_auc_score(y_true_inline, ori_cnn_test_probs)\n",
        "\n",
        "print(\"Original CNN Model Metrics\")\n",
        "print(f\"Accuracy  : {ori_cnn_acc:.4f}\")\n",
        "print(f\"Precision : {ori_cnn_prec:.4f}\")\n",
        "print(f\"Recall    : {ori_cnn_rec:.4f}\")\n",
        "print(f\"F1-score  : {ori_cnn_f1:.4f}\")\n",
        "print(f\"ROC-AUC   : {ori_cnn_roc:.4f}\")\n",
        "\n",
        "# Model size\n",
        "ori_cnn_path = \"ori_cnn.keras\"\n",
        "ori_cnn.save(ori_cnn_path, include_optimizer=False)\n",
        "ori_cnn_size_in_kb = os.path.getsize(ori_cnn_path) / 1024\n",
        "\n",
        "# Params\n",
        "total_params = ori_cnn.count_params()\n",
        "trainable_params = int(np.sum([np.prod(w.shape) for w in ori_cnn.trainable_weights]))\n",
        "non_trainable_params = int(np.sum([np.prod(w.shape) for w in ori_cnn.non_trainable_weights]))\n",
        "\n",
        "print(f\"Total Inference time: {ori_cnn_total_inference_time:.8f} seconds\")\n",
        "print(f\"Average per sample: {ori_cnn_avg_inference_time:.8f} seconds\")\n",
        "print(f\"Params — total: {total_params:,} | trainable: {trainable_params:,} | non-trainable: {non_trainable_params:,}\")\n",
        "print(f\"Model size: {ori_cnn_size_in_kb:.2f} KB\")"
      ],
      "metadata": {
        "id": "27lGHcy48SBF",
        "outputId": "b31535dc-651f-4060-e53e-a0cd20382874",
        "colab": {
          "base_uri": "https://localhost:8080/"
        }
      },
      "execution_count": null,
      "outputs": [
        {
          "output_type": "stream",
          "name": "stdout",
          "text": [
            "Original CNN Model Metrics\n",
            "Accuracy  : 0.9785\n",
            "Precision : 0.9794\n",
            "Recall    : 0.9722\n",
            "F1-score  : 0.9758\n",
            "ROC-AUC   : 0.9979\n",
            "Total Inference time: 37.41804218 seconds\n",
            "Average per sample: 0.00072642 seconds\n",
            "Params — total: 473,094 | trainable: 473,094 | non-trainable: 0\n",
            "Model size: 5624.40 KB\n"
          ]
        }
      ]
    },
    {
      "cell_type": "markdown",
      "source": [
        "Side-by-side Comparison"
      ],
      "metadata": {
        "id": "PdQIAkGT8bC1"
      }
    },
    {
      "cell_type": "code",
      "source": [
        "cnn_comparison_data = {\n",
        "    \"Metric\": [\n",
        "        \"Accuracy\", \"Precision\", \"Recall\", \"F1-score\", \"ROC-AUC\", \"Total Inference Time (s)\", \"Avg Inference Time (s)\", \"Model Size (KB)\"\n",
        "    ],\n",
        "    \"Old (ori_cnn)\": [\n",
        "        f\"{ori_cnn_acc:.4f}\",\n",
        "        f\"{ori_cnn_prec:.4f}\",\n",
        "        f\"{ori_cnn_rec:.4f}\",\n",
        "        f\"{ori_cnn_f1:.4f}\",\n",
        "        f\"{ori_cnn_roc:.4f}\",\n",
        "        f\"{ori_cnn_total_inference_time:.8f}\",\n",
        "        f\"{ori_cnn_avg_inference_time:.8f}\",\n",
        "        f\"{ori_cnn_size_in_kb:.2f}\"\n",
        "    ],\n",
        "    \"New (xgb_model)\": [\n",
        "        f\"{xgb_acc:.4f}\",\n",
        "        f\"{xgb_prec:.4f}\",\n",
        "        f\"{xgb_rec:.4f}\",\n",
        "        f\"{xgb_f1:.4f}\",\n",
        "        f\"{xgb_roc_auc:.4f}\",\n",
        "        f\"{xgb_inference_time:.8f}\",\n",
        "        f\"{xgb_avg_time:.8f}\",\n",
        "        f\"{new_xgb_size_in_kb:.2f}\"\n",
        "    ]\n",
        "}\n",
        "\n",
        "pd.DataFrame(cnn_comparison_data)"
      ],
      "metadata": {
        "id": "gypLf1Ri8Xd7",
        "outputId": "c7ce0f92-e4a9-4bee-b13a-51227a39cc3a",
        "colab": {
          "base_uri": "https://localhost:8080/",
          "height": 300
        }
      },
      "execution_count": null,
      "outputs": [
        {
          "output_type": "execute_result",
          "data": {
            "text/plain": [
              "                     Metric Old (ori_cnn) New (xgb_model)\n",
              "0                  Accuracy        0.9785          0.9853\n",
              "1                 Precision        0.9794          0.9822\n",
              "2                    Recall        0.9722          0.9887\n",
              "3                  F1-score        0.9758          0.9855\n",
              "4                   ROC-AUC        0.9979          0.9982\n",
              "5  Total Inference Time (s)   37.41804218      0.10618854\n",
              "6    Avg Inference Time (s)    0.00072642      0.00003540\n",
              "7           Model Size (KB)       5624.40         2740.81"
            ],
            "text/html": [
              "\n",
              "  <div id=\"df-74da7d10-082a-4411-827e-ee198011d0c4\" class=\"colab-df-container\">\n",
              "    <div>\n",
              "<style scoped>\n",
              "    .dataframe tbody tr th:only-of-type {\n",
              "        vertical-align: middle;\n",
              "    }\n",
              "\n",
              "    .dataframe tbody tr th {\n",
              "        vertical-align: top;\n",
              "    }\n",
              "\n",
              "    .dataframe thead th {\n",
              "        text-align: right;\n",
              "    }\n",
              "</style>\n",
              "<table border=\"1\" class=\"dataframe\">\n",
              "  <thead>\n",
              "    <tr style=\"text-align: right;\">\n",
              "      <th></th>\n",
              "      <th>Metric</th>\n",
              "      <th>Old (ori_cnn)</th>\n",
              "      <th>New (xgb_model)</th>\n",
              "    </tr>\n",
              "  </thead>\n",
              "  <tbody>\n",
              "    <tr>\n",
              "      <th>0</th>\n",
              "      <td>Accuracy</td>\n",
              "      <td>0.9785</td>\n",
              "      <td>0.9853</td>\n",
              "    </tr>\n",
              "    <tr>\n",
              "      <th>1</th>\n",
              "      <td>Precision</td>\n",
              "      <td>0.9794</td>\n",
              "      <td>0.9822</td>\n",
              "    </tr>\n",
              "    <tr>\n",
              "      <th>2</th>\n",
              "      <td>Recall</td>\n",
              "      <td>0.9722</td>\n",
              "      <td>0.9887</td>\n",
              "    </tr>\n",
              "    <tr>\n",
              "      <th>3</th>\n",
              "      <td>F1-score</td>\n",
              "      <td>0.9758</td>\n",
              "      <td>0.9855</td>\n",
              "    </tr>\n",
              "    <tr>\n",
              "      <th>4</th>\n",
              "      <td>ROC-AUC</td>\n",
              "      <td>0.9979</td>\n",
              "      <td>0.9982</td>\n",
              "    </tr>\n",
              "    <tr>\n",
              "      <th>5</th>\n",
              "      <td>Total Inference Time (s)</td>\n",
              "      <td>37.41804218</td>\n",
              "      <td>0.10618854</td>\n",
              "    </tr>\n",
              "    <tr>\n",
              "      <th>6</th>\n",
              "      <td>Avg Inference Time (s)</td>\n",
              "      <td>0.00072642</td>\n",
              "      <td>0.00003540</td>\n",
              "    </tr>\n",
              "    <tr>\n",
              "      <th>7</th>\n",
              "      <td>Model Size (KB)</td>\n",
              "      <td>5624.40</td>\n",
              "      <td>2740.81</td>\n",
              "    </tr>\n",
              "  </tbody>\n",
              "</table>\n",
              "</div>\n",
              "    <div class=\"colab-df-buttons\">\n",
              "\n",
              "  <div class=\"colab-df-container\">\n",
              "    <button class=\"colab-df-convert\" onclick=\"convertToInteractive('df-74da7d10-082a-4411-827e-ee198011d0c4')\"\n",
              "            title=\"Convert this dataframe to an interactive table.\"\n",
              "            style=\"display:none;\">\n",
              "\n",
              "  <svg xmlns=\"http://www.w3.org/2000/svg\" height=\"24px\" viewBox=\"0 -960 960 960\">\n",
              "    <path d=\"M120-120v-720h720v720H120Zm60-500h600v-160H180v160Zm220 220h160v-160H400v160Zm0 220h160v-160H400v160ZM180-400h160v-160H180v160Zm440 0h160v-160H620v160ZM180-180h160v-160H180v160Zm440 0h160v-160H620v160Z\"/>\n",
              "  </svg>\n",
              "    </button>\n",
              "\n",
              "  <style>\n",
              "    .colab-df-container {\n",
              "      display:flex;\n",
              "      gap: 12px;\n",
              "    }\n",
              "\n",
              "    .colab-df-convert {\n",
              "      background-color: #E8F0FE;\n",
              "      border: none;\n",
              "      border-radius: 50%;\n",
              "      cursor: pointer;\n",
              "      display: none;\n",
              "      fill: #1967D2;\n",
              "      height: 32px;\n",
              "      padding: 0 0 0 0;\n",
              "      width: 32px;\n",
              "    }\n",
              "\n",
              "    .colab-df-convert:hover {\n",
              "      background-color: #E2EBFA;\n",
              "      box-shadow: 0px 1px 2px rgba(60, 64, 67, 0.3), 0px 1px 3px 1px rgba(60, 64, 67, 0.15);\n",
              "      fill: #174EA6;\n",
              "    }\n",
              "\n",
              "    .colab-df-buttons div {\n",
              "      margin-bottom: 4px;\n",
              "    }\n",
              "\n",
              "    [theme=dark] .colab-df-convert {\n",
              "      background-color: #3B4455;\n",
              "      fill: #D2E3FC;\n",
              "    }\n",
              "\n",
              "    [theme=dark] .colab-df-convert:hover {\n",
              "      background-color: #434B5C;\n",
              "      box-shadow: 0px 1px 3px 1px rgba(0, 0, 0, 0.15);\n",
              "      filter: drop-shadow(0px 1px 2px rgba(0, 0, 0, 0.3));\n",
              "      fill: #FFFFFF;\n",
              "    }\n",
              "  </style>\n",
              "\n",
              "    <script>\n",
              "      const buttonEl =\n",
              "        document.querySelector('#df-74da7d10-082a-4411-827e-ee198011d0c4 button.colab-df-convert');\n",
              "      buttonEl.style.display =\n",
              "        google.colab.kernel.accessAllowed ? 'block' : 'none';\n",
              "\n",
              "      async function convertToInteractive(key) {\n",
              "        const element = document.querySelector('#df-74da7d10-082a-4411-827e-ee198011d0c4');\n",
              "        const dataTable =\n",
              "          await google.colab.kernel.invokeFunction('convertToInteractive',\n",
              "                                                    [key], {});\n",
              "        if (!dataTable) return;\n",
              "\n",
              "        const docLinkHtml = 'Like what you see? Visit the ' +\n",
              "          '<a target=\"_blank\" href=https://colab.research.google.com/notebooks/data_table.ipynb>data table notebook</a>'\n",
              "          + ' to learn more about interactive tables.';\n",
              "        element.innerHTML = '';\n",
              "        dataTable['output_type'] = 'display_data';\n",
              "        await google.colab.output.renderOutput(dataTable, element);\n",
              "        const docLink = document.createElement('div');\n",
              "        docLink.innerHTML = docLinkHtml;\n",
              "        element.appendChild(docLink);\n",
              "      }\n",
              "    </script>\n",
              "  </div>\n",
              "\n",
              "\n",
              "    <div id=\"df-f9c179c8-db61-4044-9fd8-c141bf798e64\">\n",
              "      <button class=\"colab-df-quickchart\" onclick=\"quickchart('df-f9c179c8-db61-4044-9fd8-c141bf798e64')\"\n",
              "                title=\"Suggest charts\"\n",
              "                style=\"display:none;\">\n",
              "\n",
              "<svg xmlns=\"http://www.w3.org/2000/svg\" height=\"24px\"viewBox=\"0 0 24 24\"\n",
              "     width=\"24px\">\n",
              "    <g>\n",
              "        <path d=\"M19 3H5c-1.1 0-2 .9-2 2v14c0 1.1.9 2 2 2h14c1.1 0 2-.9 2-2V5c0-1.1-.9-2-2-2zM9 17H7v-7h2v7zm4 0h-2V7h2v10zm4 0h-2v-4h2v4z\"/>\n",
              "    </g>\n",
              "</svg>\n",
              "      </button>\n",
              "\n",
              "<style>\n",
              "  .colab-df-quickchart {\n",
              "      --bg-color: #E8F0FE;\n",
              "      --fill-color: #1967D2;\n",
              "      --hover-bg-color: #E2EBFA;\n",
              "      --hover-fill-color: #174EA6;\n",
              "      --disabled-fill-color: #AAA;\n",
              "      --disabled-bg-color: #DDD;\n",
              "  }\n",
              "\n",
              "  [theme=dark] .colab-df-quickchart {\n",
              "      --bg-color: #3B4455;\n",
              "      --fill-color: #D2E3FC;\n",
              "      --hover-bg-color: #434B5C;\n",
              "      --hover-fill-color: #FFFFFF;\n",
              "      --disabled-bg-color: #3B4455;\n",
              "      --disabled-fill-color: #666;\n",
              "  }\n",
              "\n",
              "  .colab-df-quickchart {\n",
              "    background-color: var(--bg-color);\n",
              "    border: none;\n",
              "    border-radius: 50%;\n",
              "    cursor: pointer;\n",
              "    display: none;\n",
              "    fill: var(--fill-color);\n",
              "    height: 32px;\n",
              "    padding: 0;\n",
              "    width: 32px;\n",
              "  }\n",
              "\n",
              "  .colab-df-quickchart:hover {\n",
              "    background-color: var(--hover-bg-color);\n",
              "    box-shadow: 0 1px 2px rgba(60, 64, 67, 0.3), 0 1px 3px 1px rgba(60, 64, 67, 0.15);\n",
              "    fill: var(--button-hover-fill-color);\n",
              "  }\n",
              "\n",
              "  .colab-df-quickchart-complete:disabled,\n",
              "  .colab-df-quickchart-complete:disabled:hover {\n",
              "    background-color: var(--disabled-bg-color);\n",
              "    fill: var(--disabled-fill-color);\n",
              "    box-shadow: none;\n",
              "  }\n",
              "\n",
              "  .colab-df-spinner {\n",
              "    border: 2px solid var(--fill-color);\n",
              "    border-color: transparent;\n",
              "    border-bottom-color: var(--fill-color);\n",
              "    animation:\n",
              "      spin 1s steps(1) infinite;\n",
              "  }\n",
              "\n",
              "  @keyframes spin {\n",
              "    0% {\n",
              "      border-color: transparent;\n",
              "      border-bottom-color: var(--fill-color);\n",
              "      border-left-color: var(--fill-color);\n",
              "    }\n",
              "    20% {\n",
              "      border-color: transparent;\n",
              "      border-left-color: var(--fill-color);\n",
              "      border-top-color: var(--fill-color);\n",
              "    }\n",
              "    30% {\n",
              "      border-color: transparent;\n",
              "      border-left-color: var(--fill-color);\n",
              "      border-top-color: var(--fill-color);\n",
              "      border-right-color: var(--fill-color);\n",
              "    }\n",
              "    40% {\n",
              "      border-color: transparent;\n",
              "      border-right-color: var(--fill-color);\n",
              "      border-top-color: var(--fill-color);\n",
              "    }\n",
              "    60% {\n",
              "      border-color: transparent;\n",
              "      border-right-color: var(--fill-color);\n",
              "    }\n",
              "    80% {\n",
              "      border-color: transparent;\n",
              "      border-right-color: var(--fill-color);\n",
              "      border-bottom-color: var(--fill-color);\n",
              "    }\n",
              "    90% {\n",
              "      border-color: transparent;\n",
              "      border-bottom-color: var(--fill-color);\n",
              "    }\n",
              "  }\n",
              "</style>\n",
              "\n",
              "      <script>\n",
              "        async function quickchart(key) {\n",
              "          const quickchartButtonEl =\n",
              "            document.querySelector('#' + key + ' button');\n",
              "          quickchartButtonEl.disabled = true;  // To prevent multiple clicks.\n",
              "          quickchartButtonEl.classList.add('colab-df-spinner');\n",
              "          try {\n",
              "            const charts = await google.colab.kernel.invokeFunction(\n",
              "                'suggestCharts', [key], {});\n",
              "          } catch (error) {\n",
              "            console.error('Error during call to suggestCharts:', error);\n",
              "          }\n",
              "          quickchartButtonEl.classList.remove('colab-df-spinner');\n",
              "          quickchartButtonEl.classList.add('colab-df-quickchart-complete');\n",
              "        }\n",
              "        (() => {\n",
              "          let quickchartButtonEl =\n",
              "            document.querySelector('#df-f9c179c8-db61-4044-9fd8-c141bf798e64 button');\n",
              "          quickchartButtonEl.style.display =\n",
              "            google.colab.kernel.accessAllowed ? 'block' : 'none';\n",
              "        })();\n",
              "      </script>\n",
              "    </div>\n",
              "\n",
              "    </div>\n",
              "  </div>\n"
            ],
            "application/vnd.google.colaboratory.intrinsic+json": {
              "type": "dataframe",
              "summary": "{\n  \"name\": \"pd\",\n  \"rows\": 8,\n  \"fields\": [\n    {\n      \"column\": \"Metric\",\n      \"properties\": {\n        \"dtype\": \"string\",\n        \"num_unique_values\": 8,\n        \"samples\": [\n          \"Precision\",\n          \"Total Inference Time (s)\",\n          \"Accuracy\"\n        ],\n        \"semantic_type\": \"\",\n        \"description\": \"\"\n      }\n    },\n    {\n      \"column\": \"Old (ori_cnn)\",\n      \"properties\": {\n        \"dtype\": \"string\",\n        \"num_unique_values\": 8,\n        \"samples\": [\n          \"0.9794\",\n          \"37.41804218\",\n          \"0.9785\"\n        ],\n        \"semantic_type\": \"\",\n        \"description\": \"\"\n      }\n    },\n    {\n      \"column\": \"New (xgb_model)\",\n      \"properties\": {\n        \"dtype\": \"string\",\n        \"num_unique_values\": 8,\n        \"samples\": [\n          \"0.9822\",\n          \"0.10618854\",\n          \"0.9853\"\n        ],\n        \"semantic_type\": \"\",\n        \"description\": \"\"\n      }\n    }\n  ]\n}"
            }
          },
          "metadata": {},
          "execution_count": 25
        }
      ]
    },
    {
      "cell_type": "markdown",
      "source": [
        "# Gradient Boosting - Lee Zhi Hui - TP074075"
      ],
      "metadata": {
        "id": "Uw7XBUfXHnMw"
      }
    },
    {
      "cell_type": "markdown",
      "source": [
        "Setup"
      ],
      "metadata": {
        "id": "MOkzxxiHstPh"
      }
    },
    {
      "cell_type": "code",
      "source": [
        "gbc_url = 'https://raw.githubusercontent.com/asrith-reddy/Phishing-detector/refs/heads/main/DataFiles/phishing.csv'\n",
        "gbc_data = pd.read_csv(gbc_url)\n",
        "print(gbc_data)"
      ],
      "metadata": {
        "id": "1CE3tz3esy10",
        "outputId": "167478de-aaa5-4635-b2a9-05fb9da82ea6",
        "colab": {
          "base_uri": "https://localhost:8080/"
        }
      },
      "execution_count": 53,
      "outputs": [
        {
          "output_type": "stream",
          "name": "stdout",
          "text": [
            "       Index  UsingIP  LongURL  ShortURL  Symbol@  Redirecting//  \\\n",
            "0          0        1        1         1        1              1   \n",
            "1          1        1        0         1        1              1   \n",
            "2          2        1        0         1        1              1   \n",
            "3          3        1        0        -1        1              1   \n",
            "4          4       -1        0        -1        1             -1   \n",
            "...      ...      ...      ...       ...      ...            ...   \n",
            "11049  11049        1       -1         1       -1              1   \n",
            "11050  11050       -1        1         1       -1             -1   \n",
            "11051  11051        1       -1         1        1              1   \n",
            "11052  11052       -1       -1         1        1              1   \n",
            "11053  11053       -1       -1         1        1              1   \n",
            "\n",
            "       PrefixSuffix-  SubDomains  HTTPS  DomainRegLen  ...  UsingPopupWindow  \\\n",
            "0                 -1           0      1            -1  ...                 1   \n",
            "1                 -1          -1     -1            -1  ...                 1   \n",
            "2                 -1          -1     -1             1  ...                 1   \n",
            "3                 -1           1      1            -1  ...                -1   \n",
            "4                 -1           1      1            -1  ...                 1   \n",
            "...              ...         ...    ...           ...  ...               ...   \n",
            "11049              1           1      1            -1  ...                -1   \n",
            "11050             -1           1     -1            -1  ...                -1   \n",
            "11051             -1           1     -1            -1  ...                 1   \n",
            "11052             -1          -1     -1             1  ...                -1   \n",
            "11053             -1          -1     -1             1  ...                 1   \n",
            "\n",
            "       IframeRedirection  AgeofDomain  DNSRecording  WebsiteTraffic  PageRank  \\\n",
            "0                      1           -1            -1               0        -1   \n",
            "1                      1            1            -1               1        -1   \n",
            "2                      1           -1            -1               1        -1   \n",
            "3                      1           -1            -1               0        -1   \n",
            "4                      1            1             1               1        -1   \n",
            "...                  ...          ...           ...             ...       ...   \n",
            "11049                 -1            1             1              -1        -1   \n",
            "11050                  1            1             1               1         1   \n",
            "11051                  1            1             1               1        -1   \n",
            "11052                  1            1             1               1        -1   \n",
            "11053                  1           -1             1              -1        -1   \n",
            "\n",
            "       GoogleIndex  LinksPointingToPage  StatsReport  class  \n",
            "0                1                    1            1     -1  \n",
            "1                1                    0           -1     -1  \n",
            "2                1                   -1            1     -1  \n",
            "3                1                    1            1      1  \n",
            "4                1                   -1           -1      1  \n",
            "...            ...                  ...          ...    ...  \n",
            "11049            1                    1            1      1  \n",
            "11050            1                   -1            1     -1  \n",
            "11051            1                    0            1     -1  \n",
            "11052            1                    1            1     -1  \n",
            "11053           -1                    1           -1     -1  \n",
            "\n",
            "[11054 rows x 32 columns]\n"
          ]
        }
      ]
    },
    {
      "cell_type": "markdown",
      "source": [
        "Data processing"
      ],
      "metadata": {
        "id": "7E6imCbztITP"
      }
    },
    {
      "cell_type": "code",
      "source": [
        "gbc_feature = gbc_data.drop('class',axis=1)\n",
        "gbc_target = gbc_data['class']\n",
        "gbc_feature_train, gbc_feature_test, gbc_target_train, gbc_target_test = train_test_split(gbc_feature, gbc_target, test_size = 0.2, random_state = 42)\n",
        "print('Feature train set:', gbc_feature_train.shape)\n",
        "print('Target train set :', gbc_target_train.shape)\n",
        "print('Feature test set :', gbc_feature_test.shape)\n",
        "print('Target test set  :', gbc_target_test.shape)"
      ],
      "metadata": {
        "id": "qJt67XiztBvx",
        "outputId": "4397af1a-616c-4409-d495-1a2d388054b6",
        "colab": {
          "base_uri": "https://localhost:8080/"
        }
      },
      "execution_count": 54,
      "outputs": [
        {
          "output_type": "stream",
          "name": "stdout",
          "text": [
            "Feature train set: (8843, 31)\n",
            "Target train set : (8843,)\n",
            "Feature test set : (2211, 31)\n",
            "Target test set  : (2211,)\n"
          ]
        }
      ]
    },
    {
      "cell_type": "markdown",
      "source": [
        "Retest original paper code"
      ],
      "metadata": {
        "id": "c-I1ctT8tWIv"
      }
    },
    {
      "cell_type": "code",
      "source": [
        "ori_gbc = GradientBoostingClassifier(max_depth=4,learning_rate=0.7)\n",
        "ori_gbc.fit(gbc_feature_train, gbc_target_train)\n",
        "ori_gbc_test_pred = ori_gbc.predict(gbc_feature_test)\n",
        "ori_gbc_test_probs = ori_gbc.predict_proba(gbc_feature_test)[:, 1]\n",
        "\n",
        "ori_gbc_acc = accuracy_score(gbc_target_test, ori_gbc_test_pred)\n",
        "ori_gbc_prec = precision_score(gbc_target_test, ori_gbc_test_pred)\n",
        "ori_gbc_rec = recall_score(gbc_target_test, ori_gbc_test_pred)\n",
        "ori_gbc_f1 = f1_score(gbc_target_test, ori_gbc_test_pred)\n",
        "ori_gbc_roc = roc_auc_score(gbc_target_test, ori_gbc_test_probs)\n",
        "\n",
        "print(\"Original Gbc Model Metrics\")\n",
        "print(f\"Accuracy  : {ori_gbc_acc:.4f}\")\n",
        "print(f\"Precision : {ori_gbc_prec:.4f}\")\n",
        "print(f\"Recall    : {ori_gbc_rec:.4f}\")\n",
        "print(f\"F1-score  : {ori_gbc_f1:.4f}\")\n",
        "print(f\"ROC-AUC   : {ori_gbc_roc:.4f}\")"
      ],
      "metadata": {
        "id": "WhvIXk-ptOLj",
        "outputId": "6df5a95f-91aa-49f7-eac2-0ae783fbe91d",
        "colab": {
          "base_uri": "https://localhost:8080/"
        }
      },
      "execution_count": 55,
      "outputs": [
        {
          "output_type": "stream",
          "name": "stdout",
          "text": [
            "Original Gbc Model Metrics\n",
            "Accuracy  : 0.9616\n",
            "Precision : 0.9652\n",
            "Recall    : 0.9660\n",
            "F1-score  : 0.9656\n",
            "ROC-AUC   : 0.9941\n"
          ]
        }
      ]
    },
    {
      "cell_type": "markdown",
      "source": [
        "Evaluating inference time and model size"
      ],
      "metadata": {
        "id": "w8WYK88KtfOK"
      }
    },
    {
      "cell_type": "code",
      "source": [
        "start_time = time.time()\n",
        "_ = ori_gbc.predict_proba(gbc_feature)\n",
        "end_time = time.time()\n",
        "ori_gbc_total_inference_time = end_time - start_time\n",
        "ori_gbc_avg_inference_time = ori_gbc_total_inference_time / len(gbc_feature)\n",
        "print(f\"Total Inference time: {ori_gbc_total_inference_time:.8f} seconds\")\n",
        "print(f\"Average per sample:     {ori_gbc_avg_inference_time:.8f} seconds\")\n",
        "\n",
        "joblib.dump(ori_gbc, 'ori_gbc.pkl')\n",
        "ori_gbc_size_in_bytes = os.path.getsize('ori_gbc.pkl')\n",
        "ori_gbc_size_in_kb = ori_gbc_size_in_bytes / 1024\n",
        "print(f\"Model size: {ori_gbc_size_in_kb:.2f} KB\")"
      ],
      "metadata": {
        "id": "vFE4ck0Ito2P",
        "outputId": "07f04a4a-bb06-4fa2-8326-7b18942c9c23",
        "colab": {
          "base_uri": "https://localhost:8080/"
        }
      },
      "execution_count": 56,
      "outputs": [
        {
          "output_type": "stream",
          "name": "stdout",
          "text": [
            "Total Inference time: 0.08658528 seconds\n",
            "Average per sample:     0.00000783 seconds\n",
            "Model size: 242.35 KB\n"
          ]
        }
      ]
    },
    {
      "cell_type": "markdown",
      "source": [
        "Side by side comparison"
      ],
      "metadata": {
        "id": "2E1OS8oqtyB0"
      }
    },
    {
      "cell_type": "code",
      "source": [
        "gbc_comparison_data = {\n",
        "    \"Metric\": [\"Accuracy\", \"Precision\", \"Recall\", \"F1-score\", \"ROC-AUC\", \"Total Inference Time (s)\", \"Avg Inference Time (s)\", \"Model Size (KB)\"],\n",
        "\n",
        "    \"Old (ori_gbc)\": [\n",
        "        f\"{ori_gbc_acc:.4f}\",\n",
        "        f\"{ori_gbc_prec:.4f}\",\n",
        "        f\"{ori_gbc_rec:.4f}\",\n",
        "        f\"{ori_gbc_f1:.4f}\",\n",
        "        f\"{ori_gbc_roc:.4f}\",\n",
        "        f\"{ori_gbc_total_inference_time:.8f}\",\n",
        "        f\"{ori_gbc_avg_inference_time:.8f}\",\n",
        "        f\"{ori_gbc_size_in_kb:.2f}\"\n",
        "    ],\n",
        "\n",
        "    \"New (xgb_model)\": [\n",
        "        f\"{xgb_acc:.4f}\",\n",
        "        f\"{xgb_prec:.4f}\",\n",
        "        f\"{xgb_rec:.4f}\",\n",
        "        f\"{xgb_f1:.4f}\",\n",
        "        f\"{xgb_roc_auc:.4f}\",\n",
        "        f\"{xgb_inference_time:.8f}\",\n",
        "        f\"{xgb_avg_time:.8f}\",\n",
        "        f\"{new_xgb_size_in_kb:.2f}\"\n",
        "    ]\n",
        "}\n",
        "\n",
        "pd.DataFrame(gbc_comparison_data)"
      ],
      "metadata": {
        "id": "b2pEahRet0En",
        "outputId": "9fd34ce6-a53c-4b1b-d302-31ade0158711",
        "colab": {
          "base_uri": "https://localhost:8080/",
          "height": 300
        }
      },
      "execution_count": 57,
      "outputs": [
        {
          "output_type": "execute_result",
          "data": {
            "text/plain": [
              "                     Metric Old (ori_gbc) New (xgb_model)\n",
              "0                  Accuracy        0.9616          0.9853\n",
              "1                 Precision        0.9652          0.9822\n",
              "2                    Recall        0.9660          0.9887\n",
              "3                  F1-score        0.9656          0.9855\n",
              "4                   ROC-AUC        0.9941          0.9982\n",
              "5  Total Inference Time (s)    0.08658528      0.12942076\n",
              "6    Avg Inference Time (s)    0.00000783      0.00004314\n",
              "7           Model Size (KB)        242.35         2740.81"
            ],
            "text/html": [
              "\n",
              "  <div id=\"df-b9fa0ab5-648f-4669-984c-123195e2503c\" class=\"colab-df-container\">\n",
              "    <div>\n",
              "<style scoped>\n",
              "    .dataframe tbody tr th:only-of-type {\n",
              "        vertical-align: middle;\n",
              "    }\n",
              "\n",
              "    .dataframe tbody tr th {\n",
              "        vertical-align: top;\n",
              "    }\n",
              "\n",
              "    .dataframe thead th {\n",
              "        text-align: right;\n",
              "    }\n",
              "</style>\n",
              "<table border=\"1\" class=\"dataframe\">\n",
              "  <thead>\n",
              "    <tr style=\"text-align: right;\">\n",
              "      <th></th>\n",
              "      <th>Metric</th>\n",
              "      <th>Old (ori_gbc)</th>\n",
              "      <th>New (xgb_model)</th>\n",
              "    </tr>\n",
              "  </thead>\n",
              "  <tbody>\n",
              "    <tr>\n",
              "      <th>0</th>\n",
              "      <td>Accuracy</td>\n",
              "      <td>0.9616</td>\n",
              "      <td>0.9853</td>\n",
              "    </tr>\n",
              "    <tr>\n",
              "      <th>1</th>\n",
              "      <td>Precision</td>\n",
              "      <td>0.9652</td>\n",
              "      <td>0.9822</td>\n",
              "    </tr>\n",
              "    <tr>\n",
              "      <th>2</th>\n",
              "      <td>Recall</td>\n",
              "      <td>0.9660</td>\n",
              "      <td>0.9887</td>\n",
              "    </tr>\n",
              "    <tr>\n",
              "      <th>3</th>\n",
              "      <td>F1-score</td>\n",
              "      <td>0.9656</td>\n",
              "      <td>0.9855</td>\n",
              "    </tr>\n",
              "    <tr>\n",
              "      <th>4</th>\n",
              "      <td>ROC-AUC</td>\n",
              "      <td>0.9941</td>\n",
              "      <td>0.9982</td>\n",
              "    </tr>\n",
              "    <tr>\n",
              "      <th>5</th>\n",
              "      <td>Total Inference Time (s)</td>\n",
              "      <td>0.08658528</td>\n",
              "      <td>0.12942076</td>\n",
              "    </tr>\n",
              "    <tr>\n",
              "      <th>6</th>\n",
              "      <td>Avg Inference Time (s)</td>\n",
              "      <td>0.00000783</td>\n",
              "      <td>0.00004314</td>\n",
              "    </tr>\n",
              "    <tr>\n",
              "      <th>7</th>\n",
              "      <td>Model Size (KB)</td>\n",
              "      <td>242.35</td>\n",
              "      <td>2740.81</td>\n",
              "    </tr>\n",
              "  </tbody>\n",
              "</table>\n",
              "</div>\n",
              "    <div class=\"colab-df-buttons\">\n",
              "\n",
              "  <div class=\"colab-df-container\">\n",
              "    <button class=\"colab-df-convert\" onclick=\"convertToInteractive('df-b9fa0ab5-648f-4669-984c-123195e2503c')\"\n",
              "            title=\"Convert this dataframe to an interactive table.\"\n",
              "            style=\"display:none;\">\n",
              "\n",
              "  <svg xmlns=\"http://www.w3.org/2000/svg\" height=\"24px\" viewBox=\"0 -960 960 960\">\n",
              "    <path d=\"M120-120v-720h720v720H120Zm60-500h600v-160H180v160Zm220 220h160v-160H400v160Zm0 220h160v-160H400v160ZM180-400h160v-160H180v160Zm440 0h160v-160H620v160ZM180-180h160v-160H180v160Zm440 0h160v-160H620v160Z\"/>\n",
              "  </svg>\n",
              "    </button>\n",
              "\n",
              "  <style>\n",
              "    .colab-df-container {\n",
              "      display:flex;\n",
              "      gap: 12px;\n",
              "    }\n",
              "\n",
              "    .colab-df-convert {\n",
              "      background-color: #E8F0FE;\n",
              "      border: none;\n",
              "      border-radius: 50%;\n",
              "      cursor: pointer;\n",
              "      display: none;\n",
              "      fill: #1967D2;\n",
              "      height: 32px;\n",
              "      padding: 0 0 0 0;\n",
              "      width: 32px;\n",
              "    }\n",
              "\n",
              "    .colab-df-convert:hover {\n",
              "      background-color: #E2EBFA;\n",
              "      box-shadow: 0px 1px 2px rgba(60, 64, 67, 0.3), 0px 1px 3px 1px rgba(60, 64, 67, 0.15);\n",
              "      fill: #174EA6;\n",
              "    }\n",
              "\n",
              "    .colab-df-buttons div {\n",
              "      margin-bottom: 4px;\n",
              "    }\n",
              "\n",
              "    [theme=dark] .colab-df-convert {\n",
              "      background-color: #3B4455;\n",
              "      fill: #D2E3FC;\n",
              "    }\n",
              "\n",
              "    [theme=dark] .colab-df-convert:hover {\n",
              "      background-color: #434B5C;\n",
              "      box-shadow: 0px 1px 3px 1px rgba(0, 0, 0, 0.15);\n",
              "      filter: drop-shadow(0px 1px 2px rgba(0, 0, 0, 0.3));\n",
              "      fill: #FFFFFF;\n",
              "    }\n",
              "  </style>\n",
              "\n",
              "    <script>\n",
              "      const buttonEl =\n",
              "        document.querySelector('#df-b9fa0ab5-648f-4669-984c-123195e2503c button.colab-df-convert');\n",
              "      buttonEl.style.display =\n",
              "        google.colab.kernel.accessAllowed ? 'block' : 'none';\n",
              "\n",
              "      async function convertToInteractive(key) {\n",
              "        const element = document.querySelector('#df-b9fa0ab5-648f-4669-984c-123195e2503c');\n",
              "        const dataTable =\n",
              "          await google.colab.kernel.invokeFunction('convertToInteractive',\n",
              "                                                    [key], {});\n",
              "        if (!dataTable) return;\n",
              "\n",
              "        const docLinkHtml = 'Like what you see? Visit the ' +\n",
              "          '<a target=\"_blank\" href=https://colab.research.google.com/notebooks/data_table.ipynb>data table notebook</a>'\n",
              "          + ' to learn more about interactive tables.';\n",
              "        element.innerHTML = '';\n",
              "        dataTable['output_type'] = 'display_data';\n",
              "        await google.colab.output.renderOutput(dataTable, element);\n",
              "        const docLink = document.createElement('div');\n",
              "        docLink.innerHTML = docLinkHtml;\n",
              "        element.appendChild(docLink);\n",
              "      }\n",
              "    </script>\n",
              "  </div>\n",
              "\n",
              "\n",
              "    <div id=\"df-3dfcb0bd-4018-489c-b74c-5159831fb799\">\n",
              "      <button class=\"colab-df-quickchart\" onclick=\"quickchart('df-3dfcb0bd-4018-489c-b74c-5159831fb799')\"\n",
              "                title=\"Suggest charts\"\n",
              "                style=\"display:none;\">\n",
              "\n",
              "<svg xmlns=\"http://www.w3.org/2000/svg\" height=\"24px\"viewBox=\"0 0 24 24\"\n",
              "     width=\"24px\">\n",
              "    <g>\n",
              "        <path d=\"M19 3H5c-1.1 0-2 .9-2 2v14c0 1.1.9 2 2 2h14c1.1 0 2-.9 2-2V5c0-1.1-.9-2-2-2zM9 17H7v-7h2v7zm4 0h-2V7h2v10zm4 0h-2v-4h2v4z\"/>\n",
              "    </g>\n",
              "</svg>\n",
              "      </button>\n",
              "\n",
              "<style>\n",
              "  .colab-df-quickchart {\n",
              "      --bg-color: #E8F0FE;\n",
              "      --fill-color: #1967D2;\n",
              "      --hover-bg-color: #E2EBFA;\n",
              "      --hover-fill-color: #174EA6;\n",
              "      --disabled-fill-color: #AAA;\n",
              "      --disabled-bg-color: #DDD;\n",
              "  }\n",
              "\n",
              "  [theme=dark] .colab-df-quickchart {\n",
              "      --bg-color: #3B4455;\n",
              "      --fill-color: #D2E3FC;\n",
              "      --hover-bg-color: #434B5C;\n",
              "      --hover-fill-color: #FFFFFF;\n",
              "      --disabled-bg-color: #3B4455;\n",
              "      --disabled-fill-color: #666;\n",
              "  }\n",
              "\n",
              "  .colab-df-quickchart {\n",
              "    background-color: var(--bg-color);\n",
              "    border: none;\n",
              "    border-radius: 50%;\n",
              "    cursor: pointer;\n",
              "    display: none;\n",
              "    fill: var(--fill-color);\n",
              "    height: 32px;\n",
              "    padding: 0;\n",
              "    width: 32px;\n",
              "  }\n",
              "\n",
              "  .colab-df-quickchart:hover {\n",
              "    background-color: var(--hover-bg-color);\n",
              "    box-shadow: 0 1px 2px rgba(60, 64, 67, 0.3), 0 1px 3px 1px rgba(60, 64, 67, 0.15);\n",
              "    fill: var(--button-hover-fill-color);\n",
              "  }\n",
              "\n",
              "  .colab-df-quickchart-complete:disabled,\n",
              "  .colab-df-quickchart-complete:disabled:hover {\n",
              "    background-color: var(--disabled-bg-color);\n",
              "    fill: var(--disabled-fill-color);\n",
              "    box-shadow: none;\n",
              "  }\n",
              "\n",
              "  .colab-df-spinner {\n",
              "    border: 2px solid var(--fill-color);\n",
              "    border-color: transparent;\n",
              "    border-bottom-color: var(--fill-color);\n",
              "    animation:\n",
              "      spin 1s steps(1) infinite;\n",
              "  }\n",
              "\n",
              "  @keyframes spin {\n",
              "    0% {\n",
              "      border-color: transparent;\n",
              "      border-bottom-color: var(--fill-color);\n",
              "      border-left-color: var(--fill-color);\n",
              "    }\n",
              "    20% {\n",
              "      border-color: transparent;\n",
              "      border-left-color: var(--fill-color);\n",
              "      border-top-color: var(--fill-color);\n",
              "    }\n",
              "    30% {\n",
              "      border-color: transparent;\n",
              "      border-left-color: var(--fill-color);\n",
              "      border-top-color: var(--fill-color);\n",
              "      border-right-color: var(--fill-color);\n",
              "    }\n",
              "    40% {\n",
              "      border-color: transparent;\n",
              "      border-right-color: var(--fill-color);\n",
              "      border-top-color: var(--fill-color);\n",
              "    }\n",
              "    60% {\n",
              "      border-color: transparent;\n",
              "      border-right-color: var(--fill-color);\n",
              "    }\n",
              "    80% {\n",
              "      border-color: transparent;\n",
              "      border-right-color: var(--fill-color);\n",
              "      border-bottom-color: var(--fill-color);\n",
              "    }\n",
              "    90% {\n",
              "      border-color: transparent;\n",
              "      border-bottom-color: var(--fill-color);\n",
              "    }\n",
              "  }\n",
              "</style>\n",
              "\n",
              "      <script>\n",
              "        async function quickchart(key) {\n",
              "          const quickchartButtonEl =\n",
              "            document.querySelector('#' + key + ' button');\n",
              "          quickchartButtonEl.disabled = true;  // To prevent multiple clicks.\n",
              "          quickchartButtonEl.classList.add('colab-df-spinner');\n",
              "          try {\n",
              "            const charts = await google.colab.kernel.invokeFunction(\n",
              "                'suggestCharts', [key], {});\n",
              "          } catch (error) {\n",
              "            console.error('Error during call to suggestCharts:', error);\n",
              "          }\n",
              "          quickchartButtonEl.classList.remove('colab-df-spinner');\n",
              "          quickchartButtonEl.classList.add('colab-df-quickchart-complete');\n",
              "        }\n",
              "        (() => {\n",
              "          let quickchartButtonEl =\n",
              "            document.querySelector('#df-3dfcb0bd-4018-489c-b74c-5159831fb799 button');\n",
              "          quickchartButtonEl.style.display =\n",
              "            google.colab.kernel.accessAllowed ? 'block' : 'none';\n",
              "        })();\n",
              "      </script>\n",
              "    </div>\n",
              "\n",
              "    </div>\n",
              "  </div>\n"
            ],
            "application/vnd.google.colaboratory.intrinsic+json": {
              "type": "dataframe",
              "summary": "{\n  \"name\": \"pd\",\n  \"rows\": 8,\n  \"fields\": [\n    {\n      \"column\": \"Metric\",\n      \"properties\": {\n        \"dtype\": \"string\",\n        \"num_unique_values\": 8,\n        \"samples\": [\n          \"Precision\",\n          \"Total Inference Time (s)\",\n          \"Accuracy\"\n        ],\n        \"semantic_type\": \"\",\n        \"description\": \"\"\n      }\n    },\n    {\n      \"column\": \"Old (ori_gbc)\",\n      \"properties\": {\n        \"dtype\": \"string\",\n        \"num_unique_values\": 8,\n        \"samples\": [\n          \"0.9652\",\n          \"0.08658528\",\n          \"0.9616\"\n        ],\n        \"semantic_type\": \"\",\n        \"description\": \"\"\n      }\n    },\n    {\n      \"column\": \"New (xgb_model)\",\n      \"properties\": {\n        \"dtype\": \"string\",\n        \"num_unique_values\": 8,\n        \"samples\": [\n          \"0.9822\",\n          \"0.12942076\",\n          \"0.9853\"\n        ],\n        \"semantic_type\": \"\",\n        \"description\": \"\"\n      }\n    }\n  ]\n}"
            }
          },
          "metadata": {},
          "execution_count": 57
        }
      ]
    },
    {
      "cell_type": "markdown",
      "source": [
        "# Decision Tree - Ong Wing Xuan - TP065481"
      ],
      "metadata": {
        "id": "ngzbzxBMIJ8n"
      }
    },
    {
      "cell_type": "markdown",
      "source": [
        "Setup"
      ],
      "metadata": {
        "id": "5L5PoatTvf62"
      }
    },
    {
      "cell_type": "code",
      "source": [
        "dtc_url = 'https://raw.githubusercontent.com/NHCh1/DLI/refs/heads/main/Phishing_Legitimate_full.csv'\n",
        "dtc_data = pd.read_csv(dtc_url)\n",
        "print(dtc_data)"
      ],
      "metadata": {
        "id": "HDC_CzrDvhbO",
        "outputId": "968eb399-8841-4e2e-e1aa-4d31a063f3a9",
        "colab": {
          "base_uri": "https://localhost:8080/"
        }
      },
      "execution_count": 58,
      "outputs": [
        {
          "output_type": "stream",
          "name": "stdout",
          "text": [
            "         id  NumDots  SubdomainLevel  PathLevel  UrlLength  NumDash  \\\n",
            "0         1        3               1          5         72        0   \n",
            "1         2        3               1          3        144        0   \n",
            "2         3        3               1          2         58        0   \n",
            "3         4        3               1          6         79        1   \n",
            "4         5        3               0          4         46        0   \n",
            "...     ...      ...             ...        ...        ...      ...   \n",
            "9995   9996        3               1          1         50        0   \n",
            "9996   9997        2               1          4         59        1   \n",
            "9997   9998        2               1          4         57        0   \n",
            "9998   9999        3               1          1         49        0   \n",
            "9999  10000        3               1          2         52        3   \n",
            "\n",
            "      NumDashInHostname  AtSymbol  TildeSymbol  NumUnderscore  ...  \\\n",
            "0                     0         0            0              0  ...   \n",
            "1                     0         0            0              2  ...   \n",
            "2                     0         0            0              0  ...   \n",
            "3                     0         0            0              0  ...   \n",
            "4                     0         0            0              0  ...   \n",
            "...                 ...       ...          ...            ...  ...   \n",
            "9995                  0         0            0              0  ...   \n",
            "9996                  0         0            0              0  ...   \n",
            "9997                  0         0            0              0  ...   \n",
            "9998                  0         0            0              0  ...   \n",
            "9999                  0         0            0              0  ...   \n",
            "\n",
            "      IframeOrFrame  MissingTitle  ImagesOnlyInForm  SubdomainLevelRT  \\\n",
            "0                 0             0                 1                 1   \n",
            "1                 0             0                 0                 1   \n",
            "2                 0             0                 0                 1   \n",
            "3                 0             0                 0                 1   \n",
            "4                 1             0                 0                 1   \n",
            "...             ...           ...               ...               ...   \n",
            "9995              0             0                 0                 1   \n",
            "9996              1             0                 0                 1   \n",
            "9997              0             0                 0                 1   \n",
            "9998              1             0                 0                 1   \n",
            "9999              0             0                 0                 1   \n",
            "\n",
            "      UrlLengthRT  PctExtResourceUrlsRT  AbnormalExtFormActionR  \\\n",
            "0               0                     1                       1   \n",
            "1              -1                     1                       1   \n",
            "2               0                    -1                       1   \n",
            "3              -1                     1                       1   \n",
            "4               1                    -1                       0   \n",
            "...           ...                   ...                     ...   \n",
            "9995            1                    -1                       1   \n",
            "9996            0                     0                       1   \n",
            "9997            0                     1                       1   \n",
            "9998            1                     0                       1   \n",
            "9999            1                     1                       1   \n",
            "\n",
            "      ExtMetaScriptLinkRT  PctExtNullSelfRedirectHyperlinksRT  CLASS_LABEL  \n",
            "0                      -1                                   1            1  \n",
            "1                       1                                   1            1  \n",
            "2                      -1                                   0            1  \n",
            "3                       1                                  -1            1  \n",
            "4                      -1                                  -1            1  \n",
            "...                   ...                                 ...          ...  \n",
            "9995                    0                                   1            0  \n",
            "9996                    0                                   1            0  \n",
            "9997                    0                                   1            0  \n",
            "9998                    0                                   1            0  \n",
            "9999                    1                                   1            0  \n",
            "\n",
            "[10000 rows x 50 columns]\n"
          ]
        }
      ]
    },
    {
      "cell_type": "markdown",
      "source": [
        "Data Processing"
      ],
      "metadata": {
        "id": "9N6eWMGaxYZu"
      }
    },
    {
      "cell_type": "code",
      "source": [
        "dtc_full_feature = dtc_data.drop(['id', 'CLASS_LABEL'], axis=1)\n",
        "dtc_target = dtc_data['CLASS_LABEL']\n",
        "\n",
        "discrete_features = dtc_full_feature.dtypes == int\n",
        "mi_scores = mutual_info_classif(dtc_full_feature, dtc_target, discrete_features=discrete_features)\n",
        "mi_scores = pd.Series(mi_scores, name='MI Scores', index=dtc_full_feature.columns)\n",
        "mi_scores = mi_scores.sort_values(ascending=False)\n",
        "\n",
        "top_n_features = mi_scores.head(32).index.tolist()\n",
        "dtc_feature = dtc_data[top_n_features]\n",
        "\n",
        "dtc_feature_train, dtc_feature_test, dtc_target_train, dtc_target_test = train_test_split(dtc_feature, dtc_target, test_size=0.2, shuffle=True, random_state=42)\n",
        "print('Feature train set:', dtc_feature_train.shape)\n",
        "print('Target train set :', dtc_target_train.shape)\n",
        "print('Feature test set :', dtc_feature_test.shape)\n",
        "print('Target test set  :', dtc_target_test.shape)"
      ],
      "metadata": {
        "id": "ArMOSdcLxaAf",
        "outputId": "aaf1b780-241a-410b-dd84-edc93da9843b",
        "colab": {
          "base_uri": "https://localhost:8080/"
        }
      },
      "execution_count": 59,
      "outputs": [
        {
          "output_type": "stream",
          "name": "stdout",
          "text": [
            "Feature train set: (8000, 32)\n",
            "Target train set : (8000,)\n",
            "Feature test set : (2000, 32)\n",
            "Target test set  : (2000,)\n"
          ]
        }
      ]
    },
    {
      "cell_type": "markdown",
      "source": [
        "Retest original paper code"
      ],
      "metadata": {
        "id": "x3bOffm9xj33"
      }
    },
    {
      "cell_type": "code",
      "source": [
        "ori_dtc = DecisionTreeClassifier(max_depth=32)\n",
        "ori_dtc.fit(dtc_feature_train, dtc_target_train)\n",
        "\n",
        "ori_dtc_test_pred = ori_dtc.predict(dtc_feature_test)\n",
        "ori_dtc_test_probs = ori_dtc.predict_proba(dtc_feature_test)[:, 1]\n",
        "\n",
        "from sklearn.metrics import *\n",
        "ori_dtc_acc = accuracy_score(dtc_target_test, ori_dtc_test_pred)\n",
        "ori_dtc_prec = precision_score(dtc_target_test, ori_dtc_test_pred)\n",
        "ori_dtc_rec = recall_score(dtc_target_test, ori_dtc_test_pred)\n",
        "ori_dtc_f1 = f1_score(dtc_target_test, ori_dtc_test_pred)\n",
        "ori_dtc_roc = roc_auc_score(dtc_target_test, ori_dtc_test_probs)\n",
        "\n",
        "print(\"Original Dtc Model Metrics\")\n",
        "print(f\"Accuracy  : {ori_dtc_acc:.4f}\")\n",
        "print(f\"Precision : {ori_dtc_prec:.4f}\")\n",
        "print(f\"Recall    : {ori_dtc_rec:.4f}\")\n",
        "print(f\"F1-score  : {ori_dtc_f1:.4f}\")\n",
        "print(f\"ROC-AUC   : {ori_dtc_roc:.4f}\")"
      ],
      "metadata": {
        "id": "5bAfJSOWxmvl",
        "outputId": "eeccfc57-3145-441f-c3f2-534910998ca1",
        "colab": {
          "base_uri": "https://localhost:8080/"
        }
      },
      "execution_count": 60,
      "outputs": [
        {
          "output_type": "stream",
          "name": "stdout",
          "text": [
            "Original Dtc Model Metrics\n",
            "Accuracy  : 0.9630\n",
            "Precision : 0.9580\n",
            "Recall    : 0.9694\n",
            "F1-score  : 0.9637\n",
            "ROC-AUC   : 0.9629\n"
          ]
        }
      ]
    },
    {
      "cell_type": "markdown",
      "source": [
        "Evaluating inference time and model size"
      ],
      "metadata": {
        "id": "ZzcINfxyye_2"
      }
    },
    {
      "cell_type": "code",
      "source": [
        "start_time = time.time()\n",
        "_ = ori_dtc.predict_proba(dtc_feature)\n",
        "end_time = time.time()\n",
        "ori_dtc_total_inference_time = end_time - start_time\n",
        "ori_dtc_avg_inference_time = ori_dtc_total_inference_time / len(dtc_feature)\n",
        "print(f\"Total Inference time: {ori_dtc_total_inference_time:.8f} seconds\")\n",
        "print(f\"Average per sample: {ori_dtc_avg_inference_time:.8f} seconds\")\n",
        "\n",
        "joblib.dump(ori_dtc, 'ori_dtc.pkl')\n",
        "ori_dtc_size_in_bytes = os.path.getsize('ori_dtc.pkl')\n",
        "ori_dtc_size_in_kb = ori_dtc_size_in_bytes / 1024\n",
        "print(f\"Model size: {ori_dtc_size_in_kb:.2f} KB\")"
      ],
      "metadata": {
        "id": "3DCplY_SyZQv",
        "outputId": "504b1bc0-b1ab-40ad-9b0d-02cfcdde04fe",
        "colab": {
          "base_uri": "https://localhost:8080/"
        }
      },
      "execution_count": 61,
      "outputs": [
        {
          "output_type": "stream",
          "name": "stdout",
          "text": [
            "Total Inference time: 0.00479770 seconds\n",
            "Average per sample: 0.00000048 seconds\n",
            "Model size: 43.27 KB\n"
          ]
        }
      ]
    },
    {
      "cell_type": "markdown",
      "source": [
        "Side by side comparison"
      ],
      "metadata": {
        "id": "RTT1LYxxylEl"
      }
    },
    {
      "cell_type": "code",
      "source": [
        "dtc_comparison_data = {\n",
        "    \"Metric\": [\"Accuracy\", \"Precision\", \"Recall\", \"F1-score\", \"ROC-AUC\", \"Total Inference Time (s)\", \"Avg Inference Time (s)\", \"Model Size (KB)\"],\n",
        "\n",
        "    \"Old (ori_dtc)\": [\n",
        "        f\"{ori_dtc_acc:.4f}\",\n",
        "        f\"{ori_dtc_prec:.4f}\",\n",
        "        f\"{ori_dtc_rec:.4f}\",\n",
        "        f\"{ori_dtc_f1:.4f}\",\n",
        "        f\"{ori_dtc_roc:.4f}\",\n",
        "        f\"{ori_dtc_total_inference_time:.8f}\",\n",
        "        f\"{ori_dtc_avg_inference_time:.8f}\",\n",
        "        f\"{ori_dtc_size_in_kb:.2f}\"\n",
        "    ],\n",
        "\n",
        "    \"New (xgb_model)\": [\n",
        "        f\"{xgb_acc:.4f}\",\n",
        "        f\"{xgb_prec:.4f}\",\n",
        "        f\"{xgb_rec:.4f}\",\n",
        "        f\"{xgb_f1:.4f}\",\n",
        "        f\"{xgb_roc_auc:.4f}\",\n",
        "        f\"{xgb_inference_time:.8f}\",\n",
        "        f\"{xgb_avg_time:.8f}\",\n",
        "        f\"{new_xgb_size_in_kb:.2f}\"\n",
        "    ]\n",
        "}\n",
        "\n",
        "pd.DataFrame(dtc_comparison_data)"
      ],
      "metadata": {
        "id": "Xonl0wXKynJm",
        "outputId": "bf1646f1-eae0-4997-bace-f22fdf55660d",
        "colab": {
          "base_uri": "https://localhost:8080/",
          "height": 300
        }
      },
      "execution_count": 62,
      "outputs": [
        {
          "output_type": "execute_result",
          "data": {
            "text/plain": [
              "                     Metric Old (ori_dtc) New (xgb_model)\n",
              "0                  Accuracy        0.9630          0.9853\n",
              "1                 Precision        0.9580          0.9822\n",
              "2                    Recall        0.9694          0.9887\n",
              "3                  F1-score        0.9637          0.9855\n",
              "4                   ROC-AUC        0.9629          0.9982\n",
              "5  Total Inference Time (s)    0.00479770      0.12942076\n",
              "6    Avg Inference Time (s)    0.00000048      0.00004314\n",
              "7           Model Size (KB)         43.27         2740.81"
            ],
            "text/html": [
              "\n",
              "  <div id=\"df-1600301f-198e-44df-b2f2-b4b993b86426\" class=\"colab-df-container\">\n",
              "    <div>\n",
              "<style scoped>\n",
              "    .dataframe tbody tr th:only-of-type {\n",
              "        vertical-align: middle;\n",
              "    }\n",
              "\n",
              "    .dataframe tbody tr th {\n",
              "        vertical-align: top;\n",
              "    }\n",
              "\n",
              "    .dataframe thead th {\n",
              "        text-align: right;\n",
              "    }\n",
              "</style>\n",
              "<table border=\"1\" class=\"dataframe\">\n",
              "  <thead>\n",
              "    <tr style=\"text-align: right;\">\n",
              "      <th></th>\n",
              "      <th>Metric</th>\n",
              "      <th>Old (ori_dtc)</th>\n",
              "      <th>New (xgb_model)</th>\n",
              "    </tr>\n",
              "  </thead>\n",
              "  <tbody>\n",
              "    <tr>\n",
              "      <th>0</th>\n",
              "      <td>Accuracy</td>\n",
              "      <td>0.9630</td>\n",
              "      <td>0.9853</td>\n",
              "    </tr>\n",
              "    <tr>\n",
              "      <th>1</th>\n",
              "      <td>Precision</td>\n",
              "      <td>0.9580</td>\n",
              "      <td>0.9822</td>\n",
              "    </tr>\n",
              "    <tr>\n",
              "      <th>2</th>\n",
              "      <td>Recall</td>\n",
              "      <td>0.9694</td>\n",
              "      <td>0.9887</td>\n",
              "    </tr>\n",
              "    <tr>\n",
              "      <th>3</th>\n",
              "      <td>F1-score</td>\n",
              "      <td>0.9637</td>\n",
              "      <td>0.9855</td>\n",
              "    </tr>\n",
              "    <tr>\n",
              "      <th>4</th>\n",
              "      <td>ROC-AUC</td>\n",
              "      <td>0.9629</td>\n",
              "      <td>0.9982</td>\n",
              "    </tr>\n",
              "    <tr>\n",
              "      <th>5</th>\n",
              "      <td>Total Inference Time (s)</td>\n",
              "      <td>0.00479770</td>\n",
              "      <td>0.12942076</td>\n",
              "    </tr>\n",
              "    <tr>\n",
              "      <th>6</th>\n",
              "      <td>Avg Inference Time (s)</td>\n",
              "      <td>0.00000048</td>\n",
              "      <td>0.00004314</td>\n",
              "    </tr>\n",
              "    <tr>\n",
              "      <th>7</th>\n",
              "      <td>Model Size (KB)</td>\n",
              "      <td>43.27</td>\n",
              "      <td>2740.81</td>\n",
              "    </tr>\n",
              "  </tbody>\n",
              "</table>\n",
              "</div>\n",
              "    <div class=\"colab-df-buttons\">\n",
              "\n",
              "  <div class=\"colab-df-container\">\n",
              "    <button class=\"colab-df-convert\" onclick=\"convertToInteractive('df-1600301f-198e-44df-b2f2-b4b993b86426')\"\n",
              "            title=\"Convert this dataframe to an interactive table.\"\n",
              "            style=\"display:none;\">\n",
              "\n",
              "  <svg xmlns=\"http://www.w3.org/2000/svg\" height=\"24px\" viewBox=\"0 -960 960 960\">\n",
              "    <path d=\"M120-120v-720h720v720H120Zm60-500h600v-160H180v160Zm220 220h160v-160H400v160Zm0 220h160v-160H400v160ZM180-400h160v-160H180v160Zm440 0h160v-160H620v160ZM180-180h160v-160H180v160Zm440 0h160v-160H620v160Z\"/>\n",
              "  </svg>\n",
              "    </button>\n",
              "\n",
              "  <style>\n",
              "    .colab-df-container {\n",
              "      display:flex;\n",
              "      gap: 12px;\n",
              "    }\n",
              "\n",
              "    .colab-df-convert {\n",
              "      background-color: #E8F0FE;\n",
              "      border: none;\n",
              "      border-radius: 50%;\n",
              "      cursor: pointer;\n",
              "      display: none;\n",
              "      fill: #1967D2;\n",
              "      height: 32px;\n",
              "      padding: 0 0 0 0;\n",
              "      width: 32px;\n",
              "    }\n",
              "\n",
              "    .colab-df-convert:hover {\n",
              "      background-color: #E2EBFA;\n",
              "      box-shadow: 0px 1px 2px rgba(60, 64, 67, 0.3), 0px 1px 3px 1px rgba(60, 64, 67, 0.15);\n",
              "      fill: #174EA6;\n",
              "    }\n",
              "\n",
              "    .colab-df-buttons div {\n",
              "      margin-bottom: 4px;\n",
              "    }\n",
              "\n",
              "    [theme=dark] .colab-df-convert {\n",
              "      background-color: #3B4455;\n",
              "      fill: #D2E3FC;\n",
              "    }\n",
              "\n",
              "    [theme=dark] .colab-df-convert:hover {\n",
              "      background-color: #434B5C;\n",
              "      box-shadow: 0px 1px 3px 1px rgba(0, 0, 0, 0.15);\n",
              "      filter: drop-shadow(0px 1px 2px rgba(0, 0, 0, 0.3));\n",
              "      fill: #FFFFFF;\n",
              "    }\n",
              "  </style>\n",
              "\n",
              "    <script>\n",
              "      const buttonEl =\n",
              "        document.querySelector('#df-1600301f-198e-44df-b2f2-b4b993b86426 button.colab-df-convert');\n",
              "      buttonEl.style.display =\n",
              "        google.colab.kernel.accessAllowed ? 'block' : 'none';\n",
              "\n",
              "      async function convertToInteractive(key) {\n",
              "        const element = document.querySelector('#df-1600301f-198e-44df-b2f2-b4b993b86426');\n",
              "        const dataTable =\n",
              "          await google.colab.kernel.invokeFunction('convertToInteractive',\n",
              "                                                    [key], {});\n",
              "        if (!dataTable) return;\n",
              "\n",
              "        const docLinkHtml = 'Like what you see? Visit the ' +\n",
              "          '<a target=\"_blank\" href=https://colab.research.google.com/notebooks/data_table.ipynb>data table notebook</a>'\n",
              "          + ' to learn more about interactive tables.';\n",
              "        element.innerHTML = '';\n",
              "        dataTable['output_type'] = 'display_data';\n",
              "        await google.colab.output.renderOutput(dataTable, element);\n",
              "        const docLink = document.createElement('div');\n",
              "        docLink.innerHTML = docLinkHtml;\n",
              "        element.appendChild(docLink);\n",
              "      }\n",
              "    </script>\n",
              "  </div>\n",
              "\n",
              "\n",
              "    <div id=\"df-c17e3f74-c74e-4dbe-9cb6-9cd3b583f29a\">\n",
              "      <button class=\"colab-df-quickchart\" onclick=\"quickchart('df-c17e3f74-c74e-4dbe-9cb6-9cd3b583f29a')\"\n",
              "                title=\"Suggest charts\"\n",
              "                style=\"display:none;\">\n",
              "\n",
              "<svg xmlns=\"http://www.w3.org/2000/svg\" height=\"24px\"viewBox=\"0 0 24 24\"\n",
              "     width=\"24px\">\n",
              "    <g>\n",
              "        <path d=\"M19 3H5c-1.1 0-2 .9-2 2v14c0 1.1.9 2 2 2h14c1.1 0 2-.9 2-2V5c0-1.1-.9-2-2-2zM9 17H7v-7h2v7zm4 0h-2V7h2v10zm4 0h-2v-4h2v4z\"/>\n",
              "    </g>\n",
              "</svg>\n",
              "      </button>\n",
              "\n",
              "<style>\n",
              "  .colab-df-quickchart {\n",
              "      --bg-color: #E8F0FE;\n",
              "      --fill-color: #1967D2;\n",
              "      --hover-bg-color: #E2EBFA;\n",
              "      --hover-fill-color: #174EA6;\n",
              "      --disabled-fill-color: #AAA;\n",
              "      --disabled-bg-color: #DDD;\n",
              "  }\n",
              "\n",
              "  [theme=dark] .colab-df-quickchart {\n",
              "      --bg-color: #3B4455;\n",
              "      --fill-color: #D2E3FC;\n",
              "      --hover-bg-color: #434B5C;\n",
              "      --hover-fill-color: #FFFFFF;\n",
              "      --disabled-bg-color: #3B4455;\n",
              "      --disabled-fill-color: #666;\n",
              "  }\n",
              "\n",
              "  .colab-df-quickchart {\n",
              "    background-color: var(--bg-color);\n",
              "    border: none;\n",
              "    border-radius: 50%;\n",
              "    cursor: pointer;\n",
              "    display: none;\n",
              "    fill: var(--fill-color);\n",
              "    height: 32px;\n",
              "    padding: 0;\n",
              "    width: 32px;\n",
              "  }\n",
              "\n",
              "  .colab-df-quickchart:hover {\n",
              "    background-color: var(--hover-bg-color);\n",
              "    box-shadow: 0 1px 2px rgba(60, 64, 67, 0.3), 0 1px 3px 1px rgba(60, 64, 67, 0.15);\n",
              "    fill: var(--button-hover-fill-color);\n",
              "  }\n",
              "\n",
              "  .colab-df-quickchart-complete:disabled,\n",
              "  .colab-df-quickchart-complete:disabled:hover {\n",
              "    background-color: var(--disabled-bg-color);\n",
              "    fill: var(--disabled-fill-color);\n",
              "    box-shadow: none;\n",
              "  }\n",
              "\n",
              "  .colab-df-spinner {\n",
              "    border: 2px solid var(--fill-color);\n",
              "    border-color: transparent;\n",
              "    border-bottom-color: var(--fill-color);\n",
              "    animation:\n",
              "      spin 1s steps(1) infinite;\n",
              "  }\n",
              "\n",
              "  @keyframes spin {\n",
              "    0% {\n",
              "      border-color: transparent;\n",
              "      border-bottom-color: var(--fill-color);\n",
              "      border-left-color: var(--fill-color);\n",
              "    }\n",
              "    20% {\n",
              "      border-color: transparent;\n",
              "      border-left-color: var(--fill-color);\n",
              "      border-top-color: var(--fill-color);\n",
              "    }\n",
              "    30% {\n",
              "      border-color: transparent;\n",
              "      border-left-color: var(--fill-color);\n",
              "      border-top-color: var(--fill-color);\n",
              "      border-right-color: var(--fill-color);\n",
              "    }\n",
              "    40% {\n",
              "      border-color: transparent;\n",
              "      border-right-color: var(--fill-color);\n",
              "      border-top-color: var(--fill-color);\n",
              "    }\n",
              "    60% {\n",
              "      border-color: transparent;\n",
              "      border-right-color: var(--fill-color);\n",
              "    }\n",
              "    80% {\n",
              "      border-color: transparent;\n",
              "      border-right-color: var(--fill-color);\n",
              "      border-bottom-color: var(--fill-color);\n",
              "    }\n",
              "    90% {\n",
              "      border-color: transparent;\n",
              "      border-bottom-color: var(--fill-color);\n",
              "    }\n",
              "  }\n",
              "</style>\n",
              "\n",
              "      <script>\n",
              "        async function quickchart(key) {\n",
              "          const quickchartButtonEl =\n",
              "            document.querySelector('#' + key + ' button');\n",
              "          quickchartButtonEl.disabled = true;  // To prevent multiple clicks.\n",
              "          quickchartButtonEl.classList.add('colab-df-spinner');\n",
              "          try {\n",
              "            const charts = await google.colab.kernel.invokeFunction(\n",
              "                'suggestCharts', [key], {});\n",
              "          } catch (error) {\n",
              "            console.error('Error during call to suggestCharts:', error);\n",
              "          }\n",
              "          quickchartButtonEl.classList.remove('colab-df-spinner');\n",
              "          quickchartButtonEl.classList.add('colab-df-quickchart-complete');\n",
              "        }\n",
              "        (() => {\n",
              "          let quickchartButtonEl =\n",
              "            document.querySelector('#df-c17e3f74-c74e-4dbe-9cb6-9cd3b583f29a button');\n",
              "          quickchartButtonEl.style.display =\n",
              "            google.colab.kernel.accessAllowed ? 'block' : 'none';\n",
              "        })();\n",
              "      </script>\n",
              "    </div>\n",
              "\n",
              "    </div>\n",
              "  </div>\n"
            ],
            "application/vnd.google.colaboratory.intrinsic+json": {
              "type": "dataframe",
              "summary": "{\n  \"name\": \"pd\",\n  \"rows\": 8,\n  \"fields\": [\n    {\n      \"column\": \"Metric\",\n      \"properties\": {\n        \"dtype\": \"string\",\n        \"num_unique_values\": 8,\n        \"samples\": [\n          \"Precision\",\n          \"Total Inference Time (s)\",\n          \"Accuracy\"\n        ],\n        \"semantic_type\": \"\",\n        \"description\": \"\"\n      }\n    },\n    {\n      \"column\": \"Old (ori_dtc)\",\n      \"properties\": {\n        \"dtype\": \"string\",\n        \"num_unique_values\": 8,\n        \"samples\": [\n          \"0.9580\",\n          \"0.00479770\",\n          \"0.9630\"\n        ],\n        \"semantic_type\": \"\",\n        \"description\": \"\"\n      }\n    },\n    {\n      \"column\": \"New (xgb_model)\",\n      \"properties\": {\n        \"dtype\": \"string\",\n        \"num_unique_values\": 8,\n        \"samples\": [\n          \"0.9822\",\n          \"0.12942076\",\n          \"0.9853\"\n        ],\n        \"semantic_type\": \"\",\n        \"description\": \"\"\n      }\n    }\n  ]\n}"
            }
          },
          "metadata": {},
          "execution_count": 62
        }
      ]
    }
  ]
}