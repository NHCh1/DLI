{
  "nbformat": 4,
  "nbformat_minor": 0,
  "metadata": {
    "colab": {
      "provenance": [],
      "include_colab_link": true
    },
    "kernelspec": {
      "name": "python3",
      "display_name": "Python 3"
    },
    "language_info": {
      "name": "python"
    }
  },
  "cells": [
    {
      "cell_type": "markdown",
      "metadata": {
        "id": "view-in-github",
        "colab_type": "text"
      },
      "source": [
        "<a href=\"https://colab.research.google.com/github/NHCh1/DLI/blob/main/DLI_Assignment.ipynb\" target=\"_parent\"><img src=\"https://colab.research.google.com/assets/colab-badge.svg\" alt=\"Open In Colab\"/></a>"
      ]
    },
    {
      "cell_type": "markdown",
      "source": [
        "# Setup"
      ],
      "metadata": {
        "id": "mije4PLHmk7O"
      }
    },
    {
      "cell_type": "code",
      "source": [
        "import numpy as np\n",
        "import pandas as pd\n",
        "import copy\n",
        "import warnings\n",
        "warnings.filterwarnings('ignore')\n",
        "\n",
        "from sklearn.model_selection import train_test_split\n",
        "from sklearn.preprocessing import StandardScaler\n",
        "\n",
        "from xgboost import XGBClassifier\n",
        "from sklearn.ensemble import GradientBoostingClassifier\n",
        "from sklearn.tree import DecisionTreeClassifier\n",
        "from tensorflow.keras.models import Sequential\n",
        "from tensorflow.keras.layers import Input, Conv1D, MaxPooling1D, Dropout, Flatten, Dense\n",
        "from tensorflow.keras.optimizers import Adam\n",
        "from sklearn.linear_model import LogisticRegression\n",
        "\n",
        "from sklearn.feature_selection import RFECV\n",
        "from mlxtend.feature_selection import ColumnSelector\n",
        "from sklearn.pipeline import make_pipeline\n",
        "from sklearn.model_selection import RandomizedSearchCV\n",
        "\n",
        "from sklearn.metrics import accuracy_score, precision_score, recall_score, f1_score, roc_auc_score, precision_recall_curve\n",
        "from sklearn.metrics import classification_report, confusion_matrix, roc_curve, auc\n",
        "import matplotlib.pyplot as plt\n",
        "import seaborn as sns\n",
        "\n",
        "import joblib"
      ],
      "metadata": {
        "id": "gmx0bdbipHxB"
      },
      "execution_count": 38,
      "outputs": []
    },
    {
      "cell_type": "markdown",
      "source": [
        "# Data Loading"
      ],
      "metadata": {
        "id": "_u7sYYy4QdC1"
      }
    },
    {
      "cell_type": "code",
      "execution_count": 24,
      "metadata": {
        "id": "MO12L-2aEqYR",
        "outputId": "f4432088-c5f7-4f33-caab-e811b4dd2634",
        "colab": {
          "base_uri": "https://localhost:8080/",
          "height": 423
        }
      },
      "outputs": [
        {
          "output_type": "execute_result",
          "data": {
            "text/plain": [
              "      0   1   2    3   4   5   6   7   8   9   ...  39  40  41  42  43  44  \\\n",
              "0      3   1   5   72   0   0   0   0   0   0  ...   0   0   1   1   0   1   \n",
              "1      3   1   3  144   0   0   0   0   2   0  ...   0   0   0   1  -1   1   \n",
              "2      3   1   2   58   0   0   0   0   0   0  ...   0   0   0   1   0  -1   \n",
              "3      3   1   6   79   1   0   0   0   0   0  ...   0   0   0   1  -1   1   \n",
              "4      3   0   4   46   0   0   0   0   0   0  ...   1   0   0   1   1  -1   \n",
              "...   ..  ..  ..  ...  ..  ..  ..  ..  ..  ..  ...  ..  ..  ..  ..  ..  ..   \n",
              "9995   3   1   1   50   0   0   0   0   0   0  ...   0   0   0   1   1  -1   \n",
              "9996   2   1   4   59   1   0   0   0   0   0  ...   1   0   0   1   0   0   \n",
              "9997   2   1   4   57   0   0   0   0   0   0  ...   0   0   0   1   0   1   \n",
              "9998   3   1   1   49   0   0   0   0   0   0  ...   1   0   0   1   1   0   \n",
              "9999   3   1   2   52   3   0   0   0   0   0  ...   0   0   0   1   1   1   \n",
              "\n",
              "      45  46  47  48  \n",
              "0      1  -1   1   1  \n",
              "1      1   1   1   1  \n",
              "2      1  -1   0   1  \n",
              "3      1   1  -1   1  \n",
              "4      0  -1  -1   1  \n",
              "...   ..  ..  ..  ..  \n",
              "9995   1   0   1   0  \n",
              "9996   1   0   1   0  \n",
              "9997   1   0   1   0  \n",
              "9998   1   0   1   0  \n",
              "9999   1   1   1   0  \n",
              "\n",
              "[10000 rows x 49 columns]"
            ],
            "text/html": [
              "\n",
              "  <div id=\"df-2cbe2850-a309-4f7b-9bcf-def4924ded4c\" class=\"colab-df-container\">\n",
              "    <div>\n",
              "<style scoped>\n",
              "    .dataframe tbody tr th:only-of-type {\n",
              "        vertical-align: middle;\n",
              "    }\n",
              "\n",
              "    .dataframe tbody tr th {\n",
              "        vertical-align: top;\n",
              "    }\n",
              "\n",
              "    .dataframe thead th {\n",
              "        text-align: right;\n",
              "    }\n",
              "</style>\n",
              "<table border=\"1\" class=\"dataframe\">\n",
              "  <thead>\n",
              "    <tr style=\"text-align: right;\">\n",
              "      <th></th>\n",
              "      <th>0</th>\n",
              "      <th>1</th>\n",
              "      <th>2</th>\n",
              "      <th>3</th>\n",
              "      <th>4</th>\n",
              "      <th>5</th>\n",
              "      <th>6</th>\n",
              "      <th>7</th>\n",
              "      <th>8</th>\n",
              "      <th>9</th>\n",
              "      <th>...</th>\n",
              "      <th>39</th>\n",
              "      <th>40</th>\n",
              "      <th>41</th>\n",
              "      <th>42</th>\n",
              "      <th>43</th>\n",
              "      <th>44</th>\n",
              "      <th>45</th>\n",
              "      <th>46</th>\n",
              "      <th>47</th>\n",
              "      <th>48</th>\n",
              "    </tr>\n",
              "  </thead>\n",
              "  <tbody>\n",
              "    <tr>\n",
              "      <th>0</th>\n",
              "      <td>3</td>\n",
              "      <td>1</td>\n",
              "      <td>5</td>\n",
              "      <td>72</td>\n",
              "      <td>0</td>\n",
              "      <td>0</td>\n",
              "      <td>0</td>\n",
              "      <td>0</td>\n",
              "      <td>0</td>\n",
              "      <td>0</td>\n",
              "      <td>...</td>\n",
              "      <td>0</td>\n",
              "      <td>0</td>\n",
              "      <td>1</td>\n",
              "      <td>1</td>\n",
              "      <td>0</td>\n",
              "      <td>1</td>\n",
              "      <td>1</td>\n",
              "      <td>-1</td>\n",
              "      <td>1</td>\n",
              "      <td>1</td>\n",
              "    </tr>\n",
              "    <tr>\n",
              "      <th>1</th>\n",
              "      <td>3</td>\n",
              "      <td>1</td>\n",
              "      <td>3</td>\n",
              "      <td>144</td>\n",
              "      <td>0</td>\n",
              "      <td>0</td>\n",
              "      <td>0</td>\n",
              "      <td>0</td>\n",
              "      <td>2</td>\n",
              "      <td>0</td>\n",
              "      <td>...</td>\n",
              "      <td>0</td>\n",
              "      <td>0</td>\n",
              "      <td>0</td>\n",
              "      <td>1</td>\n",
              "      <td>-1</td>\n",
              "      <td>1</td>\n",
              "      <td>1</td>\n",
              "      <td>1</td>\n",
              "      <td>1</td>\n",
              "      <td>1</td>\n",
              "    </tr>\n",
              "    <tr>\n",
              "      <th>2</th>\n",
              "      <td>3</td>\n",
              "      <td>1</td>\n",
              "      <td>2</td>\n",
              "      <td>58</td>\n",
              "      <td>0</td>\n",
              "      <td>0</td>\n",
              "      <td>0</td>\n",
              "      <td>0</td>\n",
              "      <td>0</td>\n",
              "      <td>0</td>\n",
              "      <td>...</td>\n",
              "      <td>0</td>\n",
              "      <td>0</td>\n",
              "      <td>0</td>\n",
              "      <td>1</td>\n",
              "      <td>0</td>\n",
              "      <td>-1</td>\n",
              "      <td>1</td>\n",
              "      <td>-1</td>\n",
              "      <td>0</td>\n",
              "      <td>1</td>\n",
              "    </tr>\n",
              "    <tr>\n",
              "      <th>3</th>\n",
              "      <td>3</td>\n",
              "      <td>1</td>\n",
              "      <td>6</td>\n",
              "      <td>79</td>\n",
              "      <td>1</td>\n",
              "      <td>0</td>\n",
              "      <td>0</td>\n",
              "      <td>0</td>\n",
              "      <td>0</td>\n",
              "      <td>0</td>\n",
              "      <td>...</td>\n",
              "      <td>0</td>\n",
              "      <td>0</td>\n",
              "      <td>0</td>\n",
              "      <td>1</td>\n",
              "      <td>-1</td>\n",
              "      <td>1</td>\n",
              "      <td>1</td>\n",
              "      <td>1</td>\n",
              "      <td>-1</td>\n",
              "      <td>1</td>\n",
              "    </tr>\n",
              "    <tr>\n",
              "      <th>4</th>\n",
              "      <td>3</td>\n",
              "      <td>0</td>\n",
              "      <td>4</td>\n",
              "      <td>46</td>\n",
              "      <td>0</td>\n",
              "      <td>0</td>\n",
              "      <td>0</td>\n",
              "      <td>0</td>\n",
              "      <td>0</td>\n",
              "      <td>0</td>\n",
              "      <td>...</td>\n",
              "      <td>1</td>\n",
              "      <td>0</td>\n",
              "      <td>0</td>\n",
              "      <td>1</td>\n",
              "      <td>1</td>\n",
              "      <td>-1</td>\n",
              "      <td>0</td>\n",
              "      <td>-1</td>\n",
              "      <td>-1</td>\n",
              "      <td>1</td>\n",
              "    </tr>\n",
              "    <tr>\n",
              "      <th>...</th>\n",
              "      <td>...</td>\n",
              "      <td>...</td>\n",
              "      <td>...</td>\n",
              "      <td>...</td>\n",
              "      <td>...</td>\n",
              "      <td>...</td>\n",
              "      <td>...</td>\n",
              "      <td>...</td>\n",
              "      <td>...</td>\n",
              "      <td>...</td>\n",
              "      <td>...</td>\n",
              "      <td>...</td>\n",
              "      <td>...</td>\n",
              "      <td>...</td>\n",
              "      <td>...</td>\n",
              "      <td>...</td>\n",
              "      <td>...</td>\n",
              "      <td>...</td>\n",
              "      <td>...</td>\n",
              "      <td>...</td>\n",
              "      <td>...</td>\n",
              "    </tr>\n",
              "    <tr>\n",
              "      <th>9995</th>\n",
              "      <td>3</td>\n",
              "      <td>1</td>\n",
              "      <td>1</td>\n",
              "      <td>50</td>\n",
              "      <td>0</td>\n",
              "      <td>0</td>\n",
              "      <td>0</td>\n",
              "      <td>0</td>\n",
              "      <td>0</td>\n",
              "      <td>0</td>\n",
              "      <td>...</td>\n",
              "      <td>0</td>\n",
              "      <td>0</td>\n",
              "      <td>0</td>\n",
              "      <td>1</td>\n",
              "      <td>1</td>\n",
              "      <td>-1</td>\n",
              "      <td>1</td>\n",
              "      <td>0</td>\n",
              "      <td>1</td>\n",
              "      <td>0</td>\n",
              "    </tr>\n",
              "    <tr>\n",
              "      <th>9996</th>\n",
              "      <td>2</td>\n",
              "      <td>1</td>\n",
              "      <td>4</td>\n",
              "      <td>59</td>\n",
              "      <td>1</td>\n",
              "      <td>0</td>\n",
              "      <td>0</td>\n",
              "      <td>0</td>\n",
              "      <td>0</td>\n",
              "      <td>0</td>\n",
              "      <td>...</td>\n",
              "      <td>1</td>\n",
              "      <td>0</td>\n",
              "      <td>0</td>\n",
              "      <td>1</td>\n",
              "      <td>0</td>\n",
              "      <td>0</td>\n",
              "      <td>1</td>\n",
              "      <td>0</td>\n",
              "      <td>1</td>\n",
              "      <td>0</td>\n",
              "    </tr>\n",
              "    <tr>\n",
              "      <th>9997</th>\n",
              "      <td>2</td>\n",
              "      <td>1</td>\n",
              "      <td>4</td>\n",
              "      <td>57</td>\n",
              "      <td>0</td>\n",
              "      <td>0</td>\n",
              "      <td>0</td>\n",
              "      <td>0</td>\n",
              "      <td>0</td>\n",
              "      <td>0</td>\n",
              "      <td>...</td>\n",
              "      <td>0</td>\n",
              "      <td>0</td>\n",
              "      <td>0</td>\n",
              "      <td>1</td>\n",
              "      <td>0</td>\n",
              "      <td>1</td>\n",
              "      <td>1</td>\n",
              "      <td>0</td>\n",
              "      <td>1</td>\n",
              "      <td>0</td>\n",
              "    </tr>\n",
              "    <tr>\n",
              "      <th>9998</th>\n",
              "      <td>3</td>\n",
              "      <td>1</td>\n",
              "      <td>1</td>\n",
              "      <td>49</td>\n",
              "      <td>0</td>\n",
              "      <td>0</td>\n",
              "      <td>0</td>\n",
              "      <td>0</td>\n",
              "      <td>0</td>\n",
              "      <td>0</td>\n",
              "      <td>...</td>\n",
              "      <td>1</td>\n",
              "      <td>0</td>\n",
              "      <td>0</td>\n",
              "      <td>1</td>\n",
              "      <td>1</td>\n",
              "      <td>0</td>\n",
              "      <td>1</td>\n",
              "      <td>0</td>\n",
              "      <td>1</td>\n",
              "      <td>0</td>\n",
              "    </tr>\n",
              "    <tr>\n",
              "      <th>9999</th>\n",
              "      <td>3</td>\n",
              "      <td>1</td>\n",
              "      <td>2</td>\n",
              "      <td>52</td>\n",
              "      <td>3</td>\n",
              "      <td>0</td>\n",
              "      <td>0</td>\n",
              "      <td>0</td>\n",
              "      <td>0</td>\n",
              "      <td>0</td>\n",
              "      <td>...</td>\n",
              "      <td>0</td>\n",
              "      <td>0</td>\n",
              "      <td>0</td>\n",
              "      <td>1</td>\n",
              "      <td>1</td>\n",
              "      <td>1</td>\n",
              "      <td>1</td>\n",
              "      <td>1</td>\n",
              "      <td>1</td>\n",
              "      <td>0</td>\n",
              "    </tr>\n",
              "  </tbody>\n",
              "</table>\n",
              "<p>10000 rows × 49 columns</p>\n",
              "</div>\n",
              "    <div class=\"colab-df-buttons\">\n",
              "\n",
              "  <div class=\"colab-df-container\">\n",
              "    <button class=\"colab-df-convert\" onclick=\"convertToInteractive('df-2cbe2850-a309-4f7b-9bcf-def4924ded4c')\"\n",
              "            title=\"Convert this dataframe to an interactive table.\"\n",
              "            style=\"display:none;\">\n",
              "\n",
              "  <svg xmlns=\"http://www.w3.org/2000/svg\" height=\"24px\" viewBox=\"0 -960 960 960\">\n",
              "    <path d=\"M120-120v-720h720v720H120Zm60-500h600v-160H180v160Zm220 220h160v-160H400v160Zm0 220h160v-160H400v160ZM180-400h160v-160H180v160Zm440 0h160v-160H620v160ZM180-180h160v-160H180v160Zm440 0h160v-160H620v160Z\"/>\n",
              "  </svg>\n",
              "    </button>\n",
              "\n",
              "  <style>\n",
              "    .colab-df-container {\n",
              "      display:flex;\n",
              "      gap: 12px;\n",
              "    }\n",
              "\n",
              "    .colab-df-convert {\n",
              "      background-color: #E8F0FE;\n",
              "      border: none;\n",
              "      border-radius: 50%;\n",
              "      cursor: pointer;\n",
              "      display: none;\n",
              "      fill: #1967D2;\n",
              "      height: 32px;\n",
              "      padding: 0 0 0 0;\n",
              "      width: 32px;\n",
              "    }\n",
              "\n",
              "    .colab-df-convert:hover {\n",
              "      background-color: #E2EBFA;\n",
              "      box-shadow: 0px 1px 2px rgba(60, 64, 67, 0.3), 0px 1px 3px 1px rgba(60, 64, 67, 0.15);\n",
              "      fill: #174EA6;\n",
              "    }\n",
              "\n",
              "    .colab-df-buttons div {\n",
              "      margin-bottom: 4px;\n",
              "    }\n",
              "\n",
              "    [theme=dark] .colab-df-convert {\n",
              "      background-color: #3B4455;\n",
              "      fill: #D2E3FC;\n",
              "    }\n",
              "\n",
              "    [theme=dark] .colab-df-convert:hover {\n",
              "      background-color: #434B5C;\n",
              "      box-shadow: 0px 1px 3px 1px rgba(0, 0, 0, 0.15);\n",
              "      filter: drop-shadow(0px 1px 2px rgba(0, 0, 0, 0.3));\n",
              "      fill: #FFFFFF;\n",
              "    }\n",
              "  </style>\n",
              "\n",
              "    <script>\n",
              "      const buttonEl =\n",
              "        document.querySelector('#df-2cbe2850-a309-4f7b-9bcf-def4924ded4c button.colab-df-convert');\n",
              "      buttonEl.style.display =\n",
              "        google.colab.kernel.accessAllowed ? 'block' : 'none';\n",
              "\n",
              "      async function convertToInteractive(key) {\n",
              "        const element = document.querySelector('#df-2cbe2850-a309-4f7b-9bcf-def4924ded4c');\n",
              "        const dataTable =\n",
              "          await google.colab.kernel.invokeFunction('convertToInteractive',\n",
              "                                                    [key], {});\n",
              "        if (!dataTable) return;\n",
              "\n",
              "        const docLinkHtml = 'Like what you see? Visit the ' +\n",
              "          '<a target=\"_blank\" href=https://colab.research.google.com/notebooks/data_table.ipynb>data table notebook</a>'\n",
              "          + ' to learn more about interactive tables.';\n",
              "        element.innerHTML = '';\n",
              "        dataTable['output_type'] = 'display_data';\n",
              "        await google.colab.output.renderOutput(dataTable, element);\n",
              "        const docLink = document.createElement('div');\n",
              "        docLink.innerHTML = docLinkHtml;\n",
              "        element.appendChild(docLink);\n",
              "      }\n",
              "    </script>\n",
              "  </div>\n",
              "\n",
              "\n",
              "    <div id=\"df-25891bad-855c-4acb-801c-9429da250a1c\">\n",
              "      <button class=\"colab-df-quickchart\" onclick=\"quickchart('df-25891bad-855c-4acb-801c-9429da250a1c')\"\n",
              "                title=\"Suggest charts\"\n",
              "                style=\"display:none;\">\n",
              "\n",
              "<svg xmlns=\"http://www.w3.org/2000/svg\" height=\"24px\"viewBox=\"0 0 24 24\"\n",
              "     width=\"24px\">\n",
              "    <g>\n",
              "        <path d=\"M19 3H5c-1.1 0-2 .9-2 2v14c0 1.1.9 2 2 2h14c1.1 0 2-.9 2-2V5c0-1.1-.9-2-2-2zM9 17H7v-7h2v7zm4 0h-2V7h2v10zm4 0h-2v-4h2v4z\"/>\n",
              "    </g>\n",
              "</svg>\n",
              "      </button>\n",
              "\n",
              "<style>\n",
              "  .colab-df-quickchart {\n",
              "      --bg-color: #E8F0FE;\n",
              "      --fill-color: #1967D2;\n",
              "      --hover-bg-color: #E2EBFA;\n",
              "      --hover-fill-color: #174EA6;\n",
              "      --disabled-fill-color: #AAA;\n",
              "      --disabled-bg-color: #DDD;\n",
              "  }\n",
              "\n",
              "  [theme=dark] .colab-df-quickchart {\n",
              "      --bg-color: #3B4455;\n",
              "      --fill-color: #D2E3FC;\n",
              "      --hover-bg-color: #434B5C;\n",
              "      --hover-fill-color: #FFFFFF;\n",
              "      --disabled-bg-color: #3B4455;\n",
              "      --disabled-fill-color: #666;\n",
              "  }\n",
              "\n",
              "  .colab-df-quickchart {\n",
              "    background-color: var(--bg-color);\n",
              "    border: none;\n",
              "    border-radius: 50%;\n",
              "    cursor: pointer;\n",
              "    display: none;\n",
              "    fill: var(--fill-color);\n",
              "    height: 32px;\n",
              "    padding: 0;\n",
              "    width: 32px;\n",
              "  }\n",
              "\n",
              "  .colab-df-quickchart:hover {\n",
              "    background-color: var(--hover-bg-color);\n",
              "    box-shadow: 0 1px 2px rgba(60, 64, 67, 0.3), 0 1px 3px 1px rgba(60, 64, 67, 0.15);\n",
              "    fill: var(--button-hover-fill-color);\n",
              "  }\n",
              "\n",
              "  .colab-df-quickchart-complete:disabled,\n",
              "  .colab-df-quickchart-complete:disabled:hover {\n",
              "    background-color: var(--disabled-bg-color);\n",
              "    fill: var(--disabled-fill-color);\n",
              "    box-shadow: none;\n",
              "  }\n",
              "\n",
              "  .colab-df-spinner {\n",
              "    border: 2px solid var(--fill-color);\n",
              "    border-color: transparent;\n",
              "    border-bottom-color: var(--fill-color);\n",
              "    animation:\n",
              "      spin 1s steps(1) infinite;\n",
              "  }\n",
              "\n",
              "  @keyframes spin {\n",
              "    0% {\n",
              "      border-color: transparent;\n",
              "      border-bottom-color: var(--fill-color);\n",
              "      border-left-color: var(--fill-color);\n",
              "    }\n",
              "    20% {\n",
              "      border-color: transparent;\n",
              "      border-left-color: var(--fill-color);\n",
              "      border-top-color: var(--fill-color);\n",
              "    }\n",
              "    30% {\n",
              "      border-color: transparent;\n",
              "      border-left-color: var(--fill-color);\n",
              "      border-top-color: var(--fill-color);\n",
              "      border-right-color: var(--fill-color);\n",
              "    }\n",
              "    40% {\n",
              "      border-color: transparent;\n",
              "      border-right-color: var(--fill-color);\n",
              "      border-top-color: var(--fill-color);\n",
              "    }\n",
              "    60% {\n",
              "      border-color: transparent;\n",
              "      border-right-color: var(--fill-color);\n",
              "    }\n",
              "    80% {\n",
              "      border-color: transparent;\n",
              "      border-right-color: var(--fill-color);\n",
              "      border-bottom-color: var(--fill-color);\n",
              "    }\n",
              "    90% {\n",
              "      border-color: transparent;\n",
              "      border-bottom-color: var(--fill-color);\n",
              "    }\n",
              "  }\n",
              "</style>\n",
              "\n",
              "      <script>\n",
              "        async function quickchart(key) {\n",
              "          const quickchartButtonEl =\n",
              "            document.querySelector('#' + key + ' button');\n",
              "          quickchartButtonEl.disabled = true;  // To prevent multiple clicks.\n",
              "          quickchartButtonEl.classList.add('colab-df-spinner');\n",
              "          try {\n",
              "            const charts = await google.colab.kernel.invokeFunction(\n",
              "                'suggestCharts', [key], {});\n",
              "          } catch (error) {\n",
              "            console.error('Error during call to suggestCharts:', error);\n",
              "          }\n",
              "          quickchartButtonEl.classList.remove('colab-df-spinner');\n",
              "          quickchartButtonEl.classList.add('colab-df-quickchart-complete');\n",
              "        }\n",
              "        (() => {\n",
              "          let quickchartButtonEl =\n",
              "            document.querySelector('#df-25891bad-855c-4acb-801c-9429da250a1c button');\n",
              "          quickchartButtonEl.style.display =\n",
              "            google.colab.kernel.accessAllowed ? 'block' : 'none';\n",
              "        })();\n",
              "      </script>\n",
              "    </div>\n",
              "\n",
              "  <div id=\"id_080bd229-b1bb-4e58-a91c-04dfb06b6451\">\n",
              "    <style>\n",
              "      .colab-df-generate {\n",
              "        background-color: #E8F0FE;\n",
              "        border: none;\n",
              "        border-radius: 50%;\n",
              "        cursor: pointer;\n",
              "        display: none;\n",
              "        fill: #1967D2;\n",
              "        height: 32px;\n",
              "        padding: 0 0 0 0;\n",
              "        width: 32px;\n",
              "      }\n",
              "\n",
              "      .colab-df-generate:hover {\n",
              "        background-color: #E2EBFA;\n",
              "        box-shadow: 0px 1px 2px rgba(60, 64, 67, 0.3), 0px 1px 3px 1px rgba(60, 64, 67, 0.15);\n",
              "        fill: #174EA6;\n",
              "      }\n",
              "\n",
              "      [theme=dark] .colab-df-generate {\n",
              "        background-color: #3B4455;\n",
              "        fill: #D2E3FC;\n",
              "      }\n",
              "\n",
              "      [theme=dark] .colab-df-generate:hover {\n",
              "        background-color: #434B5C;\n",
              "        box-shadow: 0px 1px 3px 1px rgba(0, 0, 0, 0.15);\n",
              "        filter: drop-shadow(0px 1px 2px rgba(0, 0, 0, 0.3));\n",
              "        fill: #FFFFFF;\n",
              "      }\n",
              "    </style>\n",
              "    <button class=\"colab-df-generate\" onclick=\"generateWithVariable('data')\"\n",
              "            title=\"Generate code using this dataframe.\"\n",
              "            style=\"display:none;\">\n",
              "\n",
              "  <svg xmlns=\"http://www.w3.org/2000/svg\" height=\"24px\"viewBox=\"0 0 24 24\"\n",
              "       width=\"24px\">\n",
              "    <path d=\"M7,19H8.4L18.45,9,17,7.55,7,17.6ZM5,21V16.75L18.45,3.32a2,2,0,0,1,2.83,0l1.4,1.43a1.91,1.91,0,0,1,.58,1.4,1.91,1.91,0,0,1-.58,1.4L9.25,21ZM18.45,9,17,7.55Zm-12,3A5.31,5.31,0,0,0,4.9,8.1,5.31,5.31,0,0,0,1,6.5,5.31,5.31,0,0,0,4.9,4.9,5.31,5.31,0,0,0,6.5,1,5.31,5.31,0,0,0,8.1,4.9,5.31,5.31,0,0,0,12,6.5,5.46,5.46,0,0,0,6.5,12Z\"/>\n",
              "  </svg>\n",
              "    </button>\n",
              "    <script>\n",
              "      (() => {\n",
              "      const buttonEl =\n",
              "        document.querySelector('#id_080bd229-b1bb-4e58-a91c-04dfb06b6451 button.colab-df-generate');\n",
              "      buttonEl.style.display =\n",
              "        google.colab.kernel.accessAllowed ? 'block' : 'none';\n",
              "\n",
              "      buttonEl.onclick = () => {\n",
              "        google.colab.notebook.generateWithVariable('data');\n",
              "      }\n",
              "      })();\n",
              "    </script>\n",
              "  </div>\n",
              "\n",
              "    </div>\n",
              "  </div>\n"
            ],
            "application/vnd.google.colaboratory.intrinsic+json": {
              "type": "dataframe",
              "variable_name": "data"
            }
          },
          "metadata": {},
          "execution_count": 24
        }
      ],
      "source": [
        "url = 'https://raw.githubusercontent.com/NHCh1/DLI/refs/heads/main/Dli-mendeley_18.csv'\n",
        "data = pd.read_csv(url, header=None)\n",
        "data"
      ]
    },
    {
      "cell_type": "markdown",
      "source": [
        "# Pre-processing"
      ],
      "metadata": {
        "id": "dVPsbE5uRCWw"
      }
    },
    {
      "cell_type": "code",
      "source": [
        "#Array of features\n",
        "x = data.drop([48], axis=1)\n",
        "print(x)\n",
        "\n",
        "#Array of target\n",
        "y = data[48]\n",
        "print(y)"
      ],
      "metadata": {
        "colab": {
          "base_uri": "https://localhost:8080/"
        },
        "id": "eYLCJOJBIcb-",
        "outputId": "b954dcef-9fd5-4526-fe6f-ac23ab492fb4"
      },
      "execution_count": 25,
      "outputs": [
        {
          "output_type": "stream",
          "name": "stdout",
          "text": [
            "      0   1   2    3   4   5   6   7   8   9   ...  38  39  40  41  42  43  \\\n",
            "0      3   1   5   72   0   0   0   0   0   0  ...   0   0   0   1   1   0   \n",
            "1      3   1   3  144   0   0   0   0   2   0  ...   0   0   0   0   1  -1   \n",
            "2      3   1   2   58   0   0   0   0   0   0  ...   0   0   0   0   1   0   \n",
            "3      3   1   6   79   1   0   0   0   0   0  ...   1   0   0   0   1  -1   \n",
            "4      3   0   4   46   0   0   0   0   0   0  ...   0   1   0   0   1   1   \n",
            "...   ..  ..  ..  ...  ..  ..  ..  ..  ..  ..  ...  ..  ..  ..  ..  ..  ..   \n",
            "9995   3   1   1   50   0   0   0   0   0   0  ...   0   0   0   0   1   1   \n",
            "9996   2   1   4   59   1   0   0   0   0   0  ...   0   1   0   0   1   0   \n",
            "9997   2   1   4   57   0   0   0   0   0   0  ...   0   0   0   0   1   0   \n",
            "9998   3   1   1   49   0   0   0   0   0   0  ...   0   1   0   0   1   1   \n",
            "9999   3   1   2   52   3   0   0   0   0   0  ...   0   0   0   0   1   1   \n",
            "\n",
            "      44  45  46  47  \n",
            "0      1   1  -1   1  \n",
            "1      1   1   1   1  \n",
            "2     -1   1  -1   0  \n",
            "3      1   1   1  -1  \n",
            "4     -1   0  -1  -1  \n",
            "...   ..  ..  ..  ..  \n",
            "9995  -1   1   0   1  \n",
            "9996   0   1   0   1  \n",
            "9997   1   1   0   1  \n",
            "9998   0   1   0   1  \n",
            "9999   1   1   1   1  \n",
            "\n",
            "[10000 rows x 48 columns]\n",
            "0       1\n",
            "1       1\n",
            "2       1\n",
            "3       1\n",
            "4       1\n",
            "       ..\n",
            "9995    0\n",
            "9996    0\n",
            "9997    0\n",
            "9998    0\n",
            "9999    0\n",
            "Name: 48, Length: 10000, dtype: int64\n"
          ]
        }
      ]
    },
    {
      "cell_type": "code",
      "source": [
        "np.random.seed(42)\n",
        "x_train, x_test, y_train, y_test = train_test_split(x, y, test_size = 0.3, random_state = 0)"
      ],
      "metadata": {
        "id": "GyjpCaeX184O"
      },
      "execution_count": null,
      "outputs": []
    },
    {
      "cell_type": "code",
      "source": [
        "sc = StandardScaler()\n",
        "x_train = sc.fit_transform(x_train)\n",
        "x_test = sc.transform(x_test)\n",
        "\n",
        "print(x_train)\n",
        "print('------------------------------------------------------------------')\n",
        "print(x_test)"
      ],
      "metadata": {
        "id": "mT2J8ve_VULW"
      },
      "execution_count": null,
      "outputs": []
    },
    {
      "cell_type": "markdown",
      "source": [
        "# XGBoost - Liong Chi Teng - TP065355"
      ],
      "metadata": {
        "id": "h93xN1biRofE"
      }
    },
    {
      "cell_type": "markdown",
      "source": [
        "Defining XGBoost Model"
      ],
      "metadata": {
        "id": "wvtwVhnPX5Nr"
      }
    },
    {
      "cell_type": "code",
      "source": [
        "xgb_basic = XGBClassifier(eval_metric='error',\n",
        "                          use_label_encoder=False,\n",
        "                          n_jobs=-1,\n",
        "                          random_state=42,\n",
        "                          verbosity=0\n",
        "                          )"
      ],
      "metadata": {
        "id": "3T9-JD3aXa3f"
      },
      "execution_count": null,
      "outputs": []
    },
    {
      "cell_type": "markdown",
      "source": [
        "Performing feature selection in XGBoost"
      ],
      "metadata": {
        "id": "vGrtYi9nYIEb"
      }
    },
    {
      "cell_type": "code",
      "source": [
        "selector = RFECV(xgb_basic, cv=5, n_jobs=-1)\n",
        "selector.fit(x, y)\n",
        "\n",
        "selected_cols = np.where(selector.ranking_ == 1)[0]\n",
        "print(f\"Selected feature indices: {selected_cols}\")\n",
        "\n",
        "xgb_pipe = make_pipeline(ColumnSelector(cols=selected_cols),\n",
        "                         XGBClassifier(eval_metric='error',\n",
        "                                       use_label_encoder=False,\n",
        "                                       n_jobs=-1,\n",
        "                                       random_state=42\n",
        "                                       )\n",
        "                         )\n",
        "\n",
        "xgb_pipe.fit(x_train, y_train)\n",
        "xgb_pipe_train = xgb_pipe.predict_proba(x_train)[:, 1].reshape(-1, 1)\n",
        "xgb_pipe_test = xgb_pipe.predict_proba(x_test)[:, 1].reshape(-1, 1)\n",
        "xgb_pipe_accuracy = xgb_pipe.score(x_test, y_test)\n",
        "print(f\"Accuracy: {xgb_pipe_accuracy:.8f}\")"
      ],
      "metadata": {
        "id": "pr2l7SScYFVE"
      },
      "execution_count": null,
      "outputs": []
    },
    {
      "cell_type": "markdown",
      "source": [
        "Finding best hyperparameters and best threshold in XGBoost"
      ],
      "metadata": {
        "id": "iMDn73WMeV3Q"
      }
    },
    {
      "cell_type": "code",
      "source": [
        "param_dist = {'xgbclassifier__max_depth': [4, 6, 8, 10],\n",
        "              'xgbclassifier__learning_rate': [0.01, 0.05, 0.1],\n",
        "              'xgbclassifier__n_estimators': [1000, 2000, 3000],\n",
        "              'xgbclassifier__subsample': [0.7, 0.8, 0.9],\n",
        "              'xgbclassifier__colsample_bytree': [0.7, 0.8, 0.9],\n",
        "              'xgbclassifier__scale_pos_weight': [(len(y_train) - sum(y_train)) / sum(y_train)]\n",
        "              }\n",
        "\n",
        "xgb_search = RandomizedSearchCV(xgb_pipe,\n",
        "                                param_distributions=param_dist,\n",
        "                                n_iter=20,\n",
        "                                cv=5,\n",
        "                                n_jobs=-1,\n",
        "                                scoring='accuracy',\n",
        "                                verbose=1\n",
        "                                )\n",
        "\n",
        "xgb_search.fit(x_train, y_train)\n",
        "print(\"Best Hyperparameters:\", xgb_search.best_params_)\n",
        "\n",
        "xgb_model = xgb_search.best_estimator_\n",
        "xgb_probs = xgb_model.predict_proba(x_test)[:, 1]\n",
        "xgb_model_train = xgb_model.predict_proba(x_train)[:, 1].reshape(-1, 1)\n",
        "xgb_model_test = xgb_model.predict_proba(x_test)[:, 1].reshape(-1, 1)\n",
        "\n",
        "thresholds = [i / 100 for i in range(1, 100)]\n",
        "best_acc, best_thresh = 0, 0\n",
        "\n",
        "for t in thresholds:\n",
        "    preds = (xgb_probs >= t).astype(int)\n",
        "    acc = accuracy_score(y_test, preds)\n",
        "    if acc > best_acc:\n",
        "        best_acc, best_thresh = acc, t\n",
        "\n",
        "print(f\"Best Threshold: {best_thresh:.4f}, Best Accuracy: {best_acc:.8f}\")\n",
        "xgb_final_pred = (xgb_probs >= best_thresh).astype(int)"
      ],
      "metadata": {
        "id": "WHrPCLW8ec_g"
      },
      "execution_count": null,
      "outputs": []
    },
    {
      "cell_type": "markdown",
      "source": [
        "XGBoost Model Training Result"
      ],
      "metadata": {
        "id": "9wGQK-kYe31f"
      }
    },
    {
      "cell_type": "code",
      "source": [
        "xgb_acc     = accuracy_score(y_test, xgb_final_pred)\n",
        "xgb_prec    = precision_score(y_test, xgb_final_pred)\n",
        "xgb_rec     = recall_score(y_test, xgb_final_pred)\n",
        "xgb_f1      = f1_score(y_test, xgb_final_pred)\n",
        "xgb_roc_auc = roc_auc_score(y_test, xgb_probs)\n",
        "\n",
        "xgb_pipe_prob = xgb_pipe.predict_proba(x_test)[:, 1]\n",
        "xgb_pipe_pred = (xgb_pipe_test >= 0.5).astype(int)\n",
        "\n",
        "print(\"\\nFinal Xgb Model Metrics\")\n",
        "print(f\"Accuracy  : {xgb_acc:.4f}\")\n",
        "print(f\"Precision : {xgb_prec:.4f}\")\n",
        "print(f\"Recall    : {xgb_rec:.4f}\")\n",
        "print(f\"F1-score  : {xgb_f1:.4f}\")\n",
        "print(f\"ROC-AUC   : {xgb_roc_auc:.4f}\")"
      ],
      "metadata": {
        "id": "ERswy-yce9LI"
      },
      "execution_count": null,
      "outputs": []
    },
    {
      "cell_type": "markdown",
      "source": [
        "# CNN Complex - Ng Hooi Chi - TP065587"
      ],
      "metadata": {
        "id": "UznodjtCVvBE"
      }
    },
    {
      "cell_type": "markdown",
      "source": [
        "Reshape data from 2D to 3D"
      ],
      "metadata": {
        "id": "wFBiftc43i77"
      }
    },
    {
      "cell_type": "code",
      "source": [
        "x_train_cnn = x_train.reshape((x_train.shape[0], x_train.shape[1], 1))\n",
        "x_test_cnn = x_test.reshape((x_test.shape[0], x_test.shape[1], 1))"
      ],
      "metadata": {
        "id": "BpacT8qCcYxU"
      },
      "execution_count": null,
      "outputs": []
    },
    {
      "cell_type": "markdown",
      "source": [
        "Defining CNN Complex Model"
      ],
      "metadata": {
        "id": "DUOyC38W3woq"
      }
    },
    {
      "cell_type": "code",
      "source": [
        "def cnn_complex_tabular():\n",
        "    model = Sequential()\n",
        "    model.add(Input(shape=(48, 1)))\n",
        "    model.add(Conv1D(128, 3, activation='tanh', padding='same'))\n",
        "    model.add(MaxPooling1D(3, padding='same'))\n",
        "    model.add(Dropout(0.2))\n",
        "\n",
        "    model.add(Conv1D(128, 7, activation='tanh', padding='same'))\n",
        "    model.add(Dropout(0.2))\n",
        "\n",
        "    model.add(Conv1D(128, 5, activation='tanh', padding='same'))\n",
        "    model.add(Dropout(0.2))\n",
        "\n",
        "    model.add(Conv1D(128, 3, activation='tanh', padding='same'))\n",
        "    model.add(MaxPooling1D(3, padding='same'))\n",
        "    model.add(Dropout(0.2))\n",
        "\n",
        "    model.add(Conv1D(128, 5, activation='tanh', padding='same'))\n",
        "    model.add(Dropout(0.2))\n",
        "\n",
        "    model.add(Conv1D(128, 3, activation='tanh', padding='same'))\n",
        "    model.add(MaxPooling1D(3, padding='same'))\n",
        "    model.add(Dropout(0.2))\n",
        "\n",
        "    model.add(Conv1D(128, 3, activation='tanh', padding='same'))\n",
        "    model.add(Dropout(0.2))\n",
        "\n",
        "    model.add(Flatten())\n",
        "    model.add(Dense(1, activation='sigmoid'))\n",
        "\n",
        "    model.compile(loss='binary_crossentropy', optimizer=Adam(), metrics=['accuracy'])\n",
        "    return model\n",
        "\n",
        "cnn_model = cnn_complex_tabular()"
      ],
      "metadata": {
        "id": "UdDJ8zp13zcZ"
      },
      "execution_count": null,
      "outputs": []
    },
    {
      "cell_type": "markdown",
      "source": [
        "Training CNN Complex Model"
      ],
      "metadata": {
        "id": "p7V3BgF135Qa"
      }
    },
    {
      "cell_type": "code",
      "source": [
        "cnn_model.fit(x_train_cnn, y_train, epochs=25, batch_size=256, verbose=0)\n",
        "cnn_model_train = cnn_model.predict(x_train_cnn)\n",
        "cnn_model_test = cnn_model.predict(x_test_cnn)"
      ],
      "metadata": {
        "id": "d3T_Hdl234MK"
      },
      "execution_count": null,
      "outputs": []
    },
    {
      "cell_type": "markdown",
      "source": [
        "CNN Complex Training Result"
      ],
      "metadata": {
        "id": "ze_mrWar4MGb"
      }
    },
    {
      "cell_type": "code",
      "source": [
        "cnn_probs = cnn_model.predict(x_test_cnn, verbose=0).ravel()\n",
        "cnn_y_pred = (cnn_probs >= 0.5).astype(int)\n",
        "\n",
        "cnn_accuracy = accuracy_score(y_test, cnn_y_pred)\n",
        "cnn_precision = precision_score(y_test, cnn_y_pred)\n",
        "cnn_recall = recall_score(y_test, cnn_y_pred)\n",
        "cnn_f1 = f1_score(y_test, cnn_y_pred)\n",
        "cnn_roc_auc = roc_auc_score(y_test, cnn_probs)\n",
        "\n",
        "print(f\"CNN Complex Model Metrics:\")\n",
        "print(f\"Accuracy:  {cnn_accuracy:.4f}\")\n",
        "print(f\"Precision: {cnn_precision:.4f}\")\n",
        "print(f\"Recall:    {cnn_recall:.4f}\")\n",
        "print(f\"F1-score:  {cnn_f1:.4f}\")\n",
        "print(f\"ROC-AUC:   {cnn_roc_auc:.4f}\")"
      ],
      "metadata": {
        "id": "YQ65_dAv4O9R"
      },
      "execution_count": null,
      "outputs": []
    },
    {
      "cell_type": "markdown",
      "source": [
        "# Gradient Boosting - Lee Zhi Hui - TP074075"
      ],
      "metadata": {
        "id": "yThllVsLWQZP"
      }
    },
    {
      "cell_type": "markdown",
      "source": [
        "Defining Gradient Boosting Model"
      ],
      "metadata": {
        "id": "WnAKQt5tvqxG"
      }
    },
    {
      "cell_type": "code",
      "source": [
        "gbc_model = GradientBoostingClassifier(max_depth=4, learning_rate=0.7)"
      ],
      "metadata": {
        "id": "wyyKc3WKvuXO"
      },
      "execution_count": null,
      "outputs": []
    },
    {
      "cell_type": "markdown",
      "source": [
        "Training Gradient Boosting Model"
      ],
      "metadata": {
        "id": "y2KP3UyHv6aN"
      }
    },
    {
      "cell_type": "code",
      "source": [
        "gbc_model.fit(x_train, y_train)\n",
        "gbc_model_full = copy.deepcopy(gbc_model)\n",
        "\n",
        "gbc_model_train = gbc_model.predict_proba(x_train)[:, 1].reshape(-1, 1)\n",
        "gbc_model_test = gbc_model.predict_proba(x_test)[:, 1].reshape(-1, 1)\n",
        "\n",
        "gbc_model_accuracy = gbc_model.score(x_test, y_test)\n",
        "print(f\"Gbc Plain Accuracy: {gbc_model_accuracy:.8f}\")"
      ],
      "metadata": {
        "id": "PLY23O0Av_eI"
      },
      "execution_count": null,
      "outputs": []
    },
    {
      "cell_type": "markdown",
      "source": [
        "Performing feature selection in Gradient Boosting"
      ],
      "metadata": {
        "id": "AT_uUT1EwFwm"
      }
    },
    {
      "cell_type": "code",
      "source": [
        "selector = RFECV(gbc_model, cv=5, n_jobs=-1)\n",
        "selector = selector.fit(x, y)\n",
        "gbc_col = np.where(selector.ranking_==1)[0]\n",
        "print(gbc_col)\n",
        "\n",
        "gbc_pipe = make_pipeline(ColumnSelector(cols=gbc_col), gbc_model)\n",
        "\n",
        "gbc_pipe.fit(x_train, y_train)\n",
        "gbc_pipe_train = gbc_pipe.predict_proba(x_train)[:, 1].reshape(-1, 1)\n",
        "gbc_pipe_test = gbc_pipe.predict_proba(x_test)[:, 1].reshape(-1, 1)\n",
        "gbc_pipe_accuracy = gbc_pipe.score(x_test, y_test)\n",
        "print(f\"Gbc Pipe Accuracy: {gbc_pipe_accuracy:.8f}\")"
      ],
      "metadata": {
        "id": "18gXnMhSu9pG"
      },
      "execution_count": null,
      "outputs": []
    },
    {
      "cell_type": "markdown",
      "source": [
        "Gradient Boosting Training Result"
      ],
      "metadata": {
        "id": "g-JbLeF6xJyP"
      }
    },
    {
      "cell_type": "code",
      "source": [
        "gbc_pipe_prob = gbc_pipe.predict_proba(x_test)[:, 1]\n",
        "gbc_pipe_pred = (gbc_pipe_test >= 0.5).astype(int)\n",
        "\n",
        "gbc_accuracy = accuracy_score(y_test, gbc_pipe_pred)\n",
        "gbc_precision = precision_score(y_test, gbc_pipe_pred)\n",
        "gbc_recall = recall_score(y_test, gbc_pipe_pred)\n",
        "gbc_f1 = f1_score(y_test, gbc_pipe_pred)\n",
        "gbc_roc_auc = roc_auc_score(y_test, gbc_pipe_prob)\n",
        "\n",
        "print(f\"\\nGbc Final Model Metrics:\")\n",
        "print(f\"Accuracy:  {gbc_accuracy:.4f}\")\n",
        "print(f\"Precision: {gbc_precision:.4f}\")\n",
        "print(f\"Recall:    {gbc_recall:.4f}\")\n",
        "print(f\"F1-score:  {gbc_f1:.4f}\")\n",
        "print(f\"ROC-AUC:   {gbc_roc_auc:.4f}\")"
      ],
      "metadata": {
        "id": "WU5mbzi2y8Hl"
      },
      "execution_count": 17,
      "outputs": []
    },
    {
      "cell_type": "markdown",
      "source": [
        "# Decision Tree - Ong Wing Xuan - TP065481"
      ],
      "metadata": {
        "id": "E_Uc9mdnWUCP"
      }
    },
    {
      "cell_type": "markdown",
      "source": [
        "Defining Decision Tree Model"
      ],
      "metadata": {
        "id": "9BnkhJ4yl0r0"
      }
    },
    {
      "cell_type": "code",
      "source": [
        "dtc_model = DecisionTreeClassifier(max_depth=12)"
      ],
      "metadata": {
        "id": "SFbmlcqIl3H9"
      },
      "execution_count": null,
      "outputs": []
    },
    {
      "cell_type": "markdown",
      "source": [
        "Training Decision Tree Model"
      ],
      "metadata": {
        "id": "vXbQSMGNmCls"
      }
    },
    {
      "cell_type": "code",
      "source": [
        "dtc_model.fit(x_train, y_train)\n",
        "dtc_model_full = copy.deepcopy(dtc_model)\n",
        "\n",
        "dtc_model_train = dtc_model.predict_proba(x_train)[:, 1].reshape(-1, 1)\n",
        "dtc_model_test = dtc_model.predict_proba(x_test)[:, 1].reshape(-1, 1)\n",
        "\n",
        "dtc_model_accuracy = dtc_model.score(x_test, y_test)\n",
        "print(f\"Dtc Plain Accuracy: {dtc_model_accuracy:.8f}\")"
      ],
      "metadata": {
        "id": "KhDVgCb1kabn"
      },
      "execution_count": 19,
      "outputs": []
    },
    {
      "cell_type": "markdown",
      "source": [
        "Performing Feature Selection in Decision Tree Classifier"
      ],
      "metadata": {
        "id": "MQWTBdtpmYzd"
      }
    },
    {
      "cell_type": "code",
      "source": [
        "selector = RFECV(dtc_model, cv=5, n_jobs=-1)\n",
        "selector = selector.fit(x, y)\n",
        "dtc_col = np.where(selector.ranking_==1)[0]\n",
        "print(dtc_col)\n",
        "\n",
        "dtc_pipe = make_pipeline(ColumnSelector(cols=dtc_col), dtc_model)\n",
        "\n",
        "dtc_pipe.fit(x_train, y_train)\n",
        "dtc_pipe_train = dtc_pipe.predict_proba(x_train)[:, 1].reshape(-1, 1)\n",
        "dtc_pipe_test = dtc_pipe.predict_proba(x_test)[:, 1].reshape(-1, 1)\n",
        "dtc_pipe_accuracy = dtc_pipe.score(x_test, y_test)\n",
        "print(f\"Dtc Pipe Accuracy: {dtc_pipe_accuracy:.8f}\")"
      ],
      "metadata": {
        "id": "IHkZXvMtmdJN"
      },
      "execution_count": 20,
      "outputs": []
    },
    {
      "cell_type": "markdown",
      "source": [
        "Decision Tree Training Result"
      ],
      "metadata": {
        "id": "ivrHL1xHrQBJ"
      }
    },
    {
      "cell_type": "code",
      "source": [
        "dtc_pipe_prob = dtc_pipe.predict_proba(x_test)[:, 1]\n",
        "dtc_pipe_pred = (dtc_pipe_test >= 0.5).astype(int)\n",
        "\n",
        "dtc_accuracy = accuracy_score(y_test, dtc_pipe_pred)\n",
        "dtc_precision = precision_score(y_test, dtc_pipe_pred)\n",
        "dtc_recall = recall_score(y_test, dtc_pipe_pred)\n",
        "dtc_f1 = f1_score(y_test, dtc_pipe_pred)\n",
        "dtc_roc_auc = roc_auc_score(y_test, dtc_pipe_prob)\n",
        "\n",
        "print(f\"Dtc Final Model Metrics:\")\n",
        "print(f\"Accuracy:  {dtc_accuracy:.4f}\")\n",
        "print(f\"Precision: {dtc_precision:.4f}\")\n",
        "print(f\"Recall:    {dtc_recall:.4f}\")\n",
        "print(f\"F1-score:  {dtc_f1:.4f}\")\n",
        "print(f\"ROC-AUC:   {dtc_roc_auc:.4f}\")"
      ],
      "metadata": {
        "id": "4iIHqMQgrUUK"
      },
      "execution_count": 21,
      "outputs": []
    },
    {
      "cell_type": "markdown",
      "source": [
        "# Stacked Model - Group Work"
      ],
      "metadata": {
        "id": "pX6oLWk2WsJV"
      }
    },
    {
      "cell_type": "code",
      "source": [
        "stacked_train = np.hstack([xgb_pipe_train, cnn_model_train, gbc_pipe_train, dtc_pipe_train])\n",
        "stacked_test = np.hstack([xgb_pipe_test, cnn_model_test, gbc_pipe_test, dtc_pipe_test])\n",
        "\n",
        "\n",
        "stack_model = LogisticRegression(class_weight='balanced', random_state=42)\n",
        "stack_model.fit(stacked_train, y_train)\n",
        "\n",
        "y_pred = stack_model.predict(stacked_test)\n",
        "stack_accuracy = accuracy_score(y_test, y_pred)\n",
        "print(f\"Stacked Model Accuracy: {stack_accuracy:.8f}\")"
      ],
      "metadata": {
        "id": "WEypXyEpIhYd",
        "outputId": "046e4f16-d2f9-410b-c30a-de6a53ef34e2",
        "colab": {
          "base_uri": "https://localhost:8080/"
        }
      },
      "execution_count": 29,
      "outputs": [
        {
          "output_type": "stream",
          "name": "stdout",
          "text": [
            "Stacked Model Accuracy: 0.98400000\n"
          ]
        }
      ]
    },
    {
      "cell_type": "markdown",
      "source": [
        "Stacked Model Training Result"
      ],
      "metadata": {
        "id": "VQnK2OvGQuYg"
      }
    },
    {
      "cell_type": "code",
      "source": [
        "stack_pred = stack_model.predict(stacked_test)\n",
        "stack_prob = stack_model.predict_proba(stacked_test)[:, 1]\n",
        "\n",
        "stack_accuracy = accuracy_score(y_test, stack_pred)\n",
        "stack_precision = precision_score(y_test, stack_pred)\n",
        "stack_recall = recall_score(y_test, stack_pred)\n",
        "stack_f1 = f1_score(y_test, stack_pred)\n",
        "stack_roc_auc = roc_auc_score(y_test, stack_prob)\n",
        "\n",
        "print(f\"Stack Final Model Metrics:\")\n",
        "print(f\"Accuracy:  {stack_accuracy:.4f}\")\n",
        "print(f\"Precision: {stack_precision:.4f}\")\n",
        "print(f\"Recall:    {stack_recall:.4f}\")\n",
        "print(f\"F1-score:  {stack_f1:.4f}\")\n",
        "print(f\"ROC-AUC:   {stack_roc_auc:.4f}\")"
      ],
      "metadata": {
        "id": "yvfanB23Qpkz",
        "outputId": "ac7e2f42-ea3b-4751-f3c3-f600dbe8d81d",
        "colab": {
          "base_uri": "https://localhost:8080/"
        }
      },
      "execution_count": 28,
      "outputs": [
        {
          "output_type": "stream",
          "name": "stdout",
          "text": [
            "Stack Final Model Metrics:\n",
            "Accuracy:  0.9840\n",
            "Precision: 0.9822\n",
            "Recall:    0.9861\n",
            "F1-score:  0.9841\n",
            "ROC-AUC:   0.9985\n"
          ]
        }
      ]
    },
    {
      "cell_type": "markdown",
      "source": [
        "# Evaluation"
      ],
      "metadata": {
        "id": "YrpDXESdW40G"
      }
    },
    {
      "cell_type": "markdown",
      "source": [
        "## XGBoost"
      ],
      "metadata": {
        "id": "pJZT3xsPiBK2"
      }
    },
    {
      "cell_type": "markdown",
      "source": [
        "Classification report"
      ],
      "metadata": {
        "id": "ssm0U7FiiQRG"
      }
    },
    {
      "cell_type": "code",
      "source": [
        "print(classification_report(y_test, xgb_final_pred, digits=4))"
      ],
      "metadata": {
        "id": "Hd4SVq3c05fA"
      },
      "execution_count": null,
      "outputs": []
    },
    {
      "cell_type": "markdown",
      "source": [
        "Dictionary of TP, TN, FP, FN"
      ],
      "metadata": {
        "id": "fc8zzE9miUTV"
      }
    },
    {
      "cell_type": "code",
      "source": [
        "xgb_y_pred = xgb_model.predict(x_test)\n",
        "xgb_comparison = pd.DataFrame({'xgb_y_pred': xgb_y_pred, 'y_test': y_test})\n",
        "xgb_true_positive = ((xgb_comparison['xgb_y_pred'] == 0) & (xgb_comparison['y_test'] == 0)).sum()\n",
        "print(f\"True Positive: {xgb_true_positive}\")\n",
        "xgb_true_negative = ((xgb_comparison['xgb_y_pred'] == 1) & (xgb_comparison['y_test'] == 1)).sum()\n",
        "print(f\"True Negative: {xgb_true_negative}\")\n",
        "xgb_false_positive = ((xgb_comparison['xgb_y_pred'] == 0) & (xgb_comparison['y_test'] == 1)).sum()\n",
        "print(f\"False Positive: {xgb_false_positive}\")\n",
        "xgb_false_negative = ((xgb_comparison['xgb_y_pred'] == 1) & (xgb_comparison['y_test'] == 0)).sum()\n",
        "print(f\"False Negative: {xgb_false_negative}\")"
      ],
      "metadata": {
        "id": "UKmNcpwAiTTO"
      },
      "execution_count": null,
      "outputs": []
    },
    {
      "cell_type": "markdown",
      "source": [
        "Confusion Matrix"
      ],
      "metadata": {
        "id": "RXYZxSbzieKv"
      }
    },
    {
      "cell_type": "code",
      "source": [
        "cm = confusion_matrix(y_test, xgb_final_pred)\n",
        "sns.heatmap(cm,\n",
        "            annot=True,\n",
        "            fmt='g',\n",
        "            xticklabels=['Legimate', 'Phishing'],\n",
        "            yticklabels=['Legimate', 'Phishing'])\n",
        "plt.ylabel('Actual', fontsize=13)\n",
        "plt.title('Xgb Model Confusion Matrix', fontsize=17, pad=20)\n",
        "plt.gca().xaxis.set_label_position('top')\n",
        "plt.xlabel('Prediction', fontsize=13)\n",
        "plt.gca().xaxis.tick_top()\n",
        "plt.gca().figure.subplots_adjust(bottom=0.2)\n",
        "plt.show()"
      ],
      "metadata": {
        "id": "d09e26dkighX"
      },
      "execution_count": null,
      "outputs": []
    },
    {
      "cell_type": "markdown",
      "source": [
        "## CNN Complex"
      ],
      "metadata": {
        "id": "anQMRtf55cWM"
      }
    },
    {
      "cell_type": "markdown",
      "source": [
        "Classification Report"
      ],
      "metadata": {
        "id": "LcNtkjGr54pB"
      }
    },
    {
      "cell_type": "code",
      "source": [
        "print(classification_report(y_test, cnn_y_pred, digits=4))"
      ],
      "metadata": {
        "id": "uuxiQMaE58OB"
      },
      "execution_count": null,
      "outputs": []
    },
    {
      "cell_type": "markdown",
      "source": [
        "Dictionary for TP, TP, FP, FN"
      ],
      "metadata": {
        "id": "yj4dAkK35pis"
      }
    },
    {
      "cell_type": "code",
      "source": [
        "y_true = np.asarray(y_test).astype(int)\n",
        "cnn_comparison = pd.DataFrame({'cnn_y_pred': cnn_y_pred, 'y_test': y_true})\n",
        "\n",
        "cnn_true_positive = ((cnn_comparison['cnn_y_pred'] == 0) & (cnn_comparison['y_test'] == 0)).sum()\n",
        "print(f\"True Positive: {cnn_true_positive}\")\n",
        "cnn_true_negative = ((cnn_comparison['cnn_y_pred'] == 1) & (cnn_comparison['y_test'] == 1)).sum()\n",
        "print(f\"True Negative: {cnn_true_negative}\")\n",
        "cnn_false_positive = ((cnn_comparison['cnn_y_pred'] == 0) & (cnn_comparison['y_test'] == 1)).sum()\n",
        "print(f\"False Positive: {cnn_false_positive}\")\n",
        "cnn_false_negative = ((cnn_comparison['cnn_y_pred'] == 1) & (cnn_comparison['y_test'] == 0)).sum()\n",
        "print(f\"False Negative: {cnn_false_negative}\")"
      ],
      "metadata": {
        "id": "yGBhtJ_k5g7K"
      },
      "execution_count": null,
      "outputs": []
    },
    {
      "cell_type": "markdown",
      "source": [
        "Confusion Matrix"
      ],
      "metadata": {
        "id": "GD7WUqkQ6d0z"
      }
    },
    {
      "cell_type": "code",
      "source": [
        "cm = confusion_matrix(y_test, cnn_y_pred)\n",
        "sns.heatmap(cm,\n",
        "            annot=True,\n",
        "            fmt='g',\n",
        "            xticklabels=['Legimate', 'Phishing'],\n",
        "            yticklabels=['Legimate', 'Phishing'])\n",
        "plt.ylabel('Actual', fontsize=13)\n",
        "plt.title('Confusion Matrix', fontsize=17, pad=20)\n",
        "plt.gca().xaxis.set_label_position('top')\n",
        "plt.xlabel('Prediction', fontsize=13)\n",
        "plt.gca().xaxis.tick_top()\n",
        "plt.gca().figure.subplots_adjust(bottom=0.2)\n",
        "plt.show()"
      ],
      "metadata": {
        "id": "t1UJ-kef6c3T"
      },
      "execution_count": null,
      "outputs": []
    },
    {
      "cell_type": "markdown",
      "source": [
        "## Gradient Boosting"
      ],
      "metadata": {
        "id": "KL_fh7sFzFCt"
      }
    },
    {
      "cell_type": "markdown",
      "source": [
        "Classification Report"
      ],
      "metadata": {
        "id": "a2WXO0LKzRrs"
      }
    },
    {
      "cell_type": "code",
      "source": [
        "print(classification_report(y_test, gbc_pipe_pred, digits=4))"
      ],
      "metadata": {
        "id": "8BE17CA8zYY2"
      },
      "execution_count": null,
      "outputs": []
    },
    {
      "cell_type": "markdown",
      "source": [
        "Dictionary of TP, TN, FP, FN"
      ],
      "metadata": {
        "id": "BGbfxQm-zMts"
      }
    },
    {
      "cell_type": "code",
      "source": [
        "gbc_y_pred = gbc_pipe.predict(x_test)\n",
        "gbc_comparison = pd.DataFrame({'gbc_y_pred': gbc_y_pred, 'y_test': y_test})\n",
        "gbc_true_positive = ((gbc_comparison['gbc_y_pred'] == 0) & (gbc_comparison['y_test'] == 0)).sum()\n",
        "print(f\"True Positive: {gbc_true_positive}\")\n",
        "gbc_true_negative = ((gbc_comparison['gbc_y_pred'] == 1) & (gbc_comparison['y_test'] == 1)).sum()\n",
        "print(f\"True Negative: {gbc_true_negative}\")\n",
        "gbc_false_positive = ((gbc_comparison['gbc_y_pred'] == 0) & (gbc_comparison['y_test'] == 1)).sum()\n",
        "print(f\"False Positive: {gbc_false_positive}\")\n",
        "gbc_false_negative = ((gbc_comparison['gbc_y_pred'] == 1) & (gbc_comparison['y_test'] == 0)).sum()\n",
        "print(f\"False Negative: {gbc_false_negative}\")"
      ],
      "metadata": {
        "id": "U2pFGkO1zJC0"
      },
      "execution_count": null,
      "outputs": []
    },
    {
      "cell_type": "markdown",
      "source": [
        "Confusion Matrix"
      ],
      "metadata": {
        "id": "iYT0Yc2yzdF9"
      }
    },
    {
      "cell_type": "code",
      "source": [
        "cm = confusion_matrix(y_test, gbc_pipe_pred)\n",
        "sns.heatmap(cm,\n",
        "            annot=True,\n",
        "            fmt='g',\n",
        "            xticklabels=['Legimate', 'Phishing'],\n",
        "            yticklabels=['Legimate', 'Phishing'])\n",
        "plt.ylabel('Actual', fontsize=13)\n",
        "plt.title('Confusion Matrix', fontsize=17, pad=20)\n",
        "plt.gca().xaxis.set_label_position('top')\n",
        "plt.xlabel('Prediction', fontsize=13)\n",
        "plt.gca().xaxis.tick_top()\n",
        "plt.gca().figure.subplots_adjust(bottom=0.2)\n",
        "plt.show()"
      ],
      "metadata": {
        "id": "6kU6DjoUzetU"
      },
      "execution_count": null,
      "outputs": []
    },
    {
      "cell_type": "markdown",
      "source": [
        "## Decision Tree"
      ],
      "metadata": {
        "id": "I-uetbParo5b"
      }
    },
    {
      "cell_type": "markdown",
      "source": [
        "Classification report"
      ],
      "metadata": {
        "id": "smH5oObRr03Q"
      }
    },
    {
      "cell_type": "code",
      "source": [
        "dtc_y_pred = dtc_pipe.predict(x_test)\n",
        "print(classification_report(y_test, dtc_y_pred, digits=4))"
      ],
      "metadata": {
        "id": "qw0rKx53r2cg"
      },
      "execution_count": null,
      "outputs": []
    },
    {
      "cell_type": "markdown",
      "source": [
        "Dictionary of TP, TN, FP, FN"
      ],
      "metadata": {
        "id": "geUntcJirt57"
      }
    },
    {
      "cell_type": "code",
      "source": [
        "dtc_comparison = pd.DataFrame({'dtc_y_pred': dtc_y_pred, 'y_test': y_test})\n",
        "\n",
        "dtc_true_positive = ((dtc_comparison['dtc_y_pred'] == 0) & (dtc_comparison['y_test'] == 0)).sum()\n",
        "print(f\"True Positive: {dtc_true_positive}\")\n",
        "dtc_true_negative = ((dtc_comparison['dtc_y_pred'] == 1) & (dtc_comparison['y_test'] == 1)).sum()\n",
        "print(f\"True Negative: {dtc_true_negative}\")\n",
        "dtc_false_positive = ((dtc_comparison['dtc_y_pred'] == 0) & (dtc_comparison['y_test'] == 1)).sum()\n",
        "print(f\"False Positive: {dtc_false_positive}\")\n",
        "dtc_false_negative = ((dtc_comparison['dtc_y_pred'] == 1) & (dtc_comparison['y_test'] == 0)).sum()\n",
        "print(f\"False Negative: {dtc_false_negative}\")"
      ],
      "metadata": {
        "id": "nBSkPtjcrrQK"
      },
      "execution_count": null,
      "outputs": []
    },
    {
      "cell_type": "markdown",
      "source": [
        "Confusion Matrix"
      ],
      "metadata": {
        "id": "puHVPypKsDa5"
      }
    },
    {
      "cell_type": "code",
      "source": [
        "cm = confusion_matrix(y_test, dtc_y_pred)\n",
        "sns.heatmap(cm,\n",
        "            annot=True,\n",
        "            fmt='g',\n",
        "            xticklabels=['Legimate', 'Phishing'],\n",
        "            yticklabels=['Legimate', 'Phishing'])\n",
        "plt.ylabel('Actual', fontsize=13)\n",
        "plt.title('Confusion Matrix', fontsize=17, pad=20)\n",
        "plt.gca().xaxis.set_label_position('top')\n",
        "plt.xlabel('Prediction', fontsize=13)\n",
        "plt.gca().xaxis.tick_top()\n",
        "plt.gca().figure.subplots_adjust(bottom=0.2)\n",
        "plt.show()"
      ],
      "metadata": {
        "id": "onvs6seAr65Q"
      },
      "execution_count": null,
      "outputs": []
    },
    {
      "cell_type": "markdown",
      "source": [
        "## Stack Model"
      ],
      "metadata": {
        "id": "1UStFoEYQ7mM"
      }
    },
    {
      "cell_type": "markdown",
      "source": [
        "Classification Report"
      ],
      "metadata": {
        "id": "Ag1G2j3ORopR"
      }
    },
    {
      "cell_type": "code",
      "source": [
        "stack_pred = stack_model.predict(stacked_test)\n",
        "print(classification_report(y_test, stack_pred, digits=4))"
      ],
      "metadata": {
        "id": "Zc3DP8AlRRI4",
        "outputId": "60b865af-4f71-4573-fdc4-12a6bc953a3e",
        "colab": {
          "base_uri": "https://localhost:8080/"
        }
      },
      "execution_count": 32,
      "outputs": [
        {
          "output_type": "stream",
          "name": "stdout",
          "text": [
            "              precision    recall  f1-score   support\n",
            "\n",
            "           0     0.9858    0.9819    0.9838      1489\n",
            "           1     0.9822    0.9861    0.9841      1511\n",
            "\n",
            "    accuracy                         0.9840      3000\n",
            "   macro avg     0.9840    0.9840    0.9840      3000\n",
            "weighted avg     0.9840    0.9840    0.9840      3000\n",
            "\n"
          ]
        }
      ]
    },
    {
      "cell_type": "markdown",
      "source": [
        "Dictionary of TP, TN, FP, FN"
      ],
      "metadata": {
        "id": "N5jIHlF5RRuX"
      }
    },
    {
      "cell_type": "code",
      "source": [
        "stack_comparison = pd.DataFrame({'stack_pred': stack_pred, 'y_test': y_test})\n",
        "\n",
        "stack_true_positive = ((stack_comparison['stack_pred'] == 0) & (stack_comparison['y_test'] == 0)).sum()\n",
        "print(f\"True Positive: {stack_true_positive}\")\n",
        "stack_true_negative = ((stack_comparison['stack_pred'] == 1) & (stack_comparison['y_test'] == 1)).sum()\n",
        "print(f\"True Negative: {stack_true_negative}\")\n",
        "stack_false_positive = ((stack_comparison['stack_pred'] == 0) & (stack_comparison['y_test'] == 1)).sum()\n",
        "print(f\"False Positive: {stack_false_positive}\")\n",
        "stack_false_negative = ((stack_comparison['stack_pred'] == 1) & (stack_comparison['y_test'] == 0)).sum()\n",
        "print(f\"False Negative: {stack_false_negative}\")"
      ],
      "metadata": {
        "id": "gkXAlZUcQ96G",
        "outputId": "8f6e849e-fc9a-4d17-891a-164ddb71884a",
        "colab": {
          "base_uri": "https://localhost:8080/"
        }
      },
      "execution_count": 33,
      "outputs": [
        {
          "output_type": "stream",
          "name": "stdout",
          "text": [
            "True Positive: 1462\n",
            "True Negative: 1490\n",
            "False Positive: 21\n",
            "False Negative: 27\n"
          ]
        }
      ]
    },
    {
      "cell_type": "markdown",
      "source": [
        "Confusion Matrix"
      ],
      "metadata": {
        "id": "LJpRuY05R2OK"
      }
    },
    {
      "cell_type": "code",
      "source": [
        "cm = confusion_matrix(y_test, stack_pred)\n",
        "sns.heatmap(cm,\n",
        "            annot=True,\n",
        "            fmt='g',\n",
        "            xticklabels=['Legimate', 'Phishing'],\n",
        "            yticklabels=['Legimate', 'Phishing'])\n",
        "plt.ylabel('Actual', fontsize=13)\n",
        "plt.title('Confusion Matrix', fontsize=17, pad=20)\n",
        "plt.gca().xaxis.set_label_position('top')\n",
        "plt.xlabel('Prediction', fontsize=13)\n",
        "plt.gca().xaxis.tick_top()\n",
        "plt.gca().figure.subplots_adjust(bottom=0.2)\n",
        "plt.show()"
      ],
      "metadata": {
        "id": "tta5K0fgR4gn",
        "outputId": "68981dcd-24ea-4303-8d61-fd647fb73a94",
        "colab": {
          "base_uri": "https://localhost:8080/",
          "height": 453
        }
      },
      "execution_count": 34,
      "outputs": [
        {
          "output_type": "display_data",
          "data": {
            "text/plain": [
              "<Figure size 640x480 with 2 Axes>"
            ],
            "image/png": "[encoded data removed]"
          },
          "metadata": {}
        }
      ]
    },
    {
      "cell_type": "markdown",
      "source": [
        "## ROC Curve & PR Curve"
      ],
      "metadata": {
        "id": "X39pY78ArmxA"
      }
    },
    {
      "cell_type": "code",
      "source": [
        "y_prob_stack = stack_model.predict_proba(stacked_test)[:, 1]\n",
        "fpr_stack, tpr_stack, thresholds_stack = roc_curve(y_test, y_prob_stack)\n",
        "roc_auc_stack = auc(fpr_stack, tpr_stack)\n",
        "y_prob_xgb = xgb_model.predict_proba(x_test)[:, 1]\n",
        "fpr_xgb, tpr_xgb, thresholds_xgb = roc_curve(y_test, y_prob_xgb)\n",
        "roc_auc_xgb = auc(fpr_xgb, tpr_xgb)\n",
        "y_prob_cnn = cnn_model.predict(x_test_cnn)\n",
        "y_prob_cnn = y_prob_cnn.ravel()\n",
        "fpr_cnn, tpr_cnn, thresholds_cnn = roc_curve(y_test, y_prob_cnn)\n",
        "roc_auc_cnn = auc(fpr_cnn, tpr_cnn)\n",
        "y_prob_gbc = gbc_pipe.predict_proba(x_test)[:, 1]\n",
        "fpr_gbc, tpr_gbc, thresholds_gbc = roc_curve(y_test, y_prob_gbc)\n",
        "roc_auc_gbc = auc(fpr_gbc, tpr_gbc)\n",
        "y_prob_dtc = dtc_pipe.predict_proba(x_test)[:, 1]\n",
        "fpr_dtc, tpr_dtc, thresholds_dtc = roc_curve(y_test, y_prob_dtc)\n",
        "roc_auc_dtc = auc(fpr_dtc, tpr_dtc)\n",
        "\n",
        "plt.figure(figsize=(5, 5))\n",
        "plt.plot(fpr_stack, tpr_stack, label='Stacked Model (AUC = %0.4f)' % roc_auc_stack, color='darkorange')\n",
        "plt.plot(fpr_xgb, tpr_xgb, label='Xgb Model (AUC = %0.4f)' % roc_auc_xgb, color='yellow')\n",
        "plt.plot(fpr_cnn, tpr_cnn, label='Cnn Model (AUC = %0.4f)' % roc_auc_cnn, color='green')\n",
        "plt.plot(fpr_gbc, tpr_gbc, label='Gbc Model (AUC = %0.4f)' % roc_auc_gbc, color='cyan')\n",
        "plt.plot(fpr_dtc, tpr_dtc, label='Dtc Model (AUC = %0.4f)' % roc_auc_dtc, color='blue')\n",
        "plt.plot([0, 1], [0, 1], 'k--', label='No Skill')\n",
        "plt.xlim([0.0, 1.0])\n",
        "plt.ylim([0.0, 1.05])\n",
        "plt.xlabel('False Positive Rate', fontsize=12)\n",
        "plt.ylabel('True Positive Rate', fontsize=12)\n",
        "plt.title('ROC Curve for Phishing URL Detection', fontsize=14)\n",
        "plt.legend(loc='lower right')\n",
        "plt.grid(True)\n",
        "plt.show()"
      ],
      "metadata": {
        "id": "uK7r6eHrKjCP",
        "outputId": "2f056e41-a13f-40b1-f04f-bcc92920790b",
        "colab": {
          "base_uri": "https://localhost:8080/",
          "height": 509
        }
      },
      "execution_count": 36,
      "outputs": [
        {
          "output_type": "stream",
          "name": "stdout",
          "text": [
            "\u001b[1m94/94\u001b[0m \u001b[32m━━━━━━━━━━━━━━━━━━━━\u001b[0m\u001b[37m\u001b[0m \u001b[1m1s\u001b[0m 13ms/step\n"
          ]
        },
        {
          "output_type": "display_data",
          "data": {
            "text/plain": [
              "<Figure size 500x500 with 1 Axes>"
            ],
            "image/png": "[encoded data removed]"
          },
          "metadata": {}
        }
      ]
    },
    {
      "cell_type": "code",
      "source": [
        "# Precision-Recall Curve\n",
        "precision_stack, recall_stack, thresholds_stack = precision_recall_curve(y_test, y_pred)\n",
        "auc_score_stack = auc(recall_stack, precision_stack)\n",
        "precision_xgb, recall_xgb, thresholds_xgb = precision_recall_curve(y_test, xgb_probs)\n",
        "auc_score_xgb = auc(recall_xgb, precision_xgb)\n",
        "y_prob_cnn = cnn_model_test.ravel()\n",
        "precision_cnn, recall_cnn, thresholds_cnn = precision_recall_curve(y_test, y_prob_cnn)\n",
        "auc_score_cnn = auc(recall_cnn, precision_cnn)\n",
        "precision_gbc, recall_gbc, thresholds_gbc = precision_recall_curve(y_test, gbc_pipe_prob)\n",
        "auc_score_gbc = auc(recall_gbc, precision_gbc)\n",
        "precision_dtc, recall_dtc, thresholds_dtc = precision_recall_curve(y_test, dtc_pipe_prob)\n",
        "auc_score_dtc = auc(recall_dtc, precision_dtc)\n",
        "\n",
        "plt.figure(figsize=(5, 5))\n",
        "plt.plot(recall_stack, precision_stack, label=f'Stack Model PR Curve (AUC = {auc_score_stack:.4f})', color='darkorange')\n",
        "plt.plot(recall_xgb, precision_xgb, label=f'Xgb Model PR Curve (AUC = {auc_score_xgb:.4f})', color='yellow')\n",
        "plt.plot(recall_cnn, precision_cnn, label=f'Cnn Model PR Curve (AUC = {auc_score_cnn:.4f})', color='green')\n",
        "plt.plot(recall_gbc, precision_gbc, label=f'Gbc Model PR Curve (AUC = {auc_score_gbc:.4f})', color='cyan')\n",
        "plt.plot(recall_dtc, precision_dtc, label=f'Dtc Model PR Curve (AUC = {auc_score_dtc:.4f})', color='blue')\n",
        "plt.xlabel('Recall')\n",
        "plt.ylabel('Precision')\n",
        "plt.title('Precision-Recall Curve')\n",
        "plt.legend()\n",
        "plt.grid(alpha=0.3)\n",
        "plt.show()"
      ],
      "metadata": {
        "id": "ctMw7ut5Y8ck",
        "outputId": "20589759-b618-47f0-a1e6-664f872970ee",
        "colab": {
          "base_uri": "https://localhost:8080/",
          "height": 487
        }
      },
      "execution_count": 39,
      "outputs": [
        {
          "output_type": "display_data",
          "data": {
            "text/plain": [
              "<Figure size 500x500 with 1 Axes>"
            ],
            "image/png": "[encoded data removed]"
          },
          "metadata": {}
        }
      ]
    },
    {
      "cell_type": "code",
      "source": [
        "# Logistic Regression Coefficients\n",
        "importance_scores = stack_model.coef_[0]\n",
        "stacked_features = ['XGBoost', 'CNN', 'GradientBoosting', 'DecisionTree']\n",
        "for name, coef in zip(stacked_features, importance_scores):\n",
        "    print(f\"{name} contribution weight: {coef:.4f}\")\n",
        "\n",
        "plt.bar(stacked_features, importance_scores)\n",
        "plt.title('Stacked Model Feature Importances (Logistic Regression Coefficients)')\n",
        "plt.ylabel('Coefficient Value')\n",
        "plt.show()"
      ],
      "metadata": {
        "id": "89KxxLargcg6",
        "outputId": "ff9eeac8-0d63-423d-d63e-6d23854e588f",
        "colab": {
          "base_uri": "https://localhost:8080/",
          "height": 521
        }
      },
      "execution_count": 41,
      "outputs": [
        {
          "output_type": "stream",
          "name": "stdout",
          "text": [
            "XGBoost contribution weight: 4.0694\n",
            "CNN contribution weight: 2.9998\n",
            "GradientBoosting contribution weight: 4.1335\n",
            "DecisionTree contribution weight: 2.6950\n"
          ]
        },
        {
          "output_type": "display_data",
          "data": {
            "text/plain": [
              "<Figure size 640x480 with 1 Axes>"
            ],
            "image/png": "[encoded data removed]"
          },
          "metadata": {}
        }
      ]
    },
    {
      "cell_type": "markdown",
      "source": [
        "# Save Model"
      ],
      "metadata": {
        "id": "Sg_TODzQXAve"
      }
    },
    {
      "cell_type": "markdown",
      "source": [
        "Saving Final XGB Model"
      ],
      "metadata": {
        "id": "72iNRP2AitaP"
      }
    },
    {
      "cell_type": "code",
      "source": [
        "joblib.dump(xgb_model, 'xgb_model.pkl')"
      ],
      "metadata": {
        "id": "IujGYoIkism9"
      },
      "execution_count": null,
      "outputs": []
    },
    {
      "cell_type": "markdown",
      "source": [
        "Saving Final CNN Complex Model"
      ],
      "metadata": {
        "id": "kg74kjrR6q8Z"
      }
    },
    {
      "cell_type": "code",
      "source": [
        "cnn_model.save('cnn_complex.h5')"
      ],
      "metadata": {
        "id": "3_MBgYar6v5x"
      },
      "execution_count": null,
      "outputs": []
    },
    {
      "cell_type": "markdown",
      "source": [
        "Saving Final Gradient Boosting Model"
      ],
      "metadata": {
        "id": "tsMWr6xZzktX"
      }
    },
    {
      "cell_type": "code",
      "source": [
        "joblib.dump(gbc_pipe, 'gbc_model.pkl')"
      ],
      "metadata": {
        "id": "PGSG5cOGzpg7"
      },
      "execution_count": null,
      "outputs": []
    },
    {
      "cell_type": "markdown",
      "source": [
        "Saving Final Decision Tree Model"
      ],
      "metadata": {
        "id": "aw5Wni5SsbT3"
      }
    },
    {
      "cell_type": "code",
      "source": [
        "joblib.dump(dtc_pipe, 'dtc_model.pkl')"
      ],
      "metadata": {
        "id": "GjHMT7UYsZ8I"
      },
      "execution_count": null,
      "outputs": []
    }
  ]
}